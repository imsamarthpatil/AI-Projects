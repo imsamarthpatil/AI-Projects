{
 "cells": [
  {
   "cell_type": "code",
   "execution_count": 1,
   "metadata": {
    "_uuid": "fdcda8e32cccecfea55139961ade8691757b9566",
    "execution": {
     "iopub.execute_input": "2021-12-18T16:07:28.091159Z",
     "iopub.status.busy": "2021-12-18T16:07:28.090887Z",
     "iopub.status.idle": "2021-12-18T16:07:28.109673Z",
     "shell.execute_reply": "2021-12-18T16:07:28.109068Z",
     "shell.execute_reply.started": "2021-12-18T16:07:28.091088Z"
    }
   },
   "outputs": [],
   "source": [
    "# Shrirang Alias Samarth Patil\n",
    "# 19BAI10079\n",
    "# Global Variables \n",
    "K = 2 # number of components\n",
    "query = 'nice good price'"
   ]
  },
  {
   "cell_type": "code",
   "execution_count": 2,
   "metadata": {
    "_uuid": "5139af95b1e8a2e95d6c932feeb1450bb06dd805",
    "execution": {
     "iopub.execute_input": "2021-12-18T16:07:28.113852Z",
     "iopub.status.busy": "2021-12-18T16:07:28.113626Z",
     "iopub.status.idle": "2021-12-18T16:07:28.359989Z",
     "shell.execute_reply": "2021-12-18T16:07:28.359112Z",
     "shell.execute_reply.started": "2021-12-18T16:07:28.113809Z"
    }
   },
   "outputs": [
    {
     "name": "stdout",
     "output_type": "stream",
     "text": [
      "Shape :  (987, 2)\n"
     ]
    },
    {
     "data": {
      "text/html": [
       "<div>\n",
       "<style scoped>\n",
       "    .dataframe tbody tr th:only-of-type {\n",
       "        vertical-align: middle;\n",
       "    }\n",
       "\n",
       "    .dataframe tbody tr th {\n",
       "        vertical-align: top;\n",
       "    }\n",
       "\n",
       "    .dataframe thead th {\n",
       "        text-align: right;\n",
       "    }\n",
       "</style>\n",
       "<table border=\"1\" class=\"dataframe\">\n",
       "  <thead>\n",
       "    <tr style=\"text-align: right;\">\n",
       "      <th></th>\n",
       "      <th>Recommended IND</th>\n",
       "      <th>Review Text</th>\n",
       "    </tr>\n",
       "  </thead>\n",
       "  <tbody>\n",
       "    <tr>\n",
       "      <th>0</th>\n",
       "      <td>0</td>\n",
       "      <td>I really wanted this to work. alas, it had a s...</td>\n",
       "    </tr>\n",
       "    <tr>\n",
       "      <th>1</th>\n",
       "      <td>1</td>\n",
       "      <td>I love cute summer dresses and this one, espec...</td>\n",
       "    </tr>\n",
       "    <tr>\n",
       "      <th>2</th>\n",
       "      <td>1</td>\n",
       "      <td>This is the perfect summer dress. it can be dr...</td>\n",
       "    </tr>\n",
       "    <tr>\n",
       "      <th>3</th>\n",
       "      <td>1</td>\n",
       "      <td>Nice fit and flare style, not clingy at all. i...</td>\n",
       "    </tr>\n",
       "    <tr>\n",
       "      <th>4</th>\n",
       "      <td>0</td>\n",
       "      <td>When i first opened this dress and tried it on...</td>\n",
       "    </tr>\n",
       "  </tbody>\n",
       "</table>\n",
       "</div>"
      ],
      "text/plain": [
       "   Recommended IND                                        Review Text\n",
       "0                0  I really wanted this to work. alas, it had a s...\n",
       "1                1  I love cute summer dresses and this one, espec...\n",
       "2                1  This is the perfect summer dress. it can be dr...\n",
       "3                1  Nice fit and flare style, not clingy at all. i...\n",
       "4                0  When i first opened this dress and tried it on..."
      ]
     },
     "execution_count": 2,
     "metadata": {},
     "output_type": "execute_result"
    }
   ],
   "source": [
    "import pandas as pd\n",
    "import numpy as np\n",
    "\n",
    "# Data filename\n",
    "dataset_filename = \"../input/Womens Clothing E-Commerce Reviews.csv\"\n",
    "\n",
    "# Loading dataset\n",
    "data = pd.read_csv(dataset_filename, index_col=0)\n",
    "\n",
    "# We are reducing the size of our dataset to decrease the running time of code\n",
    "datax = data.loc[data['Clothing ID'] == 1078 , :]\n",
    "\n",
    "\n",
    "# Delete missing observations for variables that we will be working with\n",
    "for x in [\"Recommended IND\",\"Review Text\"]:\n",
    "    datax = datax[datax[x].notnull()]\n",
    "\n",
    "# Keeping only those features that we will explore\n",
    "datax = datax[[\"Recommended IND\",\"Review Text\"]]\n",
    "\n",
    "# Resetting the index\n",
    "datax.index = pd.Series(list(range(datax.shape[0])))\n",
    "    \n",
    "print('Shape : ',datax.shape)\n",
    "datax.head()"
   ]
  },
  {
   "cell_type": "code",
   "execution_count": 3,
   "metadata": {
    "_uuid": "2c50f748bf9ecb996c35fce87eb492b552c13854",
    "execution": {
     "iopub.execute_input": "2021-12-18T16:07:28.362368Z",
     "iopub.status.busy": "2021-12-18T16:07:28.362099Z",
     "iopub.status.idle": "2021-12-18T16:07:29.479465Z",
     "shell.execute_reply": "2021-12-18T16:07:29.478687Z",
     "shell.execute_reply.started": "2021-12-18T16:07:28.362319Z"
    }
   },
   "outputs": [
    {
     "name": "stdout",
     "output_type": "stream",
     "text": [
      "[nltk_data] Downloading package wordnet to /usr/share/nltk_data...\n",
      "[nltk_data]   Package wordnet is already up-to-date!\n"
     ]
    }
   ],
   "source": [
    "from nltk.tokenize import RegexpTokenizer\n",
    "from nltk.corpus import stopwords\n",
    "import nltk\n",
    "from nltk.corpus import wordnet\n",
    "from nltk.stem import WordNetLemmatizer\n",
    "nltk.download('wordnet')\n",
    "\n",
    "wordnet_lemmatizer = WordNetLemmatizer()\n",
    "tokenizer = RegexpTokenizer(r'[a-z]+')\n",
    "stop_words = set(stopwords.words('english'))\n",
    "\n",
    "def preprocess(document):\n",
    "    document = document.lower() # Convert to lowercase\n",
    "    words = tokenizer.tokenize(document) # Tokenize\n",
    "    words = [w for w in words if not w in stop_words] # Removing stopwords\n",
    "    # Lemmatizing\n",
    "    for pos in [wordnet.NOUN, wordnet.VERB, wordnet.ADJ, wordnet.ADV]:\n",
    "        words = [wordnet_lemmatizer.lemmatize(x, pos) for x in words]\n",
    "    return \" \".join(words)"
   ]
  },
  {
   "cell_type": "code",
   "execution_count": 4,
   "metadata": {
    "_uuid": "d00a4e0511807d8a760781112e28d4be98e4567a",
    "execution": {
     "iopub.execute_input": "2021-12-18T16:07:29.481891Z",
     "iopub.status.busy": "2021-12-18T16:07:29.481414Z",
     "iopub.status.idle": "2021-12-18T16:07:32.060158Z",
     "shell.execute_reply": "2021-12-18T16:07:32.059523Z",
     "shell.execute_reply.started": "2021-12-18T16:07:29.481831Z"
    }
   },
   "outputs": [
    {
     "data": {
      "text/html": [
       "<div>\n",
       "<style scoped>\n",
       "    .dataframe tbody tr th:only-of-type {\n",
       "        vertical-align: middle;\n",
       "    }\n",
       "\n",
       "    .dataframe tbody tr th {\n",
       "        vertical-align: top;\n",
       "    }\n",
       "\n",
       "    .dataframe thead th {\n",
       "        text-align: right;\n",
       "    }\n",
       "</style>\n",
       "<table border=\"1\" class=\"dataframe\">\n",
       "  <thead>\n",
       "    <tr style=\"text-align: right;\">\n",
       "      <th></th>\n",
       "      <th>Recommended IND</th>\n",
       "      <th>Review Text</th>\n",
       "      <th>Processed Review</th>\n",
       "    </tr>\n",
       "  </thead>\n",
       "  <tbody>\n",
       "    <tr>\n",
       "      <th>0</th>\n",
       "      <td>0</td>\n",
       "      <td>I really wanted this to work. alas, it had a s...</td>\n",
       "      <td>really want work ala strange fit strap would s...</td>\n",
       "    </tr>\n",
       "    <tr>\n",
       "      <th>1</th>\n",
       "      <td>1</td>\n",
       "      <td>I love cute summer dresses and this one, espec...</td>\n",
       "      <td>love cute summer dress one especially make lin...</td>\n",
       "    </tr>\n",
       "    <tr>\n",
       "      <th>2</th>\n",
       "      <td>1</td>\n",
       "      <td>This is the perfect summer dress. it can be dr...</td>\n",
       "      <td>perfect summer dress dress quality linen fabri...</td>\n",
       "    </tr>\n",
       "    <tr>\n",
       "      <th>3</th>\n",
       "      <td>1</td>\n",
       "      <td>Nice fit and flare style, not clingy at all. i...</td>\n",
       "      <td>nice fit flare style clingy get grey color pet...</td>\n",
       "    </tr>\n",
       "    <tr>\n",
       "      <th>4</th>\n",
       "      <td>0</td>\n",
       "      <td>When i first opened this dress and tried it on...</td>\n",
       "      <td>first open dress try think adorable flat hourg...</td>\n",
       "    </tr>\n",
       "  </tbody>\n",
       "</table>\n",
       "</div>"
      ],
      "text/plain": [
       "   Recommended IND                        ...                                                           Processed Review\n",
       "0                0                        ...                          really want work ala strange fit strap would s...\n",
       "1                1                        ...                          love cute summer dress one especially make lin...\n",
       "2                1                        ...                          perfect summer dress dress quality linen fabri...\n",
       "3                1                        ...                          nice fit flare style clingy get grey color pet...\n",
       "4                0                        ...                          first open dress try think adorable flat hourg...\n",
       "\n",
       "[5 rows x 3 columns]"
      ]
     },
     "execution_count": 4,
     "metadata": {},
     "output_type": "execute_result"
    }
   ],
   "source": [
    "datax['Processed Review'] = datax['Review Text'].apply(preprocess)\n",
    "\n",
    "datax.head()"
   ]
  },
  {
   "cell_type": "code",
   "execution_count": 5,
   "metadata": {
    "_uuid": "b7c41047518ae454b4959f3255769bc02dd4ec67",
    "execution": {
     "iopub.execute_input": "2021-12-18T16:07:32.061161Z",
     "iopub.status.busy": "2021-12-18T16:07:32.060941Z",
     "iopub.status.idle": "2021-12-18T16:07:32.114343Z",
     "shell.execute_reply": "2021-12-18T16:07:32.113755Z",
     "shell.execute_reply.started": "2021-12-18T16:07:32.061120Z"
    }
   },
   "outputs": [
    {
     "name": "stdout",
     "output_type": "stream",
     "text": [
      "Vocabulary Size :  2513\n",
      "Shape of Matrix :  (2513, 987)\n"
     ]
    }
   ],
   "source": [
    "from sklearn.feature_extraction.text import TfidfVectorizer\n",
    "\n",
    "vectorizer = TfidfVectorizer()\n",
    "TF_IDF_matrix = vectorizer.fit_transform(datax['Processed Review'])\n",
    "TF_IDF_matrix = TF_IDF_matrix.T\n",
    "\n",
    "print('Vocabulary Size : ', len(vectorizer.get_feature_names()))\n",
    "print('Shape of Matrix : ', TF_IDF_matrix.shape)"
   ]
  },
  {
   "cell_type": "code",
   "execution_count": 6,
   "metadata": {
    "_uuid": "0913100c9c12d69aee347955c82a48aedb722fe4",
    "execution": {
     "iopub.execute_input": "2021-12-18T16:07:32.115283Z",
     "iopub.status.busy": "2021-12-18T16:07:32.115076Z",
     "iopub.status.idle": "2021-12-18T16:07:34.082206Z",
     "shell.execute_reply": "2021-12-18T16:07:34.081204Z",
     "shell.execute_reply.started": "2021-12-18T16:07:32.115243Z"
    }
   },
   "outputs": [],
   "source": [
    "import numpy as np\n",
    "\n",
    "# Applying SVD\n",
    "U, s, VT = np.linalg.svd(TF_IDF_matrix.toarray()) # .T is used to take transpose and .toarray() is used to convert sparse matrix to normal matrix\n",
    "\n",
    "TF_IDF_matrix_reduced = np.dot(U[:,:K], np.dot(np.diag(s[:K]), VT[:K, :]))\n",
    "\n",
    "# Getting document and term representation\n",
    "terms_rep = np.dot(U[:,:K], np.diag(s[:K])) # M X K matrix where M = Vocabulary Size and N = Number of documents\n",
    "docs_rep = np.dot(np.diag(s[:K]), VT[:K, :]).T # N x K matrix "
   ]
  },
  {
   "cell_type": "code",
   "execution_count": 7,
   "metadata": {
    "_uuid": "bd9f19a7bc124f0d7a9f6780f566fde7bf716622",
    "execution": {
     "iopub.execute_input": "2021-12-18T16:07:34.088792Z",
     "iopub.status.busy": "2021-12-18T16:07:34.086158Z",
     "iopub.status.idle": "2021-12-18T16:07:34.437733Z",
     "shell.execute_reply": "2021-12-18T16:07:34.436880Z",
     "shell.execute_reply.started": "2021-12-18T16:07:34.088722Z"
    },
    "id": "g-oPbgCeFfws",
    "outputId": "5d0e997e-4cac-4780-f9ea-7940bd34adf1"
   },
   "outputs": [
    {
     "data": {
      "image/png": "[encoded data removed]",
      "text/plain": [
       "<Figure size 432x288 with 1 Axes>"
      ]
     },
     "metadata": {
      "needs_background": "light"
     },
     "output_type": "display_data"
    }
   ],
   "source": [
    "import matplotlib.pyplot as plt\n",
    "%matplotlib inline\n",
    "\n",
    "plt.scatter(docs_rep[:,0], docs_rep[:,1], c=datax['Recommended IND'])\n",
    "plt.title(\"Document Representation\")\n",
    "plt.show()"
   ]
  },
  {
   "cell_type": "code",
   "execution_count": 8,
   "metadata": {
    "_uuid": "f7f86d0720ea6257c7cfda1e35d9cf0dcc04f33e",
    "execution": {
     "iopub.execute_input": "2021-12-18T16:07:34.443199Z",
     "iopub.status.busy": "2021-12-18T16:07:34.440933Z",
     "iopub.status.idle": "2021-12-18T16:07:34.675620Z",
     "shell.execute_reply": "2021-12-18T16:07:34.663896Z",
     "shell.execute_reply.started": "2021-12-18T16:07:34.443136Z"
    },
    "id": "yT-NgwjaA6nG",
    "outputId": "ff01cfc6-2a6c-4f2d-e73d-b0a2fa08a1d2"
   },
   "outputs": [
    {
     "data": {
      "image/png": "[encoded data removed]",
      "text/plain": [
       "<Figure size 432x288 with 1 Axes>"
      ]
     },
     "metadata": {
      "needs_background": "light"
     },
     "output_type": "display_data"
    }
   ],
   "source": [
    "plt.scatter(terms_rep[:,0], terms_rep[:,1])\n",
    "plt.title(\"Term Representation\")\n",
    "plt.show()"
   ]
  },
  {
   "cell_type": "code",
   "execution_count": 9,
   "metadata": {
    "_uuid": "90c3cf2db0659576729ba052dfe9acda60c9aea4",
    "execution": {
     "iopub.execute_input": "2021-12-18T16:07:34.676967Z",
     "iopub.status.busy": "2021-12-18T16:07:34.676673Z",
     "iopub.status.idle": "2021-12-18T16:07:34.692258Z",
     "shell.execute_reply": "2021-12-18T16:07:34.691454Z",
     "shell.execute_reply.started": "2021-12-18T16:07:34.676915Z"
    }
   },
   "outputs": [],
   "source": [
    "# This is a function to generate query_rep\n",
    "\n",
    "def lsa_query_rep(query):\n",
    "    query_rep = [vectorizer.vocabulary_[x] for x in preprocess(query).split()]\n",
    "    query_rep = np.mean(terms_rep[query_rep],axis=0)\n",
    "    return query_rep"
   ]
  },
  {
   "cell_type": "code",
   "execution_count": 10,
   "metadata": {
    "_uuid": "b91c1d053574b84cb6d8dff76dd45de9f9bf8019",
    "execution": {
     "iopub.execute_input": "2021-12-18T16:07:34.695990Z",
     "iopub.status.busy": "2021-12-18T16:07:34.695359Z",
     "iopub.status.idle": "2021-12-18T16:07:34.771726Z",
     "shell.execute_reply": "2021-12-18T16:07:34.770990Z",
     "shell.execute_reply.started": "2021-12-18T16:07:34.695933Z"
    }
   },
   "outputs": [
    {
     "name": "stdout",
     "output_type": "stream",
     "text": [
      "Rank :  0  Consine :  0.9999999052049628  Review :  This dress is more adorable on then sitting on the hanger. the material clings to all the right places and feels really good. i must say this is one of the most comfortable dresses i have ever put on. would never tell from the photo that this dress is so adorable. if you like a fitted dress in the waist and bust that subtly accentuates your curves - try it. adorable!\n",
      "Rank :  1  Consine :  0.9999997331977473  Review :  It is one of my favorites from retailer. i received so many compliments while wearing it! i usually wear a 6 but i sized down to a 4 and still had plenty of room.\n",
      "Rank :  2  Consine :  0.9999991180127873  Review :  This dress has way too much material. the material is really soft and beautiful but there's too much of it. it feels like you're wearing a big sack. sadly i'll be returning it.\n",
      "Rank :  3  Consine :  0.9999983200464128  Review :  I really wanted this to work. alas, it had a strange fit for me. the straps would not stay up, and it had a weird fit under the breast. it worked standing up, but the minute i sat down it fell off my shoulders. the fabric was beautiful! and i loved that it had pockets.\n",
      "Rank :  4  Consine :  0.9999956718230847  Review :  I love this dress and bought it in the store in the orange, without trying it on as i usually wear a 12 in this brand.  the over-dress is beautiful, however the under-slip is very tight and is apparently made for some one who has no bust at all.  i am so sad and am considering returning it or re-sewing the slip in some way so that it fits.  not sure what to do. don't want to spoil the color combo by wearing something different underneath, but it is so sheer you need something.\n"
     ]
    }
   ],
   "source": [
    "from scipy.spatial.distance import cosine\n",
    "\n",
    "query_rep = lsa_query_rep(query)\n",
    "\n",
    "query_doc_cos_dist = [cosine(query_rep, doc_rep) for doc_rep in docs_rep]\n",
    "query_doc_sort_index = np.argsort(np.array(query_doc_cos_dist))\n",
    "\n",
    "print_count = 0\n",
    "for rank, sort_index in enumerate(query_doc_sort_index):\n",
    "    print ('Rank : ', rank, ' Consine : ', 1 - query_doc_cos_dist[sort_index],' Review : ', datax['Review Text'][sort_index])\n",
    "    if print_count == 4 :\n",
    "        break\n",
    "    else:\n",
    "        print_count += 1"
   ]
  }
 ],
 "metadata": {
  "kernelspec": {
   "display_name": "Python 3",
   "language": "python",
   "name": "python3"
  },
  "language_info": {
   "codemirror_mode": {
    "name": "ipython",
    "version": 3
   },
   "file_extension": ".py",
   "mimetype": "text/x-python",
   "name": "python",
   "nbconvert_exporter": "python",
   "pygments_lexer": "ipython3",
   "version": "3.6.6"
  }
 },
 "nbformat": 4,
 "nbformat_minor": 4
}
