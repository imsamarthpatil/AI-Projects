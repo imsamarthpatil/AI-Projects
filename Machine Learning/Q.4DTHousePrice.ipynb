{
 "cells": [
  {
   "cell_type": "code",
   "execution_count": 1,
   "metadata": {},
   "outputs": [
    {
     "data": {
      "text/plain": [
       "Index(['Suburb', 'Address', 'Rooms', 'Type', 'Price', 'Method', 'SellerG',\n",
       "       'Date', 'Distance', 'Postcode', 'Bedroom2', 'Bathroom', 'Car',\n",
       "       'Landsize', 'BuildingArea', 'YearBuilt', 'CouncilArea', 'Lattitude',\n",
       "       'Longtitude', 'Regionname', 'Propertycount'],\n",
       "      dtype='object')"
      ]
     },
     "execution_count": 1,
     "metadata": {},
     "output_type": "execute_result"
    }
   ],
   "source": [
    "# SHRIRANG ALIAS SAMARTH PATIL\n",
    "# 19BAI10079\n",
    "# Q.4. Implement a Decision Tree model in Machine Learning and fit the model towards the regression to predict housing price.\n",
    "# Import libraries & Load Data\n",
    "import pandas as pd \n",
    "dataset = pd.read_csv('melb_Data.csv')\n",
    "dataset.columns"
   ]
  },
  {
   "cell_type": "code",
   "execution_count": 2,
   "metadata": {},
   "outputs": [
    {
     "name": "stdout",
     "output_type": "stream",
     "text": [
      "             Suburb          Address  Rooms Type    Price Method  \\\n",
      "1        Abbotsford  25 Bloomburg St      2    h  1035000      S   \n",
      "2        Abbotsford     5 Charles St      3    h  1465000     SP   \n",
      "4        Abbotsford      55a Park St      4    h  1600000     VB   \n",
      "6        Abbotsford     124 Yarra St      3    h  1876000      S   \n",
      "7        Abbotsford    98 Charles St      2    h  1636000      S   \n",
      "...             ...              ...    ...  ...      ...    ...   \n",
      "12205    Whittlesea    30 Sherwin St      3    h   601000      S   \n",
      "12206  Williamstown      75 Cecil St      3    h  1050000     VB   \n",
      "12207  Williamstown    2/29 Dover Rd      1    u   385000     SP   \n",
      "12209       Windsor  201/152 Peel St      2    u   560000     PI   \n",
      "12212    Yarraville  54 Pentland Pde      6    h  2450000     VB   \n",
      "\n",
      "             SellerG        Date  Distance  Postcode  ...  Bathroom  Car  \\\n",
      "1             Biggin  04/02/2016       2.5      3067  ...         1  0.0   \n",
      "2             Biggin  04/03/2017       2.5      3067  ...         2  0.0   \n",
      "4             Nelson  04/06/2016       2.5      3067  ...         1  2.0   \n",
      "6             Nelson  07/05/2016       2.5      3067  ...         2  0.0   \n",
      "7             Nelson   8/10/2016       2.5      3067  ...         1  2.0   \n",
      "...              ...         ...       ...       ...  ...       ...  ...   \n",
      "12205            Ray  29/07/2017      35.5      3757  ...         2  1.0   \n",
      "12206       Williams  29/07/2017       6.8      3016  ...         1  0.0   \n",
      "12207       Williams  29/07/2017       6.8      3016  ...         1  1.0   \n",
      "12209  hockingstuart  29/07/2017       4.6      3181  ...         1  1.0   \n",
      "12212        Village  29/07/2017       6.3      3013  ...         3  2.0   \n",
      "\n",
      "       Landsize  BuildingArea  YearBuilt  CouncilArea Lattitude  Longtitude  \\\n",
      "1           156         79.00     1900.0        Yarra -37.80790   144.99340   \n",
      "2           134        150.00     1900.0        Yarra -37.80930   144.99440   \n",
      "4           120        142.00     2014.0        Yarra -37.80720   144.99410   \n",
      "6           245        210.00     1910.0        Yarra -37.80240   144.99930   \n",
      "7           256        107.00     1890.0        Yarra -37.80600   144.99540   \n",
      "...         ...           ...        ...          ...       ...         ...   \n",
      "12205       972        149.00     1996.0   Whittlesea -37.51232   145.13282   \n",
      "12206       179        115.00     1890.0  Hobsons Bay -37.86558   144.90474   \n",
      "12207         0         35.64     1967.0  Hobsons Bay -37.85588   144.89936   \n",
      "12209         0         61.60     2012.0  Stonnington -37.85581   144.99025   \n",
      "12212      1087        388.50     1920.0  Maribyrnong -37.81038   144.89389   \n",
      "\n",
      "                  Regionname Propertycount  \n",
      "1      Northern Metropolitan          4019  \n",
      "2      Northern Metropolitan          4019  \n",
      "4      Northern Metropolitan          4019  \n",
      "6      Northern Metropolitan          4019  \n",
      "7      Northern Metropolitan          4019  \n",
      "...                      ...           ...  \n",
      "12205      Northern Victoria          2170  \n",
      "12206   Western Metropolitan          6380  \n",
      "12207   Western Metropolitan          6380  \n",
      "12209  Southern Metropolitan          4380  \n",
      "12212   Western Metropolitan          6543  \n",
      "\n",
      "[6196 rows x 21 columns]\n"
     ]
    }
   ],
   "source": [
    "dataset = dataset.dropna()\n",
    "X = dataset.iloc[:,[2,10,11,12,13,20]].values #House Features Independent variable\n",
    "y = dataset.iloc[:,[4]].values #House Price Dependent Variable\n",
    "print(dataset)"
   ]
  },
  {
   "cell_type": "code",
   "execution_count": 3,
   "metadata": {},
   "outputs": [],
   "source": [
    "# training data and testing data\n",
    "from sklearn.model_selection import train_test_split\n",
    "#Using the train_test_split to create train and test sets.\n",
    "X_train, X_test, y_train, y_test = train_test_split(X, y, random_state = 101, test_size = 0.30)"
   ]
  },
  {
   "cell_type": "code",
   "execution_count": 4,
   "metadata": {},
   "outputs": [
    {
     "name": "stdout",
     "output_type": "stream",
     "text": [
      "[[4.0000e+00 4.0000e+00 2.0000e+00 2.0000e+00 5.3100e+02 2.3390e+03]\n",
      " [4.0000e+00 4.0000e+00 1.0000e+00 4.0000e+00 7.7200e+02 8.9200e+03]\n",
      " [2.0000e+00 2.0000e+00 1.0000e+00 1.0000e+00 0.0000e+00 2.9700e+03]\n",
      " ...\n",
      " [4.0000e+00 4.0000e+00 2.0000e+00 3.0000e+00 7.1500e+02 9.2640e+03]\n",
      " [3.0000e+00 3.0000e+00 2.0000e+00 1.0000e+00 7.0400e+02 1.0412e+04]\n",
      " [4.0000e+00 4.0000e+00 1.0000e+00 3.0000e+00 6.9700e+02 8.8700e+03]]\n",
      "[[3.0000e+00 3.0000e+00 2.0000e+00 2.0000e+00 3.3100e+02 2.6980e+03]\n",
      " [4.0000e+00 4.0000e+00 2.0000e+00 2.0000e+00 6.9300e+02 4.4800e+03]\n",
      " [4.0000e+00 4.0000e+00 2.0000e+00 5.0000e+00 6.1200e+02 1.0969e+04]\n",
      " ...\n",
      " [3.0000e+00 3.0000e+00 2.0000e+00 1.0000e+00 7.2800e+02 4.4800e+03]\n",
      " [4.0000e+00 4.0000e+00 2.0000e+00 4.0000e+00 6.5400e+02 5.4200e+03]\n",
      " [3.0000e+00 3.0000e+00 1.0000e+00 1.0000e+00 1.7000e+02 6.8210e+03]]\n",
      "[[ 635000]\n",
      " [2015000]\n",
      " [ 445000]\n",
      " ...\n",
      " [2355000]\n",
      " [1600000]\n",
      " [ 780000]]\n",
      "[[ 905000]\n",
      " [1100000]\n",
      " [1655000]\n",
      " ...\n",
      " [1050000]\n",
      " [1100000]\n",
      " [1285000]]\n"
     ]
    }
   ],
   "source": [
    "print(X_train)\n",
    "print(X_test)\n",
    "print(y_train)\n",
    "print(y_test)"
   ]
  },
  {
   "cell_type": "code",
   "execution_count": 5,
   "metadata": {},
   "outputs": [
    {
     "data": {
      "text/plain": [
       "LinearRegression()"
      ]
     },
     "execution_count": 5,
     "metadata": {},
     "output_type": "execute_result"
    }
   ],
   "source": [
    "#Building the model\n",
    "# Fit Simple Linear Regression to Training Data\n",
    "from sklearn.linear_model import LinearRegression\n",
    "regressor_lin = LinearRegression()\n",
    "regressor_lin.fit(X_train, y_train)"
   ]
  },
  {
   "cell_type": "code",
   "execution_count": 6,
   "metadata": {},
   "outputs": [
    {
     "data": {
      "text/plain": [
       "DecisionTreeRegressor(random_state=0)"
      ]
     },
     "execution_count": 6,
     "metadata": {},
     "output_type": "execute_result"
    }
   ],
   "source": [
    "# We are also building the model by decision tree for regression\n",
    "from sklearn.tree import DecisionTreeRegressor\n",
    "regressor_dt = DecisionTreeRegressor(random_state = 0)\n",
    "# fit the regressor with X_train and Y_train data\n",
    "regressor_dt.fit(X_train, y_train)"
   ]
  },
  {
   "cell_type": "code",
   "execution_count": 7,
   "metadata": {},
   "outputs": [],
   "source": [
    "# Predict the model by testing data\n",
    "# predict the model for linear regression\n",
    "y_pred_lin = regressor_lin.predict(X_test)\n",
    "#prediction\n",
    "y_pred_dt = regressor_dt.predict(X_test)\n",
    "#Predicting the model by testing data"
   ]
  },
  {
   "cell_type": "code",
   "execution_count": 8,
   "metadata": {},
   "outputs": [
    {
     "name": "stdout",
     "output_type": "stream",
     "text": [
      "Testing data of exp. year [[3.0000e+00 3.0000e+00 2.0000e+00 2.0000e+00 3.3100e+02 2.6980e+03]\n",
      " [4.0000e+00 4.0000e+00 2.0000e+00 2.0000e+00 6.9300e+02 4.4800e+03]\n",
      " [4.0000e+00 4.0000e+00 2.0000e+00 5.0000e+00 6.1200e+02 1.0969e+04]\n",
      " ...\n",
      " [3.0000e+00 3.0000e+00 2.0000e+00 1.0000e+00 7.2800e+02 4.4800e+03]\n",
      " [4.0000e+00 4.0000e+00 2.0000e+00 4.0000e+00 6.5400e+02 5.4200e+03]\n",
      " [3.0000e+00 3.0000e+00 1.0000e+00 1.0000e+00 1.7000e+02 6.8210e+03]]\n",
      "Prediction of testing data by linear regression: [[1189134.20934065]\n",
      " [1447650.6616166 ]\n",
      " [1496091.92908214]\n",
      " ...\n",
      " [1189040.12402301]\n",
      " [1472075.55359475]\n",
      " [ 920492.28719725]]\n",
      "Prediction of testing data by decision tree for regression: [1080000. 1300000.  950000. ...  611000. 1137500. 1485000.]\n"
     ]
    }
   ],
   "source": [
    "print (\"Testing data of exp. year\", X_test)\n",
    "print (\"Prediction of testing data by linear regression:\", y_pred_lin)\n",
    "print (\"Prediction of testing data by decision tree for regression:\", y_pred_dt)"
   ]
  },
  {
   "cell_type": "code",
   "execution_count": 9,
   "metadata": {},
   "outputs": [
    {
     "name": "stdout",
     "output_type": "stream",
     "text": [
      "Predicted salary by Linear Regression:  1510298\n",
      "\n",
      "Predicted salary: by Decision Tree  2435000\n",
      "\n"
     ]
    }
   ],
   "source": [
    "# predicting a new value\n",
    "y_pred_lin = regressor_lin.predict([[4,3,2,3,900,6821]])\n",
    "y_pred_dt = regressor_dt.predict([[4,3,2,3,900,6821]])\n",
    "# print the predicted price\n",
    "print(\"Predicted salary by Linear Regression: % d\\n\"% y_pred_lin)\n",
    "print(\"Predicted salary: by Decision Tree % d\\n\"% y_pred_dt)\n",
    "# Decision tree provide the better result from the dataset in terms of good accuracy"
   ]
  },
  {
   "cell_type": "code",
   "execution_count": 10,
   "metadata": {},
   "outputs": [
    {
     "name": "stdout",
     "output_type": "stream",
     "text": [
      "Accuracy of Linear Regression Model in %: 35.1067205379449\n",
      "Accuracy of Decision Tree for Regression Model in %: 14.084620016732408\n"
     ]
    }
   ],
   "source": [
    "# Model Evaluation\n",
    "#from sklearn.metrics import accuracy_score, r2_score\n",
    "accuracy_lin = regressor_lin.score(X_test,y_test)\n",
    "accuracy_dt = regressor_dt.score(X_test,y_test)\n",
    "print (\"Accuracy of Linear Regression Model in %:\",accuracy_lin*100)\n",
    "print(\"Accuracy of Decision Tree for Regression Model in %:\",accuracy_dt*100)"
   ]
  },
  {
   "cell_type": "code",
   "execution_count": 11,
   "metadata": {},
   "outputs": [
    {
     "data": {
      "text/plain": [
       "DecisionTreeRegressor(random_state=0)"
      ]
     },
     "execution_count": 11,
     "metadata": {},
     "output_type": "execute_result"
    }
   ],
   "source": [
    "# fit the model with X and Y data\n",
    "regressor_dt.fit(X, y)"
   ]
  },
  {
   "cell_type": "code",
   "execution_count": 12,
   "metadata": {},
   "outputs": [],
   "source": [
    "# import export_graphviz\n",
    "from sklearn.tree import export_graphviz\n",
    "export_graphviz(regressor_dt, out_file ='ML.dot', feature_names =['Rooms','Bedroom2','Bathroom','Car','Landsize','Propertycount'])"
   ]
  },
  {
   "cell_type": "code",
   "execution_count": null,
   "metadata": {},
   "outputs": [],
   "source": [
    "from sklearn import tree\n",
    "import matplotlib.pyplot as plt\n",
    "plt.figure(figsize=(15,15))\n",
    "tree.plot_tree(regressor_dt, fontsize=10)\n",
    "plt.show()"
   ]
  },
  {
   "cell_type": "code",
   "execution_count": 14,
   "metadata": {},
   "outputs": [
    {
     "data": {
      "text/plain": [
       "array([4.55762632e+11, 2.31091546e+11, 9.65080987e+10, ...,\n",
       "       0.00000000e+00, 0.00000000e+00, 0.00000000e+00])"
      ]
     },
     "execution_count": 14,
     "metadata": {},
     "output_type": "execute_result"
    }
   ],
   "source": [
    "#We are measuring the impurities of each node\n",
    "regressor_dt.tree_.impurity"
   ]
  },
  {
   "cell_type": "code",
   "execution_count": null,
   "metadata": {},
   "outputs": [],
   "source": []
  }
 ],
 "metadata": {
  "kernelspec": {
   "display_name": "Python 3.9.1 64-bit",
   "metadata": {
    "interpreter": {
     "hash": "aee8b7b246df8f9039afb4144a1f6fd8d2ca17a180786b69acc140d282b71a49"
    }
   },
   "name": "python3"
  },
  "language_info": {
   "codemirror_mode": {
    "name": "ipython",
    "version": 3
   },
   "file_extension": ".py",
   "mimetype": "text/x-python",
   "name": "python",
   "nbconvert_exporter": "python",
   "pygments_lexer": "ipython3",
   "version": "3.9.1-final"
  },
  "orig_nbformat": 2
 },
 "nbformat": 4,
 "nbformat_minor": 2
}
