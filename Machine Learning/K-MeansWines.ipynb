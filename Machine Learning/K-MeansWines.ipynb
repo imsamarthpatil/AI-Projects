{
 "cells": [
  {
   "cell_type": "code",
   "execution_count": 15,
   "metadata": {},
   "outputs": [],
   "source": [
    "# Importing some libraries\n",
    "import numpy as np \n",
    "import pandas as pd\n",
    "import warnings\n",
    "warnings.filterwarnings(\"ignore\")"
   ]
  },
  {
   "cell_type": "code",
   "execution_count": 16,
   "metadata": {},
   "outputs": [
    {
     "output_type": "execute_result",
     "data": {
      "text/plain": [
       "   Alcohol  Malic_Acid   Ash  Ash_Alcanity  Magnesium  Total_Phenols  \\\n",
       "0    14.23        1.71  2.43          15.6        127           2.80   \n",
       "1    13.20        1.78  2.14          11.2        100           2.65   \n",
       "2    13.16        2.36  2.67          18.6        101           2.80   \n",
       "3    14.37        1.95  2.50          16.8        113           3.85   \n",
       "4    13.24        2.59  2.87          21.0        118           2.80   \n",
       "\n",
       "   Flavanoids  Nonflavanoid_Phenols  Proanthocyanins  Color_Intensity   Hue  \\\n",
       "0        3.06                  0.28             2.29             5.64  1.04   \n",
       "1        2.76                  0.26             1.28             4.38  1.05   \n",
       "2        3.24                  0.30             2.81             5.68  1.03   \n",
       "3        3.49                  0.24             2.18             7.80  0.86   \n",
       "4        2.69                  0.39             1.82             4.32  1.04   \n",
       "\n",
       "   OD280  Proline  Customer_Segment  \n",
       "0   3.92     1065                 1  \n",
       "1   3.40     1050                 1  \n",
       "2   3.17     1185                 1  \n",
       "3   3.45     1480                 1  \n",
       "4   2.93      735                 1  "
      ],
      "text/html": "<div>\n<style scoped>\n    .dataframe tbody tr th:only-of-type {\n        vertical-align: middle;\n    }\n\n    .dataframe tbody tr th {\n        vertical-align: top;\n    }\n\n    .dataframe thead th {\n        text-align: right;\n    }\n</style>\n<table border=\"1\" class=\"dataframe\">\n  <thead>\n    <tr style=\"text-align: right;\">\n      <th></th>\n      <th>Alcohol</th>\n      <th>Malic_Acid</th>\n      <th>Ash</th>\n      <th>Ash_Alcanity</th>\n      <th>Magnesium</th>\n      <th>Total_Phenols</th>\n      <th>Flavanoids</th>\n      <th>Nonflavanoid_Phenols</th>\n      <th>Proanthocyanins</th>\n      <th>Color_Intensity</th>\n      <th>Hue</th>\n      <th>OD280</th>\n      <th>Proline</th>\n      <th>Customer_Segment</th>\n    </tr>\n  </thead>\n  <tbody>\n    <tr>\n      <th>0</th>\n      <td>14.23</td>\n      <td>1.71</td>\n      <td>2.43</td>\n      <td>15.6</td>\n      <td>127</td>\n      <td>2.80</td>\n      <td>3.06</td>\n      <td>0.28</td>\n      <td>2.29</td>\n      <td>5.64</td>\n      <td>1.04</td>\n      <td>3.92</td>\n      <td>1065</td>\n      <td>1</td>\n    </tr>\n    <tr>\n      <th>1</th>\n      <td>13.20</td>\n      <td>1.78</td>\n      <td>2.14</td>\n      <td>11.2</td>\n      <td>100</td>\n      <td>2.65</td>\n      <td>2.76</td>\n      <td>0.26</td>\n      <td>1.28</td>\n      <td>4.38</td>\n      <td>1.05</td>\n      <td>3.40</td>\n      <td>1050</td>\n      <td>1</td>\n    </tr>\n    <tr>\n      <th>2</th>\n      <td>13.16</td>\n      <td>2.36</td>\n      <td>2.67</td>\n      <td>18.6</td>\n      <td>101</td>\n      <td>2.80</td>\n      <td>3.24</td>\n      <td>0.30</td>\n      <td>2.81</td>\n      <td>5.68</td>\n      <td>1.03</td>\n      <td>3.17</td>\n      <td>1185</td>\n      <td>1</td>\n    </tr>\n    <tr>\n      <th>3</th>\n      <td>14.37</td>\n      <td>1.95</td>\n      <td>2.50</td>\n      <td>16.8</td>\n      <td>113</td>\n      <td>3.85</td>\n      <td>3.49</td>\n      <td>0.24</td>\n      <td>2.18</td>\n      <td>7.80</td>\n      <td>0.86</td>\n      <td>3.45</td>\n      <td>1480</td>\n      <td>1</td>\n    </tr>\n    <tr>\n      <th>4</th>\n      <td>13.24</td>\n      <td>2.59</td>\n      <td>2.87</td>\n      <td>21.0</td>\n      <td>118</td>\n      <td>2.80</td>\n      <td>2.69</td>\n      <td>0.39</td>\n      <td>1.82</td>\n      <td>4.32</td>\n      <td>1.04</td>\n      <td>2.93</td>\n      <td>735</td>\n      <td>1</td>\n    </tr>\n  </tbody>\n</table>\n</div>"
     },
     "metadata": {},
     "execution_count": 16
    }
   ],
   "source": [
    "# Reading dataset\n",
    "df = pd.read_csv('Wine.csv')\n",
    "\n",
    "#print 5 top rows\n",
    "df.head()"
   ]
  },
  {
   "cell_type": "code",
   "execution_count": 17,
   "metadata": {},
   "outputs": [
    {
     "output_type": "execute_result",
     "data": {
      "text/plain": [
       "(178, 14)"
      ]
     },
     "metadata": {},
     "execution_count": 17
    }
   ],
   "source": [
    "# total size of the dataset\n",
    "df.shape"
   ]
  },
  {
   "cell_type": "code",
   "execution_count": 18,
   "metadata": {},
   "outputs": [
    {
     "output_type": "execute_result",
     "data": {
      "text/plain": [
       "Index(['Alcohol', 'Malic_Acid', 'Ash', 'Ash_Alcanity', 'Magnesium',\n",
       "       'Total_Phenols', 'Flavanoids', 'Nonflavanoid_Phenols',\n",
       "       'Proanthocyanins', 'Color_Intensity', 'Hue', 'OD280', 'Proline',\n",
       "       'Customer_Segment'],\n",
       "      dtype='object')"
      ]
     },
     "metadata": {},
     "execution_count": 18
    }
   ],
   "source": [
    "# print or display total number of columns\n",
    "df.columns"
   ]
  },
  {
   "cell_type": "code",
   "execution_count": 19,
   "metadata": {},
   "outputs": [
    {
     "output_type": "stream",
     "name": "stdout",
     "text": [
      "<class 'pandas.core.frame.DataFrame'>\nRangeIndex: 178 entries, 0 to 177\nData columns (total 14 columns):\n #   Column                Non-Null Count  Dtype  \n---  ------                --------------  -----  \n 0   Alcohol               178 non-null    float64\n 1   Malic_Acid            178 non-null    float64\n 2   Ash                   178 non-null    float64\n 3   Ash_Alcanity          178 non-null    float64\n 4   Magnesium             178 non-null    int64  \n 5   Total_Phenols         178 non-null    float64\n 6   Flavanoids            178 non-null    float64\n 7   Nonflavanoid_Phenols  178 non-null    float64\n 8   Proanthocyanins       178 non-null    float64\n 9   Color_Intensity       178 non-null    float64\n 10  Hue                   178 non-null    float64\n 11  OD280                 178 non-null    float64\n 12  Proline               178 non-null    int64  \n 13  Customer_Segment      178 non-null    int64  \ndtypes: float64(11), int64(3)\nmemory usage: 19.6 KB\n"
     ]
    }
   ],
   "source": [
    "# The info () method gives use the complete details of the dataframe\n",
    "# like total number of values holding by each column and row, null or non-null etc.\n",
    "df.info()"
   ]
  },
  {
   "cell_type": "code",
   "execution_count": 20,
   "metadata": {},
   "outputs": [
    {
     "output_type": "execute_result",
     "data": {
      "text/plain": [
       "          Alcohol  Malic_Acid         Ash  Ash_Alcanity   Magnesium  \\\n",
       "count  178.000000  178.000000  178.000000    178.000000  178.000000   \n",
       "mean    13.000618    2.336348    2.366517     19.494944   99.741573   \n",
       "std      0.811827    1.117146    0.274344      3.339564   14.282484   \n",
       "min     11.030000    0.740000    1.360000     10.600000   70.000000   \n",
       "25%     12.362500    1.602500    2.210000     17.200000   88.000000   \n",
       "50%     13.050000    1.865000    2.360000     19.500000   98.000000   \n",
       "75%     13.677500    3.082500    2.557500     21.500000  107.000000   \n",
       "max     14.830000    5.800000    3.230000     30.000000  162.000000   \n",
       "\n",
       "       Total_Phenols  Flavanoids  Nonflavanoid_Phenols  Proanthocyanins  \\\n",
       "count     178.000000  178.000000            178.000000       178.000000   \n",
       "mean        2.295112    2.029270              0.361854         1.590899   \n",
       "std         0.625851    0.998859              0.124453         0.572359   \n",
       "min         0.980000    0.340000              0.130000         0.410000   \n",
       "25%         1.742500    1.205000              0.270000         1.250000   \n",
       "50%         2.355000    2.135000              0.340000         1.555000   \n",
       "75%         2.800000    2.875000              0.437500         1.950000   \n",
       "max         3.880000    5.080000              0.660000         3.580000   \n",
       "\n",
       "       Color_Intensity         Hue       OD280      Proline  Customer_Segment  \n",
       "count       178.000000  178.000000  178.000000   178.000000        178.000000  \n",
       "mean          5.058090    0.957449    2.611685   746.893258          1.938202  \n",
       "std           2.318286    0.228572    0.709990   314.907474          0.775035  \n",
       "min           1.280000    0.480000    1.270000   278.000000          1.000000  \n",
       "25%           3.220000    0.782500    1.937500   500.500000          1.000000  \n",
       "50%           4.690000    0.965000    2.780000   673.500000          2.000000  \n",
       "75%           6.200000    1.120000    3.170000   985.000000          3.000000  \n",
       "max          13.000000    1.710000    4.000000  1680.000000          3.000000  "
      ],
      "text/html": "<div>\n<style scoped>\n    .dataframe tbody tr th:only-of-type {\n        vertical-align: middle;\n    }\n\n    .dataframe tbody tr th {\n        vertical-align: top;\n    }\n\n    .dataframe thead th {\n        text-align: right;\n    }\n</style>\n<table border=\"1\" class=\"dataframe\">\n  <thead>\n    <tr style=\"text-align: right;\">\n      <th></th>\n      <th>Alcohol</th>\n      <th>Malic_Acid</th>\n      <th>Ash</th>\n      <th>Ash_Alcanity</th>\n      <th>Magnesium</th>\n      <th>Total_Phenols</th>\n      <th>Flavanoids</th>\n      <th>Nonflavanoid_Phenols</th>\n      <th>Proanthocyanins</th>\n      <th>Color_Intensity</th>\n      <th>Hue</th>\n      <th>OD280</th>\n      <th>Proline</th>\n      <th>Customer_Segment</th>\n    </tr>\n  </thead>\n  <tbody>\n    <tr>\n      <th>count</th>\n      <td>178.000000</td>\n      <td>178.000000</td>\n      <td>178.000000</td>\n      <td>178.000000</td>\n      <td>178.000000</td>\n      <td>178.000000</td>\n      <td>178.000000</td>\n      <td>178.000000</td>\n      <td>178.000000</td>\n      <td>178.000000</td>\n      <td>178.000000</td>\n      <td>178.000000</td>\n      <td>178.000000</td>\n      <td>178.000000</td>\n    </tr>\n    <tr>\n      <th>mean</th>\n      <td>13.000618</td>\n      <td>2.336348</td>\n      <td>2.366517</td>\n      <td>19.494944</td>\n      <td>99.741573</td>\n      <td>2.295112</td>\n      <td>2.029270</td>\n      <td>0.361854</td>\n      <td>1.590899</td>\n      <td>5.058090</td>\n      <td>0.957449</td>\n      <td>2.611685</td>\n      <td>746.893258</td>\n      <td>1.938202</td>\n    </tr>\n    <tr>\n      <th>std</th>\n      <td>0.811827</td>\n      <td>1.117146</td>\n      <td>0.274344</td>\n      <td>3.339564</td>\n      <td>14.282484</td>\n      <td>0.625851</td>\n      <td>0.998859</td>\n      <td>0.124453</td>\n      <td>0.572359</td>\n      <td>2.318286</td>\n      <td>0.228572</td>\n      <td>0.709990</td>\n      <td>314.907474</td>\n      <td>0.775035</td>\n    </tr>\n    <tr>\n      <th>min</th>\n      <td>11.030000</td>\n      <td>0.740000</td>\n      <td>1.360000</td>\n      <td>10.600000</td>\n      <td>70.000000</td>\n      <td>0.980000</td>\n      <td>0.340000</td>\n      <td>0.130000</td>\n      <td>0.410000</td>\n      <td>1.280000</td>\n      <td>0.480000</td>\n      <td>1.270000</td>\n      <td>278.000000</td>\n      <td>1.000000</td>\n    </tr>\n    <tr>\n      <th>25%</th>\n      <td>12.362500</td>\n      <td>1.602500</td>\n      <td>2.210000</td>\n      <td>17.200000</td>\n      <td>88.000000</td>\n      <td>1.742500</td>\n      <td>1.205000</td>\n      <td>0.270000</td>\n      <td>1.250000</td>\n      <td>3.220000</td>\n      <td>0.782500</td>\n      <td>1.937500</td>\n      <td>500.500000</td>\n      <td>1.000000</td>\n    </tr>\n    <tr>\n      <th>50%</th>\n      <td>13.050000</td>\n      <td>1.865000</td>\n      <td>2.360000</td>\n      <td>19.500000</td>\n      <td>98.000000</td>\n      <td>2.355000</td>\n      <td>2.135000</td>\n      <td>0.340000</td>\n      <td>1.555000</td>\n      <td>4.690000</td>\n      <td>0.965000</td>\n      <td>2.780000</td>\n      <td>673.500000</td>\n      <td>2.000000</td>\n    </tr>\n    <tr>\n      <th>75%</th>\n      <td>13.677500</td>\n      <td>3.082500</td>\n      <td>2.557500</td>\n      <td>21.500000</td>\n      <td>107.000000</td>\n      <td>2.800000</td>\n      <td>2.875000</td>\n      <td>0.437500</td>\n      <td>1.950000</td>\n      <td>6.200000</td>\n      <td>1.120000</td>\n      <td>3.170000</td>\n      <td>985.000000</td>\n      <td>3.000000</td>\n    </tr>\n    <tr>\n      <th>max</th>\n      <td>14.830000</td>\n      <td>5.800000</td>\n      <td>3.230000</td>\n      <td>30.000000</td>\n      <td>162.000000</td>\n      <td>3.880000</td>\n      <td>5.080000</td>\n      <td>0.660000</td>\n      <td>3.580000</td>\n      <td>13.000000</td>\n      <td>1.710000</td>\n      <td>4.000000</td>\n      <td>1680.000000</td>\n      <td>3.000000</td>\n    </tr>\n  </tbody>\n</table>\n</div>"
     },
     "metadata": {},
     "execution_count": 20
    }
   ],
   "source": [
    "# Describe () method describes the mathematical function value\n",
    "df.describe()\n",
    "# This method works only on numerical data (columns which are having only numerical values)"
   ]
  },
  {
   "cell_type": "code",
   "execution_count": 21,
   "metadata": {},
   "outputs": [
    {
     "output_type": "execute_result",
     "data": {
      "text/plain": [
       "Alcohol                 0\n",
       "Malic_Acid              0\n",
       "Ash                     0\n",
       "Ash_Alcanity            0\n",
       "Magnesium               0\n",
       "Total_Phenols           0\n",
       "Flavanoids              0\n",
       "Nonflavanoid_Phenols    0\n",
       "Proanthocyanins         0\n",
       "Color_Intensity         0\n",
       "Hue                     0\n",
       "OD280                   0\n",
       "Proline                 0\n",
       "Customer_Segment        0\n",
       "dtype: int64"
      ]
     },
     "metadata": {},
     "execution_count": 21
    }
   ],
   "source": [
    "# checking null values\n",
    "df.isnull().sum()"
   ]
  },
  {
   "cell_type": "code",
   "execution_count": 45,
   "metadata": {},
   "outputs": [
    {
     "output_type": "display_data",
     "data": {
      "text/plain": "<Figure size 1080x504 with 1 Axes>",
      "image/svg+xml": "<?xml version=\"1.0\" encoding=\"utf-8\" standalone=\"no\"?>\n<!DOCTYPE svg PUBLIC \"-//W3C//DTD SVG 1.1//EN\"\n  \"http://www.w3.org/Graphics/SVG/1.1/DTD/svg11.dtd\">\n<!-- Created with matplotlib (https://matplotlib.org/) -->\n<svg height=\"446.473125pt\" version=\"1.1\" viewBox=\"0 0 901.471778 446.473125\" width=\"901.471778pt\" xmlns=\"http://www.w3.org/2000/svg\" xmlns:xlink=\"http://www.w3.org/1999/xlink\">\n <metadata>\n  <rdf:RDF xmlns:cc=\"http://creativecommons.org/ns#\" xmlns:dc=\"http://purl.org/dc/elements/1.1/\" xmlns:rdf=\"http://www.w3.org/1999/02/22-rdf-syntax-ns#\">\n   <cc:Work>\n    <dc:type rdf:resource=\"http://purl.org/dc/dcmitype/StillImage\"/>\n    <dc:date>2021-05-09T08:50:25.293894</dc:date>\n    <dc:format>image/svg+xml</dc:format>\n    <dc:creator>\n     <cc:Agent>\n      <dc:title>Matplotlib v3.3.4, https://matplotlib.org/</dc:title>\n     </cc:Agent>\n    </dc:creator>\n   </cc:Work>\n  </rdf:RDF>\n </metadata>\n <defs>\n  <style type=\"text/css\">*{stroke-linecap:butt;stroke-linejoin:round;}</style>\n </defs>\n <g id=\"figure_1\">\n  <g id=\"patch_1\">\n   <path d=\"M 0 446.473125 \nL 901.471778 446.473125 \nL 901.471778 0 \nL 0 0 \nz\n\" style=\"fill:none;\"/>\n  </g>\n  <g id=\"axes_1\">\n   <g id=\"patch_2\">\n    <path d=\"M 50.14375 408.916875 \nL 887.14375 408.916875 \nL 887.14375 28.396875 \nL 50.14375 28.396875 \nz\n\" style=\"fill:#ffffff;\"/>\n   </g>\n   <g id=\"PathCollection_1\">\n    <defs>\n     <path d=\"M 0 3.535534 \nC 0.937635 3.535534 1.836992 3.163008 2.5 2.5 \nC 3.163008 1.836992 3.535534 0.937635 3.535534 0 \nC 3.535534 -0.937635 3.163008 -1.836992 2.5 -2.5 \nC 1.836992 -3.163008 0.937635 -3.535534 0 -3.535534 \nC -0.937635 -3.535534 -1.836992 -3.163008 -2.5 -2.5 \nC -3.163008 -1.836992 -3.535534 -0.937635 -3.535534 0 \nC -3.535534 0.937635 -3.163008 1.836992 -2.5 2.5 \nC -1.836992 3.163008 -0.937635 3.535534 0 3.535534 \nz\n\" id=\"md4af845b44\" style=\"stroke:#1f77b4;\"/>\n    </defs>\n    <g clip-path=\"url(#p89893d9d8f)\">\n     <use style=\"fill:#1f77b4;stroke:#1f77b4;\" x=\"728.954755\" xlink:href=\"#md4af845b44\" y=\"193.683516\"/>\n     <use style=\"fill:#1f77b4;stroke:#1f77b4;\" x=\"522.708343\" xlink:href=\"#md4af845b44\" y=\"247.329991\"/>\n     <use style=\"fill:#1f77b4;stroke:#1f77b4;\" x=\"514.698774\" xlink:href=\"#md4af845b44\" y=\"149.286433\"/>\n     <use style=\"fill:#1f77b4;stroke:#1f77b4;\" x=\"756.988248\" xlink:href=\"#md4af845b44\" y=\"180.734366\"/>\n     <use style=\"fill:#1f77b4;stroke:#1f77b4;\" x=\"530.717913\" xlink:href=\"#md4af845b44\" y=\"112.288863\"/>\n     <use style=\"fill:#1f77b4;stroke:#1f77b4;\" x=\"722.947578\" xlink:href=\"#md4af845b44\" y=\"189.983759\"/>\n     <use style=\"fill:#1f77b4;stroke:#1f77b4;\" x=\"760.993032\" xlink:href=\"#md4af845b44\" y=\"189.983759\"/>\n     <use style=\"fill:#1f77b4;stroke:#1f77b4;\" x=\"694.914085\" xlink:href=\"#md4af845b44\" y=\"160.385703\"/>\n     <use style=\"fill:#1f77b4;stroke:#1f77b4;\" x=\"849.098295\" xlink:href=\"#md4af845b44\" y=\"241.780356\"/>\n     <use style=\"fill:#1f77b4;stroke:#1f77b4;\" x=\"654.866238\" xlink:href=\"#md4af845b44\" y=\"223.281571\"/>\n     <use style=\"fill:#1f77b4;stroke:#1f77b4;\" x=\"702.923654\" xlink:href=\"#md4af845b44\" y=\"217.731936\"/>\n     <use style=\"fill:#1f77b4;stroke:#1f77b4;\" x=\"706.928439\" xlink:href=\"#md4af845b44\" y=\"214.032179\"/>\n     <use style=\"fill:#1f77b4;stroke:#1f77b4;\" x=\"632.839922\" xlink:href=\"#md4af845b44\" y=\"197.383273\"/>\n     <use style=\"fill:#1f77b4;stroke:#1f77b4;\" x=\"833.079157\" xlink:href=\"#md4af845b44\" y=\"201.08303\"/>\n     <use style=\"fill:#1f77b4;stroke:#1f77b4;\" x=\"758.99064\" xlink:href=\"#md4af845b44\" y=\"202.932908\"/>\n     <use style=\"fill:#1f77b4;stroke:#1f77b4;\" x=\"608.811214\" xlink:href=\"#md4af845b44\" y=\"143.736797\"/>\n     <use style=\"fill:#1f77b4;stroke:#1f77b4;\" x=\"742.971501\" xlink:href=\"#md4af845b44\" y=\"140.03704\"/>\n     <use style=\"fill:#1f77b4;stroke:#1f77b4;\" x=\"648.859061\" xlink:href=\"#md4af845b44\" y=\"158.535825\"/>\n     <use style=\"fill:#1f77b4;stroke:#1f77b4;\" x=\"720.945185\" xlink:href=\"#md4af845b44\" y=\"184.434123\"/>\n     <use style=\"fill:#1f77b4;stroke:#1f77b4;\" x=\"610.813606\" xlink:href=\"#md4af845b44\" y=\"169.635096\"/>\n     <use style=\"fill:#1f77b4;stroke:#1f77b4;\" x=\"694.914085\" xlink:href=\"#md4af845b44\" y=\"221.431693\"/>\n     <use style=\"fill:#1f77b4;stroke:#1f77b4;\" x=\"468.64375\" xlink:href=\"#md4af845b44\" y=\"152.98619\"/>\n     <use style=\"fill:#1f77b4;stroke:#1f77b4;\" x=\"624.830353\" xlink:href=\"#md4af845b44\" y=\"206.632665\"/>\n     <use style=\"fill:#1f77b4;stroke:#1f77b4;\" x=\"452.624611\" xlink:href=\"#md4af845b44\" y=\"177.03461\"/>\n     <use style=\"fill:#1f77b4;stroke:#1f77b4;\" x=\"582.780114\" xlink:href=\"#md4af845b44\" y=\"160.385703\"/>\n     <use style=\"fill:#1f77b4;stroke:#1f77b4;\" x=\"492.672458\" xlink:href=\"#md4af845b44\" y=\"47.543117\"/>\n     <use style=\"fill:#1f77b4;stroke:#1f77b4;\" x=\"560.753798\" xlink:href=\"#md4af845b44\" y=\"158.535825\"/>\n     <use style=\"fill:#1f77b4;stroke:#1f77b4;\" x=\"542.732267\" xlink:href=\"#md4af845b44\" y=\"247.329991\"/>\n     <use style=\"fill:#1f77b4;stroke:#1f77b4;\" x=\"656.86863\" xlink:href=\"#md4af845b44\" y=\"125.238013\"/>\n     <use style=\"fill:#1f77b4;stroke:#1f77b4;\" x=\"686.904516\" xlink:href=\"#md4af845b44\" y=\"234.380842\"/>\n     <use style=\"fill:#1f77b4;stroke:#1f77b4;\" x=\"628.835138\" xlink:href=\"#md4af845b44\" y=\"143.736797\"/>\n     <use style=\"fill:#1f77b4;stroke:#1f77b4;\" x=\"598.799252\" xlink:href=\"#md4af845b44\" y=\"206.632665\"/>\n     <use style=\"fill:#1f77b4;stroke:#1f77b4;\" x=\"618.823176\" xlink:href=\"#md4af845b44\" y=\"206.632665\"/>\n     <use style=\"fill:#1f77b4;stroke:#1f77b4;\" x=\"634.842315\" xlink:href=\"#md4af845b44\" y=\"143.736797\"/>\n     <use style=\"fill:#1f77b4;stroke:#1f77b4;\" x=\"584.782506\" xlink:href=\"#md4af845b44\" y=\"152.98619\"/>\n     <use style=\"fill:#1f77b4;stroke:#1f77b4;\" x=\"578.775329\" xlink:href=\"#md4af845b44\" y=\"197.383273\"/>\n     <use style=\"fill:#1f77b4;stroke:#1f77b4;\" x=\"538.727482\" xlink:href=\"#md4af845b44\" y=\"117.838499\"/>\n     <use style=\"fill:#1f77b4;stroke:#1f77b4;\" x=\"492.672458\" xlink:href=\"#md4af845b44\" y=\"171.484974\"/>\n     <use style=\"fill:#1f77b4;stroke:#1f77b4;\" x=\"496.677243\" xlink:href=\"#md4af845b44\" y=\"254.729505\"/>\n     <use style=\"fill:#1f77b4;stroke:#1f77b4;\" x=\"726.952362\" xlink:href=\"#md4af845b44\" y=\"178.884488\"/>\n     <use style=\"fill:#1f77b4;stroke:#1f77b4;\" x=\"594.794468\" xlink:href=\"#md4af845b44\" y=\"215.882057\"/>\n     <use style=\"fill:#1f77b4;stroke:#1f77b4;\" x=\"564.758583\" xlink:href=\"#md4af845b44\" y=\"251.029748\"/>\n     <use style=\"fill:#1f77b4;stroke:#1f77b4;\" x=\"658.871023\" xlink:href=\"#md4af845b44\" y=\"164.08546\"/>\n     <use style=\"fill:#1f77b4;stroke:#1f77b4;\" x=\"530.717913\" xlink:href=\"#md4af845b44\" y=\"219.581814\"/>\n     <use style=\"fill:#1f77b4;stroke:#1f77b4;\" x=\"492.672458\" xlink:href=\"#md4af845b44\" y=\"254.729505\"/>\n     <use style=\"fill:#1f77b4;stroke:#1f77b4;\" x=\"724.94997\" xlink:href=\"#md4af845b44\" y=\"191.833637\"/>\n     <use style=\"fill:#1f77b4;stroke:#1f77b4;\" x=\"758.99064\" xlink:href=\"#md4af845b44\" y=\"221.431693\"/>\n     <use style=\"fill:#1f77b4;stroke:#1f77b4;\" x=\"662.875807\" xlink:href=\"#md4af845b44\" y=\"251.029748\"/>\n     <use style=\"fill:#1f77b4;stroke:#1f77b4;\" x=\"702.923654\" xlink:href=\"#md4af845b44\" y=\"199.233151\"/>\n     <use style=\"fill:#1f77b4;stroke:#1f77b4;\" x=\"670.885377\" xlink:href=\"#md4af845b44\" y=\"223.281571\"/>\n     <use style=\"fill:#1f77b4;stroke:#1f77b4;\" x=\"492.672458\" xlink:href=\"#md4af845b44\" y=\"265.828776\"/>\n     <use style=\"fill:#1f77b4;stroke:#1f77b4;\" x=\"648.859061\" xlink:href=\"#md4af845b44\" y=\"162.235582\"/>\n     <use style=\"fill:#1f77b4;stroke:#1f77b4;\" x=\"646.856669\" xlink:href=\"#md4af845b44\" y=\"195.533394\"/>\n     <use style=\"fill:#1f77b4;stroke:#1f77b4;\" x=\"636.844707\" xlink:href=\"#md4af845b44\" y=\"147.436554\"/>\n     <use style=\"fill:#1f77b4;stroke:#1f77b4;\" x=\"630.83753\" xlink:href=\"#md4af845b44\" y=\"226.981328\"/>\n     <use style=\"fill:#1f77b4;stroke:#1f77b4;\" x=\"594.794468\" xlink:href=\"#md4af845b44\" y=\"188.13388\"/>\n     <use style=\"fill:#1f77b4;stroke:#1f77b4;\" x=\"726.952362\" xlink:href=\"#md4af845b44\" y=\"217.731936\"/>\n     <use style=\"fill:#1f77b4;stroke:#1f77b4;\" x=\"540.729874\" xlink:href=\"#md4af845b44\" y=\"147.436554\"/>\n     <use style=\"fill:#1f77b4;stroke:#1f77b4;\" x=\"626.832745\" xlink:href=\"#md4af845b44\" y=\"180.734366\"/>\n     <use style=\"fill:#1f77b4;stroke:#1f77b4;\" x=\"356.509779\" xlink:href=\"#md4af845b44\" y=\"391.620511\"/>\n     <use style=\"fill:#1f77b4;stroke:#1f77b4;\" x=\"348.500209\" xlink:href=\"#md4af845b44\" y=\"221.431693\"/>\n     <use style=\"fill:#1f77b4;stroke:#1f77b4;\" x=\"410.574372\" xlink:href=\"#md4af845b44\" y=\"269.528533\"/>\n     <use style=\"fill:#1f77b4;stroke:#1f77b4;\" x=\"616.820783\" xlink:href=\"#md4af845b44\" y=\"288.027317\"/>\n     <use style=\"fill:#1f77b4;stroke:#1f77b4;\" x=\"356.509779\" xlink:href=\"#md4af845b44\" y=\"243.630234\"/>\n     <use style=\"fill:#1f77b4;stroke:#1f77b4;\" x=\"316.461932\" xlink:href=\"#md4af845b44\" y=\"175.184731\"/>\n     <use style=\"fill:#1f77b4;stroke:#1f77b4;\" x=\"356.509779\" xlink:href=\"#md4af845b44\" y=\"169.635096\"/>\n     <use style=\"fill:#1f77b4;stroke:#1f77b4;\" x=\"504.686812\" xlink:href=\"#md4af845b44\" y=\"328.724644\"/>\n     <use style=\"fill:#1f77b4;stroke:#1f77b4;\" x=\"356.509779\" xlink:href=\"#md4af845b44\" y=\"288.027317\"/>\n     <use style=\"fill:#1f77b4;stroke:#1f77b4;\" x=\"550.741836\" xlink:href=\"#md4af845b44\" y=\"206.632665\"/>\n     <use style=\"fill:#1f77b4;stroke:#1f77b4;\" x=\"324.471501\" xlink:href=\"#md4af845b44\" y=\"319.475251\"/>\n     <use style=\"fill:#1f77b4;stroke:#1f77b4;\" x=\"340.49064\" xlink:href=\"#md4af845b44\" y=\"234.380842\"/>\n     <use style=\"fill:#1f77b4;stroke:#1f77b4;\" x=\"654.866238\" xlink:href=\"#md4af845b44\" y=\"149.286433\"/>\n     <use style=\"fill:#1f77b4;stroke:#1f77b4;\" x=\"580.777721\" xlink:href=\"#md4af845b44\" y=\"228.831207\"/>\n     <use style=\"fill:#1f77b4;stroke:#1f77b4;\" x=\"480.658104\" xlink:href=\"#md4af845b44\" y=\"162.235582\"/>\n     <use style=\"fill:#1f77b4;stroke:#1f77b4;\" x=\"274.411693\" xlink:href=\"#md4af845b44\" y=\"217.731936\"/>\n     <use style=\"fill:#1f77b4;stroke:#1f77b4;\" x=\"214.339922\" xlink:href=\"#md4af845b44\" y=\"288.027317\"/>\n     <use style=\"fill:#1f77b4;stroke:#1f77b4;\" x=\"488.667673\" xlink:href=\"#md4af845b44\" y=\"326.874765\"/>\n     <use style=\"fill:#1f77b4;stroke:#1f77b4;\" x=\"250.382984\" xlink:href=\"#md4af845b44\" y=\"230.681085\"/>\n     <use style=\"fill:#1f77b4;stroke:#1f77b4;\" x=\"348.500209\" xlink:href=\"#md4af845b44\" y=\"282.477682\"/>\n     <use style=\"fill:#1f77b4;stroke:#1f77b4;\" x=\"422.588726\" xlink:href=\"#md4af845b44\" y=\"199.233151\"/>\n     <use style=\"fill:#1f77b4;stroke:#1f77b4;\" x=\"282.421262\" xlink:href=\"#md4af845b44\" y=\"273.22829\"/>\n     <use style=\"fill:#1f77b4;stroke:#1f77b4;\" x=\"426.593511\" xlink:href=\"#md4af845b44\" y=\"236.23072\"/>\n     <use style=\"fill:#1f77b4;stroke:#1f77b4;\" x=\"298.440401\" xlink:href=\"#md4af845b44\" y=\"178.884488\"/>\n     <use style=\"fill:#1f77b4;stroke:#1f77b4;\" x=\"492.672458\" xlink:href=\"#md4af845b44\" y=\"214.032179\"/>\n     <use style=\"fill:#1f77b4;stroke:#1f77b4;\" x=\"250.382984\" xlink:href=\"#md4af845b44\" y=\"165.935339\"/>\n     <use style=\"fill:#1f77b4;stroke:#1f77b4;\" x=\"416.581549\" xlink:href=\"#md4af845b44\" y=\"228.831207\"/>\n     <use style=\"fill:#1f77b4;stroke:#1f77b4;\" x=\"314.459539\" xlink:href=\"#md4af845b44\" y=\"215.882057\"/>\n     <use style=\"fill:#1f77b4;stroke:#1f77b4;\" x=\"212.33753\" xlink:href=\"#md4af845b44\" y=\"158.535825\"/>\n     <use style=\"fill:#1f77b4;stroke:#1f77b4;\" x=\"210.335138\" xlink:href=\"#md4af845b44\" y=\"188.13388\"/>\n     <use style=\"fill:#1f77b4;stroke:#1f77b4;\" x=\"298.440401\" xlink:href=\"#md4af845b44\" y=\"217.731936\"/>\n     <use style=\"fill:#1f77b4;stroke:#1f77b4;\" x=\"298.440401\" xlink:href=\"#md4af845b44\" y=\"214.032179\"/>\n     <use style=\"fill:#1f77b4;stroke:#1f77b4;\" x=\"282.421262\" xlink:href=\"#md4af845b44\" y=\"195.533394\"/>\n     <use style=\"fill:#1f77b4;stroke:#1f77b4;\" x=\"420.586334\" xlink:href=\"#md4af845b44\" y=\"225.13145\"/>\n     <use style=\"fill:#1f77b4;stroke:#1f77b4;\" x=\"340.49064\" xlink:href=\"#md4af845b44\" y=\"232.530963\"/>\n     <use style=\"fill:#1f77b4;stroke:#1f77b4;\" x=\"206.330353\" xlink:href=\"#md4af845b44\" y=\"221.431693\"/>\n     <use style=\"fill:#1f77b4;stroke:#1f77b4;\" x=\"376.533702\" xlink:href=\"#md4af845b44\" y=\"236.23072\"/>\n     <use style=\"fill:#1f77b4;stroke:#1f77b4;\" x=\"244.375807\" xlink:href=\"#md4af845b44\" y=\"136.337283\"/>\n     <use style=\"fill:#1f77b4;stroke:#1f77b4;\" x=\"340.49064\" xlink:href=\"#md4af845b44\" y=\"276.928047\"/>\n     <use style=\"fill:#1f77b4;stroke:#1f77b4;\" x=\"356.509779\" xlink:href=\"#md4af845b44\" y=\"254.729505\"/>\n     <use style=\"fill:#1f77b4;stroke:#1f77b4;\" x=\"340.49064\" xlink:href=\"#md4af845b44\" y=\"234.380842\"/>\n     <use style=\"fill:#1f77b4;stroke:#1f77b4;\" x=\"298.440401\" xlink:href=\"#md4af845b44\" y=\"328.724644\"/>\n     <use style=\"fill:#1f77b4;stroke:#1f77b4;\" x=\"402.564803\" xlink:href=\"#md4af845b44\" y=\"291.727074\"/>\n     <use style=\"fill:#1f77b4;stroke:#1f77b4;\" x=\"350.502602\" xlink:href=\"#md4af845b44\" y=\"188.13388\"/>\n     <use style=\"fill:#1f77b4;stroke:#1f77b4;\" x=\"246.3782\" xlink:href=\"#md4af845b44\" y=\"295.426831\"/>\n     <use style=\"fill:#1f77b4;stroke:#1f77b4;\" x=\"384.543272\" xlink:href=\"#md4af845b44\" y=\"276.928047\"/>\n     <use style=\"fill:#1f77b4;stroke:#1f77b4;\" x=\"366.52174\" xlink:href=\"#md4af845b44\" y=\"223.281571\"/>\n     <use style=\"fill:#1f77b4;stroke:#1f77b4;\" x=\"332.481071\" xlink:href=\"#md4af845b44\" y=\"251.029748\"/>\n     <use style=\"fill:#1f77b4;stroke:#1f77b4;\" x=\"426.593511\" xlink:href=\"#md4af845b44\" y=\"221.431693\"/>\n     <use style=\"fill:#1f77b4;stroke:#1f77b4;\" x=\"326.473894\" xlink:href=\"#md4af845b44\" y=\"284.32756\"/>\n     <use style=\"fill:#1f77b4;stroke:#1f77b4;\" x=\"204.327961\" xlink:href=\"#md4af845b44\" y=\"143.736797\"/>\n     <use style=\"fill:#1f77b4;stroke:#1f77b4;\" x=\"174.292075\" xlink:href=\"#md4af845b44\" y=\"306.526102\"/>\n     <use style=\"fill:#1f77b4;stroke:#1f77b4;\" x=\"386.545664\" xlink:href=\"#md4af845b44\" y=\"241.780356\"/>\n     <use style=\"fill:#1f77b4;stroke:#1f77b4;\" x=\"234.363846\" xlink:href=\"#md4af845b44\" y=\"103.039471\"/>\n     <use style=\"fill:#1f77b4;stroke:#1f77b4;\" x=\"164.280114\" xlink:href=\"#md4af845b44\" y=\"180.734366\"/>\n     <use style=\"fill:#1f77b4;stroke:#1f77b4;\" x=\"298.440401\" xlink:href=\"#md4af845b44\" y=\"180.734366\"/>\n     <use style=\"fill:#1f77b4;stroke:#1f77b4;\" x=\"88.189205\" xlink:href=\"#md4af845b44\" y=\"236.23072\"/>\n     <use style=\"fill:#1f77b4;stroke:#1f77b4;\" x=\"246.3782\" xlink:href=\"#md4af845b44\" y=\"275.078168\"/>\n     <use style=\"fill:#1f77b4;stroke:#1f77b4;\" x=\"366.52174\" xlink:href=\"#md4af845b44\" y=\"238.080599\"/>\n     <use style=\"fill:#1f77b4;stroke:#1f77b4;\" x=\"436.605472\" xlink:href=\"#md4af845b44\" y=\"276.928047\"/>\n     <use style=\"fill:#1f77b4;stroke:#1f77b4;\" x=\"282.421262\" xlink:href=\"#md4af845b44\" y=\"273.22829\"/>\n     <use style=\"fill:#1f77b4;stroke:#1f77b4;\" x=\"172.289683\" xlink:href=\"#md4af845b44\" y=\"195.533394\"/>\n     <use style=\"fill:#1f77b4;stroke:#1f77b4;\" x=\"194.315999\" xlink:href=\"#md4af845b44\" y=\"45.693239\"/>\n     <use style=\"fill:#1f77b4;stroke:#1f77b4;\" x=\"366.52174\" xlink:href=\"#md4af845b44\" y=\"138.187162\"/>\n     <use style=\"fill:#1f77b4;stroke:#1f77b4;\" x=\"492.672458\" xlink:href=\"#md4af845b44\" y=\"249.17987\"/>\n     <use style=\"fill:#1f77b4;stroke:#1f77b4;\" x=\"256.390161\" xlink:href=\"#md4af845b44\" y=\"201.08303\"/>\n     <use style=\"fill:#1f77b4;stroke:#1f77b4;\" x=\"296.438008\" xlink:href=\"#md4af845b44\" y=\"241.780356\"/>\n     <use style=\"fill:#1f77b4;stroke:#1f77b4;\" x=\"368.524133\" xlink:href=\"#md4af845b44\" y=\"219.581814\"/>\n     <use style=\"fill:#1f77b4;stroke:#1f77b4;\" x=\"240.371023\" xlink:href=\"#md4af845b44\" y=\"128.93777\"/>\n     <use style=\"fill:#1f77b4;stroke:#1f77b4;\" x=\"356.509779\" xlink:href=\"#md4af845b44\" y=\"217.731936\"/>\n     <use style=\"fill:#1f77b4;stroke:#1f77b4;\" x=\"290.430831\" xlink:href=\"#md4af845b44\" y=\"202.932908\"/>\n     <use style=\"fill:#1f77b4;stroke:#1f77b4;\" x=\"454.627004\" xlink:href=\"#md4af845b44\" y=\"214.032179\"/>\n     <use style=\"fill:#1f77b4;stroke:#1f77b4;\" x=\"458.631788\" xlink:href=\"#md4af845b44\" y=\"199.233151\"/>\n     <use style=\"fill:#1f77b4;stroke:#1f77b4;\" x=\"444.615042\" xlink:href=\"#md4af845b44\" y=\"199.233151\"/>\n     <use style=\"fill:#1f77b4;stroke:#1f77b4;\" x=\"422.588726\" xlink:href=\"#md4af845b44\" y=\"206.632665\"/>\n     <use style=\"fill:#1f77b4;stroke:#1f77b4;\" x=\"384.543272\" xlink:href=\"#md4af845b44\" y=\"226.981328\"/>\n     <use style=\"fill:#1f77b4;stroke:#1f77b4;\" x=\"402.564803\" xlink:href=\"#md4af845b44\" y=\"236.23072\"/>\n     <use style=\"fill:#1f77b4;stroke:#1f77b4;\" x=\"332.481071\" xlink:href=\"#md4af845b44\" y=\"173.334853\"/>\n     <use style=\"fill:#1f77b4;stroke:#1f77b4;\" x=\"388.548056\" xlink:href=\"#md4af845b44\" y=\"154.836068\"/>\n     <use style=\"fill:#1f77b4;stroke:#1f77b4;\" x=\"580.777721\" xlink:href=\"#md4af845b44\" y=\"238.080599\"/>\n     <use style=\"fill:#1f77b4;stroke:#1f77b4;\" x=\"450.622219\" xlink:href=\"#md4af845b44\" y=\"160.385703\"/>\n     <use style=\"fill:#1f77b4;stroke:#1f77b4;\" x=\"468.64375\" xlink:href=\"#md4af845b44\" y=\"143.736797\"/>\n     <use style=\"fill:#1f77b4;stroke:#1f77b4;\" x=\"554.746621\" xlink:href=\"#md4af845b44\" y=\"208.482543\"/>\n     <use style=\"fill:#1f77b4;stroke:#1f77b4;\" x=\"586.784898\" xlink:href=\"#md4af845b44\" y=\"140.03704\"/>\n     <use style=\"fill:#1f77b4;stroke:#1f77b4;\" x=\"606.808822\" xlink:href=\"#md4af845b44\" y=\"208.482543\"/>\n     <use style=\"fill:#1f77b4;stroke:#1f77b4;\" x=\"332.481071\" xlink:href=\"#md4af845b44\" y=\"236.23072\"/>\n     <use style=\"fill:#1f77b4;stroke:#1f77b4;\" x=\"514.698774\" xlink:href=\"#md4af845b44\" y=\"245.480113\"/>\n     <use style=\"fill:#1f77b4;stroke:#1f77b4;\" x=\"658.871023\" xlink:href=\"#md4af845b44\" y=\"230.681085\"/>\n     <use style=\"fill:#1f77b4;stroke:#1f77b4;\" x=\"456.629396\" xlink:href=\"#md4af845b44\" y=\"184.434123\"/>\n     <use style=\"fill:#1f77b4;stroke:#1f77b4;\" x=\"546.737051\" xlink:href=\"#md4af845b44\" y=\"202.932908\"/>\n     <use style=\"fill:#1f77b4;stroke:#1f77b4;\" x=\"498.679635\" xlink:href=\"#md4af845b44\" y=\"206.632665\"/>\n     <use style=\"fill:#1f77b4;stroke:#1f77b4;\" x=\"582.780114\" xlink:href=\"#md4af845b44\" y=\"158.535825\"/>\n     <use style=\"fill:#1f77b4;stroke:#1f77b4;\" x=\"440.610257\" xlink:href=\"#md4af845b44\" y=\"184.434123\"/>\n     <use style=\"fill:#1f77b4;stroke:#1f77b4;\" x=\"504.686812\" xlink:href=\"#md4af845b44\" y=\"134.487405\"/>\n     <use style=\"fill:#1f77b4;stroke:#1f77b4;\" x=\"528.71552\" xlink:href=\"#md4af845b44\" y=\"221.431693\"/>\n     <use style=\"fill:#1f77b4;stroke:#1f77b4;\" x=\"398.560018\" xlink:href=\"#md4af845b44\" y=\"254.729505\"/>\n     <use style=\"fill:#1f77b4;stroke:#1f77b4;\" x=\"516.701166\" xlink:href=\"#md4af845b44\" y=\"214.032179\"/>\n     <use style=\"fill:#1f77b4;stroke:#1f77b4;\" x=\"650.861453\" xlink:href=\"#md4af845b44\" y=\"202.932908\"/>\n     <use style=\"fill:#1f77b4;stroke:#1f77b4;\" x=\"372.528917\" xlink:href=\"#md4af845b44\" y=\"154.836068\"/>\n     <use style=\"fill:#1f77b4;stroke:#1f77b4;\" x=\"750.981071\" xlink:href=\"#md4af845b44\" y=\"143.736797\"/>\n     <use style=\"fill:#1f77b4;stroke:#1f77b4;\" x=\"578.775329\" xlink:href=\"#md4af845b44\" y=\"154.836068\"/>\n     <use style=\"fill:#1f77b4;stroke:#1f77b4;\" x=\"354.507386\" xlink:href=\"#md4af845b44\" y=\"202.932908\"/>\n     <use style=\"fill:#1f77b4;stroke:#1f77b4;\" x=\"620.825568\" xlink:href=\"#md4af845b44\" y=\"173.334853\"/>\n     <use style=\"fill:#1f77b4;stroke:#1f77b4;\" x=\"452.624611\" xlink:href=\"#md4af845b44\" y=\"165.935339\"/>\n     <use style=\"fill:#1f77b4;stroke:#1f77b4;\" x=\"474.650927\" xlink:href=\"#md4af845b44\" y=\"208.482543\"/>\n     <use style=\"fill:#1f77b4;stroke:#1f77b4;\" x=\"638.847099\" xlink:href=\"#md4af845b44\" y=\"217.731936\"/>\n     <use style=\"fill:#1f77b4;stroke:#1f77b4;\" x=\"628.835138\" xlink:href=\"#md4af845b44\" y=\"225.13145\"/>\n     <use style=\"fill:#1f77b4;stroke:#1f77b4;\" x=\"572.768152\" xlink:href=\"#md4af845b44\" y=\"162.235582\"/>\n     <use style=\"fill:#1f77b4;stroke:#1f77b4;\" x=\"446.617434\" xlink:href=\"#md4af845b44\" y=\"217.731936\"/>\n     <use style=\"fill:#1f77b4;stroke:#1f77b4;\" x=\"598.799252\" xlink:href=\"#md4af845b44\" y=\"145.586676\"/>\n     <use style=\"fill:#1f77b4;stroke:#1f77b4;\" x=\"562.75619\" xlink:href=\"#md4af845b44\" y=\"114.138742\"/>\n     <use style=\"fill:#1f77b4;stroke:#1f77b4;\" x=\"322.469109\" xlink:href=\"#md4af845b44\" y=\"214.032179\"/>\n     <use style=\"fill:#1f77b4;stroke:#1f77b4;\" x=\"436.605472\" xlink:href=\"#md4af845b44\" y=\"221.431693\"/>\n     <use style=\"fill:#1f77b4;stroke:#1f77b4;\" x=\"714.938008\" xlink:href=\"#md4af845b44\" y=\"184.434123\"/>\n     <use style=\"fill:#1f77b4;stroke:#1f77b4;\" x=\"624.830353\" xlink:href=\"#md4af845b44\" y=\"189.983759\"/>\n     <use style=\"fill:#1f77b4;stroke:#1f77b4;\" x=\"562.75619\" xlink:href=\"#md4af845b44\" y=\"184.434123\"/>\n     <use style=\"fill:#1f77b4;stroke:#1f77b4;\" x=\"536.72509\" xlink:href=\"#md4af845b44\" y=\"225.13145\"/>\n     <use style=\"fill:#1f77b4;stroke:#1f77b4;\" x=\"516.701166\" xlink:href=\"#md4af845b44\" y=\"204.782787\"/>\n     <use style=\"fill:#1f77b4;stroke:#1f77b4;\" x=\"708.930831\" xlink:href=\"#md4af845b44\" y=\"136.337283\"/>\n    </g>\n   </g>\n   <g id=\"matplotlib.axis_1\">\n    <g id=\"xtick_1\">\n     <g id=\"line2d_1\">\n      <defs>\n       <path d=\"M 0 0 \nL 0 3.5 \n\" id=\"m22ebee3c9d\" style=\"stroke:#000000;stroke-width:0.8;\"/>\n      </defs>\n      <g>\n       <use style=\"stroke:#000000;stroke-width:0.8;\" x=\"82.182028\" xlink:href=\"#m22ebee3c9d\" y=\"408.916875\"/>\n      </g>\n     </g>\n     <g id=\"text_1\">\n      <!-- 11.0 -->\n      <g transform=\"translate(71.049215 423.515312)scale(0.1 -0.1)\">\n       <defs>\n        <path d=\"M 12.40625 8.296875 \nL 28.515625 8.296875 \nL 28.515625 63.921875 \nL 10.984375 60.40625 \nL 10.984375 69.390625 \nL 28.421875 72.90625 \nL 38.28125 72.90625 \nL 38.28125 8.296875 \nL 54.390625 8.296875 \nL 54.390625 0 \nL 12.40625 0 \nz\n\" id=\"DejaVuSans-49\"/>\n        <path d=\"M 10.6875 12.40625 \nL 21 12.40625 \nL 21 0 \nL 10.6875 0 \nz\n\" id=\"DejaVuSans-46\"/>\n        <path d=\"M 31.78125 66.40625 \nQ 24.171875 66.40625 20.328125 58.90625 \nQ 16.5 51.421875 16.5 36.375 \nQ 16.5 21.390625 20.328125 13.890625 \nQ 24.171875 6.390625 31.78125 6.390625 \nQ 39.453125 6.390625 43.28125 13.890625 \nQ 47.125 21.390625 47.125 36.375 \nQ 47.125 51.421875 43.28125 58.90625 \nQ 39.453125 66.40625 31.78125 66.40625 \nz\nM 31.78125 74.21875 \nQ 44.046875 74.21875 50.515625 64.515625 \nQ 56.984375 54.828125 56.984375 36.375 \nQ 56.984375 17.96875 50.515625 8.265625 \nQ 44.046875 -1.421875 31.78125 -1.421875 \nQ 19.53125 -1.421875 13.0625 8.265625 \nQ 6.59375 17.96875 6.59375 36.375 \nQ 6.59375 54.828125 13.0625 64.515625 \nQ 19.53125 74.21875 31.78125 74.21875 \nz\n\" id=\"DejaVuSans-48\"/>\n       </defs>\n       <use xlink:href=\"#DejaVuSans-49\"/>\n       <use x=\"63.623047\" xlink:href=\"#DejaVuSans-49\"/>\n       <use x=\"127.246094\" xlink:href=\"#DejaVuSans-46\"/>\n       <use x=\"159.033203\" xlink:href=\"#DejaVuSans-48\"/>\n      </g>\n     </g>\n    </g>\n    <g id=\"xtick_2\">\n     <g id=\"line2d_2\">\n      <g>\n       <use style=\"stroke:#000000;stroke-width:0.8;\" x=\"182.301645\" xlink:href=\"#m22ebee3c9d\" y=\"408.916875\"/>\n      </g>\n     </g>\n     <g id=\"text_2\">\n      <!-- 11.5 -->\n      <g transform=\"translate(171.168832 423.515312)scale(0.1 -0.1)\">\n       <defs>\n        <path d=\"M 10.796875 72.90625 \nL 49.515625 72.90625 \nL 49.515625 64.59375 \nL 19.828125 64.59375 \nL 19.828125 46.734375 \nQ 21.96875 47.46875 24.109375 47.828125 \nQ 26.265625 48.1875 28.421875 48.1875 \nQ 40.625 48.1875 47.75 41.5 \nQ 54.890625 34.8125 54.890625 23.390625 \nQ 54.890625 11.625 47.5625 5.09375 \nQ 40.234375 -1.421875 26.90625 -1.421875 \nQ 22.3125 -1.421875 17.546875 -0.640625 \nQ 12.796875 0.140625 7.71875 1.703125 \nL 7.71875 11.625 \nQ 12.109375 9.234375 16.796875 8.0625 \nQ 21.484375 6.890625 26.703125 6.890625 \nQ 35.15625 6.890625 40.078125 11.328125 \nQ 45.015625 15.765625 45.015625 23.390625 \nQ 45.015625 31 40.078125 35.4375 \nQ 35.15625 39.890625 26.703125 39.890625 \nQ 22.75 39.890625 18.8125 39.015625 \nQ 14.890625 38.140625 10.796875 36.28125 \nz\n\" id=\"DejaVuSans-53\"/>\n       </defs>\n       <use xlink:href=\"#DejaVuSans-49\"/>\n       <use x=\"63.623047\" xlink:href=\"#DejaVuSans-49\"/>\n       <use x=\"127.246094\" xlink:href=\"#DejaVuSans-46\"/>\n       <use x=\"159.033203\" xlink:href=\"#DejaVuSans-53\"/>\n      </g>\n     </g>\n    </g>\n    <g id=\"xtick_3\">\n     <g id=\"line2d_3\">\n      <g>\n       <use style=\"stroke:#000000;stroke-width:0.8;\" x=\"282.421262\" xlink:href=\"#m22ebee3c9d\" y=\"408.916875\"/>\n      </g>\n     </g>\n     <g id=\"text_3\">\n      <!-- 12.0 -->\n      <g transform=\"translate(271.288449 423.515312)scale(0.1 -0.1)\">\n       <defs>\n        <path d=\"M 19.1875 8.296875 \nL 53.609375 8.296875 \nL 53.609375 0 \nL 7.328125 0 \nL 7.328125 8.296875 \nQ 12.9375 14.109375 22.625 23.890625 \nQ 32.328125 33.6875 34.8125 36.53125 \nQ 39.546875 41.84375 41.421875 45.53125 \nQ 43.3125 49.21875 43.3125 52.78125 \nQ 43.3125 58.59375 39.234375 62.25 \nQ 35.15625 65.921875 28.609375 65.921875 \nQ 23.96875 65.921875 18.8125 64.3125 \nQ 13.671875 62.703125 7.8125 59.421875 \nL 7.8125 69.390625 \nQ 13.765625 71.78125 18.9375 73 \nQ 24.125 74.21875 28.421875 74.21875 \nQ 39.75 74.21875 46.484375 68.546875 \nQ 53.21875 62.890625 53.21875 53.421875 \nQ 53.21875 48.921875 51.53125 44.890625 \nQ 49.859375 40.875 45.40625 35.40625 \nQ 44.1875 33.984375 37.640625 27.21875 \nQ 31.109375 20.453125 19.1875 8.296875 \nz\n\" id=\"DejaVuSans-50\"/>\n       </defs>\n       <use xlink:href=\"#DejaVuSans-49\"/>\n       <use x=\"63.623047\" xlink:href=\"#DejaVuSans-50\"/>\n       <use x=\"127.246094\" xlink:href=\"#DejaVuSans-46\"/>\n       <use x=\"159.033203\" xlink:href=\"#DejaVuSans-48\"/>\n      </g>\n     </g>\n    </g>\n    <g id=\"xtick_4\">\n     <g id=\"line2d_4\">\n      <g>\n       <use style=\"stroke:#000000;stroke-width:0.8;\" x=\"382.540879\" xlink:href=\"#m22ebee3c9d\" y=\"408.916875\"/>\n      </g>\n     </g>\n     <g id=\"text_4\">\n      <!-- 12.5 -->\n      <g transform=\"translate(371.408067 423.515312)scale(0.1 -0.1)\">\n       <use xlink:href=\"#DejaVuSans-49\"/>\n       <use x=\"63.623047\" xlink:href=\"#DejaVuSans-50\"/>\n       <use x=\"127.246094\" xlink:href=\"#DejaVuSans-46\"/>\n       <use x=\"159.033203\" xlink:href=\"#DejaVuSans-53\"/>\n      </g>\n     </g>\n    </g>\n    <g id=\"xtick_5\">\n     <g id=\"line2d_5\">\n      <g>\n       <use style=\"stroke:#000000;stroke-width:0.8;\" x=\"482.660496\" xlink:href=\"#m22ebee3c9d\" y=\"408.916875\"/>\n      </g>\n     </g>\n     <g id=\"text_5\">\n      <!-- 13.0 -->\n      <g transform=\"translate(471.527684 423.515312)scale(0.1 -0.1)\">\n       <defs>\n        <path d=\"M 40.578125 39.3125 \nQ 47.65625 37.796875 51.625 33 \nQ 55.609375 28.21875 55.609375 21.1875 \nQ 55.609375 10.40625 48.1875 4.484375 \nQ 40.765625 -1.421875 27.09375 -1.421875 \nQ 22.515625 -1.421875 17.65625 -0.515625 \nQ 12.796875 0.390625 7.625 2.203125 \nL 7.625 11.71875 \nQ 11.71875 9.328125 16.59375 8.109375 \nQ 21.484375 6.890625 26.8125 6.890625 \nQ 36.078125 6.890625 40.9375 10.546875 \nQ 45.796875 14.203125 45.796875 21.1875 \nQ 45.796875 27.640625 41.28125 31.265625 \nQ 36.765625 34.90625 28.71875 34.90625 \nL 20.21875 34.90625 \nL 20.21875 43.015625 \nL 29.109375 43.015625 \nQ 36.375 43.015625 40.234375 45.921875 \nQ 44.09375 48.828125 44.09375 54.296875 \nQ 44.09375 59.90625 40.109375 62.90625 \nQ 36.140625 65.921875 28.71875 65.921875 \nQ 24.65625 65.921875 20.015625 65.03125 \nQ 15.375 64.15625 9.8125 62.3125 \nL 9.8125 71.09375 \nQ 15.4375 72.65625 20.34375 73.4375 \nQ 25.25 74.21875 29.59375 74.21875 \nQ 40.828125 74.21875 47.359375 69.109375 \nQ 53.90625 64.015625 53.90625 55.328125 \nQ 53.90625 49.265625 50.4375 45.09375 \nQ 46.96875 40.921875 40.578125 39.3125 \nz\n\" id=\"DejaVuSans-51\"/>\n       </defs>\n       <use xlink:href=\"#DejaVuSans-49\"/>\n       <use x=\"63.623047\" xlink:href=\"#DejaVuSans-51\"/>\n       <use x=\"127.246094\" xlink:href=\"#DejaVuSans-46\"/>\n       <use x=\"159.033203\" xlink:href=\"#DejaVuSans-48\"/>\n      </g>\n     </g>\n    </g>\n    <g id=\"xtick_6\">\n     <g id=\"line2d_6\">\n      <g>\n       <use style=\"stroke:#000000;stroke-width:0.8;\" x=\"582.780114\" xlink:href=\"#m22ebee3c9d\" y=\"408.916875\"/>\n      </g>\n     </g>\n     <g id=\"text_6\">\n      <!-- 13.5 -->\n      <g transform=\"translate(571.647301 423.515312)scale(0.1 -0.1)\">\n       <use xlink:href=\"#DejaVuSans-49\"/>\n       <use x=\"63.623047\" xlink:href=\"#DejaVuSans-51\"/>\n       <use x=\"127.246094\" xlink:href=\"#DejaVuSans-46\"/>\n       <use x=\"159.033203\" xlink:href=\"#DejaVuSans-53\"/>\n      </g>\n     </g>\n    </g>\n    <g id=\"xtick_7\">\n     <g id=\"line2d_7\">\n      <g>\n       <use style=\"stroke:#000000;stroke-width:0.8;\" x=\"682.899731\" xlink:href=\"#m22ebee3c9d\" y=\"408.916875\"/>\n      </g>\n     </g>\n     <g id=\"text_7\">\n      <!-- 14.0 -->\n      <g transform=\"translate(671.766918 423.515312)scale(0.1 -0.1)\">\n       <defs>\n        <path d=\"M 37.796875 64.3125 \nL 12.890625 25.390625 \nL 37.796875 25.390625 \nz\nM 35.203125 72.90625 \nL 47.609375 72.90625 \nL 47.609375 25.390625 \nL 58.015625 25.390625 \nL 58.015625 17.1875 \nL 47.609375 17.1875 \nL 47.609375 0 \nL 37.796875 0 \nL 37.796875 17.1875 \nL 4.890625 17.1875 \nL 4.890625 26.703125 \nz\n\" id=\"DejaVuSans-52\"/>\n       </defs>\n       <use xlink:href=\"#DejaVuSans-49\"/>\n       <use x=\"63.623047\" xlink:href=\"#DejaVuSans-52\"/>\n       <use x=\"127.246094\" xlink:href=\"#DejaVuSans-46\"/>\n       <use x=\"159.033203\" xlink:href=\"#DejaVuSans-48\"/>\n      </g>\n     </g>\n    </g>\n    <g id=\"xtick_8\">\n     <g id=\"line2d_8\">\n      <g>\n       <use style=\"stroke:#000000;stroke-width:0.8;\" x=\"783.019348\" xlink:href=\"#m22ebee3c9d\" y=\"408.916875\"/>\n      </g>\n     </g>\n     <g id=\"text_8\">\n      <!-- 14.5 -->\n      <g transform=\"translate(771.886536 423.515312)scale(0.1 -0.1)\">\n       <use xlink:href=\"#DejaVuSans-49\"/>\n       <use x=\"63.623047\" xlink:href=\"#DejaVuSans-52\"/>\n       <use x=\"127.246094\" xlink:href=\"#DejaVuSans-46\"/>\n       <use x=\"159.033203\" xlink:href=\"#DejaVuSans-53\"/>\n      </g>\n     </g>\n    </g>\n    <g id=\"xtick_9\">\n     <g id=\"line2d_9\">\n      <g>\n       <use style=\"stroke:#000000;stroke-width:0.8;\" x=\"883.138965\" xlink:href=\"#m22ebee3c9d\" y=\"408.916875\"/>\n      </g>\n     </g>\n     <g id=\"text_9\">\n      <!-- 15.0 -->\n      <g transform=\"translate(872.006153 423.515312)scale(0.1 -0.1)\">\n       <use xlink:href=\"#DejaVuSans-49\"/>\n       <use x=\"63.623047\" xlink:href=\"#DejaVuSans-53\"/>\n       <use x=\"127.246094\" xlink:href=\"#DejaVuSans-46\"/>\n       <use x=\"159.033203\" xlink:href=\"#DejaVuSans-48\"/>\n      </g>\n     </g>\n    </g>\n    <g id=\"text_10\">\n     <!-- Alcohol -->\n     <g transform=\"translate(450.408594 437.193437)scale(0.1 -0.1)\">\n      <defs>\n       <path d=\"M 34.1875 63.1875 \nL 20.796875 26.90625 \nL 47.609375 26.90625 \nz\nM 28.609375 72.90625 \nL 39.796875 72.90625 \nL 67.578125 0 \nL 57.328125 0 \nL 50.6875 18.703125 \nL 17.828125 18.703125 \nL 11.1875 0 \nL 0.78125 0 \nz\n\" id=\"DejaVuSans-65\"/>\n       <path d=\"M 9.421875 75.984375 \nL 18.40625 75.984375 \nL 18.40625 0 \nL 9.421875 0 \nz\n\" id=\"DejaVuSans-108\"/>\n       <path d=\"M 48.78125 52.59375 \nL 48.78125 44.1875 \nQ 44.96875 46.296875 41.140625 47.34375 \nQ 37.3125 48.390625 33.40625 48.390625 \nQ 24.65625 48.390625 19.8125 42.84375 \nQ 14.984375 37.3125 14.984375 27.296875 \nQ 14.984375 17.28125 19.8125 11.734375 \nQ 24.65625 6.203125 33.40625 6.203125 \nQ 37.3125 6.203125 41.140625 7.25 \nQ 44.96875 8.296875 48.78125 10.40625 \nL 48.78125 2.09375 \nQ 45.015625 0.34375 40.984375 -0.53125 \nQ 36.96875 -1.421875 32.421875 -1.421875 \nQ 20.0625 -1.421875 12.78125 6.34375 \nQ 5.515625 14.109375 5.515625 27.296875 \nQ 5.515625 40.671875 12.859375 48.328125 \nQ 20.21875 56 33.015625 56 \nQ 37.15625 56 41.109375 55.140625 \nQ 45.0625 54.296875 48.78125 52.59375 \nz\n\" id=\"DejaVuSans-99\"/>\n       <path d=\"M 30.609375 48.390625 \nQ 23.390625 48.390625 19.1875 42.75 \nQ 14.984375 37.109375 14.984375 27.296875 \nQ 14.984375 17.484375 19.15625 11.84375 \nQ 23.34375 6.203125 30.609375 6.203125 \nQ 37.796875 6.203125 41.984375 11.859375 \nQ 46.1875 17.53125 46.1875 27.296875 \nQ 46.1875 37.015625 41.984375 42.703125 \nQ 37.796875 48.390625 30.609375 48.390625 \nz\nM 30.609375 56 \nQ 42.328125 56 49.015625 48.375 \nQ 55.71875 40.765625 55.71875 27.296875 \nQ 55.71875 13.875 49.015625 6.21875 \nQ 42.328125 -1.421875 30.609375 -1.421875 \nQ 18.84375 -1.421875 12.171875 6.21875 \nQ 5.515625 13.875 5.515625 27.296875 \nQ 5.515625 40.765625 12.171875 48.375 \nQ 18.84375 56 30.609375 56 \nz\n\" id=\"DejaVuSans-111\"/>\n       <path d=\"M 54.890625 33.015625 \nL 54.890625 0 \nL 45.90625 0 \nL 45.90625 32.71875 \nQ 45.90625 40.484375 42.875 44.328125 \nQ 39.84375 48.1875 33.796875 48.1875 \nQ 26.515625 48.1875 22.3125 43.546875 \nQ 18.109375 38.921875 18.109375 30.90625 \nL 18.109375 0 \nL 9.078125 0 \nL 9.078125 75.984375 \nL 18.109375 75.984375 \nL 18.109375 46.1875 \nQ 21.34375 51.125 25.703125 53.5625 \nQ 30.078125 56 35.796875 56 \nQ 45.21875 56 50.046875 50.171875 \nQ 54.890625 44.34375 54.890625 33.015625 \nz\n\" id=\"DejaVuSans-104\"/>\n      </defs>\n      <use xlink:href=\"#DejaVuSans-65\"/>\n      <use x=\"68.408203\" xlink:href=\"#DejaVuSans-108\"/>\n      <use x=\"96.191406\" xlink:href=\"#DejaVuSans-99\"/>\n      <use x=\"151.171875\" xlink:href=\"#DejaVuSans-111\"/>\n      <use x=\"212.353516\" xlink:href=\"#DejaVuSans-104\"/>\n      <use x=\"275.732422\" xlink:href=\"#DejaVuSans-111\"/>\n      <use x=\"336.914062\" xlink:href=\"#DejaVuSans-108\"/>\n     </g>\n    </g>\n   </g>\n   <g id=\"matplotlib.axis_2\">\n    <g id=\"ytick_1\">\n     <g id=\"line2d_10\">\n      <defs>\n       <path d=\"M 0 0 \nL -3.5 0 \n\" id=\"m246d981042\" style=\"stroke:#000000;stroke-width:0.8;\"/>\n      </defs>\n      <g>\n       <use style=\"stroke:#000000;stroke-width:0.8;\" x=\"50.14375\" xlink:href=\"#m246d981042\" y=\"365.722213\"/>\n      </g>\n     </g>\n     <g id=\"text_11\">\n      <!-- 1.50 -->\n      <g transform=\"translate(20.878125 369.521432)scale(0.1 -0.1)\">\n       <use xlink:href=\"#DejaVuSans-49\"/>\n       <use x=\"63.623047\" xlink:href=\"#DejaVuSans-46\"/>\n       <use x=\"95.410156\" xlink:href=\"#DejaVuSans-53\"/>\n       <use x=\"159.033203\" xlink:href=\"#DejaVuSans-48\"/>\n      </g>\n     </g>\n    </g>\n    <g id=\"ytick_2\">\n     <g id=\"line2d_11\">\n      <g>\n       <use style=\"stroke:#000000;stroke-width:0.8;\" x=\"50.14375\" xlink:href=\"#m246d981042\" y=\"319.475251\"/>\n      </g>\n     </g>\n     <g id=\"text_12\">\n      <!-- 1.75 -->\n      <g transform=\"translate(20.878125 323.27447)scale(0.1 -0.1)\">\n       <defs>\n        <path d=\"M 8.203125 72.90625 \nL 55.078125 72.90625 \nL 55.078125 68.703125 \nL 28.609375 0 \nL 18.3125 0 \nL 43.21875 64.59375 \nL 8.203125 64.59375 \nz\n\" id=\"DejaVuSans-55\"/>\n       </defs>\n       <use xlink:href=\"#DejaVuSans-49\"/>\n       <use x=\"63.623047\" xlink:href=\"#DejaVuSans-46\"/>\n       <use x=\"95.410156\" xlink:href=\"#DejaVuSans-55\"/>\n       <use x=\"159.033203\" xlink:href=\"#DejaVuSans-53\"/>\n      </g>\n     </g>\n    </g>\n    <g id=\"ytick_3\">\n     <g id=\"line2d_12\">\n      <g>\n       <use style=\"stroke:#000000;stroke-width:0.8;\" x=\"50.14375\" xlink:href=\"#m246d981042\" y=\"273.22829\"/>\n      </g>\n     </g>\n     <g id=\"text_13\">\n      <!-- 2.00 -->\n      <g transform=\"translate(20.878125 277.027508)scale(0.1 -0.1)\">\n       <use xlink:href=\"#DejaVuSans-50\"/>\n       <use x=\"63.623047\" xlink:href=\"#DejaVuSans-46\"/>\n       <use x=\"95.410156\" xlink:href=\"#DejaVuSans-48\"/>\n       <use x=\"159.033203\" xlink:href=\"#DejaVuSans-48\"/>\n      </g>\n     </g>\n    </g>\n    <g id=\"ytick_4\">\n     <g id=\"line2d_13\">\n      <g>\n       <use style=\"stroke:#000000;stroke-width:0.8;\" x=\"50.14375\" xlink:href=\"#m246d981042\" y=\"226.981328\"/>\n      </g>\n     </g>\n     <g id=\"text_14\">\n      <!-- 2.25 -->\n      <g transform=\"translate(20.878125 230.780547)scale(0.1 -0.1)\">\n       <use xlink:href=\"#DejaVuSans-50\"/>\n       <use x=\"63.623047\" xlink:href=\"#DejaVuSans-46\"/>\n       <use x=\"95.410156\" xlink:href=\"#DejaVuSans-50\"/>\n       <use x=\"159.033203\" xlink:href=\"#DejaVuSans-53\"/>\n      </g>\n     </g>\n    </g>\n    <g id=\"ytick_5\">\n     <g id=\"line2d_14\">\n      <g>\n       <use style=\"stroke:#000000;stroke-width:0.8;\" x=\"50.14375\" xlink:href=\"#m246d981042\" y=\"180.734366\"/>\n      </g>\n     </g>\n     <g id=\"text_15\">\n      <!-- 2.50 -->\n      <g transform=\"translate(20.878125 184.533585)scale(0.1 -0.1)\">\n       <use xlink:href=\"#DejaVuSans-50\"/>\n       <use x=\"63.623047\" xlink:href=\"#DejaVuSans-46\"/>\n       <use x=\"95.410156\" xlink:href=\"#DejaVuSans-53\"/>\n       <use x=\"159.033203\" xlink:href=\"#DejaVuSans-48\"/>\n      </g>\n     </g>\n    </g>\n    <g id=\"ytick_6\">\n     <g id=\"line2d_15\">\n      <g>\n       <use style=\"stroke:#000000;stroke-width:0.8;\" x=\"50.14375\" xlink:href=\"#m246d981042\" y=\"134.487405\"/>\n      </g>\n     </g>\n     <g id=\"text_16\">\n      <!-- 2.75 -->\n      <g transform=\"translate(20.878125 138.286624)scale(0.1 -0.1)\">\n       <use xlink:href=\"#DejaVuSans-50\"/>\n       <use x=\"63.623047\" xlink:href=\"#DejaVuSans-46\"/>\n       <use x=\"95.410156\" xlink:href=\"#DejaVuSans-55\"/>\n       <use x=\"159.033203\" xlink:href=\"#DejaVuSans-53\"/>\n      </g>\n     </g>\n    </g>\n    <g id=\"ytick_7\">\n     <g id=\"line2d_16\">\n      <g>\n       <use style=\"stroke:#000000;stroke-width:0.8;\" x=\"50.14375\" xlink:href=\"#m246d981042\" y=\"88.240443\"/>\n      </g>\n     </g>\n     <g id=\"text_17\">\n      <!-- 3.00 -->\n      <g transform=\"translate(20.878125 92.039662)scale(0.1 -0.1)\">\n       <use xlink:href=\"#DejaVuSans-51\"/>\n       <use x=\"63.623047\" xlink:href=\"#DejaVuSans-46\"/>\n       <use x=\"95.410156\" xlink:href=\"#DejaVuSans-48\"/>\n       <use x=\"159.033203\" xlink:href=\"#DejaVuSans-48\"/>\n      </g>\n     </g>\n    </g>\n    <g id=\"ytick_8\">\n     <g id=\"line2d_17\">\n      <g>\n       <use style=\"stroke:#000000;stroke-width:0.8;\" x=\"50.14375\" xlink:href=\"#m246d981042\" y=\"41.993482\"/>\n      </g>\n     </g>\n     <g id=\"text_18\">\n      <!-- 3.25 -->\n      <g transform=\"translate(20.878125 45.7927)scale(0.1 -0.1)\">\n       <use xlink:href=\"#DejaVuSans-51\"/>\n       <use x=\"63.623047\" xlink:href=\"#DejaVuSans-46\"/>\n       <use x=\"95.410156\" xlink:href=\"#DejaVuSans-50\"/>\n       <use x=\"159.033203\" xlink:href=\"#DejaVuSans-53\"/>\n      </g>\n     </g>\n    </g>\n    <g id=\"text_19\">\n     <!-- Ash -->\n     <g transform=\"translate(14.798437 227.850625)rotate(-90)scale(0.1 -0.1)\">\n      <defs>\n       <path d=\"M 44.28125 53.078125 \nL 44.28125 44.578125 \nQ 40.484375 46.53125 36.375 47.5 \nQ 32.28125 48.484375 27.875 48.484375 \nQ 21.1875 48.484375 17.84375 46.4375 \nQ 14.5 44.390625 14.5 40.28125 \nQ 14.5 37.15625 16.890625 35.375 \nQ 19.28125 33.59375 26.515625 31.984375 \nL 29.59375 31.296875 \nQ 39.15625 29.25 43.1875 25.515625 \nQ 47.21875 21.78125 47.21875 15.09375 \nQ 47.21875 7.46875 41.1875 3.015625 \nQ 35.15625 -1.421875 24.609375 -1.421875 \nQ 20.21875 -1.421875 15.453125 -0.5625 \nQ 10.6875 0.296875 5.421875 2 \nL 5.421875 11.28125 \nQ 10.40625 8.6875 15.234375 7.390625 \nQ 20.0625 6.109375 24.8125 6.109375 \nQ 31.15625 6.109375 34.5625 8.28125 \nQ 37.984375 10.453125 37.984375 14.40625 \nQ 37.984375 18.0625 35.515625 20.015625 \nQ 33.0625 21.96875 24.703125 23.78125 \nL 21.578125 24.515625 \nQ 13.234375 26.265625 9.515625 29.90625 \nQ 5.8125 33.546875 5.8125 39.890625 \nQ 5.8125 47.609375 11.28125 51.796875 \nQ 16.75 56 26.8125 56 \nQ 31.78125 56 36.171875 55.265625 \nQ 40.578125 54.546875 44.28125 53.078125 \nz\n\" id=\"DejaVuSans-115\"/>\n      </defs>\n      <use xlink:href=\"#DejaVuSans-65\"/>\n      <use x=\"68.408203\" xlink:href=\"#DejaVuSans-115\"/>\n      <use x=\"120.507812\" xlink:href=\"#DejaVuSans-104\"/>\n     </g>\n    </g>\n   </g>\n   <g id=\"patch_3\">\n    <path d=\"M 50.14375 408.916875 \nL 50.14375 28.396875 \n\" style=\"fill:none;stroke:#000000;stroke-linecap:square;stroke-linejoin:miter;stroke-width:0.8;\"/>\n   </g>\n   <g id=\"patch_4\">\n    <path d=\"M 887.14375 408.916875 \nL 887.14375 28.396875 \n\" style=\"fill:none;stroke:#000000;stroke-linecap:square;stroke-linejoin:miter;stroke-width:0.8;\"/>\n   </g>\n   <g id=\"patch_5\">\n    <path d=\"M 50.14375 408.916875 \nL 887.14375 408.916875 \n\" style=\"fill:none;stroke:#000000;stroke-linecap:square;stroke-linejoin:miter;stroke-width:0.8;\"/>\n   </g>\n   <g id=\"patch_6\">\n    <path d=\"M 50.14375 28.396875 \nL 887.14375 28.396875 \n\" style=\"fill:none;stroke:#000000;stroke-linecap:square;stroke-linejoin:miter;stroke-width:0.8;\"/>\n   </g>\n   <g id=\"text_20\">\n    <!-- Scatter Graph of Alcohol v/s Ash -->\n    <g transform=\"translate(307.00625 22.396875)scale(0.2 -0.2)\">\n     <defs>\n      <path d=\"M 53.515625 70.515625 \nL 53.515625 60.890625 \nQ 47.90625 63.578125 42.921875 64.890625 \nQ 37.9375 66.21875 33.296875 66.21875 \nQ 25.25 66.21875 20.875 63.09375 \nQ 16.5 59.96875 16.5 54.203125 \nQ 16.5 49.359375 19.40625 46.890625 \nQ 22.3125 44.4375 30.421875 42.921875 \nL 36.375 41.703125 \nQ 47.40625 39.59375 52.65625 34.296875 \nQ 57.90625 29 57.90625 20.125 \nQ 57.90625 9.515625 50.796875 4.046875 \nQ 43.703125 -1.421875 29.984375 -1.421875 \nQ 24.8125 -1.421875 18.96875 -0.25 \nQ 13.140625 0.921875 6.890625 3.21875 \nL 6.890625 13.375 \nQ 12.890625 10.015625 18.65625 8.296875 \nQ 24.421875 6.59375 29.984375 6.59375 \nQ 38.421875 6.59375 43.015625 9.90625 \nQ 47.609375 13.234375 47.609375 19.390625 \nQ 47.609375 24.75 44.3125 27.78125 \nQ 41.015625 30.8125 33.5 32.328125 \nL 27.484375 33.5 \nQ 16.453125 35.6875 11.515625 40.375 \nQ 6.59375 45.0625 6.59375 53.421875 \nQ 6.59375 63.09375 13.40625 68.65625 \nQ 20.21875 74.21875 32.171875 74.21875 \nQ 37.3125 74.21875 42.625 73.28125 \nQ 47.953125 72.359375 53.515625 70.515625 \nz\n\" id=\"DejaVuSans-83\"/>\n      <path d=\"M 34.28125 27.484375 \nQ 23.390625 27.484375 19.1875 25 \nQ 14.984375 22.515625 14.984375 16.5 \nQ 14.984375 11.71875 18.140625 8.90625 \nQ 21.296875 6.109375 26.703125 6.109375 \nQ 34.1875 6.109375 38.703125 11.40625 \nQ 43.21875 16.703125 43.21875 25.484375 \nL 43.21875 27.484375 \nz\nM 52.203125 31.203125 \nL 52.203125 0 \nL 43.21875 0 \nL 43.21875 8.296875 \nQ 40.140625 3.328125 35.546875 0.953125 \nQ 30.953125 -1.421875 24.3125 -1.421875 \nQ 15.921875 -1.421875 10.953125 3.296875 \nQ 6 8.015625 6 15.921875 \nQ 6 25.140625 12.171875 29.828125 \nQ 18.359375 34.515625 30.609375 34.515625 \nL 43.21875 34.515625 \nL 43.21875 35.40625 \nQ 43.21875 41.609375 39.140625 45 \nQ 35.0625 48.390625 27.6875 48.390625 \nQ 23 48.390625 18.546875 47.265625 \nQ 14.109375 46.140625 10.015625 43.890625 \nL 10.015625 52.203125 \nQ 14.9375 54.109375 19.578125 55.046875 \nQ 24.21875 56 28.609375 56 \nQ 40.484375 56 46.34375 49.84375 \nQ 52.203125 43.703125 52.203125 31.203125 \nz\n\" id=\"DejaVuSans-97\"/>\n      <path d=\"M 18.3125 70.21875 \nL 18.3125 54.6875 \nL 36.8125 54.6875 \nL 36.8125 47.703125 \nL 18.3125 47.703125 \nL 18.3125 18.015625 \nQ 18.3125 11.328125 20.140625 9.421875 \nQ 21.96875 7.515625 27.59375 7.515625 \nL 36.8125 7.515625 \nL 36.8125 0 \nL 27.59375 0 \nQ 17.1875 0 13.234375 3.875 \nQ 9.28125 7.765625 9.28125 18.015625 \nL 9.28125 47.703125 \nL 2.6875 47.703125 \nL 2.6875 54.6875 \nL 9.28125 54.6875 \nL 9.28125 70.21875 \nz\n\" id=\"DejaVuSans-116\"/>\n      <path d=\"M 56.203125 29.59375 \nL 56.203125 25.203125 \nL 14.890625 25.203125 \nQ 15.484375 15.921875 20.484375 11.0625 \nQ 25.484375 6.203125 34.421875 6.203125 \nQ 39.59375 6.203125 44.453125 7.46875 \nQ 49.3125 8.734375 54.109375 11.28125 \nL 54.109375 2.78125 \nQ 49.265625 0.734375 44.1875 -0.34375 \nQ 39.109375 -1.421875 33.890625 -1.421875 \nQ 20.796875 -1.421875 13.15625 6.1875 \nQ 5.515625 13.8125 5.515625 26.8125 \nQ 5.515625 40.234375 12.765625 48.109375 \nQ 20.015625 56 32.328125 56 \nQ 43.359375 56 49.78125 48.890625 \nQ 56.203125 41.796875 56.203125 29.59375 \nz\nM 47.21875 32.234375 \nQ 47.125 39.59375 43.09375 43.984375 \nQ 39.0625 48.390625 32.421875 48.390625 \nQ 24.90625 48.390625 20.390625 44.140625 \nQ 15.875 39.890625 15.1875 32.171875 \nz\n\" id=\"DejaVuSans-101\"/>\n      <path d=\"M 41.109375 46.296875 \nQ 39.59375 47.171875 37.8125 47.578125 \nQ 36.03125 48 33.890625 48 \nQ 26.265625 48 22.1875 43.046875 \nQ 18.109375 38.09375 18.109375 28.8125 \nL 18.109375 0 \nL 9.078125 0 \nL 9.078125 54.6875 \nL 18.109375 54.6875 \nL 18.109375 46.1875 \nQ 20.953125 51.171875 25.484375 53.578125 \nQ 30.03125 56 36.53125 56 \nQ 37.453125 56 38.578125 55.875 \nQ 39.703125 55.765625 41.0625 55.515625 \nz\n\" id=\"DejaVuSans-114\"/>\n      <path id=\"DejaVuSans-32\"/>\n      <path d=\"M 59.515625 10.40625 \nL 59.515625 29.984375 \nL 43.40625 29.984375 \nL 43.40625 38.09375 \nL 69.28125 38.09375 \nL 69.28125 6.78125 \nQ 63.578125 2.734375 56.6875 0.65625 \nQ 49.8125 -1.421875 42 -1.421875 \nQ 24.90625 -1.421875 15.25 8.5625 \nQ 5.609375 18.5625 5.609375 36.375 \nQ 5.609375 54.25 15.25 64.234375 \nQ 24.90625 74.21875 42 74.21875 \nQ 49.125 74.21875 55.546875 72.453125 \nQ 61.96875 70.703125 67.390625 67.28125 \nL 67.390625 56.78125 \nQ 61.921875 61.421875 55.765625 63.765625 \nQ 49.609375 66.109375 42.828125 66.109375 \nQ 29.4375 66.109375 22.71875 58.640625 \nQ 16.015625 51.171875 16.015625 36.375 \nQ 16.015625 21.625 22.71875 14.15625 \nQ 29.4375 6.6875 42.828125 6.6875 \nQ 48.046875 6.6875 52.140625 7.59375 \nQ 56.25 8.5 59.515625 10.40625 \nz\n\" id=\"DejaVuSans-71\"/>\n      <path d=\"M 18.109375 8.203125 \nL 18.109375 -20.796875 \nL 9.078125 -20.796875 \nL 9.078125 54.6875 \nL 18.109375 54.6875 \nL 18.109375 46.390625 \nQ 20.953125 51.265625 25.265625 53.625 \nQ 29.59375 56 35.59375 56 \nQ 45.5625 56 51.78125 48.09375 \nQ 58.015625 40.1875 58.015625 27.296875 \nQ 58.015625 14.40625 51.78125 6.484375 \nQ 45.5625 -1.421875 35.59375 -1.421875 \nQ 29.59375 -1.421875 25.265625 0.953125 \nQ 20.953125 3.328125 18.109375 8.203125 \nz\nM 48.6875 27.296875 \nQ 48.6875 37.203125 44.609375 42.84375 \nQ 40.53125 48.484375 33.40625 48.484375 \nQ 26.265625 48.484375 22.1875 42.84375 \nQ 18.109375 37.203125 18.109375 27.296875 \nQ 18.109375 17.390625 22.1875 11.75 \nQ 26.265625 6.109375 33.40625 6.109375 \nQ 40.53125 6.109375 44.609375 11.75 \nQ 48.6875 17.390625 48.6875 27.296875 \nz\n\" id=\"DejaVuSans-112\"/>\n      <path d=\"M 37.109375 75.984375 \nL 37.109375 68.5 \nL 28.515625 68.5 \nQ 23.6875 68.5 21.796875 66.546875 \nQ 19.921875 64.59375 19.921875 59.515625 \nL 19.921875 54.6875 \nL 34.71875 54.6875 \nL 34.71875 47.703125 \nL 19.921875 47.703125 \nL 19.921875 0 \nL 10.890625 0 \nL 10.890625 47.703125 \nL 2.296875 47.703125 \nL 2.296875 54.6875 \nL 10.890625 54.6875 \nL 10.890625 58.5 \nQ 10.890625 67.625 15.140625 71.796875 \nQ 19.390625 75.984375 28.609375 75.984375 \nz\n\" id=\"DejaVuSans-102\"/>\n      <path d=\"M 2.984375 54.6875 \nL 12.5 54.6875 \nL 29.59375 8.796875 \nL 46.6875 54.6875 \nL 56.203125 54.6875 \nL 35.6875 0 \nL 23.484375 0 \nz\n\" id=\"DejaVuSans-118\"/>\n      <path d=\"M 25.390625 72.90625 \nL 33.6875 72.90625 \nL 8.296875 -9.28125 \nL 0 -9.28125 \nz\n\" id=\"DejaVuSans-47\"/>\n     </defs>\n     <use xlink:href=\"#DejaVuSans-83\"/>\n     <use x=\"63.476562\" xlink:href=\"#DejaVuSans-99\"/>\n     <use x=\"118.457031\" xlink:href=\"#DejaVuSans-97\"/>\n     <use x=\"179.736328\" xlink:href=\"#DejaVuSans-116\"/>\n     <use x=\"218.945312\" xlink:href=\"#DejaVuSans-116\"/>\n     <use x=\"258.154297\" xlink:href=\"#DejaVuSans-101\"/>\n     <use x=\"319.677734\" xlink:href=\"#DejaVuSans-114\"/>\n     <use x=\"360.791016\" xlink:href=\"#DejaVuSans-32\"/>\n     <use x=\"392.578125\" xlink:href=\"#DejaVuSans-71\"/>\n     <use x=\"470.068359\" xlink:href=\"#DejaVuSans-114\"/>\n     <use x=\"511.181641\" xlink:href=\"#DejaVuSans-97\"/>\n     <use x=\"572.460938\" xlink:href=\"#DejaVuSans-112\"/>\n     <use x=\"635.9375\" xlink:href=\"#DejaVuSans-104\"/>\n     <use x=\"699.316406\" xlink:href=\"#DejaVuSans-32\"/>\n     <use x=\"731.103516\" xlink:href=\"#DejaVuSans-111\"/>\n     <use x=\"792.285156\" xlink:href=\"#DejaVuSans-102\"/>\n     <use x=\"827.490234\" xlink:href=\"#DejaVuSans-32\"/>\n     <use x=\"859.277344\" xlink:href=\"#DejaVuSans-65\"/>\n     <use x=\"927.685547\" xlink:href=\"#DejaVuSans-108\"/>\n     <use x=\"955.46875\" xlink:href=\"#DejaVuSans-99\"/>\n     <use x=\"1010.449219\" xlink:href=\"#DejaVuSans-111\"/>\n     <use x=\"1071.630859\" xlink:href=\"#DejaVuSans-104\"/>\n     <use x=\"1135.009766\" xlink:href=\"#DejaVuSans-111\"/>\n     <use x=\"1196.191406\" xlink:href=\"#DejaVuSans-108\"/>\n     <use x=\"1223.974609\" xlink:href=\"#DejaVuSans-32\"/>\n     <use x=\"1255.761719\" xlink:href=\"#DejaVuSans-118\"/>\n     <use x=\"1314.941406\" xlink:href=\"#DejaVuSans-47\"/>\n     <use x=\"1348.632812\" xlink:href=\"#DejaVuSans-115\"/>\n     <use x=\"1400.732422\" xlink:href=\"#DejaVuSans-32\"/>\n     <use x=\"1432.519531\" xlink:href=\"#DejaVuSans-65\"/>\n     <use x=\"1500.927734\" xlink:href=\"#DejaVuSans-115\"/>\n     <use x=\"1553.027344\" xlink:href=\"#DejaVuSans-104\"/>\n    </g>\n   </g>\n  </g>\n </g>\n <defs>\n  <clipPath id=\"p89893d9d8f\">\n   <rect height=\"380.52\" width=\"837\" x=\"50.14375\" y=\"28.396875\"/>\n  </clipPath>\n </defs>\n</svg>\n",
      "image/png": "[encoded data removed]"
     },
     "metadata": {
      "needs_background": "light"
     }
    }
   ],
   "source": [
    "import matplotlib.pyplot as plt\n",
    "\n",
    "# 2D Clustering based on Alcohol and Ash\n",
    "plt.figure(1 , figsize = (15 , 7))\n",
    "plt.title('Scatter Graph of Alcohol v/s Ash', fontsize = 20)\n",
    "plt.xlabel('Alcohol')\n",
    "plt.ylabel('Ash')\n",
    "plt.scatter( x = 'Alcohol', y = 'Ash', data = df, s = 50)\n",
    "plt.show()"
   ]
  },
  {
   "cell_type": "code",
   "execution_count": 46,
   "metadata": {},
   "outputs": [],
   "source": [
    "from sklearn.cluster import KMeans\n",
    "\n",
    "# Deciding K value\n",
    "X1 = df[['Alcohol' , 'Ash']].iloc[: , :].values"
   ]
  },
  {
   "cell_type": "code",
   "execution_count": 47,
   "metadata": {},
   "outputs": [
    {
     "output_type": "stream",
     "name": "stdout",
     "text": [
      "[[14.23  2.43]\n [13.2   2.14]\n [13.16  2.67]\n [14.37  2.5 ]\n [13.24  2.87]\n [14.2   2.45]\n [14.39  2.45]\n [14.06  2.61]\n [14.83  2.17]\n [13.86  2.27]\n [14.1   2.3 ]\n [14.12  2.32]\n [13.75  2.41]\n [14.75  2.39]\n [14.38  2.38]\n [13.63  2.7 ]\n [14.3   2.72]\n [13.83  2.62]\n [14.19  2.48]\n [13.64  2.56]\n [14.06  2.28]\n [12.93  2.65]\n [13.71  2.36]\n [12.85  2.52]\n [13.5   2.61]\n [13.05  3.22]\n [13.39  2.62]\n [13.3   2.14]\n [13.87  2.8 ]\n [14.02  2.21]\n [13.73  2.7 ]\n [13.58  2.36]\n [13.68  2.36]\n [13.76  2.7 ]\n [13.51  2.65]\n [13.48  2.41]\n [13.28  2.84]\n [13.05  2.55]\n [13.07  2.1 ]\n [14.22  2.51]\n [13.56  2.31]\n [13.41  2.12]\n [13.88  2.59]\n [13.24  2.29]\n [13.05  2.1 ]\n [14.21  2.44]\n [14.38  2.28]\n [13.9   2.12]\n [14.1   2.4 ]\n [13.94  2.27]\n [13.05  2.04]\n [13.83  2.6 ]\n [13.82  2.42]\n [13.77  2.68]\n [13.74  2.25]\n [13.56  2.46]\n [14.22  2.3 ]\n [13.29  2.68]\n [13.72  2.5 ]\n [12.37  1.36]\n [12.33  2.28]\n [12.64  2.02]\n [13.67  1.92]\n [12.37  2.16]\n [12.17  2.53]\n [12.37  2.56]\n [13.11  1.7 ]\n [12.37  1.92]\n [13.34  2.36]\n [12.21  1.75]\n [12.29  2.21]\n [13.86  2.67]\n [13.49  2.24]\n [12.99  2.6 ]\n [11.96  2.3 ]\n [11.66  1.92]\n [13.03  1.71]\n [11.84  2.23]\n [12.33  1.95]\n [12.7   2.4 ]\n [12.    2.  ]\n [12.72  2.2 ]\n [12.08  2.51]\n [13.05  2.32]\n [11.84  2.58]\n [12.67  2.24]\n [12.16  2.31]\n [11.65  2.62]\n [11.64  2.46]\n [12.08  2.3 ]\n [12.08  2.32]\n [12.    2.42]\n [12.69  2.26]\n [12.29  2.22]\n [11.62  2.28]\n [12.47  2.2 ]\n [11.81  2.74]\n [12.29  1.98]\n [12.37  2.1 ]\n [12.29  2.21]\n [12.08  1.7 ]\n [12.6   1.9 ]\n [12.34  2.46]\n [11.82  1.88]\n [12.51  1.98]\n [12.42  2.27]\n [12.25  2.12]\n [12.72  2.28]\n [12.22  1.94]\n [11.61  2.7 ]\n [11.46  1.82]\n [12.52  2.17]\n [11.76  2.92]\n [11.41  2.5 ]\n [12.08  2.5 ]\n [11.03  2.2 ]\n [11.82  1.99]\n [12.42  2.19]\n [12.77  1.98]\n [12.    2.  ]\n [11.45  2.42]\n [11.56  3.23]\n [12.42  2.73]\n [13.05  2.13]\n [11.87  2.39]\n [12.07  2.17]\n [12.43  2.29]\n [11.79  2.78]\n [12.37  2.3 ]\n [12.04  2.38]\n [12.86  2.32]\n [12.88  2.4 ]\n [12.81  2.4 ]\n [12.7   2.36]\n [12.51  2.25]\n [12.6   2.2 ]\n [12.25  2.54]\n [12.53  2.64]\n [13.49  2.19]\n [12.84  2.61]\n [12.93  2.7 ]\n [13.36  2.35]\n [13.52  2.72]\n [13.62  2.35]\n [12.25  2.2 ]\n [13.16  2.15]\n [13.88  2.23]\n [12.87  2.48]\n [13.32  2.38]\n [13.08  2.36]\n [13.5   2.62]\n [12.79  2.48]\n [13.11  2.75]\n [13.23  2.28]\n [12.58  2.1 ]\n [13.17  2.32]\n [13.84  2.38]\n [12.45  2.64]\n [14.34  2.7 ]\n [13.48  2.64]\n [12.36  2.38]\n [13.69  2.54]\n [12.85  2.58]\n [12.96  2.35]\n [13.78  2.3 ]\n [13.73  2.26]\n [13.45  2.6 ]\n [12.82  2.3 ]\n [13.58  2.69]\n [13.4   2.86]\n [12.2   2.32]\n [12.77  2.28]\n [14.16  2.48]\n [13.71  2.45]\n [13.4   2.48]\n [13.27  2.26]\n [13.17  2.37]\n [14.13  2.74]]\n"
     ]
    }
   ],
   "source": [
    "print (X1) # Alcohol and Ash"
   ]
  },
  {
   "cell_type": "code",
   "execution_count": 48,
   "metadata": {},
   "outputs": [],
   "source": [
    "# we need to decide class of clusters based on similarity features\n",
    "# inertia variable treats as 'means sum of the squared distances'\n",
    "inertia = []\n",
    "\n",
    "# we need to use a loop upto 10 times and by this we can get the optimum value of kth.\n",
    "for n in range(1 , 10):\n",
    "    # we have kmeans method which is a part of kmeans class.\n",
    "    algorithm = (KMeans(n_clusters = n ,init='k-means++', n_init = 10 , max_iter=300, \n",
    "                        tol=0.0001,  random_state= 111  , algorithm='elkan') )\n",
    "    algorithm.fit(X1) # X1 contains the data\n",
    "    \n",
    "    # inertia keeps the list of means sum of the squared distances\n",
    "    inertia.append(algorithm.inertia_)"
   ]
  },
  {
   "cell_type": "code",
   "execution_count": 49,
   "metadata": {},
   "outputs": [
    {
     "output_type": "stream",
     "name": "stdout",
     "text": [
      "[129.97587247191018, 44.705766354903936, 28.781834812409805, 22.020903503992905, 17.553613135781056, 15.152226338589163, 13.175882008009156, 11.502338060464428, 9.991807733023352]\n"
     ]
    }
   ],
   "source": [
    "# the inertia variable holds the sum of squared distances as per total loop size i.e; 50\n",
    "print(inertia)"
   ]
  },
  {
   "cell_type": "code",
   "execution_count": 51,
   "metadata": {},
   "outputs": [
    {
     "output_type": "display_data",
     "data": {
      "text/plain": "<Figure size 1080x432 with 1 Axes>",
      "image/svg+xml": "<?xml version=\"1.0\" encoding=\"utf-8\" standalone=\"no\"?>\n<!DOCTYPE svg PUBLIC \"-//W3C//DTD SVG 1.1//EN\"\n  \"http://www.w3.org/Graphics/SVG/1.1/DTD/svg11.dtd\">\n<!-- Created with matplotlib (https://matplotlib.org/) -->\n<svg height=\"370.91625pt\" version=\"1.1\" viewBox=\"0 0 891.165625 370.91625\" width=\"891.165625pt\" xmlns=\"http://www.w3.org/2000/svg\" xmlns:xlink=\"http://www.w3.org/1999/xlink\">\n <metadata>\n  <rdf:RDF xmlns:cc=\"http://creativecommons.org/ns#\" xmlns:dc=\"http://purl.org/dc/elements/1.1/\" xmlns:rdf=\"http://www.w3.org/1999/02/22-rdf-syntax-ns#\">\n   <cc:Work>\n    <dc:type rdf:resource=\"http://purl.org/dc/dcmitype/StillImage\"/>\n    <dc:date>2021-05-09T08:54:07.716663</dc:date>\n    <dc:format>image/svg+xml</dc:format>\n    <dc:creator>\n     <cc:Agent>\n      <dc:title>Matplotlib v3.3.4, https://matplotlib.org/</dc:title>\n     </cc:Agent>\n    </dc:creator>\n   </cc:Work>\n  </rdf:RDF>\n </metadata>\n <defs>\n  <style type=\"text/css\">*{stroke-linecap:butt;stroke-linejoin:round;}</style>\n </defs>\n <g id=\"figure_1\">\n  <g id=\"patch_1\">\n   <path d=\"M 0 370.91625 \nL 891.165625 370.91625 \nL 891.165625 0 \nL 0 0 \nz\n\" style=\"fill:none;\"/>\n  </g>\n  <g id=\"axes_1\">\n   <g id=\"patch_2\">\n    <path d=\"M 46.965625 333.36 \nL 883.965625 333.36 \nL 883.965625 7.2 \nL 46.965625 7.2 \nz\n\" style=\"fill:#ffffff;\"/>\n   </g>\n   <g id=\"matplotlib.axis_1\">\n    <g id=\"xtick_1\">\n     <g id=\"line2d_1\">\n      <defs>\n       <path d=\"M 0 0 \nL 0 3.5 \n\" id=\"m2565df154b\" style=\"stroke:#000000;stroke-width:0.8;\"/>\n      </defs>\n      <g>\n       <use style=\"stroke:#000000;stroke-width:0.8;\" x=\"85.01108\" xlink:href=\"#m2565df154b\" y=\"333.36\"/>\n      </g>\n     </g>\n     <g id=\"text_1\">\n      <!-- 1 -->\n      <g transform=\"translate(81.82983 347.958438)scale(0.1 -0.1)\">\n       <defs>\n        <path d=\"M 12.40625 8.296875 \nL 28.515625 8.296875 \nL 28.515625 63.921875 \nL 10.984375 60.40625 \nL 10.984375 69.390625 \nL 28.421875 72.90625 \nL 38.28125 72.90625 \nL 38.28125 8.296875 \nL 54.390625 8.296875 \nL 54.390625 0 \nL 12.40625 0 \nz\n\" id=\"DejaVuSans-49\"/>\n       </defs>\n       <use xlink:href=\"#DejaVuSans-49\"/>\n      </g>\n     </g>\n    </g>\n    <g id=\"xtick_2\">\n     <g id=\"line2d_2\">\n      <g>\n       <use style=\"stroke:#000000;stroke-width:0.8;\" x=\"180.124716\" xlink:href=\"#m2565df154b\" y=\"333.36\"/>\n      </g>\n     </g>\n     <g id=\"text_2\">\n      <!-- 2 -->\n      <g transform=\"translate(176.943466 347.958438)scale(0.1 -0.1)\">\n       <defs>\n        <path d=\"M 19.1875 8.296875 \nL 53.609375 8.296875 \nL 53.609375 0 \nL 7.328125 0 \nL 7.328125 8.296875 \nQ 12.9375 14.109375 22.625 23.890625 \nQ 32.328125 33.6875 34.8125 36.53125 \nQ 39.546875 41.84375 41.421875 45.53125 \nQ 43.3125 49.21875 43.3125 52.78125 \nQ 43.3125 58.59375 39.234375 62.25 \nQ 35.15625 65.921875 28.609375 65.921875 \nQ 23.96875 65.921875 18.8125 64.3125 \nQ 13.671875 62.703125 7.8125 59.421875 \nL 7.8125 69.390625 \nQ 13.765625 71.78125 18.9375 73 \nQ 24.125 74.21875 28.421875 74.21875 \nQ 39.75 74.21875 46.484375 68.546875 \nQ 53.21875 62.890625 53.21875 53.421875 \nQ 53.21875 48.921875 51.53125 44.890625 \nQ 49.859375 40.875 45.40625 35.40625 \nQ 44.1875 33.984375 37.640625 27.21875 \nQ 31.109375 20.453125 19.1875 8.296875 \nz\n\" id=\"DejaVuSans-50\"/>\n       </defs>\n       <use xlink:href=\"#DejaVuSans-50\"/>\n      </g>\n     </g>\n    </g>\n    <g id=\"xtick_3\">\n     <g id=\"line2d_3\">\n      <g>\n       <use style=\"stroke:#000000;stroke-width:0.8;\" x=\"275.238352\" xlink:href=\"#m2565df154b\" y=\"333.36\"/>\n      </g>\n     </g>\n     <g id=\"text_3\">\n      <!-- 3 -->\n      <g transform=\"translate(272.057102 347.958438)scale(0.1 -0.1)\">\n       <defs>\n        <path d=\"M 40.578125 39.3125 \nQ 47.65625 37.796875 51.625 33 \nQ 55.609375 28.21875 55.609375 21.1875 \nQ 55.609375 10.40625 48.1875 4.484375 \nQ 40.765625 -1.421875 27.09375 -1.421875 \nQ 22.515625 -1.421875 17.65625 -0.515625 \nQ 12.796875 0.390625 7.625 2.203125 \nL 7.625 11.71875 \nQ 11.71875 9.328125 16.59375 8.109375 \nQ 21.484375 6.890625 26.8125 6.890625 \nQ 36.078125 6.890625 40.9375 10.546875 \nQ 45.796875 14.203125 45.796875 21.1875 \nQ 45.796875 27.640625 41.28125 31.265625 \nQ 36.765625 34.90625 28.71875 34.90625 \nL 20.21875 34.90625 \nL 20.21875 43.015625 \nL 29.109375 43.015625 \nQ 36.375 43.015625 40.234375 45.921875 \nQ 44.09375 48.828125 44.09375 54.296875 \nQ 44.09375 59.90625 40.109375 62.90625 \nQ 36.140625 65.921875 28.71875 65.921875 \nQ 24.65625 65.921875 20.015625 65.03125 \nQ 15.375 64.15625 9.8125 62.3125 \nL 9.8125 71.09375 \nQ 15.4375 72.65625 20.34375 73.4375 \nQ 25.25 74.21875 29.59375 74.21875 \nQ 40.828125 74.21875 47.359375 69.109375 \nQ 53.90625 64.015625 53.90625 55.328125 \nQ 53.90625 49.265625 50.4375 45.09375 \nQ 46.96875 40.921875 40.578125 39.3125 \nz\n\" id=\"DejaVuSans-51\"/>\n       </defs>\n       <use xlink:href=\"#DejaVuSans-51\"/>\n      </g>\n     </g>\n    </g>\n    <g id=\"xtick_4\">\n     <g id=\"line2d_4\">\n      <g>\n       <use style=\"stroke:#000000;stroke-width:0.8;\" x=\"370.351989\" xlink:href=\"#m2565df154b\" y=\"333.36\"/>\n      </g>\n     </g>\n     <g id=\"text_4\">\n      <!-- 4 -->\n      <g transform=\"translate(367.170739 347.958438)scale(0.1 -0.1)\">\n       <defs>\n        <path d=\"M 37.796875 64.3125 \nL 12.890625 25.390625 \nL 37.796875 25.390625 \nz\nM 35.203125 72.90625 \nL 47.609375 72.90625 \nL 47.609375 25.390625 \nL 58.015625 25.390625 \nL 58.015625 17.1875 \nL 47.609375 17.1875 \nL 47.609375 0 \nL 37.796875 0 \nL 37.796875 17.1875 \nL 4.890625 17.1875 \nL 4.890625 26.703125 \nz\n\" id=\"DejaVuSans-52\"/>\n       </defs>\n       <use xlink:href=\"#DejaVuSans-52\"/>\n      </g>\n     </g>\n    </g>\n    <g id=\"xtick_5\">\n     <g id=\"line2d_5\">\n      <g>\n       <use style=\"stroke:#000000;stroke-width:0.8;\" x=\"465.465625\" xlink:href=\"#m2565df154b\" y=\"333.36\"/>\n      </g>\n     </g>\n     <g id=\"text_5\">\n      <!-- 5 -->\n      <g transform=\"translate(462.284375 347.958438)scale(0.1 -0.1)\">\n       <defs>\n        <path d=\"M 10.796875 72.90625 \nL 49.515625 72.90625 \nL 49.515625 64.59375 \nL 19.828125 64.59375 \nL 19.828125 46.734375 \nQ 21.96875 47.46875 24.109375 47.828125 \nQ 26.265625 48.1875 28.421875 48.1875 \nQ 40.625 48.1875 47.75 41.5 \nQ 54.890625 34.8125 54.890625 23.390625 \nQ 54.890625 11.625 47.5625 5.09375 \nQ 40.234375 -1.421875 26.90625 -1.421875 \nQ 22.3125 -1.421875 17.546875 -0.640625 \nQ 12.796875 0.140625 7.71875 1.703125 \nL 7.71875 11.625 \nQ 12.109375 9.234375 16.796875 8.0625 \nQ 21.484375 6.890625 26.703125 6.890625 \nQ 35.15625 6.890625 40.078125 11.328125 \nQ 45.015625 15.765625 45.015625 23.390625 \nQ 45.015625 31 40.078125 35.4375 \nQ 35.15625 39.890625 26.703125 39.890625 \nQ 22.75 39.890625 18.8125 39.015625 \nQ 14.890625 38.140625 10.796875 36.28125 \nz\n\" id=\"DejaVuSans-53\"/>\n       </defs>\n       <use xlink:href=\"#DejaVuSans-53\"/>\n      </g>\n     </g>\n    </g>\n    <g id=\"xtick_6\">\n     <g id=\"line2d_6\">\n      <g>\n       <use style=\"stroke:#000000;stroke-width:0.8;\" x=\"560.579261\" xlink:href=\"#m2565df154b\" y=\"333.36\"/>\n      </g>\n     </g>\n     <g id=\"text_6\">\n      <!-- 6 -->\n      <g transform=\"translate(557.398011 347.958438)scale(0.1 -0.1)\">\n       <defs>\n        <path d=\"M 33.015625 40.375 \nQ 26.375 40.375 22.484375 35.828125 \nQ 18.609375 31.296875 18.609375 23.390625 \nQ 18.609375 15.53125 22.484375 10.953125 \nQ 26.375 6.390625 33.015625 6.390625 \nQ 39.65625 6.390625 43.53125 10.953125 \nQ 47.40625 15.53125 47.40625 23.390625 \nQ 47.40625 31.296875 43.53125 35.828125 \nQ 39.65625 40.375 33.015625 40.375 \nz\nM 52.59375 71.296875 \nL 52.59375 62.3125 \nQ 48.875 64.0625 45.09375 64.984375 \nQ 41.3125 65.921875 37.59375 65.921875 \nQ 27.828125 65.921875 22.671875 59.328125 \nQ 17.53125 52.734375 16.796875 39.40625 \nQ 19.671875 43.65625 24.015625 45.921875 \nQ 28.375 48.1875 33.59375 48.1875 \nQ 44.578125 48.1875 50.953125 41.515625 \nQ 57.328125 34.859375 57.328125 23.390625 \nQ 57.328125 12.15625 50.6875 5.359375 \nQ 44.046875 -1.421875 33.015625 -1.421875 \nQ 20.359375 -1.421875 13.671875 8.265625 \nQ 6.984375 17.96875 6.984375 36.375 \nQ 6.984375 53.65625 15.1875 63.9375 \nQ 23.390625 74.21875 37.203125 74.21875 \nQ 40.921875 74.21875 44.703125 73.484375 \nQ 48.484375 72.75 52.59375 71.296875 \nz\n\" id=\"DejaVuSans-54\"/>\n       </defs>\n       <use xlink:href=\"#DejaVuSans-54\"/>\n      </g>\n     </g>\n    </g>\n    <g id=\"xtick_7\">\n     <g id=\"line2d_7\">\n      <g>\n       <use style=\"stroke:#000000;stroke-width:0.8;\" x=\"655.692898\" xlink:href=\"#m2565df154b\" y=\"333.36\"/>\n      </g>\n     </g>\n     <g id=\"text_7\">\n      <!-- 7 -->\n      <g transform=\"translate(652.511648 347.958438)scale(0.1 -0.1)\">\n       <defs>\n        <path d=\"M 8.203125 72.90625 \nL 55.078125 72.90625 \nL 55.078125 68.703125 \nL 28.609375 0 \nL 18.3125 0 \nL 43.21875 64.59375 \nL 8.203125 64.59375 \nz\n\" id=\"DejaVuSans-55\"/>\n       </defs>\n       <use xlink:href=\"#DejaVuSans-55\"/>\n      </g>\n     </g>\n    </g>\n    <g id=\"xtick_8\">\n     <g id=\"line2d_8\">\n      <g>\n       <use style=\"stroke:#000000;stroke-width:0.8;\" x=\"750.806534\" xlink:href=\"#m2565df154b\" y=\"333.36\"/>\n      </g>\n     </g>\n     <g id=\"text_8\">\n      <!-- 8 -->\n      <g transform=\"translate(747.625284 347.958438)scale(0.1 -0.1)\">\n       <defs>\n        <path d=\"M 31.78125 34.625 \nQ 24.75 34.625 20.71875 30.859375 \nQ 16.703125 27.09375 16.703125 20.515625 \nQ 16.703125 13.921875 20.71875 10.15625 \nQ 24.75 6.390625 31.78125 6.390625 \nQ 38.8125 6.390625 42.859375 10.171875 \nQ 46.921875 13.96875 46.921875 20.515625 \nQ 46.921875 27.09375 42.890625 30.859375 \nQ 38.875 34.625 31.78125 34.625 \nz\nM 21.921875 38.8125 \nQ 15.578125 40.375 12.03125 44.71875 \nQ 8.5 49.078125 8.5 55.328125 \nQ 8.5 64.0625 14.71875 69.140625 \nQ 20.953125 74.21875 31.78125 74.21875 \nQ 42.671875 74.21875 48.875 69.140625 \nQ 55.078125 64.0625 55.078125 55.328125 \nQ 55.078125 49.078125 51.53125 44.71875 \nQ 48 40.375 41.703125 38.8125 \nQ 48.828125 37.15625 52.796875 32.3125 \nQ 56.78125 27.484375 56.78125 20.515625 \nQ 56.78125 9.90625 50.3125 4.234375 \nQ 43.84375 -1.421875 31.78125 -1.421875 \nQ 19.734375 -1.421875 13.25 4.234375 \nQ 6.78125 9.90625 6.78125 20.515625 \nQ 6.78125 27.484375 10.78125 32.3125 \nQ 14.796875 37.15625 21.921875 38.8125 \nz\nM 18.3125 54.390625 \nQ 18.3125 48.734375 21.84375 45.5625 \nQ 25.390625 42.390625 31.78125 42.390625 \nQ 38.140625 42.390625 41.71875 45.5625 \nQ 45.3125 48.734375 45.3125 54.390625 \nQ 45.3125 60.0625 41.71875 63.234375 \nQ 38.140625 66.40625 31.78125 66.40625 \nQ 25.390625 66.40625 21.84375 63.234375 \nQ 18.3125 60.0625 18.3125 54.390625 \nz\n\" id=\"DejaVuSans-56\"/>\n       </defs>\n       <use xlink:href=\"#DejaVuSans-56\"/>\n      </g>\n     </g>\n    </g>\n    <g id=\"xtick_9\">\n     <g id=\"line2d_9\">\n      <g>\n       <use style=\"stroke:#000000;stroke-width:0.8;\" x=\"845.92017\" xlink:href=\"#m2565df154b\" y=\"333.36\"/>\n      </g>\n     </g>\n     <g id=\"text_9\">\n      <!-- 9 -->\n      <g transform=\"translate(842.73892 347.958438)scale(0.1 -0.1)\">\n       <defs>\n        <path d=\"M 10.984375 1.515625 \nL 10.984375 10.5 \nQ 14.703125 8.734375 18.5 7.8125 \nQ 22.3125 6.890625 25.984375 6.890625 \nQ 35.75 6.890625 40.890625 13.453125 \nQ 46.046875 20.015625 46.78125 33.40625 \nQ 43.953125 29.203125 39.59375 26.953125 \nQ 35.25 24.703125 29.984375 24.703125 \nQ 19.046875 24.703125 12.671875 31.3125 \nQ 6.296875 37.9375 6.296875 49.421875 \nQ 6.296875 60.640625 12.9375 67.421875 \nQ 19.578125 74.21875 30.609375 74.21875 \nQ 43.265625 74.21875 49.921875 64.515625 \nQ 56.59375 54.828125 56.59375 36.375 \nQ 56.59375 19.140625 48.40625 8.859375 \nQ 40.234375 -1.421875 26.421875 -1.421875 \nQ 22.703125 -1.421875 18.890625 -0.6875 \nQ 15.09375 0.046875 10.984375 1.515625 \nz\nM 30.609375 32.421875 \nQ 37.25 32.421875 41.125 36.953125 \nQ 45.015625 41.5 45.015625 49.421875 \nQ 45.015625 57.28125 41.125 61.84375 \nQ 37.25 66.40625 30.609375 66.40625 \nQ 23.96875 66.40625 20.09375 61.84375 \nQ 16.21875 57.28125 16.21875 49.421875 \nQ 16.21875 41.5 20.09375 36.953125 \nQ 23.96875 32.421875 30.609375 32.421875 \nz\n\" id=\"DejaVuSans-57\"/>\n       </defs>\n       <use xlink:href=\"#DejaVuSans-57\"/>\n      </g>\n     </g>\n    </g>\n    <g id=\"text_10\">\n     <!-- Number of Clusters -->\n     <g transform=\"translate(417.03125 361.636562)scale(0.1 -0.1)\">\n      <defs>\n       <path d=\"M 9.8125 72.90625 \nL 23.09375 72.90625 \nL 55.421875 11.921875 \nL 55.421875 72.90625 \nL 64.984375 72.90625 \nL 64.984375 0 \nL 51.703125 0 \nL 19.390625 60.984375 \nL 19.390625 0 \nL 9.8125 0 \nz\n\" id=\"DejaVuSans-78\"/>\n       <path d=\"M 8.5 21.578125 \nL 8.5 54.6875 \nL 17.484375 54.6875 \nL 17.484375 21.921875 \nQ 17.484375 14.15625 20.5 10.265625 \nQ 23.53125 6.390625 29.59375 6.390625 \nQ 36.859375 6.390625 41.078125 11.03125 \nQ 45.3125 15.671875 45.3125 23.6875 \nL 45.3125 54.6875 \nL 54.296875 54.6875 \nL 54.296875 0 \nL 45.3125 0 \nL 45.3125 8.40625 \nQ 42.046875 3.421875 37.71875 1 \nQ 33.40625 -1.421875 27.6875 -1.421875 \nQ 18.265625 -1.421875 13.375 4.4375 \nQ 8.5 10.296875 8.5 21.578125 \nz\nM 31.109375 56 \nz\n\" id=\"DejaVuSans-117\"/>\n       <path d=\"M 52 44.1875 \nQ 55.375 50.25 60.0625 53.125 \nQ 64.75 56 71.09375 56 \nQ 79.640625 56 84.28125 50.015625 \nQ 88.921875 44.046875 88.921875 33.015625 \nL 88.921875 0 \nL 79.890625 0 \nL 79.890625 32.71875 \nQ 79.890625 40.578125 77.09375 44.375 \nQ 74.3125 48.1875 68.609375 48.1875 \nQ 61.625 48.1875 57.5625 43.546875 \nQ 53.515625 38.921875 53.515625 30.90625 \nL 53.515625 0 \nL 44.484375 0 \nL 44.484375 32.71875 \nQ 44.484375 40.625 41.703125 44.40625 \nQ 38.921875 48.1875 33.109375 48.1875 \nQ 26.21875 48.1875 22.15625 43.53125 \nQ 18.109375 38.875 18.109375 30.90625 \nL 18.109375 0 \nL 9.078125 0 \nL 9.078125 54.6875 \nL 18.109375 54.6875 \nL 18.109375 46.1875 \nQ 21.1875 51.21875 25.484375 53.609375 \nQ 29.78125 56 35.6875 56 \nQ 41.65625 56 45.828125 52.96875 \nQ 50 49.953125 52 44.1875 \nz\n\" id=\"DejaVuSans-109\"/>\n       <path d=\"M 48.6875 27.296875 \nQ 48.6875 37.203125 44.609375 42.84375 \nQ 40.53125 48.484375 33.40625 48.484375 \nQ 26.265625 48.484375 22.1875 42.84375 \nQ 18.109375 37.203125 18.109375 27.296875 \nQ 18.109375 17.390625 22.1875 11.75 \nQ 26.265625 6.109375 33.40625 6.109375 \nQ 40.53125 6.109375 44.609375 11.75 \nQ 48.6875 17.390625 48.6875 27.296875 \nz\nM 18.109375 46.390625 \nQ 20.953125 51.265625 25.265625 53.625 \nQ 29.59375 56 35.59375 56 \nQ 45.5625 56 51.78125 48.09375 \nQ 58.015625 40.1875 58.015625 27.296875 \nQ 58.015625 14.40625 51.78125 6.484375 \nQ 45.5625 -1.421875 35.59375 -1.421875 \nQ 29.59375 -1.421875 25.265625 0.953125 \nQ 20.953125 3.328125 18.109375 8.203125 \nL 18.109375 0 \nL 9.078125 0 \nL 9.078125 75.984375 \nL 18.109375 75.984375 \nz\n\" id=\"DejaVuSans-98\"/>\n       <path d=\"M 56.203125 29.59375 \nL 56.203125 25.203125 \nL 14.890625 25.203125 \nQ 15.484375 15.921875 20.484375 11.0625 \nQ 25.484375 6.203125 34.421875 6.203125 \nQ 39.59375 6.203125 44.453125 7.46875 \nQ 49.3125 8.734375 54.109375 11.28125 \nL 54.109375 2.78125 \nQ 49.265625 0.734375 44.1875 -0.34375 \nQ 39.109375 -1.421875 33.890625 -1.421875 \nQ 20.796875 -1.421875 13.15625 6.1875 \nQ 5.515625 13.8125 5.515625 26.8125 \nQ 5.515625 40.234375 12.765625 48.109375 \nQ 20.015625 56 32.328125 56 \nQ 43.359375 56 49.78125 48.890625 \nQ 56.203125 41.796875 56.203125 29.59375 \nz\nM 47.21875 32.234375 \nQ 47.125 39.59375 43.09375 43.984375 \nQ 39.0625 48.390625 32.421875 48.390625 \nQ 24.90625 48.390625 20.390625 44.140625 \nQ 15.875 39.890625 15.1875 32.171875 \nz\n\" id=\"DejaVuSans-101\"/>\n       <path d=\"M 41.109375 46.296875 \nQ 39.59375 47.171875 37.8125 47.578125 \nQ 36.03125 48 33.890625 48 \nQ 26.265625 48 22.1875 43.046875 \nQ 18.109375 38.09375 18.109375 28.8125 \nL 18.109375 0 \nL 9.078125 0 \nL 9.078125 54.6875 \nL 18.109375 54.6875 \nL 18.109375 46.1875 \nQ 20.953125 51.171875 25.484375 53.578125 \nQ 30.03125 56 36.53125 56 \nQ 37.453125 56 38.578125 55.875 \nQ 39.703125 55.765625 41.0625 55.515625 \nz\n\" id=\"DejaVuSans-114\"/>\n       <path id=\"DejaVuSans-32\"/>\n       <path d=\"M 30.609375 48.390625 \nQ 23.390625 48.390625 19.1875 42.75 \nQ 14.984375 37.109375 14.984375 27.296875 \nQ 14.984375 17.484375 19.15625 11.84375 \nQ 23.34375 6.203125 30.609375 6.203125 \nQ 37.796875 6.203125 41.984375 11.859375 \nQ 46.1875 17.53125 46.1875 27.296875 \nQ 46.1875 37.015625 41.984375 42.703125 \nQ 37.796875 48.390625 30.609375 48.390625 \nz\nM 30.609375 56 \nQ 42.328125 56 49.015625 48.375 \nQ 55.71875 40.765625 55.71875 27.296875 \nQ 55.71875 13.875 49.015625 6.21875 \nQ 42.328125 -1.421875 30.609375 -1.421875 \nQ 18.84375 -1.421875 12.171875 6.21875 \nQ 5.515625 13.875 5.515625 27.296875 \nQ 5.515625 40.765625 12.171875 48.375 \nQ 18.84375 56 30.609375 56 \nz\n\" id=\"DejaVuSans-111\"/>\n       <path d=\"M 37.109375 75.984375 \nL 37.109375 68.5 \nL 28.515625 68.5 \nQ 23.6875 68.5 21.796875 66.546875 \nQ 19.921875 64.59375 19.921875 59.515625 \nL 19.921875 54.6875 \nL 34.71875 54.6875 \nL 34.71875 47.703125 \nL 19.921875 47.703125 \nL 19.921875 0 \nL 10.890625 0 \nL 10.890625 47.703125 \nL 2.296875 47.703125 \nL 2.296875 54.6875 \nL 10.890625 54.6875 \nL 10.890625 58.5 \nQ 10.890625 67.625 15.140625 71.796875 \nQ 19.390625 75.984375 28.609375 75.984375 \nz\n\" id=\"DejaVuSans-102\"/>\n       <path d=\"M 64.40625 67.28125 \nL 64.40625 56.890625 \nQ 59.421875 61.53125 53.78125 63.8125 \nQ 48.140625 66.109375 41.796875 66.109375 \nQ 29.296875 66.109375 22.65625 58.46875 \nQ 16.015625 50.828125 16.015625 36.375 \nQ 16.015625 21.96875 22.65625 14.328125 \nQ 29.296875 6.6875 41.796875 6.6875 \nQ 48.140625 6.6875 53.78125 8.984375 \nQ 59.421875 11.28125 64.40625 15.921875 \nL 64.40625 5.609375 \nQ 59.234375 2.09375 53.4375 0.328125 \nQ 47.65625 -1.421875 41.21875 -1.421875 \nQ 24.65625 -1.421875 15.125 8.703125 \nQ 5.609375 18.84375 5.609375 36.375 \nQ 5.609375 53.953125 15.125 64.078125 \nQ 24.65625 74.21875 41.21875 74.21875 \nQ 47.75 74.21875 53.53125 72.484375 \nQ 59.328125 70.75 64.40625 67.28125 \nz\n\" id=\"DejaVuSans-67\"/>\n       <path d=\"M 9.421875 75.984375 \nL 18.40625 75.984375 \nL 18.40625 0 \nL 9.421875 0 \nz\n\" id=\"DejaVuSans-108\"/>\n       <path d=\"M 44.28125 53.078125 \nL 44.28125 44.578125 \nQ 40.484375 46.53125 36.375 47.5 \nQ 32.28125 48.484375 27.875 48.484375 \nQ 21.1875 48.484375 17.84375 46.4375 \nQ 14.5 44.390625 14.5 40.28125 \nQ 14.5 37.15625 16.890625 35.375 \nQ 19.28125 33.59375 26.515625 31.984375 \nL 29.59375 31.296875 \nQ 39.15625 29.25 43.1875 25.515625 \nQ 47.21875 21.78125 47.21875 15.09375 \nQ 47.21875 7.46875 41.1875 3.015625 \nQ 35.15625 -1.421875 24.609375 -1.421875 \nQ 20.21875 -1.421875 15.453125 -0.5625 \nQ 10.6875 0.296875 5.421875 2 \nL 5.421875 11.28125 \nQ 10.40625 8.6875 15.234375 7.390625 \nQ 20.0625 6.109375 24.8125 6.109375 \nQ 31.15625 6.109375 34.5625 8.28125 \nQ 37.984375 10.453125 37.984375 14.40625 \nQ 37.984375 18.0625 35.515625 20.015625 \nQ 33.0625 21.96875 24.703125 23.78125 \nL 21.578125 24.515625 \nQ 13.234375 26.265625 9.515625 29.90625 \nQ 5.8125 33.546875 5.8125 39.890625 \nQ 5.8125 47.609375 11.28125 51.796875 \nQ 16.75 56 26.8125 56 \nQ 31.78125 56 36.171875 55.265625 \nQ 40.578125 54.546875 44.28125 53.078125 \nz\n\" id=\"DejaVuSans-115\"/>\n       <path d=\"M 18.3125 70.21875 \nL 18.3125 54.6875 \nL 36.8125 54.6875 \nL 36.8125 47.703125 \nL 18.3125 47.703125 \nL 18.3125 18.015625 \nQ 18.3125 11.328125 20.140625 9.421875 \nQ 21.96875 7.515625 27.59375 7.515625 \nL 36.8125 7.515625 \nL 36.8125 0 \nL 27.59375 0 \nQ 17.1875 0 13.234375 3.875 \nQ 9.28125 7.765625 9.28125 18.015625 \nL 9.28125 47.703125 \nL 2.6875 47.703125 \nL 2.6875 54.6875 \nL 9.28125 54.6875 \nL 9.28125 70.21875 \nz\n\" id=\"DejaVuSans-116\"/>\n      </defs>\n      <use xlink:href=\"#DejaVuSans-78\"/>\n      <use x=\"74.804688\" xlink:href=\"#DejaVuSans-117\"/>\n      <use x=\"138.183594\" xlink:href=\"#DejaVuSans-109\"/>\n      <use x=\"235.595703\" xlink:href=\"#DejaVuSans-98\"/>\n      <use x=\"299.072266\" xlink:href=\"#DejaVuSans-101\"/>\n      <use x=\"360.595703\" xlink:href=\"#DejaVuSans-114\"/>\n      <use x=\"401.708984\" xlink:href=\"#DejaVuSans-32\"/>\n      <use x=\"433.496094\" xlink:href=\"#DejaVuSans-111\"/>\n      <use x=\"494.677734\" xlink:href=\"#DejaVuSans-102\"/>\n      <use x=\"529.882812\" xlink:href=\"#DejaVuSans-32\"/>\n      <use x=\"561.669922\" xlink:href=\"#DejaVuSans-67\"/>\n      <use x=\"631.494141\" xlink:href=\"#DejaVuSans-108\"/>\n      <use x=\"659.277344\" xlink:href=\"#DejaVuSans-117\"/>\n      <use x=\"722.65625\" xlink:href=\"#DejaVuSans-115\"/>\n      <use x=\"774.755859\" xlink:href=\"#DejaVuSans-116\"/>\n      <use x=\"813.964844\" xlink:href=\"#DejaVuSans-101\"/>\n      <use x=\"875.488281\" xlink:href=\"#DejaVuSans-114\"/>\n      <use x=\"916.601562\" xlink:href=\"#DejaVuSans-115\"/>\n     </g>\n    </g>\n   </g>\n   <g id=\"matplotlib.axis_2\">\n    <g id=\"ytick_1\">\n     <g id=\"line2d_10\">\n      <defs>\n       <path d=\"M 0 0 \nL -3.5 0 \n\" id=\"m62db41cc61\" style=\"stroke:#000000;stroke-width:0.8;\"/>\n      </defs>\n      <g>\n       <use style=\"stroke:#000000;stroke-width:0.8;\" x=\"46.965625\" xlink:href=\"#m62db41cc61\" y=\"293.801928\"/>\n      </g>\n     </g>\n     <g id=\"text_11\">\n      <!-- 20 -->\n      <g transform=\"translate(27.240625 297.601147)scale(0.1 -0.1)\">\n       <defs>\n        <path d=\"M 31.78125 66.40625 \nQ 24.171875 66.40625 20.328125 58.90625 \nQ 16.5 51.421875 16.5 36.375 \nQ 16.5 21.390625 20.328125 13.890625 \nQ 24.171875 6.390625 31.78125 6.390625 \nQ 39.453125 6.390625 43.28125 13.890625 \nQ 47.125 21.390625 47.125 36.375 \nQ 47.125 51.421875 43.28125 58.90625 \nQ 39.453125 66.40625 31.78125 66.40625 \nz\nM 31.78125 74.21875 \nQ 44.046875 74.21875 50.515625 64.515625 \nQ 56.984375 54.828125 56.984375 36.375 \nQ 56.984375 17.96875 50.515625 8.265625 \nQ 44.046875 -1.421875 31.78125 -1.421875 \nQ 19.53125 -1.421875 13.0625 8.265625 \nQ 6.59375 17.96875 6.59375 36.375 \nQ 6.59375 54.828125 13.0625 64.515625 \nQ 19.53125 74.21875 31.78125 74.21875 \nz\n\" id=\"DejaVuSans-48\"/>\n       </defs>\n       <use xlink:href=\"#DejaVuSans-50\"/>\n       <use x=\"63.623047\" xlink:href=\"#DejaVuSans-48\"/>\n      </g>\n     </g>\n    </g>\n    <g id=\"ytick_2\">\n     <g id=\"line2d_11\">\n      <g>\n       <use style=\"stroke:#000000;stroke-width:0.8;\" x=\"46.965625\" xlink:href=\"#m62db41cc61\" y=\"244.377183\"/>\n      </g>\n     </g>\n     <g id=\"text_12\">\n      <!-- 40 -->\n      <g transform=\"translate(27.240625 248.176401)scale(0.1 -0.1)\">\n       <use xlink:href=\"#DejaVuSans-52\"/>\n       <use x=\"63.623047\" xlink:href=\"#DejaVuSans-48\"/>\n      </g>\n     </g>\n    </g>\n    <g id=\"ytick_3\">\n     <g id=\"line2d_12\">\n      <g>\n       <use style=\"stroke:#000000;stroke-width:0.8;\" x=\"46.965625\" xlink:href=\"#m62db41cc61\" y=\"194.952438\"/>\n      </g>\n     </g>\n     <g id=\"text_13\">\n      <!-- 60 -->\n      <g transform=\"translate(27.240625 198.751656)scale(0.1 -0.1)\">\n       <use xlink:href=\"#DejaVuSans-54\"/>\n       <use x=\"63.623047\" xlink:href=\"#DejaVuSans-48\"/>\n      </g>\n     </g>\n    </g>\n    <g id=\"ytick_4\">\n     <g id=\"line2d_13\">\n      <g>\n       <use style=\"stroke:#000000;stroke-width:0.8;\" x=\"46.965625\" xlink:href=\"#m62db41cc61\" y=\"145.527692\"/>\n      </g>\n     </g>\n     <g id=\"text_14\">\n      <!-- 80 -->\n      <g transform=\"translate(27.240625 149.326911)scale(0.1 -0.1)\">\n       <use xlink:href=\"#DejaVuSans-56\"/>\n       <use x=\"63.623047\" xlink:href=\"#DejaVuSans-48\"/>\n      </g>\n     </g>\n    </g>\n    <g id=\"ytick_5\">\n     <g id=\"line2d_14\">\n      <g>\n       <use style=\"stroke:#000000;stroke-width:0.8;\" x=\"46.965625\" xlink:href=\"#m62db41cc61\" y=\"96.102947\"/>\n      </g>\n     </g>\n     <g id=\"text_15\">\n      <!-- 100 -->\n      <g transform=\"translate(20.878125 99.902166)scale(0.1 -0.1)\">\n       <use xlink:href=\"#DejaVuSans-49\"/>\n       <use x=\"63.623047\" xlink:href=\"#DejaVuSans-48\"/>\n       <use x=\"127.246094\" xlink:href=\"#DejaVuSans-48\"/>\n      </g>\n     </g>\n    </g>\n    <g id=\"ytick_6\">\n     <g id=\"line2d_15\">\n      <g>\n       <use style=\"stroke:#000000;stroke-width:0.8;\" x=\"46.965625\" xlink:href=\"#m62db41cc61\" y=\"46.678202\"/>\n      </g>\n     </g>\n     <g id=\"text_16\">\n      <!-- 120 -->\n      <g transform=\"translate(20.878125 50.477421)scale(0.1 -0.1)\">\n       <use xlink:href=\"#DejaVuSans-49\"/>\n       <use x=\"63.623047\" xlink:href=\"#DejaVuSans-50\"/>\n       <use x=\"127.246094\" xlink:href=\"#DejaVuSans-48\"/>\n      </g>\n     </g>\n    </g>\n    <g id=\"text_17\">\n     <!-- Inertia -->\n     <g transform=\"translate(14.798438 186.469062)rotate(-90)scale(0.1 -0.1)\">\n      <defs>\n       <path d=\"M 9.8125 72.90625 \nL 19.671875 72.90625 \nL 19.671875 0 \nL 9.8125 0 \nz\n\" id=\"DejaVuSans-73\"/>\n       <path d=\"M 54.890625 33.015625 \nL 54.890625 0 \nL 45.90625 0 \nL 45.90625 32.71875 \nQ 45.90625 40.484375 42.875 44.328125 \nQ 39.84375 48.1875 33.796875 48.1875 \nQ 26.515625 48.1875 22.3125 43.546875 \nQ 18.109375 38.921875 18.109375 30.90625 \nL 18.109375 0 \nL 9.078125 0 \nL 9.078125 54.6875 \nL 18.109375 54.6875 \nL 18.109375 46.1875 \nQ 21.34375 51.125 25.703125 53.5625 \nQ 30.078125 56 35.796875 56 \nQ 45.21875 56 50.046875 50.171875 \nQ 54.890625 44.34375 54.890625 33.015625 \nz\n\" id=\"DejaVuSans-110\"/>\n       <path d=\"M 9.421875 54.6875 \nL 18.40625 54.6875 \nL 18.40625 0 \nL 9.421875 0 \nz\nM 9.421875 75.984375 \nL 18.40625 75.984375 \nL 18.40625 64.59375 \nL 9.421875 64.59375 \nz\n\" id=\"DejaVuSans-105\"/>\n       <path d=\"M 34.28125 27.484375 \nQ 23.390625 27.484375 19.1875 25 \nQ 14.984375 22.515625 14.984375 16.5 \nQ 14.984375 11.71875 18.140625 8.90625 \nQ 21.296875 6.109375 26.703125 6.109375 \nQ 34.1875 6.109375 38.703125 11.40625 \nQ 43.21875 16.703125 43.21875 25.484375 \nL 43.21875 27.484375 \nz\nM 52.203125 31.203125 \nL 52.203125 0 \nL 43.21875 0 \nL 43.21875 8.296875 \nQ 40.140625 3.328125 35.546875 0.953125 \nQ 30.953125 -1.421875 24.3125 -1.421875 \nQ 15.921875 -1.421875 10.953125 3.296875 \nQ 6 8.015625 6 15.921875 \nQ 6 25.140625 12.171875 29.828125 \nQ 18.359375 34.515625 30.609375 34.515625 \nL 43.21875 34.515625 \nL 43.21875 35.40625 \nQ 43.21875 41.609375 39.140625 45 \nQ 35.0625 48.390625 27.6875 48.390625 \nQ 23 48.390625 18.546875 47.265625 \nQ 14.109375 46.140625 10.015625 43.890625 \nL 10.015625 52.203125 \nQ 14.9375 54.109375 19.578125 55.046875 \nQ 24.21875 56 28.609375 56 \nQ 40.484375 56 46.34375 49.84375 \nQ 52.203125 43.703125 52.203125 31.203125 \nz\n\" id=\"DejaVuSans-97\"/>\n      </defs>\n      <use xlink:href=\"#DejaVuSans-73\"/>\n      <use x=\"29.492188\" xlink:href=\"#DejaVuSans-110\"/>\n      <use x=\"92.871094\" xlink:href=\"#DejaVuSans-101\"/>\n      <use x=\"154.394531\" xlink:href=\"#DejaVuSans-114\"/>\n      <use x=\"195.507812\" xlink:href=\"#DejaVuSans-116\"/>\n      <use x=\"234.716797\" xlink:href=\"#DejaVuSans-105\"/>\n      <use x=\"262.5\" xlink:href=\"#DejaVuSans-97\"/>\n     </g>\n    </g>\n   </g>\n   <g id=\"line2d_16\">\n    <defs>\n     <path d=\"M 0 3 \nC 0.795609 3 1.55874 2.683901 2.12132 2.12132 \nC 2.683901 1.55874 3 0.795609 3 0 \nC 3 -0.795609 2.683901 -1.55874 2.12132 -2.12132 \nC 1.55874 -2.683901 0.795609 -3 0 -3 \nC -0.795609 -3 -1.55874 -2.683901 -2.12132 -2.12132 \nC -2.683901 -1.55874 -3 -0.795609 -3 0 \nC -3 0.795609 -2.683901 1.55874 -2.12132 2.12132 \nC -1.55874 2.683901 -0.795609 3 0 3 \nz\n\" id=\"m981de4ce0f\" style=\"stroke:#1f77b4;\"/>\n    </defs>\n    <g clip-path=\"url(#p282f414e83)\">\n     <use style=\"fill:#1f77b4;stroke:#1f77b4;\" x=\"85.01108\" xlink:href=\"#m981de4ce0f\" y=\"22.025455\"/>\n     <use style=\"fill:#1f77b4;stroke:#1f77b4;\" x=\"180.124716\" xlink:href=\"#m981de4ce0f\" y=\"232.748118\"/>\n     <use style=\"fill:#1f77b4;stroke:#1f77b4;\" x=\"275.238352\" xlink:href=\"#m981de4ce0f\" y=\"272.09993\"/>\n     <use style=\"fill:#1f77b4;stroke:#1f77b4;\" x=\"370.351989\" xlink:href=\"#m981de4ce0f\" y=\"288.807796\"/>\n     <use style=\"fill:#1f77b4;stroke:#1f77b4;\" x=\"465.465625\" xlink:href=\"#m981de4ce0f\" y=\"299.84753\"/>\n     <use style=\"fill:#1f77b4;stroke:#1f77b4;\" x=\"560.579261\" xlink:href=\"#m981de4ce0f\" y=\"305.781927\"/>\n     <use style=\"fill:#1f77b4;stroke:#1f77b4;\" x=\"655.692898\" xlink:href=\"#m981de4ce0f\" y=\"310.665942\"/>\n     <use style=\"fill:#1f77b4;stroke:#1f77b4;\" x=\"750.806534\" xlink:href=\"#m981de4ce0f\" y=\"314.801667\"/>\n     <use style=\"fill:#1f77b4;stroke:#1f77b4;\" x=\"845.92017\" xlink:href=\"#m981de4ce0f\" y=\"318.534545\"/>\n    </g>\n   </g>\n   <g id=\"line2d_17\">\n    <path clip-path=\"url(#p282f414e83)\" d=\"M 85.01108 22.025455 \nL 180.124716 232.748118 \nL 275.238352 272.09993 \nL 370.351989 288.807796 \nL 465.465625 299.84753 \nL 560.579261 305.781927 \nL 655.692898 310.665942 \nL 750.806534 314.801667 \nL 845.92017 318.534545 \n\" style=\"fill:none;stroke:#ff7f0e;stroke-linecap:square;stroke-opacity:0.5;stroke-width:1.5;\"/>\n   </g>\n   <g id=\"patch_3\">\n    <path d=\"M 46.965625 333.36 \nL 46.965625 7.2 \n\" style=\"fill:none;stroke:#000000;stroke-linecap:square;stroke-linejoin:miter;stroke-width:0.8;\"/>\n   </g>\n   <g id=\"patch_4\">\n    <path d=\"M 883.965625 333.36 \nL 883.965625 7.2 \n\" style=\"fill:none;stroke:#000000;stroke-linecap:square;stroke-linejoin:miter;stroke-width:0.8;\"/>\n   </g>\n   <g id=\"patch_5\">\n    <path d=\"M 46.965625 333.36 \nL 883.965625 333.36 \n\" style=\"fill:none;stroke:#000000;stroke-linecap:square;stroke-linejoin:miter;stroke-width:0.8;\"/>\n   </g>\n   <g id=\"patch_6\">\n    <path d=\"M 46.965625 7.2 \nL 883.965625 7.2 \n\" style=\"fill:none;stroke:#000000;stroke-linecap:square;stroke-linejoin:miter;stroke-width:0.8;\"/>\n   </g>\n  </g>\n </g>\n <defs>\n  <clipPath id=\"p282f414e83\">\n   <rect height=\"326.16\" width=\"837\" x=\"46.965625\" y=\"7.2\"/>\n  </clipPath>\n </defs>\n</svg>\n",
      "image/png": "[encoded data removed]"
     },
     "metadata": {
      "needs_background": "light"
     }
    }
   ],
   "source": [
    "# we need to display the information to get optimum kth value\n",
    "# We are plotting a graph to know the 'elbowing' value of kth to get optimum value\n",
    "\n",
    "plt.figure(1 , figsize = (15 ,6))\n",
    "plt.plot(np.arange(1 , 10) , inertia , 'o') # small circle used to point out the data\n",
    "plt.plot(np.arange(1 , 10) , inertia , '-', alpha = 0.5) # this will be used to display each point by line style.\n",
    "plt.xlabel('Number of Clusters') , plt.ylabel('Inertia')\n",
    "plt.show()"
   ]
  },
  {
   "cell_type": "code",
   "execution_count": 56,
   "metadata": {},
   "outputs": [],
   "source": [
    "# You have been observed here that k=2 is the optimum value\n",
    "# Applying KMeans for k or n=2\n",
    "algorithm = (KMeans(n_clusters = 2 ,init='k-means++', n_init = 10 ,max_iter=300, \n",
    "                        tol=0.0001,  random_state= 111  , algorithm='elkan') )\n",
    "# again fit the model towards k = 2\n",
    "algorithm.fit(X1)\n",
    "labels1 = algorithm.labels_\n",
    "centroids1 = algorithm.cluster_centers_"
   ]
  },
  {
   "cell_type": "code",
   "execution_count": 57,
   "metadata": {},
   "outputs": [
    {
     "output_type": "execute_result",
     "data": {
      "text/plain": [
       "array([0, 0, 0, 0, 0, 0, 0, 0, 0, 0, 0, 0, 0, 0, 0, 0, 0, 0, 0, 0, 0, 1,\n",
       "       0, 1, 0, 0, 0, 0, 0, 0, 0, 0, 0, 0, 0, 0, 0, 0, 0, 0, 0, 0, 0, 0,\n",
       "       0, 0, 0, 0, 0, 0, 0, 0, 0, 0, 0, 0, 0, 0, 0, 1, 1, 1, 0, 1, 1, 1,\n",
       "       0, 1, 0, 1, 1, 0, 0, 0, 1, 1, 1, 1, 1, 1, 1, 1, 1, 0, 1, 1, 1, 1,\n",
       "       1, 1, 1, 1, 1, 1, 1, 1, 1, 1, 1, 1, 1, 1, 1, 1, 1, 1, 1, 1, 1, 1,\n",
       "       1, 1, 1, 1, 1, 1, 1, 1, 1, 1, 1, 1, 1, 0, 1, 1, 1, 1, 1, 1, 1, 1,\n",
       "       1, 1, 1, 1, 1, 1, 0, 1, 1, 0, 0, 0, 1, 0, 0, 1, 0, 0, 0, 1, 0, 0,\n",
       "       1, 0, 0, 1, 0, 0, 1, 0, 1, 1, 0, 0, 0, 1, 0, 0, 1, 1, 0, 0, 0, 0,\n",
       "       0, 0], dtype=int32)"
      ]
     },
     "metadata": {},
     "execution_count": 57
    }
   ],
   "source": [
    "labels1"
   ]
  },
  {
   "cell_type": "code",
   "execution_count": 58,
   "metadata": {},
   "outputs": [
    {
     "output_type": "execute_result",
     "data": {
      "text/plain": [
       "array([[13.66619565,  2.43586957],\n",
       "       [12.28860465,  2.29232558]])"
      ]
     },
     "metadata": {},
     "execution_count": 58
    }
   ],
   "source": [
    "centroids1 # this contains the coordinates values"
   ]
  },
  {
   "cell_type": "code",
   "execution_count": 59,
   "metadata": {},
   "outputs": [
    {
     "output_type": "stream",
     "name": "stdout",
     "text": [
      "[[10.03 10.05 10.07 ... 15.79 15.81 15.83]\n [10.03 10.05 10.07 ... 15.79 15.81 15.83]\n [10.03 10.05 10.07 ... 15.79 15.81 15.83]\n ...\n [10.03 10.05 10.07 ... 15.79 15.81 15.83]\n [10.03 10.05 10.07 ... 15.79 15.81 15.83]\n [10.03 10.05 10.07 ... 15.79 15.81 15.83]]\n[[0.36 0.36 0.36 ... 0.36 0.36 0.36]\n [0.38 0.38 0.38 ... 0.38 0.38 0.38]\n [0.4  0.4  0.4  ... 0.4  0.4  0.4 ]\n ...\n [4.18 4.18 4.18 ... 4.18 4.18 4.18]\n [4.2  4.2  4.2  ... 4.2  4.2  4.2 ]\n [4.22 4.22 4.22 ... 4.22 4.22 4.22]]\n"
     ]
    }
   ],
   "source": [
    "h = 0.02 \n",
    "\n",
    "x_min, x_max = X1[:, 0].min() - 1, X1[:, 0].max() + 1 # age or 0th index\n",
    "y_min, y_max = X1[:, 1].min() - 1, X1[:, 1].max() + 1 #Annual Income (k$)\n",
    "\n",
    "# we need to use meshgrid method from numpy library to get or used to create pairs of \n",
    "# coordinates between a range (min and max as we have seen above code (x_min, x_max , y_min and y_max))\n",
    "xx, yy = np.meshgrid(np.arange(x_min, x_max, h), np.arange(y_min, y_max, h))\n",
    "\n",
    "print (xx)\n",
    "print (yy)\n",
    "\n",
    "# for clustering we need to make our graph into dimension pattern to get proper clusters\n",
    "Z = algorithm.predict(np.c_[xx.ravel(), yy.ravel()]) \n",
    "# The above code will decide the coordinates values with respect to the xx and yy variables."
   ]
  },
  {
   "cell_type": "code",
   "execution_count": 60,
   "metadata": {},
   "outputs": [
    {
     "output_type": "display_data",
     "data": {
      "text/plain": "<Figure size 1080x504 with 1 Axes>",
      "image/svg+xml": "<?xml version=\"1.0\" encoding=\"utf-8\" standalone=\"no\"?>\n<!DOCTYPE svg PUBLIC \"-//W3C//DTD SVG 1.1//EN\"\n  \"http://www.w3.org/Graphics/SVG/1.1/DTD/svg11.dtd\">\n<!-- Created with matplotlib (https://matplotlib.org/) -->\n<svg height=\"425.27625pt\" version=\"1.1\" viewBox=\"0 0 887.98125 425.27625\" width=\"887.98125pt\" xmlns=\"http://www.w3.org/2000/svg\" xmlns:xlink=\"http://www.w3.org/1999/xlink\">\n <metadata>\n  <rdf:RDF xmlns:cc=\"http://creativecommons.org/ns#\" xmlns:dc=\"http://purl.org/dc/elements/1.1/\" xmlns:rdf=\"http://www.w3.org/1999/02/22-rdf-syntax-ns#\">\n   <cc:Work>\n    <dc:type rdf:resource=\"http://purl.org/dc/dcmitype/StillImage\"/>\n    <dc:date>2021-05-09T08:56:41.878152</dc:date>\n    <dc:format>image/svg+xml</dc:format>\n    <dc:creator>\n     <cc:Agent>\n      <dc:title>Matplotlib v3.3.4, https://matplotlib.org/</dc:title>\n     </cc:Agent>\n    </dc:creator>\n   </cc:Work>\n  </rdf:RDF>\n </metadata>\n <defs>\n  <style type=\"text/css\">*{stroke-linecap:butt;stroke-linejoin:round;}</style>\n </defs>\n <g id=\"figure_1\">\n  <g id=\"patch_1\">\n   <path d=\"M 0 425.27625 \nL 887.98125 425.27625 \nL 887.98125 0 \nL 0 0 \nz\n\" style=\"fill:none;\"/>\n  </g>\n  <g id=\"axes_1\">\n   <g id=\"patch_2\">\n    <path d=\"M 43.78125 387.72 \nL 880.78125 387.72 \nL 880.78125 7.2 \nL 43.78125 7.2 \nz\n\" style=\"fill:#ffffff;\"/>\n   </g>\n   <g clip-path=\"url(#p310306f6ef)\">\n    <image height=\"381\" id=\"image0434521cdc\" transform=\"scale(1 -1)translate(0 -381)\" width=\"837\" x=\"43.78125\" xlink:href=\"data:image/png;base64,\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\" y=\"-6.72\"/>\n   </g>\n   <g id=\"PathCollection_1\">\n    <defs>\n     <path d=\"M 0 3.535534 \nC 0.937635 3.535534 1.836992 3.163008 2.5 2.5 \nC 3.163008 1.836992 3.535534 0.937635 3.535534 -0 \nC 3.535534 -0.937635 3.163008 -1.836992 2.5 -2.5 \nC 1.836992 -3.163008 0.937635 -3.535534 0 -3.535534 \nC -0.937635 -3.535534 -1.836992 -3.163008 -2.5 -2.5 \nC -3.163008 -1.836992 -3.535534 -0.937635 -3.535534 0 \nC -3.535534 0.937635 -3.163008 1.836992 -2.5 2.5 \nC -1.836992 3.163008 -0.937635 3.535534 0 3.535534 \nz\n\" id=\"C0_0_e5027e5bc5\"/>\n    </defs>\n    <g clip-path=\"url(#p310306f6ef)\">\n     <use style=\"fill:#440154;stroke:#440154;\" x=\"649.884698\" xlink:href=\"#C0_0_e5027e5bc5\" y=\"183.658756\"/>\n    </g>\n    <g clip-path=\"url(#p310306f6ef)\">\n     <use style=\"fill:#440154;stroke:#440154;\" x=\"501.245043\" xlink:href=\"#C0_0_e5027e5bc5\" y=\"212.247047\"/>\n    </g>\n    <g clip-path=\"url(#p310306f6ef)\">\n     <use style=\"fill:#440154;stroke:#440154;\" x=\"495.472629\" xlink:href=\"#C0_0_e5027e5bc5\" y=\"159.999482\"/>\n    </g>\n    <g clip-path=\"url(#p310306f6ef)\">\n     <use style=\"fill:#440154;stroke:#440154;\" x=\"670.088147\" xlink:href=\"#C0_0_e5027e5bc5\" y=\"176.758135\"/>\n    </g>\n    <g clip-path=\"url(#p310306f6ef)\">\n     <use style=\"fill:#440154;stroke:#440154;\" x=\"507.017457\" xlink:href=\"#C0_0_e5027e5bc5\" y=\"140.28342\"/>\n    </g>\n    <g clip-path=\"url(#p310306f6ef)\">\n     <use style=\"fill:#440154;stroke:#440154;\" x=\"645.555388\" xlink:href=\"#C0_0_e5027e5bc5\" y=\"181.68715\"/>\n    </g>\n    <g clip-path=\"url(#p310306f6ef)\">\n     <use style=\"fill:#440154;stroke:#440154;\" x=\"672.974353\" xlink:href=\"#C0_0_e5027e5bc5\" y=\"181.68715\"/>\n    </g>\n    <g clip-path=\"url(#p310306f6ef)\">\n     <use style=\"fill:#440154;stroke:#440154;\" x=\"625.35194\" xlink:href=\"#C0_0_e5027e5bc5\" y=\"165.914301\"/>\n    </g>\n    <g clip-path=\"url(#p310306f6ef)\">\n     <use style=\"fill:#440154;stroke:#440154;\" x=\"736.470905\" xlink:href=\"#C0_0_e5027e5bc5\" y=\"209.289637\"/>\n    </g>\n    <g clip-path=\"url(#p310306f6ef)\">\n     <use style=\"fill:#440154;stroke:#440154;\" x=\"596.489871\" xlink:href=\"#C0_0_e5027e5bc5\" y=\"199.431606\"/>\n    </g>\n    <g clip-path=\"url(#p310306f6ef)\">\n     <use style=\"fill:#440154;stroke:#440154;\" x=\"631.124353\" xlink:href=\"#C0_0_e5027e5bc5\" y=\"196.474197\"/>\n    </g>\n    <g clip-path=\"url(#p310306f6ef)\">\n     <use style=\"fill:#440154;stroke:#440154;\" x=\"634.01056\" xlink:href=\"#C0_0_e5027e5bc5\" y=\"194.502591\"/>\n    </g>\n    <g clip-path=\"url(#p310306f6ef)\">\n     <use style=\"fill:#440154;stroke:#440154;\" x=\"580.615733\" xlink:href=\"#C0_0_e5027e5bc5\" y=\"185.630363\"/>\n    </g>\n    <g clip-path=\"url(#p310306f6ef)\">\n     <use style=\"fill:#440154;stroke:#440154;\" x=\"724.926078\" xlink:href=\"#C0_0_e5027e5bc5\" y=\"187.601969\"/>\n    </g>\n    <g clip-path=\"url(#p310306f6ef)\">\n     <use style=\"fill:#440154;stroke:#440154;\" x=\"671.53125\" xlink:href=\"#C0_0_e5027e5bc5\" y=\"188.587772\"/>\n    </g>\n    <g clip-path=\"url(#p310306f6ef)\">\n     <use style=\"fill:#440154;stroke:#440154;\" x=\"563.298491\" xlink:href=\"#C0_0_e5027e5bc5\" y=\"157.042073\"/>\n    </g>\n    <g clip-path=\"url(#p310306f6ef)\">\n     <use style=\"fill:#440154;stroke:#440154;\" x=\"659.986422\" xlink:href=\"#C0_0_e5027e5bc5\" y=\"155.070466\"/>\n    </g>\n    <g clip-path=\"url(#p310306f6ef)\">\n     <use style=\"fill:#440154;stroke:#440154;\" x=\"592.16056\" xlink:href=\"#C0_0_e5027e5bc5\" y=\"164.928497\"/>\n    </g>\n    <g clip-path=\"url(#p310306f6ef)\">\n     <use style=\"fill:#440154;stroke:#440154;\" x=\"644.112284\" xlink:href=\"#C0_0_e5027e5bc5\" y=\"178.729741\"/>\n    </g>\n    <g clip-path=\"url(#p310306f6ef)\">\n     <use style=\"fill:#440154;stroke:#440154;\" x=\"564.741595\" xlink:href=\"#C0_0_e5027e5bc5\" y=\"170.843316\"/>\n    </g>\n    <g clip-path=\"url(#p310306f6ef)\">\n     <use style=\"fill:#440154;stroke:#440154;\" x=\"625.35194\" xlink:href=\"#C0_0_e5027e5bc5\" y=\"198.445803\"/>\n    </g>\n    <g clip-path=\"url(#p310306f6ef)\">\n     <use style=\"fill:#fde725;stroke:#fde725;\" x=\"462.28125\" xlink:href=\"#C0_0_e5027e5bc5\" y=\"161.971088\"/>\n    </g>\n    <g clip-path=\"url(#p310306f6ef)\">\n     <use style=\"fill:#440154;stroke:#440154;\" x=\"574.843319\" xlink:href=\"#C0_0_e5027e5bc5\" y=\"190.559378\"/>\n    </g>\n    <g clip-path=\"url(#p310306f6ef)\">\n     <use style=\"fill:#fde725;stroke:#fde725;\" x=\"450.736422\" xlink:href=\"#C0_0_e5027e5bc5\" y=\"174.786528\"/>\n    </g>\n    <g clip-path=\"url(#p310306f6ef)\">\n     <use style=\"fill:#440154;stroke:#440154;\" x=\"544.538147\" xlink:href=\"#C0_0_e5027e5bc5\" y=\"165.914301\"/>\n    </g>\n    <g clip-path=\"url(#p310306f6ef)\">\n     <use style=\"fill:#440154;stroke:#440154;\" x=\"479.598491\" xlink:href=\"#C0_0_e5027e5bc5\" y=\"105.780311\"/>\n    </g>\n    <g clip-path=\"url(#p310306f6ef)\">\n     <use style=\"fill:#440154;stroke:#440154;\" x=\"528.664009\" xlink:href=\"#C0_0_e5027e5bc5\" y=\"164.928497\"/>\n    </g>\n    <g clip-path=\"url(#p310306f6ef)\">\n     <use style=\"fill:#440154;stroke:#440154;\" x=\"515.676078\" xlink:href=\"#C0_0_e5027e5bc5\" y=\"212.247047\"/>\n    </g>\n    <g clip-path=\"url(#p310306f6ef)\">\n     <use style=\"fill:#440154;stroke:#440154;\" x=\"597.932974\" xlink:href=\"#C0_0_e5027e5bc5\" y=\"147.184041\"/>\n    </g>\n    <g clip-path=\"url(#p310306f6ef)\">\n     <use style=\"fill:#440154;stroke:#440154;\" x=\"619.579526\" xlink:href=\"#C0_0_e5027e5bc5\" y=\"205.346425\"/>\n    </g>\n    <g clip-path=\"url(#p310306f6ef)\">\n     <use style=\"fill:#440154;stroke:#440154;\" x=\"577.729526\" xlink:href=\"#C0_0_e5027e5bc5\" y=\"157.042073\"/>\n    </g>\n    <g clip-path=\"url(#p310306f6ef)\">\n     <use style=\"fill:#440154;stroke:#440154;\" x=\"556.082974\" xlink:href=\"#C0_0_e5027e5bc5\" y=\"190.559378\"/>\n    </g>\n    <g clip-path=\"url(#p310306f6ef)\">\n     <use style=\"fill:#440154;stroke:#440154;\" x=\"570.514009\" xlink:href=\"#C0_0_e5027e5bc5\" y=\"190.559378\"/>\n    </g>\n    <g clip-path=\"url(#p310306f6ef)\">\n     <use style=\"fill:#440154;stroke:#440154;\" x=\"582.058836\" xlink:href=\"#C0_0_e5027e5bc5\" y=\"157.042073\"/>\n    </g>\n    <g clip-path=\"url(#p310306f6ef)\">\n     <use style=\"fill:#440154;stroke:#440154;\" x=\"545.98125\" xlink:href=\"#C0_0_e5027e5bc5\" y=\"161.971088\"/>\n    </g>\n    <g clip-path=\"url(#p310306f6ef)\">\n     <use style=\"fill:#440154;stroke:#440154;\" x=\"541.65194\" xlink:href=\"#C0_0_e5027e5bc5\" y=\"185.630363\"/>\n    </g>\n    <g clip-path=\"url(#p310306f6ef)\">\n     <use style=\"fill:#440154;stroke:#440154;\" x=\"512.789871\" xlink:href=\"#C0_0_e5027e5bc5\" y=\"143.240829\"/>\n    </g>\n    <g clip-path=\"url(#p310306f6ef)\">\n     <use style=\"fill:#440154;stroke:#440154;\" x=\"479.598491\" xlink:href=\"#C0_0_e5027e5bc5\" y=\"171.829119\"/>\n    </g>\n    <g clip-path=\"url(#p310306f6ef)\">\n     <use style=\"fill:#440154;stroke:#440154;\" x=\"482.484698\" xlink:href=\"#C0_0_e5027e5bc5\" y=\"216.190259\"/>\n    </g>\n    <g clip-path=\"url(#p310306f6ef)\">\n     <use style=\"fill:#440154;stroke:#440154;\" x=\"648.441595\" xlink:href=\"#C0_0_e5027e5bc5\" y=\"175.772332\"/>\n    </g>\n    <g clip-path=\"url(#p310306f6ef)\">\n     <use style=\"fill:#440154;stroke:#440154;\" x=\"553.196767\" xlink:href=\"#C0_0_e5027e5bc5\" y=\"195.488394\"/>\n    </g>\n    <g clip-path=\"url(#p310306f6ef)\">\n     <use style=\"fill:#440154;stroke:#440154;\" x=\"531.550216\" xlink:href=\"#C0_0_e5027e5bc5\" y=\"214.218653\"/>\n    </g>\n    <g clip-path=\"url(#p310306f6ef)\">\n     <use style=\"fill:#440154;stroke:#440154;\" x=\"599.376078\" xlink:href=\"#C0_0_e5027e5bc5\" y=\"167.885907\"/>\n    </g>\n    <g clip-path=\"url(#p310306f6ef)\">\n     <use style=\"fill:#440154;stroke:#440154;\" x=\"507.017457\" xlink:href=\"#C0_0_e5027e5bc5\" y=\"197.46\"/>\n    </g>\n    <g clip-path=\"url(#p310306f6ef)\">\n     <use style=\"fill:#440154;stroke:#440154;\" x=\"479.598491\" xlink:href=\"#C0_0_e5027e5bc5\" y=\"216.190259\"/>\n    </g>\n    <g clip-path=\"url(#p310306f6ef)\">\n     <use style=\"fill:#440154;stroke:#440154;\" x=\"646.998491\" xlink:href=\"#C0_0_e5027e5bc5\" y=\"182.672953\"/>\n    </g>\n    <g clip-path=\"url(#p310306f6ef)\">\n     <use style=\"fill:#440154;stroke:#440154;\" x=\"671.53125\" xlink:href=\"#C0_0_e5027e5bc5\" y=\"198.445803\"/>\n    </g>\n    <g clip-path=\"url(#p310306f6ef)\">\n     <use style=\"fill:#440154;stroke:#440154;\" x=\"602.262284\" xlink:href=\"#C0_0_e5027e5bc5\" y=\"214.218653\"/>\n    </g>\n    <g clip-path=\"url(#p310306f6ef)\">\n     <use style=\"fill:#440154;stroke:#440154;\" x=\"631.124353\" xlink:href=\"#C0_0_e5027e5bc5\" y=\"186.616166\"/>\n    </g>\n    <g clip-path=\"url(#p310306f6ef)\">\n     <use style=\"fill:#440154;stroke:#440154;\" x=\"608.034698\" xlink:href=\"#C0_0_e5027e5bc5\" y=\"199.431606\"/>\n    </g>\n    <g clip-path=\"url(#p310306f6ef)\">\n     <use style=\"fill:#440154;stroke:#440154;\" x=\"479.598491\" xlink:href=\"#C0_0_e5027e5bc5\" y=\"222.105078\"/>\n    </g>\n    <g clip-path=\"url(#p310306f6ef)\">\n     <use style=\"fill:#440154;stroke:#440154;\" x=\"592.16056\" xlink:href=\"#C0_0_e5027e5bc5\" y=\"166.900104\"/>\n    </g>\n    <g clip-path=\"url(#p310306f6ef)\">\n     <use style=\"fill:#440154;stroke:#440154;\" x=\"590.717457\" xlink:href=\"#C0_0_e5027e5bc5\" y=\"184.64456\"/>\n    </g>\n    <g clip-path=\"url(#p310306f6ef)\">\n     <use style=\"fill:#440154;stroke:#440154;\" x=\"583.50194\" xlink:href=\"#C0_0_e5027e5bc5\" y=\"159.013679\"/>\n    </g>\n    <g clip-path=\"url(#p310306f6ef)\">\n     <use style=\"fill:#440154;stroke:#440154;\" x=\"579.172629\" xlink:href=\"#C0_0_e5027e5bc5\" y=\"201.403212\"/>\n    </g>\n    <g clip-path=\"url(#p310306f6ef)\">\n     <use style=\"fill:#440154;stroke:#440154;\" x=\"553.196767\" xlink:href=\"#C0_0_e5027e5bc5\" y=\"180.701347\"/>\n    </g>\n    <g clip-path=\"url(#p310306f6ef)\">\n     <use style=\"fill:#440154;stroke:#440154;\" x=\"648.441595\" xlink:href=\"#C0_0_e5027e5bc5\" y=\"196.474197\"/>\n    </g>\n    <g clip-path=\"url(#p310306f6ef)\">\n     <use style=\"fill:#440154;stroke:#440154;\" x=\"514.232974\" xlink:href=\"#C0_0_e5027e5bc5\" y=\"159.013679\"/>\n    </g>\n    <g clip-path=\"url(#p310306f6ef)\">\n     <use style=\"fill:#440154;stroke:#440154;\" x=\"576.286422\" xlink:href=\"#C0_0_e5027e5bc5\" y=\"176.758135\"/>\n    </g>\n    <g clip-path=\"url(#p310306f6ef)\">\n     <use style=\"fill:#fde725;stroke:#fde725;\" x=\"381.467457\" xlink:href=\"#C0_0_e5027e5bc5\" y=\"289.139689\"/>\n    </g>\n    <g clip-path=\"url(#p310306f6ef)\">\n     <use style=\"fill:#fde725;stroke:#fde725;\" x=\"375.695043\" xlink:href=\"#C0_0_e5027e5bc5\" y=\"198.445803\"/>\n    </g>\n    <g clip-path=\"url(#p310306f6ef)\">\n     <use style=\"fill:#fde725;stroke:#fde725;\" x=\"420.43125\" xlink:href=\"#C0_0_e5027e5bc5\" y=\"224.076684\"/>\n    </g>\n    <g clip-path=\"url(#p310306f6ef)\">\n     <use style=\"fill:#440154;stroke:#440154;\" x=\"569.070905\" xlink:href=\"#C0_0_e5027e5bc5\" y=\"233.934715\"/>\n    </g>\n    <g clip-path=\"url(#p310306f6ef)\">\n     <use style=\"fill:#fde725;stroke:#fde725;\" x=\"381.467457\" xlink:href=\"#C0_0_e5027e5bc5\" y=\"210.27544\"/>\n    </g>\n    <g clip-path=\"url(#p310306f6ef)\">\n     <use style=\"fill:#fde725;stroke:#fde725;\" x=\"352.605388\" xlink:href=\"#C0_0_e5027e5bc5\" y=\"173.800725\"/>\n    </g>\n    <g clip-path=\"url(#p310306f6ef)\">\n     <use style=\"fill:#fde725;stroke:#fde725;\" x=\"381.467457\" xlink:href=\"#C0_0_e5027e5bc5\" y=\"170.843316\"/>\n    </g>\n    <g clip-path=\"url(#p310306f6ef)\">\n     <use style=\"fill:#440154;stroke:#440154;\" x=\"488.257112\" xlink:href=\"#C0_0_e5027e5bc5\" y=\"255.622383\"/>\n    </g>\n    <g clip-path=\"url(#p310306f6ef)\">\n     <use style=\"fill:#fde725;stroke:#fde725;\" x=\"381.467457\" xlink:href=\"#C0_0_e5027e5bc5\" y=\"233.934715\"/>\n    </g>\n    <g clip-path=\"url(#p310306f6ef)\">\n     <use style=\"fill:#440154;stroke:#440154;\" x=\"521.448491\" xlink:href=\"#C0_0_e5027e5bc5\" y=\"190.559378\"/>\n    </g>\n    <g clip-path=\"url(#p310306f6ef)\">\n     <use style=\"fill:#fde725;stroke:#fde725;\" x=\"358.377802\" xlink:href=\"#C0_0_e5027e5bc5\" y=\"250.693368\"/>\n    </g>\n    <g clip-path=\"url(#p310306f6ef)\">\n     <use style=\"fill:#fde725;stroke:#fde725;\" x=\"369.922629\" xlink:href=\"#C0_0_e5027e5bc5\" y=\"205.346425\"/>\n    </g>\n    <g clip-path=\"url(#p310306f6ef)\">\n     <use style=\"fill:#440154;stroke:#440154;\" x=\"596.489871\" xlink:href=\"#C0_0_e5027e5bc5\" y=\"159.999482\"/>\n    </g>\n    <g clip-path=\"url(#p310306f6ef)\">\n     <use style=\"fill:#440154;stroke:#440154;\" x=\"543.095043\" xlink:href=\"#C0_0_e5027e5bc5\" y=\"202.389016\"/>\n    </g>\n    <g clip-path=\"url(#p310306f6ef)\">\n     <use style=\"fill:#440154;stroke:#440154;\" x=\"470.939871\" xlink:href=\"#C0_0_e5027e5bc5\" y=\"166.900104\"/>\n    </g>\n    <g clip-path=\"url(#p310306f6ef)\">\n     <use style=\"fill:#fde725;stroke:#fde725;\" x=\"322.300216\" xlink:href=\"#C0_0_e5027e5bc5\" y=\"196.474197\"/>\n    </g>\n    <g clip-path=\"url(#p310306f6ef)\">\n     <use style=\"fill:#fde725;stroke:#fde725;\" x=\"279.007112\" xlink:href=\"#C0_0_e5027e5bc5\" y=\"233.934715\"/>\n    </g>\n    <g clip-path=\"url(#p310306f6ef)\">\n     <use style=\"fill:#fde725;stroke:#fde725;\" x=\"476.712284\" xlink:href=\"#C0_0_e5027e5bc5\" y=\"254.63658\"/>\n    </g>\n    <g clip-path=\"url(#p310306f6ef)\">\n     <use style=\"fill:#fde725;stroke:#fde725;\" x=\"304.982974\" xlink:href=\"#C0_0_e5027e5bc5\" y=\"203.374819\"/>\n    </g>\n    <g clip-path=\"url(#p310306f6ef)\">\n     <use style=\"fill:#fde725;stroke:#fde725;\" x=\"375.695043\" xlink:href=\"#C0_0_e5027e5bc5\" y=\"230.977306\"/>\n    </g>\n    <g clip-path=\"url(#p310306f6ef)\">\n     <use style=\"fill:#fde725;stroke:#fde725;\" x=\"429.089871\" xlink:href=\"#C0_0_e5027e5bc5\" y=\"186.616166\"/>\n    </g>\n    <g clip-path=\"url(#p310306f6ef)\">\n     <use style=\"fill:#fde725;stroke:#fde725;\" x=\"328.072629\" xlink:href=\"#C0_0_e5027e5bc5\" y=\"226.04829\"/>\n    </g>\n    <g clip-path=\"url(#p310306f6ef)\">\n     <use style=\"fill:#fde725;stroke:#fde725;\" x=\"431.976078\" xlink:href=\"#C0_0_e5027e5bc5\" y=\"206.332228\"/>\n    </g>\n    <g clip-path=\"url(#p310306f6ef)\">\n     <use style=\"fill:#fde725;stroke:#fde725;\" x=\"339.617457\" xlink:href=\"#C0_0_e5027e5bc5\" y=\"175.772332\"/>\n    </g>\n    <g clip-path=\"url(#p310306f6ef)\">\n     <use style=\"fill:#440154;stroke:#440154;\" x=\"479.598491\" xlink:href=\"#C0_0_e5027e5bc5\" y=\"194.502591\"/>\n    </g>\n    <g clip-path=\"url(#p310306f6ef)\">\n     <use style=\"fill:#fde725;stroke:#fde725;\" x=\"304.982974\" xlink:href=\"#C0_0_e5027e5bc5\" y=\"168.87171\"/>\n    </g>\n    <g clip-path=\"url(#p310306f6ef)\">\n     <use style=\"fill:#fde725;stroke:#fde725;\" x=\"424.76056\" xlink:href=\"#C0_0_e5027e5bc5\" y=\"202.389016\"/>\n    </g>\n    <g clip-path=\"url(#p310306f6ef)\">\n     <use style=\"fill:#fde725;stroke:#fde725;\" x=\"351.162284\" xlink:href=\"#C0_0_e5027e5bc5\" y=\"195.488394\"/>\n    </g>\n    <g clip-path=\"url(#p310306f6ef)\">\n     <use style=\"fill:#fde725;stroke:#fde725;\" x=\"277.564009\" xlink:href=\"#C0_0_e5027e5bc5\" y=\"164.928497\"/>\n    </g>\n    <g clip-path=\"url(#p310306f6ef)\">\n     <use style=\"fill:#fde725;stroke:#fde725;\" x=\"276.120905\" xlink:href=\"#C0_0_e5027e5bc5\" y=\"180.701347\"/>\n    </g>\n    <g clip-path=\"url(#p310306f6ef)\">\n     <use style=\"fill:#fde725;stroke:#fde725;\" x=\"339.617457\" xlink:href=\"#C0_0_e5027e5bc5\" y=\"196.474197\"/>\n    </g>\n    <g clip-path=\"url(#p310306f6ef)\">\n     <use style=\"fill:#fde725;stroke:#fde725;\" x=\"339.617457\" xlink:href=\"#C0_0_e5027e5bc5\" y=\"194.502591\"/>\n    </g>\n    <g clip-path=\"url(#p310306f6ef)\">\n     <use style=\"fill:#fde725;stroke:#fde725;\" x=\"328.072629\" xlink:href=\"#C0_0_e5027e5bc5\" y=\"184.64456\"/>\n    </g>\n    <g clip-path=\"url(#p310306f6ef)\">\n     <use style=\"fill:#fde725;stroke:#fde725;\" x=\"427.646767\" xlink:href=\"#C0_0_e5027e5bc5\" y=\"200.417409\"/>\n    </g>\n    <g clip-path=\"url(#p310306f6ef)\">\n     <use style=\"fill:#fde725;stroke:#fde725;\" x=\"369.922629\" xlink:href=\"#C0_0_e5027e5bc5\" y=\"204.360622\"/>\n    </g>\n    <g clip-path=\"url(#p310306f6ef)\">\n     <use style=\"fill:#fde725;stroke:#fde725;\" x=\"273.234698\" xlink:href=\"#C0_0_e5027e5bc5\" y=\"198.445803\"/>\n    </g>\n    <g clip-path=\"url(#p310306f6ef)\">\n     <use style=\"fill:#fde725;stroke:#fde725;\" x=\"395.898491\" xlink:href=\"#C0_0_e5027e5bc5\" y=\"206.332228\"/>\n    </g>\n    <g clip-path=\"url(#p310306f6ef)\">\n     <use style=\"fill:#fde725;stroke:#fde725;\" x=\"300.653664\" xlink:href=\"#C0_0_e5027e5bc5\" y=\"153.09886\"/>\n    </g>\n    <g clip-path=\"url(#p310306f6ef)\">\n     <use style=\"fill:#fde725;stroke:#fde725;\" x=\"369.922629\" xlink:href=\"#C0_0_e5027e5bc5\" y=\"228.019896\"/>\n    </g>\n    <g clip-path=\"url(#p310306f6ef)\">\n     <use style=\"fill:#fde725;stroke:#fde725;\" x=\"381.467457\" xlink:href=\"#C0_0_e5027e5bc5\" y=\"216.190259\"/>\n    </g>\n    <g clip-path=\"url(#p310306f6ef)\">\n     <use style=\"fill:#fde725;stroke:#fde725;\" x=\"369.922629\" xlink:href=\"#C0_0_e5027e5bc5\" y=\"205.346425\"/>\n    </g>\n    <g clip-path=\"url(#p310306f6ef)\">\n     <use style=\"fill:#fde725;stroke:#fde725;\" x=\"339.617457\" xlink:href=\"#C0_0_e5027e5bc5\" y=\"255.622383\"/>\n    </g>\n    <g clip-path=\"url(#p310306f6ef)\">\n     <use style=\"fill:#fde725;stroke:#fde725;\" x=\"414.658836\" xlink:href=\"#C0_0_e5027e5bc5\" y=\"235.906321\"/>\n    </g>\n    <g clip-path=\"url(#p310306f6ef)\">\n     <use style=\"fill:#fde725;stroke:#fde725;\" x=\"377.138147\" xlink:href=\"#C0_0_e5027e5bc5\" y=\"180.701347\"/>\n    </g>\n    <g clip-path=\"url(#p310306f6ef)\">\n     <use style=\"fill:#fde725;stroke:#fde725;\" x=\"302.096767\" xlink:href=\"#C0_0_e5027e5bc5\" y=\"237.877927\"/>\n    </g>\n    <g clip-path=\"url(#p310306f6ef)\">\n     <use style=\"fill:#fde725;stroke:#fde725;\" x=\"401.670905\" xlink:href=\"#C0_0_e5027e5bc5\" y=\"228.019896\"/>\n    </g>\n    <g clip-path=\"url(#p310306f6ef)\">\n     <use style=\"fill:#fde725;stroke:#fde725;\" x=\"388.682974\" xlink:href=\"#C0_0_e5027e5bc5\" y=\"199.431606\"/>\n    </g>\n    <g clip-path=\"url(#p310306f6ef)\">\n     <use style=\"fill:#fde725;stroke:#fde725;\" x=\"364.150216\" xlink:href=\"#C0_0_e5027e5bc5\" y=\"214.218653\"/>\n    </g>\n    <g clip-path=\"url(#p310306f6ef)\">\n     <use style=\"fill:#fde725;stroke:#fde725;\" x=\"431.976078\" xlink:href=\"#C0_0_e5027e5bc5\" y=\"198.445803\"/>\n    </g>\n    <g clip-path=\"url(#p310306f6ef)\">\n     <use style=\"fill:#fde725;stroke:#fde725;\" x=\"359.820905\" xlink:href=\"#C0_0_e5027e5bc5\" y=\"231.963109\"/>\n    </g>\n    <g clip-path=\"url(#p310306f6ef)\">\n     <use style=\"fill:#fde725;stroke:#fde725;\" x=\"271.791595\" xlink:href=\"#C0_0_e5027e5bc5\" y=\"157.042073\"/>\n    </g>\n    <g clip-path=\"url(#p310306f6ef)\">\n     <use style=\"fill:#fde725;stroke:#fde725;\" x=\"250.145043\" xlink:href=\"#C0_0_e5027e5bc5\" y=\"243.792746\"/>\n    </g>\n    <g clip-path=\"url(#p310306f6ef)\">\n     <use style=\"fill:#fde725;stroke:#fde725;\" x=\"403.114009\" xlink:href=\"#C0_0_e5027e5bc5\" y=\"209.289637\"/>\n    </g>\n    <g clip-path=\"url(#p310306f6ef)\">\n     <use style=\"fill:#fde725;stroke:#fde725;\" x=\"293.438147\" xlink:href=\"#C0_0_e5027e5bc5\" y=\"135.354404\"/>\n    </g>\n    <g clip-path=\"url(#p310306f6ef)\">\n     <use style=\"fill:#fde725;stroke:#fde725;\" x=\"242.929526\" xlink:href=\"#C0_0_e5027e5bc5\" y=\"176.758135\"/>\n    </g>\n    <g clip-path=\"url(#p310306f6ef)\">\n     <use style=\"fill:#fde725;stroke:#fde725;\" x=\"339.617457\" xlink:href=\"#C0_0_e5027e5bc5\" y=\"176.758135\"/>\n    </g>\n    <g clip-path=\"url(#p310306f6ef)\">\n     <use style=\"fill:#fde725;stroke:#fde725;\" x=\"188.091595\" xlink:href=\"#C0_0_e5027e5bc5\" y=\"206.332228\"/>\n    </g>\n    <g clip-path=\"url(#p310306f6ef)\">\n     <use style=\"fill:#fde725;stroke:#fde725;\" x=\"302.096767\" xlink:href=\"#C0_0_e5027e5bc5\" y=\"227.034093\"/>\n    </g>\n    <g clip-path=\"url(#p310306f6ef)\">\n     <use style=\"fill:#fde725;stroke:#fde725;\" x=\"388.682974\" xlink:href=\"#C0_0_e5027e5bc5\" y=\"207.318031\"/>\n    </g>\n    <g clip-path=\"url(#p310306f6ef)\">\n     <use style=\"fill:#fde725;stroke:#fde725;\" x=\"439.191595\" xlink:href=\"#C0_0_e5027e5bc5\" y=\"228.019896\"/>\n    </g>\n    <g clip-path=\"url(#p310306f6ef)\">\n     <use style=\"fill:#fde725;stroke:#fde725;\" x=\"328.072629\" xlink:href=\"#C0_0_e5027e5bc5\" y=\"226.04829\"/>\n    </g>\n    <g clip-path=\"url(#p310306f6ef)\">\n     <use style=\"fill:#fde725;stroke:#fde725;\" x=\"248.70194\" xlink:href=\"#C0_0_e5027e5bc5\" y=\"184.64456\"/>\n    </g>\n    <g clip-path=\"url(#p310306f6ef)\">\n     <use style=\"fill:#fde725;stroke:#fde725;\" x=\"264.576078\" xlink:href=\"#C0_0_e5027e5bc5\" y=\"104.794508\"/>\n    </g>\n    <g clip-path=\"url(#p310306f6ef)\">\n     <use style=\"fill:#fde725;stroke:#fde725;\" x=\"388.682974\" xlink:href=\"#C0_0_e5027e5bc5\" y=\"154.084663\"/>\n    </g>\n    <g clip-path=\"url(#p310306f6ef)\">\n     <use style=\"fill:#440154;stroke:#440154;\" x=\"479.598491\" xlink:href=\"#C0_0_e5027e5bc5\" y=\"213.23285\"/>\n    </g>\n    <g clip-path=\"url(#p310306f6ef)\">\n     <use style=\"fill:#fde725;stroke:#fde725;\" x=\"309.312284\" xlink:href=\"#C0_0_e5027e5bc5\" y=\"187.601969\"/>\n    </g>\n    <g clip-path=\"url(#p310306f6ef)\">\n     <use style=\"fill:#fde725;stroke:#fde725;\" x=\"338.174353\" xlink:href=\"#C0_0_e5027e5bc5\" y=\"209.289637\"/>\n    </g>\n    <g clip-path=\"url(#p310306f6ef)\">\n     <use style=\"fill:#fde725;stroke:#fde725;\" x=\"390.126078\" xlink:href=\"#C0_0_e5027e5bc5\" y=\"197.46\"/>\n    </g>\n    <g clip-path=\"url(#p310306f6ef)\">\n     <use style=\"fill:#fde725;stroke:#fde725;\" x=\"297.767457\" xlink:href=\"#C0_0_e5027e5bc5\" y=\"149.155648\"/>\n    </g>\n    <g clip-path=\"url(#p310306f6ef)\">\n     <use style=\"fill:#fde725;stroke:#fde725;\" x=\"381.467457\" xlink:href=\"#C0_0_e5027e5bc5\" y=\"196.474197\"/>\n    </g>\n    <g clip-path=\"url(#p310306f6ef)\">\n     <use style=\"fill:#fde725;stroke:#fde725;\" x=\"333.845043\" xlink:href=\"#C0_0_e5027e5bc5\" y=\"188.587772\"/>\n    </g>\n    <g clip-path=\"url(#p310306f6ef)\">\n     <use style=\"fill:#fde725;stroke:#fde725;\" x=\"452.179526\" xlink:href=\"#C0_0_e5027e5bc5\" y=\"194.502591\"/>\n    </g>\n    <g clip-path=\"url(#p310306f6ef)\">\n     <use style=\"fill:#fde725;stroke:#fde725;\" x=\"455.065733\" xlink:href=\"#C0_0_e5027e5bc5\" y=\"186.616166\"/>\n    </g>\n    <g clip-path=\"url(#p310306f6ef)\">\n     <use style=\"fill:#fde725;stroke:#fde725;\" x=\"444.964009\" xlink:href=\"#C0_0_e5027e5bc5\" y=\"186.616166\"/>\n    </g>\n    <g clip-path=\"url(#p310306f6ef)\">\n     <use style=\"fill:#fde725;stroke:#fde725;\" x=\"429.089871\" xlink:href=\"#C0_0_e5027e5bc5\" y=\"190.559378\"/>\n    </g>\n    <g clip-path=\"url(#p310306f6ef)\">\n     <use style=\"fill:#fde725;stroke:#fde725;\" x=\"401.670905\" xlink:href=\"#C0_0_e5027e5bc5\" y=\"201.403212\"/>\n    </g>\n    <g clip-path=\"url(#p310306f6ef)\">\n     <use style=\"fill:#fde725;stroke:#fde725;\" x=\"414.658836\" xlink:href=\"#C0_0_e5027e5bc5\" y=\"206.332228\"/>\n    </g>\n    <g clip-path=\"url(#p310306f6ef)\">\n     <use style=\"fill:#fde725;stroke:#fde725;\" x=\"364.150216\" xlink:href=\"#C0_0_e5027e5bc5\" y=\"172.814922\"/>\n    </g>\n    <g clip-path=\"url(#p310306f6ef)\">\n     <use style=\"fill:#fde725;stroke:#fde725;\" x=\"404.557112\" xlink:href=\"#C0_0_e5027e5bc5\" y=\"162.956891\"/>\n    </g>\n    <g clip-path=\"url(#p310306f6ef)\">\n     <use style=\"fill:#440154;stroke:#440154;\" x=\"543.095043\" xlink:href=\"#C0_0_e5027e5bc5\" y=\"207.318031\"/>\n    </g>\n    <g clip-path=\"url(#p310306f6ef)\">\n     <use style=\"fill:#fde725;stroke:#fde725;\" x=\"449.293319\" xlink:href=\"#C0_0_e5027e5bc5\" y=\"165.914301\"/>\n    </g>\n    <g clip-path=\"url(#p310306f6ef)\">\n     <use style=\"fill:#fde725;stroke:#fde725;\" x=\"462.28125\" xlink:href=\"#C0_0_e5027e5bc5\" y=\"157.042073\"/>\n    </g>\n    <g clip-path=\"url(#p310306f6ef)\">\n     <use style=\"fill:#440154;stroke:#440154;\" x=\"524.334698\" xlink:href=\"#C0_0_e5027e5bc5\" y=\"191.545181\"/>\n    </g>\n    <g clip-path=\"url(#p310306f6ef)\">\n     <use style=\"fill:#440154;stroke:#440154;\" x=\"547.424353\" xlink:href=\"#C0_0_e5027e5bc5\" y=\"155.070466\"/>\n    </g>\n    <g clip-path=\"url(#p310306f6ef)\">\n     <use style=\"fill:#440154;stroke:#440154;\" x=\"561.855388\" xlink:href=\"#C0_0_e5027e5bc5\" y=\"191.545181\"/>\n    </g>\n    <g clip-path=\"url(#p310306f6ef)\">\n     <use style=\"fill:#fde725;stroke:#fde725;\" x=\"364.150216\" xlink:href=\"#C0_0_e5027e5bc5\" y=\"206.332228\"/>\n    </g>\n    <g clip-path=\"url(#p310306f6ef)\">\n     <use style=\"fill:#440154;stroke:#440154;\" x=\"495.472629\" xlink:href=\"#C0_0_e5027e5bc5\" y=\"211.261244\"/>\n    </g>\n    <g clip-path=\"url(#p310306f6ef)\">\n     <use style=\"fill:#440154;stroke:#440154;\" x=\"599.376078\" xlink:href=\"#C0_0_e5027e5bc5\" y=\"203.374819\"/>\n    </g>\n    <g clip-path=\"url(#p310306f6ef)\">\n     <use style=\"fill:#fde725;stroke:#fde725;\" x=\"453.622629\" xlink:href=\"#C0_0_e5027e5bc5\" y=\"178.729741\"/>\n    </g>\n    <g clip-path=\"url(#p310306f6ef)\">\n     <use style=\"fill:#440154;stroke:#440154;\" x=\"518.562284\" xlink:href=\"#C0_0_e5027e5bc5\" y=\"188.587772\"/>\n    </g>\n    <g clip-path=\"url(#p310306f6ef)\">\n     <use style=\"fill:#440154;stroke:#440154;\" x=\"483.927802\" xlink:href=\"#C0_0_e5027e5bc5\" y=\"190.559378\"/>\n    </g>\n    <g clip-path=\"url(#p310306f6ef)\">\n     <use style=\"fill:#440154;stroke:#440154;\" x=\"544.538147\" xlink:href=\"#C0_0_e5027e5bc5\" y=\"164.928497\"/>\n    </g>\n    <g clip-path=\"url(#p310306f6ef)\">\n     <use style=\"fill:#fde725;stroke:#fde725;\" x=\"442.077802\" xlink:href=\"#C0_0_e5027e5bc5\" y=\"178.729741\"/>\n    </g>\n    <g clip-path=\"url(#p310306f6ef)\">\n     <use style=\"fill:#440154;stroke:#440154;\" x=\"488.257112\" xlink:href=\"#C0_0_e5027e5bc5\" y=\"152.113057\"/>\n    </g>\n    <g clip-path=\"url(#p310306f6ef)\">\n     <use style=\"fill:#440154;stroke:#440154;\" x=\"505.574353\" xlink:href=\"#C0_0_e5027e5bc5\" y=\"198.445803\"/>\n    </g>\n    <g clip-path=\"url(#p310306f6ef)\">\n     <use style=\"fill:#fde725;stroke:#fde725;\" x=\"411.772629\" xlink:href=\"#C0_0_e5027e5bc5\" y=\"216.190259\"/>\n    </g>\n    <g clip-path=\"url(#p310306f6ef)\">\n     <use style=\"fill:#440154;stroke:#440154;\" x=\"496.915733\" xlink:href=\"#C0_0_e5027e5bc5\" y=\"194.502591\"/>\n    </g>\n    <g clip-path=\"url(#p310306f6ef)\">\n     <use style=\"fill:#440154;stroke:#440154;\" x=\"593.603664\" xlink:href=\"#C0_0_e5027e5bc5\" y=\"188.587772\"/>\n    </g>\n    <g clip-path=\"url(#p310306f6ef)\">\n     <use style=\"fill:#fde725;stroke:#fde725;\" x=\"393.012284\" xlink:href=\"#C0_0_e5027e5bc5\" y=\"162.956891\"/>\n    </g>\n    <g clip-path=\"url(#p310306f6ef)\">\n     <use style=\"fill:#440154;stroke:#440154;\" x=\"665.758836\" xlink:href=\"#C0_0_e5027e5bc5\" y=\"157.042073\"/>\n    </g>\n    <g clip-path=\"url(#p310306f6ef)\">\n     <use style=\"fill:#440154;stroke:#440154;\" x=\"541.65194\" xlink:href=\"#C0_0_e5027e5bc5\" y=\"162.956891\"/>\n    </g>\n    <g clip-path=\"url(#p310306f6ef)\">\n     <use style=\"fill:#fde725;stroke:#fde725;\" x=\"380.024353\" xlink:href=\"#C0_0_e5027e5bc5\" y=\"188.587772\"/>\n    </g>\n    <g clip-path=\"url(#p310306f6ef)\">\n     <use style=\"fill:#440154;stroke:#440154;\" x=\"571.957112\" xlink:href=\"#C0_0_e5027e5bc5\" y=\"172.814922\"/>\n    </g>\n    <g clip-path=\"url(#p310306f6ef)\">\n     <use style=\"fill:#fde725;stroke:#fde725;\" x=\"450.736422\" xlink:href=\"#C0_0_e5027e5bc5\" y=\"168.87171\"/>\n    </g>\n    <g clip-path=\"url(#p310306f6ef)\">\n     <use style=\"fill:#fde725;stroke:#fde725;\" x=\"466.61056\" xlink:href=\"#C0_0_e5027e5bc5\" y=\"191.545181\"/>\n    </g>\n    <g clip-path=\"url(#p310306f6ef)\">\n     <use style=\"fill:#440154;stroke:#440154;\" x=\"584.945043\" xlink:href=\"#C0_0_e5027e5bc5\" y=\"196.474197\"/>\n    </g>\n    <g clip-path=\"url(#p310306f6ef)\">\n     <use style=\"fill:#440154;stroke:#440154;\" x=\"577.729526\" xlink:href=\"#C0_0_e5027e5bc5\" y=\"200.417409\"/>\n    </g>\n    <g clip-path=\"url(#p310306f6ef)\">\n     <use style=\"fill:#440154;stroke:#440154;\" x=\"537.322629\" xlink:href=\"#C0_0_e5027e5bc5\" y=\"166.900104\"/>\n    </g>\n    <g clip-path=\"url(#p310306f6ef)\">\n     <use style=\"fill:#fde725;stroke:#fde725;\" x=\"446.407112\" xlink:href=\"#C0_0_e5027e5bc5\" y=\"196.474197\"/>\n    </g>\n    <g clip-path=\"url(#p310306f6ef)\">\n     <use style=\"fill:#440154;stroke:#440154;\" x=\"556.082974\" xlink:href=\"#C0_0_e5027e5bc5\" y=\"158.027876\"/>\n    </g>\n    <g clip-path=\"url(#p310306f6ef)\">\n     <use style=\"fill:#440154;stroke:#440154;\" x=\"530.107112\" xlink:href=\"#C0_0_e5027e5bc5\" y=\"141.269223\"/>\n    </g>\n    <g clip-path=\"url(#p310306f6ef)\">\n     <use style=\"fill:#fde725;stroke:#fde725;\" x=\"356.934698\" xlink:href=\"#C0_0_e5027e5bc5\" y=\"194.502591\"/>\n    </g>\n    <g clip-path=\"url(#p310306f6ef)\">\n     <use style=\"fill:#fde725;stroke:#fde725;\" x=\"439.191595\" xlink:href=\"#C0_0_e5027e5bc5\" y=\"198.445803\"/>\n    </g>\n    <g clip-path=\"url(#p310306f6ef)\">\n     <use style=\"fill:#440154;stroke:#440154;\" x=\"639.782974\" xlink:href=\"#C0_0_e5027e5bc5\" y=\"178.729741\"/>\n    </g>\n    <g clip-path=\"url(#p310306f6ef)\">\n     <use style=\"fill:#440154;stroke:#440154;\" x=\"574.843319\" xlink:href=\"#C0_0_e5027e5bc5\" y=\"181.68715\"/>\n    </g>\n    <g clip-path=\"url(#p310306f6ef)\">\n     <use style=\"fill:#440154;stroke:#440154;\" x=\"530.107112\" xlink:href=\"#C0_0_e5027e5bc5\" y=\"178.729741\"/>\n    </g>\n    <g clip-path=\"url(#p310306f6ef)\">\n     <use style=\"fill:#440154;stroke:#440154;\" x=\"511.346767\" xlink:href=\"#C0_0_e5027e5bc5\" y=\"200.417409\"/>\n    </g>\n    <g clip-path=\"url(#p310306f6ef)\">\n     <use style=\"fill:#440154;stroke:#440154;\" x=\"496.915733\" xlink:href=\"#C0_0_e5027e5bc5\" y=\"189.573575\"/>\n    </g>\n    <g clip-path=\"url(#p310306f6ef)\">\n     <use style=\"fill:#440154;stroke:#440154;\" x=\"635.453664\" xlink:href=\"#C0_0_e5027e5bc5\" y=\"153.09886\"/>\n    </g>\n   </g>\n   <g id=\"PathCollection_2\">\n    <defs>\n     <path d=\"M 0 5 \nC 1.326016 5 2.597899 4.473168 3.535534 3.535534 \nC 4.473168 2.597899 5 1.326016 5 0 \nC 5 -1.326016 4.473168 -2.597899 3.535534 -3.535534 \nC 2.597899 -4.473168 1.326016 -5 0 -5 \nC -1.326016 -5 -2.597899 -4.473168 -3.535534 -3.535534 \nC -4.473168 -2.597899 -5 -1.326016 -5 0 \nC -5 1.326016 -4.473168 2.597899 -3.535534 3.535534 \nC -2.597899 4.473168 -1.326016 5 0 5 \nz\n\" id=\"m02550a8ffc\" style=\"stroke:#ff0000;stroke-opacity:0.5;\"/>\n    </defs>\n    <g clip-path=\"url(#p310306f6ef)\">\n     <use style=\"fill:#ff0000;fill-opacity:0.5;stroke:#ff0000;stroke-opacity:0.5;\" x=\"568.521898\" xlink:href=\"#m02550a8ffc\" y=\"183.080133\"/>\n     <use style=\"fill:#ff0000;fill-opacity:0.5;stroke:#ff0000;stroke-opacity:0.5;\" x=\"369.721266\" xlink:href=\"#m02550a8ffc\" y=\"197.230743\"/>\n    </g>\n   </g>\n   <g id=\"matplotlib.axis_1\">\n    <g id=\"xtick_1\">\n     <g id=\"line2d_1\">\n      <defs>\n       <path d=\"M 0 0 \nL 0 3.5 \n\" id=\"m3bfabb4fed\" style=\"stroke:#000000;stroke-width:0.8;\"/>\n      </defs>\n      <g>\n       <use style=\"stroke:#000000;stroke-width:0.8;\" x=\"183.762284\" xlink:href=\"#m3bfabb4fed\" y=\"387.72\"/>\n      </g>\n     </g>\n     <g id=\"text_1\">\n      <!-- 11 -->\n      <g transform=\"translate(177.399784 402.318437)scale(0.1 -0.1)\">\n       <defs>\n        <path d=\"M 12.40625 8.296875 \nL 28.515625 8.296875 \nL 28.515625 63.921875 \nL 10.984375 60.40625 \nL 10.984375 69.390625 \nL 28.421875 72.90625 \nL 38.28125 72.90625 \nL 38.28125 8.296875 \nL 54.390625 8.296875 \nL 54.390625 0 \nL 12.40625 0 \nz\n\" id=\"DejaVuSans-49\"/>\n       </defs>\n       <use xlink:href=\"#DejaVuSans-49\"/>\n       <use x=\"63.623047\" xlink:href=\"#DejaVuSans-49\"/>\n      </g>\n     </g>\n    </g>\n    <g id=\"xtick_2\">\n     <g id=\"line2d_2\">\n      <g>\n       <use style=\"stroke:#000000;stroke-width:0.8;\" x=\"328.072629\" xlink:href=\"#m3bfabb4fed\" y=\"387.72\"/>\n      </g>\n     </g>\n     <g id=\"text_2\">\n      <!-- 12 -->\n      <g transform=\"translate(321.710129 402.318437)scale(0.1 -0.1)\">\n       <defs>\n        <path d=\"M 19.1875 8.296875 \nL 53.609375 8.296875 \nL 53.609375 0 \nL 7.328125 0 \nL 7.328125 8.296875 \nQ 12.9375 14.109375 22.625 23.890625 \nQ 32.328125 33.6875 34.8125 36.53125 \nQ 39.546875 41.84375 41.421875 45.53125 \nQ 43.3125 49.21875 43.3125 52.78125 \nQ 43.3125 58.59375 39.234375 62.25 \nQ 35.15625 65.921875 28.609375 65.921875 \nQ 23.96875 65.921875 18.8125 64.3125 \nQ 13.671875 62.703125 7.8125 59.421875 \nL 7.8125 69.390625 \nQ 13.765625 71.78125 18.9375 73 \nQ 24.125 74.21875 28.421875 74.21875 \nQ 39.75 74.21875 46.484375 68.546875 \nQ 53.21875 62.890625 53.21875 53.421875 \nQ 53.21875 48.921875 51.53125 44.890625 \nQ 49.859375 40.875 45.40625 35.40625 \nQ 44.1875 33.984375 37.640625 27.21875 \nQ 31.109375 20.453125 19.1875 8.296875 \nz\n\" id=\"DejaVuSans-50\"/>\n       </defs>\n       <use xlink:href=\"#DejaVuSans-49\"/>\n       <use x=\"63.623047\" xlink:href=\"#DejaVuSans-50\"/>\n      </g>\n     </g>\n    </g>\n    <g id=\"xtick_3\">\n     <g id=\"line2d_3\">\n      <g>\n       <use style=\"stroke:#000000;stroke-width:0.8;\" x=\"472.382974\" xlink:href=\"#m3bfabb4fed\" y=\"387.72\"/>\n      </g>\n     </g>\n     <g id=\"text_3\">\n      <!-- 13 -->\n      <g transform=\"translate(466.020474 402.318437)scale(0.1 -0.1)\">\n       <defs>\n        <path d=\"M 40.578125 39.3125 \nQ 47.65625 37.796875 51.625 33 \nQ 55.609375 28.21875 55.609375 21.1875 \nQ 55.609375 10.40625 48.1875 4.484375 \nQ 40.765625 -1.421875 27.09375 -1.421875 \nQ 22.515625 -1.421875 17.65625 -0.515625 \nQ 12.796875 0.390625 7.625 2.203125 \nL 7.625 11.71875 \nQ 11.71875 9.328125 16.59375 8.109375 \nQ 21.484375 6.890625 26.8125 6.890625 \nQ 36.078125 6.890625 40.9375 10.546875 \nQ 45.796875 14.203125 45.796875 21.1875 \nQ 45.796875 27.640625 41.28125 31.265625 \nQ 36.765625 34.90625 28.71875 34.90625 \nL 20.21875 34.90625 \nL 20.21875 43.015625 \nL 29.109375 43.015625 \nQ 36.375 43.015625 40.234375 45.921875 \nQ 44.09375 48.828125 44.09375 54.296875 \nQ 44.09375 59.90625 40.109375 62.90625 \nQ 36.140625 65.921875 28.71875 65.921875 \nQ 24.65625 65.921875 20.015625 65.03125 \nQ 15.375 64.15625 9.8125 62.3125 \nL 9.8125 71.09375 \nQ 15.4375 72.65625 20.34375 73.4375 \nQ 25.25 74.21875 29.59375 74.21875 \nQ 40.828125 74.21875 47.359375 69.109375 \nQ 53.90625 64.015625 53.90625 55.328125 \nQ 53.90625 49.265625 50.4375 45.09375 \nQ 46.96875 40.921875 40.578125 39.3125 \nz\n\" id=\"DejaVuSans-51\"/>\n       </defs>\n       <use xlink:href=\"#DejaVuSans-49\"/>\n       <use x=\"63.623047\" xlink:href=\"#DejaVuSans-51\"/>\n      </g>\n     </g>\n    </g>\n    <g id=\"xtick_4\">\n     <g id=\"line2d_4\">\n      <g>\n       <use style=\"stroke:#000000;stroke-width:0.8;\" x=\"616.693319\" xlink:href=\"#m3bfabb4fed\" y=\"387.72\"/>\n      </g>\n     </g>\n     <g id=\"text_4\">\n      <!-- 14 -->\n      <g transform=\"translate(610.330819 402.318437)scale(0.1 -0.1)\">\n       <defs>\n        <path d=\"M 37.796875 64.3125 \nL 12.890625 25.390625 \nL 37.796875 25.390625 \nz\nM 35.203125 72.90625 \nL 47.609375 72.90625 \nL 47.609375 25.390625 \nL 58.015625 25.390625 \nL 58.015625 17.1875 \nL 47.609375 17.1875 \nL 47.609375 0 \nL 37.796875 0 \nL 37.796875 17.1875 \nL 4.890625 17.1875 \nL 4.890625 26.703125 \nz\n\" id=\"DejaVuSans-52\"/>\n       </defs>\n       <use xlink:href=\"#DejaVuSans-49\"/>\n       <use x=\"63.623047\" xlink:href=\"#DejaVuSans-52\"/>\n      </g>\n     </g>\n    </g>\n    <g id=\"xtick_5\">\n     <g id=\"line2d_5\">\n      <g>\n       <use style=\"stroke:#000000;stroke-width:0.8;\" x=\"761.003664\" xlink:href=\"#m3bfabb4fed\" y=\"387.72\"/>\n      </g>\n     </g>\n     <g id=\"text_5\">\n      <!-- 15 -->\n      <g transform=\"translate(754.641164 402.318437)scale(0.1 -0.1)\">\n       <defs>\n        <path d=\"M 10.796875 72.90625 \nL 49.515625 72.90625 \nL 49.515625 64.59375 \nL 19.828125 64.59375 \nL 19.828125 46.734375 \nQ 21.96875 47.46875 24.109375 47.828125 \nQ 26.265625 48.1875 28.421875 48.1875 \nQ 40.625 48.1875 47.75 41.5 \nQ 54.890625 34.8125 54.890625 23.390625 \nQ 54.890625 11.625 47.5625 5.09375 \nQ 40.234375 -1.421875 26.90625 -1.421875 \nQ 22.3125 -1.421875 17.546875 -0.640625 \nQ 12.796875 0.140625 7.71875 1.703125 \nL 7.71875 11.625 \nQ 12.109375 9.234375 16.796875 8.0625 \nQ 21.484375 6.890625 26.703125 6.890625 \nQ 35.15625 6.890625 40.078125 11.328125 \nQ 45.015625 15.765625 45.015625 23.390625 \nQ 45.015625 31 40.078125 35.4375 \nQ 35.15625 39.890625 26.703125 39.890625 \nQ 22.75 39.890625 18.8125 39.015625 \nQ 14.890625 38.140625 10.796875 36.28125 \nz\n\" id=\"DejaVuSans-53\"/>\n       </defs>\n       <use xlink:href=\"#DejaVuSans-49\"/>\n       <use x=\"63.623047\" xlink:href=\"#DejaVuSans-53\"/>\n      </g>\n     </g>\n    </g>\n    <g id=\"text_6\">\n     <!-- Alcohol -->\n     <g transform=\"translate(444.046094 415.996562)scale(0.1 -0.1)\">\n      <defs>\n       <path d=\"M 34.1875 63.1875 \nL 20.796875 26.90625 \nL 47.609375 26.90625 \nz\nM 28.609375 72.90625 \nL 39.796875 72.90625 \nL 67.578125 0 \nL 57.328125 0 \nL 50.6875 18.703125 \nL 17.828125 18.703125 \nL 11.1875 0 \nL 0.78125 0 \nz\n\" id=\"DejaVuSans-65\"/>\n       <path d=\"M 9.421875 75.984375 \nL 18.40625 75.984375 \nL 18.40625 0 \nL 9.421875 0 \nz\n\" id=\"DejaVuSans-108\"/>\n       <path d=\"M 48.78125 52.59375 \nL 48.78125 44.1875 \nQ 44.96875 46.296875 41.140625 47.34375 \nQ 37.3125 48.390625 33.40625 48.390625 \nQ 24.65625 48.390625 19.8125 42.84375 \nQ 14.984375 37.3125 14.984375 27.296875 \nQ 14.984375 17.28125 19.8125 11.734375 \nQ 24.65625 6.203125 33.40625 6.203125 \nQ 37.3125 6.203125 41.140625 7.25 \nQ 44.96875 8.296875 48.78125 10.40625 \nL 48.78125 2.09375 \nQ 45.015625 0.34375 40.984375 -0.53125 \nQ 36.96875 -1.421875 32.421875 -1.421875 \nQ 20.0625 -1.421875 12.78125 6.34375 \nQ 5.515625 14.109375 5.515625 27.296875 \nQ 5.515625 40.671875 12.859375 48.328125 \nQ 20.21875 56 33.015625 56 \nQ 37.15625 56 41.109375 55.140625 \nQ 45.0625 54.296875 48.78125 52.59375 \nz\n\" id=\"DejaVuSans-99\"/>\n       <path d=\"M 30.609375 48.390625 \nQ 23.390625 48.390625 19.1875 42.75 \nQ 14.984375 37.109375 14.984375 27.296875 \nQ 14.984375 17.484375 19.15625 11.84375 \nQ 23.34375 6.203125 30.609375 6.203125 \nQ 37.796875 6.203125 41.984375 11.859375 \nQ 46.1875 17.53125 46.1875 27.296875 \nQ 46.1875 37.015625 41.984375 42.703125 \nQ 37.796875 48.390625 30.609375 48.390625 \nz\nM 30.609375 56 \nQ 42.328125 56 49.015625 48.375 \nQ 55.71875 40.765625 55.71875 27.296875 \nQ 55.71875 13.875 49.015625 6.21875 \nQ 42.328125 -1.421875 30.609375 -1.421875 \nQ 18.84375 -1.421875 12.171875 6.21875 \nQ 5.515625 13.875 5.515625 27.296875 \nQ 5.515625 40.765625 12.171875 48.375 \nQ 18.84375 56 30.609375 56 \nz\n\" id=\"DejaVuSans-111\"/>\n       <path d=\"M 54.890625 33.015625 \nL 54.890625 0 \nL 45.90625 0 \nL 45.90625 32.71875 \nQ 45.90625 40.484375 42.875 44.328125 \nQ 39.84375 48.1875 33.796875 48.1875 \nQ 26.515625 48.1875 22.3125 43.546875 \nQ 18.109375 38.921875 18.109375 30.90625 \nL 18.109375 0 \nL 9.078125 0 \nL 9.078125 75.984375 \nL 18.109375 75.984375 \nL 18.109375 46.1875 \nQ 21.34375 51.125 25.703125 53.5625 \nQ 30.078125 56 35.796875 56 \nQ 45.21875 56 50.046875 50.171875 \nQ 54.890625 44.34375 54.890625 33.015625 \nz\n\" id=\"DejaVuSans-104\"/>\n      </defs>\n      <use xlink:href=\"#DejaVuSans-65\"/>\n      <use x=\"68.408203\" xlink:href=\"#DejaVuSans-108\"/>\n      <use x=\"96.191406\" xlink:href=\"#DejaVuSans-99\"/>\n      <use x=\"151.171875\" xlink:href=\"#DejaVuSans-111\"/>\n      <use x=\"212.353516\" xlink:href=\"#DejaVuSans-104\"/>\n      <use x=\"275.732422\" xlink:href=\"#DejaVuSans-111\"/>\n      <use x=\"336.914062\" xlink:href=\"#DejaVuSans-108\"/>\n     </g>\n    </g>\n   </g>\n   <g id=\"matplotlib.axis_2\">\n    <g id=\"ytick_1\">\n     <g id=\"line2d_6\">\n      <defs>\n       <path d=\"M 0 0 \nL -3.5 0 \n\" id=\"m4d749aac57\" style=\"stroke:#000000;stroke-width:0.8;\"/>\n      </defs>\n      <g>\n       <use style=\"stroke:#000000;stroke-width:0.8;\" x=\"43.78125\" xlink:href=\"#m4d749aac57\" y=\"373.918756\"/>\n      </g>\n     </g>\n     <g id=\"text_7\">\n      <!-- 0.5 -->\n      <g transform=\"translate(20.878125 377.717975)scale(0.1 -0.1)\">\n       <defs>\n        <path d=\"M 31.78125 66.40625 \nQ 24.171875 66.40625 20.328125 58.90625 \nQ 16.5 51.421875 16.5 36.375 \nQ 16.5 21.390625 20.328125 13.890625 \nQ 24.171875 6.390625 31.78125 6.390625 \nQ 39.453125 6.390625 43.28125 13.890625 \nQ 47.125 21.390625 47.125 36.375 \nQ 47.125 51.421875 43.28125 58.90625 \nQ 39.453125 66.40625 31.78125 66.40625 \nz\nM 31.78125 74.21875 \nQ 44.046875 74.21875 50.515625 64.515625 \nQ 56.984375 54.828125 56.984375 36.375 \nQ 56.984375 17.96875 50.515625 8.265625 \nQ 44.046875 -1.421875 31.78125 -1.421875 \nQ 19.53125 -1.421875 13.0625 8.265625 \nQ 6.59375 17.96875 6.59375 36.375 \nQ 6.59375 54.828125 13.0625 64.515625 \nQ 19.53125 74.21875 31.78125 74.21875 \nz\n\" id=\"DejaVuSans-48\"/>\n        <path d=\"M 10.6875 12.40625 \nL 21 12.40625 \nL 21 0 \nL 10.6875 0 \nz\n\" id=\"DejaVuSans-46\"/>\n       </defs>\n       <use xlink:href=\"#DejaVuSans-48\"/>\n       <use x=\"63.623047\" xlink:href=\"#DejaVuSans-46\"/>\n       <use x=\"95.410156\" xlink:href=\"#DejaVuSans-53\"/>\n      </g>\n     </g>\n    </g>\n    <g id=\"ytick_2\">\n     <g id=\"line2d_7\">\n      <g>\n       <use style=\"stroke:#000000;stroke-width:0.8;\" x=\"43.78125\" xlink:href=\"#m4d749aac57\" y=\"324.628601\"/>\n      </g>\n     </g>\n     <g id=\"text_8\">\n      <!-- 1.0 -->\n      <g transform=\"translate(20.878125 328.42782)scale(0.1 -0.1)\">\n       <use xlink:href=\"#DejaVuSans-49\"/>\n       <use x=\"63.623047\" xlink:href=\"#DejaVuSans-46\"/>\n       <use x=\"95.410156\" xlink:href=\"#DejaVuSans-48\"/>\n      </g>\n     </g>\n    </g>\n    <g id=\"ytick_3\">\n     <g id=\"line2d_8\">\n      <g>\n       <use style=\"stroke:#000000;stroke-width:0.8;\" x=\"43.78125\" xlink:href=\"#m4d749aac57\" y=\"275.338446\"/>\n      </g>\n     </g>\n     <g id=\"text_9\">\n      <!-- 1.5 -->\n      <g transform=\"translate(20.878125 279.137664)scale(0.1 -0.1)\">\n       <use xlink:href=\"#DejaVuSans-49\"/>\n       <use x=\"63.623047\" xlink:href=\"#DejaVuSans-46\"/>\n       <use x=\"95.410156\" xlink:href=\"#DejaVuSans-53\"/>\n      </g>\n     </g>\n    </g>\n    <g id=\"ytick_4\">\n     <g id=\"line2d_9\">\n      <g>\n       <use style=\"stroke:#000000;stroke-width:0.8;\" x=\"43.78125\" xlink:href=\"#m4d749aac57\" y=\"226.04829\"/>\n      </g>\n     </g>\n     <g id=\"text_10\">\n      <!-- 2.0 -->\n      <g transform=\"translate(20.878125 229.847509)scale(0.1 -0.1)\">\n       <use xlink:href=\"#DejaVuSans-50\"/>\n       <use x=\"63.623047\" xlink:href=\"#DejaVuSans-46\"/>\n       <use x=\"95.410156\" xlink:href=\"#DejaVuSans-48\"/>\n      </g>\n     </g>\n    </g>\n    <g id=\"ytick_5\">\n     <g id=\"line2d_10\">\n      <g>\n       <use style=\"stroke:#000000;stroke-width:0.8;\" x=\"43.78125\" xlink:href=\"#m4d749aac57\" y=\"176.758135\"/>\n      </g>\n     </g>\n     <g id=\"text_11\">\n      <!-- 2.5 -->\n      <g transform=\"translate(20.878125 180.557353)scale(0.1 -0.1)\">\n       <use xlink:href=\"#DejaVuSans-50\"/>\n       <use x=\"63.623047\" xlink:href=\"#DejaVuSans-46\"/>\n       <use x=\"95.410156\" xlink:href=\"#DejaVuSans-53\"/>\n      </g>\n     </g>\n    </g>\n    <g id=\"ytick_6\">\n     <g id=\"line2d_11\">\n      <g>\n       <use style=\"stroke:#000000;stroke-width:0.8;\" x=\"43.78125\" xlink:href=\"#m4d749aac57\" y=\"127.467979\"/>\n      </g>\n     </g>\n     <g id=\"text_12\">\n      <!-- 3.0 -->\n      <g transform=\"translate(20.878125 131.267198)scale(0.1 -0.1)\">\n       <use xlink:href=\"#DejaVuSans-51\"/>\n       <use x=\"63.623047\" xlink:href=\"#DejaVuSans-46\"/>\n       <use x=\"95.410156\" xlink:href=\"#DejaVuSans-48\"/>\n      </g>\n     </g>\n    </g>\n    <g id=\"ytick_7\">\n     <g id=\"line2d_12\">\n      <g>\n       <use style=\"stroke:#000000;stroke-width:0.8;\" x=\"43.78125\" xlink:href=\"#m4d749aac57\" y=\"78.177824\"/>\n      </g>\n     </g>\n     <g id=\"text_13\">\n      <!-- 3.5 -->\n      <g transform=\"translate(20.878125 81.977043)scale(0.1 -0.1)\">\n       <use xlink:href=\"#DejaVuSans-51\"/>\n       <use x=\"63.623047\" xlink:href=\"#DejaVuSans-46\"/>\n       <use x=\"95.410156\" xlink:href=\"#DejaVuSans-53\"/>\n      </g>\n     </g>\n    </g>\n    <g id=\"ytick_8\">\n     <g id=\"line2d_13\">\n      <g>\n       <use style=\"stroke:#000000;stroke-width:0.8;\" x=\"43.78125\" xlink:href=\"#m4d749aac57\" y=\"28.887668\"/>\n      </g>\n     </g>\n     <g id=\"text_14\">\n      <!-- 4.0 -->\n      <g transform=\"translate(20.878125 32.686887)scale(0.1 -0.1)\">\n       <use xlink:href=\"#DejaVuSans-52\"/>\n       <use x=\"63.623047\" xlink:href=\"#DejaVuSans-46\"/>\n       <use x=\"95.410156\" xlink:href=\"#DejaVuSans-48\"/>\n      </g>\n     </g>\n    </g>\n    <g id=\"text_15\">\n     <!-- Ash -->\n     <g transform=\"translate(14.798438 206.65375)rotate(-90)scale(0.1 -0.1)\">\n      <defs>\n       <path d=\"M 44.28125 53.078125 \nL 44.28125 44.578125 \nQ 40.484375 46.53125 36.375 47.5 \nQ 32.28125 48.484375 27.875 48.484375 \nQ 21.1875 48.484375 17.84375 46.4375 \nQ 14.5 44.390625 14.5 40.28125 \nQ 14.5 37.15625 16.890625 35.375 \nQ 19.28125 33.59375 26.515625 31.984375 \nL 29.59375 31.296875 \nQ 39.15625 29.25 43.1875 25.515625 \nQ 47.21875 21.78125 47.21875 15.09375 \nQ 47.21875 7.46875 41.1875 3.015625 \nQ 35.15625 -1.421875 24.609375 -1.421875 \nQ 20.21875 -1.421875 15.453125 -0.5625 \nQ 10.6875 0.296875 5.421875 2 \nL 5.421875 11.28125 \nQ 10.40625 8.6875 15.234375 7.390625 \nQ 20.0625 6.109375 24.8125 6.109375 \nQ 31.15625 6.109375 34.5625 8.28125 \nQ 37.984375 10.453125 37.984375 14.40625 \nQ 37.984375 18.0625 35.515625 20.015625 \nQ 33.0625 21.96875 24.703125 23.78125 \nL 21.578125 24.515625 \nQ 13.234375 26.265625 9.515625 29.90625 \nQ 5.8125 33.546875 5.8125 39.890625 \nQ 5.8125 47.609375 11.28125 51.796875 \nQ 16.75 56 26.8125 56 \nQ 31.78125 56 36.171875 55.265625 \nQ 40.578125 54.546875 44.28125 53.078125 \nz\n\" id=\"DejaVuSans-115\"/>\n      </defs>\n      <use xlink:href=\"#DejaVuSans-65\"/>\n      <use x=\"68.408203\" xlink:href=\"#DejaVuSans-115\"/>\n      <use x=\"120.507812\" xlink:href=\"#DejaVuSans-104\"/>\n     </g>\n    </g>\n   </g>\n   <g id=\"patch_3\">\n    <path d=\"M 43.78125 387.72 \nL 43.78125 7.2 \n\" style=\"fill:none;stroke:#000000;stroke-linecap:square;stroke-linejoin:miter;stroke-width:0.8;\"/>\n   </g>\n   <g id=\"patch_4\">\n    <path d=\"M 880.78125 387.72 \nL 880.78125 7.2 \n\" style=\"fill:none;stroke:#000000;stroke-linecap:square;stroke-linejoin:miter;stroke-width:0.8;\"/>\n   </g>\n   <g id=\"patch_5\">\n    <path d=\"M 43.78125 387.72 \nL 880.78125 387.72 \n\" style=\"fill:none;stroke:#000000;stroke-linecap:square;stroke-linejoin:miter;stroke-width:0.8;\"/>\n   </g>\n   <g id=\"patch_6\">\n    <path d=\"M 43.78125 7.2 \nL 880.78125 7.2 \n\" style=\"fill:none;stroke:#000000;stroke-linecap:square;stroke-linejoin:miter;stroke-width:0.8;\"/>\n   </g>\n  </g>\n </g>\n <defs>\n  <clipPath id=\"p310306f6ef\">\n   <rect height=\"380.52\" width=\"837\" x=\"43.78125\" y=\"7.2\"/>\n  </clipPath>\n </defs>\n</svg>\n",
      "image/png": "[encoded data removed]"
     },
     "metadata": {
      "needs_background": "light"
     }
    }
   ],
   "source": [
    "plt.figure(1 , figsize = (15 , 7) )\n",
    "\n",
    "# it will clear the graph from existing pattern\n",
    "plt.clf() # clear the frame because plt variable holds some information into its memory.\n",
    "\n",
    "Z = Z.reshape(xx.shape) # it is required towards the x and we are changinng its size towards the x.\n",
    "\n",
    "plt.imshow(Z , interpolation='nearest', \n",
    "           extent=(xx.min(), xx.max(), yy.min(), yy.max()),\n",
    "           cmap = plt.cm.Pastel2, aspect = 'auto', origin='lower')\n",
    "\n",
    "plt.scatter( x = 'Alcohol', y = 'Ash', data = df, c = labels1, s = 50)\n",
    "plt.scatter(x = centroids1[: , 0] , y =  centroids1[: , 1] , s = 100 , c = 'red' , alpha = 0.5)\n",
    "plt.ylabel('Ash') , plt.xlabel('Alcohol')\n",
    "plt.show()"
   ]
  },
  {
   "cell_type": "code",
   "execution_count": 61,
   "metadata": {},
   "outputs": [
    {
     "output_type": "execute_result",
     "data": {
      "text/plain": [
       "array([[12.0785    ,  2.27966667],\n",
       "       [13.88412698,  2.45888889],\n",
       "       [12.99454545,  2.35545455]])"
      ]
     },
     "metadata": {},
     "execution_count": 61
    }
   ],
   "source": [
    "# Applying KMeans for k=3\n",
    "algorithm = (KMeans(n_clusters = 3, init='k-means++', n_init = 10, max_iter=300, \n",
    "                        tol=0.0001, random_state= 111 , algorithm='elkan'))\n",
    "algorithm.fit(X1)\n",
    "labels1 = algorithm.labels_\n",
    "centroids1 = algorithm.cluster_centers_\n",
    "centroids1"
   ]
  },
  {
   "cell_type": "code",
   "execution_count": 62,
   "metadata": {},
   "outputs": [],
   "source": [
    "h = 0.02\n",
    "x_min, x_max = X1[:, 0].min() - 1, X1[:, 0].max() + 1\n",
    "y_min, y_max = X1[:, 1].min() - 1, X1[:, 1].max() + 1\n",
    "xx, yy = np.meshgrid(np.arange(x_min, x_max, h), np.arange(y_min, y_max, h))\n",
    "Z = algorithm.predict(np.c_[xx.ravel(), yy.ravel()]) "
   ]
  },
  {
   "cell_type": "code",
   "execution_count": 63,
   "metadata": {},
   "outputs": [
    {
     "output_type": "display_data",
     "data": {
      "text/plain": "<Figure size 1080x504 with 1 Axes>",
      "image/svg+xml": "<?xml version=\"1.0\" encoding=\"utf-8\" standalone=\"no\"?>\n<!DOCTYPE svg PUBLIC \"-//W3C//DTD SVG 1.1//EN\"\n  \"http://www.w3.org/Graphics/SVG/1.1/DTD/svg11.dtd\">\n<!-- Created with matplotlib (https://matplotlib.org/) -->\n<svg height=\"425.27625pt\" version=\"1.1\" viewBox=\"0 0 887.98125 425.27625\" width=\"887.98125pt\" xmlns=\"http://www.w3.org/2000/svg\" xmlns:xlink=\"http://www.w3.org/1999/xlink\">\n <metadata>\n  <rdf:RDF xmlns:cc=\"http://creativecommons.org/ns#\" xmlns:dc=\"http://purl.org/dc/elements/1.1/\" xmlns:rdf=\"http://www.w3.org/1999/02/22-rdf-syntax-ns#\">\n   <cc:Work>\n    <dc:type rdf:resource=\"http://purl.org/dc/dcmitype/StillImage\"/>\n    <dc:date>2021-05-09T08:57:41.805480</dc:date>\n    <dc:format>image/svg+xml</dc:format>\n    <dc:creator>\n     <cc:Agent>\n      <dc:title>Matplotlib v3.3.4, https://matplotlib.org/</dc:title>\n     </cc:Agent>\n    </dc:creator>\n   </cc:Work>\n  </rdf:RDF>\n </metadata>\n <defs>\n  <style type=\"text/css\">*{stroke-linecap:butt;stroke-linejoin:round;}</style>\n </defs>\n <g id=\"figure_1\">\n  <g id=\"patch_1\">\n   <path d=\"M 0 425.27625 \nL 887.98125 425.27625 \nL 887.98125 0 \nL 0 0 \nz\n\" style=\"fill:none;\"/>\n  </g>\n  <g id=\"axes_1\">\n   <g id=\"patch_2\">\n    <path d=\"M 43.78125 387.72 \nL 880.78125 387.72 \nL 880.78125 7.2 \nL 43.78125 7.2 \nz\n\" style=\"fill:#ffffff;\"/>\n   </g>\n   <g clip-path=\"url(#pd3a58f4a6f)\">\n    <image height=\"381\" id=\"image5fc981f1e7\" transform=\"scale(1 -1)translate(0 -381)\" width=\"837\" x=\"43.78125\" xlink:href=\"data:image/png;base64,\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\" y=\"-6.72\"/>\n   </g>\n   <g id=\"PathCollection_1\">\n    <defs>\n     <path d=\"M 0 5 \nC 1.326016 5 2.597899 4.473168 3.535534 3.535534 \nC 4.473168 2.597899 5 1.326016 5 -0 \nC 5 -1.326016 4.473168 -2.597899 3.535534 -3.535534 \nC 2.597899 -4.473168 1.326016 -5 0 -5 \nC -1.326016 -5 -2.597899 -4.473168 -3.535534 -3.535534 \nC -4.473168 -2.597899 -5 -1.326016 -5 0 \nC -5 1.326016 -4.473168 2.597899 -3.535534 3.535534 \nC -2.597899 4.473168 -1.326016 5 0 5 \nz\n\" id=\"C0_0_fe5942b0f6\"/>\n    </defs>\n    <g clip-path=\"url(#pd3a58f4a6f)\">\n     <use style=\"fill:#21918c;stroke:#21918c;\" x=\"649.884698\" xlink:href=\"#C0_0_fe5942b0f6\" y=\"183.658756\"/>\n    </g>\n    <g clip-path=\"url(#pd3a58f4a6f)\">\n     <use style=\"fill:#fde725;stroke:#fde725;\" x=\"501.245043\" xlink:href=\"#C0_0_fe5942b0f6\" y=\"212.247047\"/>\n    </g>\n    <g clip-path=\"url(#pd3a58f4a6f)\">\n     <use style=\"fill:#fde725;stroke:#fde725;\" x=\"495.472629\" xlink:href=\"#C0_0_fe5942b0f6\" y=\"159.999482\"/>\n    </g>\n    <g clip-path=\"url(#pd3a58f4a6f)\">\n     <use style=\"fill:#21918c;stroke:#21918c;\" x=\"670.088147\" xlink:href=\"#C0_0_fe5942b0f6\" y=\"176.758135\"/>\n    </g>\n    <g clip-path=\"url(#pd3a58f4a6f)\">\n     <use style=\"fill:#fde725;stroke:#fde725;\" x=\"507.017457\" xlink:href=\"#C0_0_fe5942b0f6\" y=\"140.28342\"/>\n    </g>\n    <g clip-path=\"url(#pd3a58f4a6f)\">\n     <use style=\"fill:#21918c;stroke:#21918c;\" x=\"645.555388\" xlink:href=\"#C0_0_fe5942b0f6\" y=\"181.68715\"/>\n    </g>\n    <g clip-path=\"url(#pd3a58f4a6f)\">\n     <use style=\"fill:#21918c;stroke:#21918c;\" x=\"672.974353\" xlink:href=\"#C0_0_fe5942b0f6\" y=\"181.68715\"/>\n    </g>\n    <g clip-path=\"url(#pd3a58f4a6f)\">\n     <use style=\"fill:#21918c;stroke:#21918c;\" x=\"625.35194\" xlink:href=\"#C0_0_fe5942b0f6\" y=\"165.914301\"/>\n    </g>\n    <g clip-path=\"url(#pd3a58f4a6f)\">\n     <use style=\"fill:#21918c;stroke:#21918c;\" x=\"736.470905\" xlink:href=\"#C0_0_fe5942b0f6\" y=\"209.289637\"/>\n    </g>\n    <g clip-path=\"url(#pd3a58f4a6f)\">\n     <use style=\"fill:#21918c;stroke:#21918c;\" x=\"596.489871\" xlink:href=\"#C0_0_fe5942b0f6\" y=\"199.431606\"/>\n    </g>\n    <g clip-path=\"url(#pd3a58f4a6f)\">\n     <use style=\"fill:#21918c;stroke:#21918c;\" x=\"631.124353\" xlink:href=\"#C0_0_fe5942b0f6\" y=\"196.474197\"/>\n    </g>\n    <g clip-path=\"url(#pd3a58f4a6f)\">\n     <use style=\"fill:#21918c;stroke:#21918c;\" x=\"634.01056\" xlink:href=\"#C0_0_fe5942b0f6\" y=\"194.502591\"/>\n    </g>\n    <g clip-path=\"url(#pd3a58f4a6f)\">\n     <use style=\"fill:#21918c;stroke:#21918c;\" x=\"580.615733\" xlink:href=\"#C0_0_fe5942b0f6\" y=\"185.630363\"/>\n    </g>\n    <g clip-path=\"url(#pd3a58f4a6f)\">\n     <use style=\"fill:#21918c;stroke:#21918c;\" x=\"724.926078\" xlink:href=\"#C0_0_fe5942b0f6\" y=\"187.601969\"/>\n    </g>\n    <g clip-path=\"url(#pd3a58f4a6f)\">\n     <use style=\"fill:#21918c;stroke:#21918c;\" x=\"671.53125\" xlink:href=\"#C0_0_fe5942b0f6\" y=\"188.587772\"/>\n    </g>\n    <g clip-path=\"url(#pd3a58f4a6f)\">\n     <use style=\"fill:#21918c;stroke:#21918c;\" x=\"563.298491\" xlink:href=\"#C0_0_fe5942b0f6\" y=\"157.042073\"/>\n    </g>\n    <g clip-path=\"url(#pd3a58f4a6f)\">\n     <use style=\"fill:#21918c;stroke:#21918c;\" x=\"659.986422\" xlink:href=\"#C0_0_fe5942b0f6\" y=\"155.070466\"/>\n    </g>\n    <g clip-path=\"url(#pd3a58f4a6f)\">\n     <use style=\"fill:#21918c;stroke:#21918c;\" x=\"592.16056\" xlink:href=\"#C0_0_fe5942b0f6\" y=\"164.928497\"/>\n    </g>\n    <g clip-path=\"url(#pd3a58f4a6f)\">\n     <use style=\"fill:#21918c;stroke:#21918c;\" x=\"644.112284\" xlink:href=\"#C0_0_fe5942b0f6\" y=\"178.729741\"/>\n    </g>\n    <g clip-path=\"url(#pd3a58f4a6f)\">\n     <use style=\"fill:#21918c;stroke:#21918c;\" x=\"564.741595\" xlink:href=\"#C0_0_fe5942b0f6\" y=\"170.843316\"/>\n    </g>\n    <g clip-path=\"url(#pd3a58f4a6f)\">\n     <use style=\"fill:#21918c;stroke:#21918c;\" x=\"625.35194\" xlink:href=\"#C0_0_fe5942b0f6\" y=\"198.445803\"/>\n    </g>\n    <g clip-path=\"url(#pd3a58f4a6f)\">\n     <use style=\"fill:#fde725;stroke:#fde725;\" x=\"462.28125\" xlink:href=\"#C0_0_fe5942b0f6\" y=\"161.971088\"/>\n    </g>\n    <g clip-path=\"url(#pd3a58f4a6f)\">\n     <use style=\"fill:#21918c;stroke:#21918c;\" x=\"574.843319\" xlink:href=\"#C0_0_fe5942b0f6\" y=\"190.559378\"/>\n    </g>\n    <g clip-path=\"url(#pd3a58f4a6f)\">\n     <use style=\"fill:#fde725;stroke:#fde725;\" x=\"450.736422\" xlink:href=\"#C0_0_fe5942b0f6\" y=\"174.786528\"/>\n    </g>\n    <g clip-path=\"url(#pd3a58f4a6f)\">\n     <use style=\"fill:#21918c;stroke:#21918c;\" x=\"544.538147\" xlink:href=\"#C0_0_fe5942b0f6\" y=\"165.914301\"/>\n    </g>\n    <g clip-path=\"url(#pd3a58f4a6f)\">\n     <use style=\"fill:#fde725;stroke:#fde725;\" x=\"479.598491\" xlink:href=\"#C0_0_fe5942b0f6\" y=\"105.780311\"/>\n    </g>\n    <g clip-path=\"url(#pd3a58f4a6f)\">\n     <use style=\"fill:#fde725;stroke:#fde725;\" x=\"528.664009\" xlink:href=\"#C0_0_fe5942b0f6\" y=\"164.928497\"/>\n    </g>\n    <g clip-path=\"url(#pd3a58f4a6f)\">\n     <use style=\"fill:#fde725;stroke:#fde725;\" x=\"515.676078\" xlink:href=\"#C0_0_fe5942b0f6\" y=\"212.247047\"/>\n    </g>\n    <g clip-path=\"url(#pd3a58f4a6f)\">\n     <use style=\"fill:#21918c;stroke:#21918c;\" x=\"597.932974\" xlink:href=\"#C0_0_fe5942b0f6\" y=\"147.184041\"/>\n    </g>\n    <g clip-path=\"url(#pd3a58f4a6f)\">\n     <use style=\"fill:#21918c;stroke:#21918c;\" x=\"619.579526\" xlink:href=\"#C0_0_fe5942b0f6\" y=\"205.346425\"/>\n    </g>\n    <g clip-path=\"url(#pd3a58f4a6f)\">\n     <use style=\"fill:#21918c;stroke:#21918c;\" x=\"577.729526\" xlink:href=\"#C0_0_fe5942b0f6\" y=\"157.042073\"/>\n    </g>\n    <g clip-path=\"url(#pd3a58f4a6f)\">\n     <use style=\"fill:#21918c;stroke:#21918c;\" x=\"556.082974\" xlink:href=\"#C0_0_fe5942b0f6\" y=\"190.559378\"/>\n    </g>\n    <g clip-path=\"url(#pd3a58f4a6f)\">\n     <use style=\"fill:#21918c;stroke:#21918c;\" x=\"570.514009\" xlink:href=\"#C0_0_fe5942b0f6\" y=\"190.559378\"/>\n    </g>\n    <g clip-path=\"url(#pd3a58f4a6f)\">\n     <use style=\"fill:#21918c;stroke:#21918c;\" x=\"582.058836\" xlink:href=\"#C0_0_fe5942b0f6\" y=\"157.042073\"/>\n    </g>\n    <g clip-path=\"url(#pd3a58f4a6f)\">\n     <use style=\"fill:#21918c;stroke:#21918c;\" x=\"545.98125\" xlink:href=\"#C0_0_fe5942b0f6\" y=\"161.971088\"/>\n    </g>\n    <g clip-path=\"url(#pd3a58f4a6f)\">\n     <use style=\"fill:#21918c;stroke:#21918c;\" x=\"541.65194\" xlink:href=\"#C0_0_fe5942b0f6\" y=\"185.630363\"/>\n    </g>\n    <g clip-path=\"url(#pd3a58f4a6f)\">\n     <use style=\"fill:#fde725;stroke:#fde725;\" x=\"512.789871\" xlink:href=\"#C0_0_fe5942b0f6\" y=\"143.240829\"/>\n    </g>\n    <g clip-path=\"url(#pd3a58f4a6f)\">\n     <use style=\"fill:#fde725;stroke:#fde725;\" x=\"479.598491\" xlink:href=\"#C0_0_fe5942b0f6\" y=\"171.829119\"/>\n    </g>\n    <g clip-path=\"url(#pd3a58f4a6f)\">\n     <use style=\"fill:#fde725;stroke:#fde725;\" x=\"482.484698\" xlink:href=\"#C0_0_fe5942b0f6\" y=\"216.190259\"/>\n    </g>\n    <g clip-path=\"url(#pd3a58f4a6f)\">\n     <use style=\"fill:#21918c;stroke:#21918c;\" x=\"648.441595\" xlink:href=\"#C0_0_fe5942b0f6\" y=\"175.772332\"/>\n    </g>\n    <g clip-path=\"url(#pd3a58f4a6f)\">\n     <use style=\"fill:#21918c;stroke:#21918c;\" x=\"553.196767\" xlink:href=\"#C0_0_fe5942b0f6\" y=\"195.488394\"/>\n    </g>\n    <g clip-path=\"url(#pd3a58f4a6f)\">\n     <use style=\"fill:#fde725;stroke:#fde725;\" x=\"531.550216\" xlink:href=\"#C0_0_fe5942b0f6\" y=\"214.218653\"/>\n    </g>\n    <g clip-path=\"url(#pd3a58f4a6f)\">\n     <use style=\"fill:#21918c;stroke:#21918c;\" x=\"599.376078\" xlink:href=\"#C0_0_fe5942b0f6\" y=\"167.885907\"/>\n    </g>\n    <g clip-path=\"url(#pd3a58f4a6f)\">\n     <use style=\"fill:#fde725;stroke:#fde725;\" x=\"507.017457\" xlink:href=\"#C0_0_fe5942b0f6\" y=\"197.46\"/>\n    </g>\n    <g clip-path=\"url(#pd3a58f4a6f)\">\n     <use style=\"fill:#fde725;stroke:#fde725;\" x=\"479.598491\" xlink:href=\"#C0_0_fe5942b0f6\" y=\"216.190259\"/>\n    </g>\n    <g clip-path=\"url(#pd3a58f4a6f)\">\n     <use style=\"fill:#21918c;stroke:#21918c;\" x=\"646.998491\" xlink:href=\"#C0_0_fe5942b0f6\" y=\"182.672953\"/>\n    </g>\n    <g clip-path=\"url(#pd3a58f4a6f)\">\n     <use style=\"fill:#21918c;stroke:#21918c;\" x=\"671.53125\" xlink:href=\"#C0_0_fe5942b0f6\" y=\"198.445803\"/>\n    </g>\n    <g clip-path=\"url(#pd3a58f4a6f)\">\n     <use style=\"fill:#21918c;stroke:#21918c;\" x=\"602.262284\" xlink:href=\"#C0_0_fe5942b0f6\" y=\"214.218653\"/>\n    </g>\n    <g clip-path=\"url(#pd3a58f4a6f)\">\n     <use style=\"fill:#21918c;stroke:#21918c;\" x=\"631.124353\" xlink:href=\"#C0_0_fe5942b0f6\" y=\"186.616166\"/>\n    </g>\n    <g clip-path=\"url(#pd3a58f4a6f)\">\n     <use style=\"fill:#21918c;stroke:#21918c;\" x=\"608.034698\" xlink:href=\"#C0_0_fe5942b0f6\" y=\"199.431606\"/>\n    </g>\n    <g clip-path=\"url(#pd3a58f4a6f)\">\n     <use style=\"fill:#fde725;stroke:#fde725;\" x=\"479.598491\" xlink:href=\"#C0_0_fe5942b0f6\" y=\"222.105078\"/>\n    </g>\n    <g clip-path=\"url(#pd3a58f4a6f)\">\n     <use style=\"fill:#21918c;stroke:#21918c;\" x=\"592.16056\" xlink:href=\"#C0_0_fe5942b0f6\" y=\"166.900104\"/>\n    </g>\n    <g clip-path=\"url(#pd3a58f4a6f)\">\n     <use style=\"fill:#21918c;stroke:#21918c;\" x=\"590.717457\" xlink:href=\"#C0_0_fe5942b0f6\" y=\"184.64456\"/>\n    </g>\n    <g clip-path=\"url(#pd3a58f4a6f)\">\n     <use style=\"fill:#21918c;stroke:#21918c;\" x=\"583.50194\" xlink:href=\"#C0_0_fe5942b0f6\" y=\"159.013679\"/>\n    </g>\n    <g clip-path=\"url(#pd3a58f4a6f)\">\n     <use style=\"fill:#21918c;stroke:#21918c;\" x=\"579.172629\" xlink:href=\"#C0_0_fe5942b0f6\" y=\"201.403212\"/>\n    </g>\n    <g clip-path=\"url(#pd3a58f4a6f)\">\n     <use style=\"fill:#21918c;stroke:#21918c;\" x=\"553.196767\" xlink:href=\"#C0_0_fe5942b0f6\" y=\"180.701347\"/>\n    </g>\n    <g clip-path=\"url(#pd3a58f4a6f)\">\n     <use style=\"fill:#21918c;stroke:#21918c;\" x=\"648.441595\" xlink:href=\"#C0_0_fe5942b0f6\" y=\"196.474197\"/>\n    </g>\n    <g clip-path=\"url(#pd3a58f4a6f)\">\n     <use style=\"fill:#fde725;stroke:#fde725;\" x=\"514.232974\" xlink:href=\"#C0_0_fe5942b0f6\" y=\"159.013679\"/>\n    </g>\n    <g clip-path=\"url(#pd3a58f4a6f)\">\n     <use style=\"fill:#21918c;stroke:#21918c;\" x=\"576.286422\" xlink:href=\"#C0_0_fe5942b0f6\" y=\"176.758135\"/>\n    </g>\n    <g clip-path=\"url(#pd3a58f4a6f)\">\n     <use style=\"fill:#440154;stroke:#440154;\" x=\"381.467457\" xlink:href=\"#C0_0_fe5942b0f6\" y=\"289.139689\"/>\n    </g>\n    <g clip-path=\"url(#pd3a58f4a6f)\">\n     <use style=\"fill:#440154;stroke:#440154;\" x=\"375.695043\" xlink:href=\"#C0_0_fe5942b0f6\" y=\"198.445803\"/>\n    </g>\n    <g clip-path=\"url(#pd3a58f4a6f)\">\n     <use style=\"fill:#fde725;stroke:#fde725;\" x=\"420.43125\" xlink:href=\"#C0_0_fe5942b0f6\" y=\"224.076684\"/>\n    </g>\n    <g clip-path=\"url(#pd3a58f4a6f)\">\n     <use style=\"fill:#21918c;stroke:#21918c;\" x=\"569.070905\" xlink:href=\"#C0_0_fe5942b0f6\" y=\"233.934715\"/>\n    </g>\n    <g clip-path=\"url(#pd3a58f4a6f)\">\n     <use style=\"fill:#440154;stroke:#440154;\" x=\"381.467457\" xlink:href=\"#C0_0_fe5942b0f6\" y=\"210.27544\"/>\n    </g>\n    <g clip-path=\"url(#pd3a58f4a6f)\">\n     <use style=\"fill:#440154;stroke:#440154;\" x=\"352.605388\" xlink:href=\"#C0_0_fe5942b0f6\" y=\"173.800725\"/>\n    </g>\n    <g clip-path=\"url(#pd3a58f4a6f)\">\n     <use style=\"fill:#440154;stroke:#440154;\" x=\"381.467457\" xlink:href=\"#C0_0_fe5942b0f6\" y=\"170.843316\"/>\n    </g>\n    <g clip-path=\"url(#pd3a58f4a6f)\">\n     <use style=\"fill:#fde725;stroke:#fde725;\" x=\"488.257112\" xlink:href=\"#C0_0_fe5942b0f6\" y=\"255.622383\"/>\n    </g>\n    <g clip-path=\"url(#pd3a58f4a6f)\">\n     <use style=\"fill:#440154;stroke:#440154;\" x=\"381.467457\" xlink:href=\"#C0_0_fe5942b0f6\" y=\"233.934715\"/>\n    </g>\n    <g clip-path=\"url(#pd3a58f4a6f)\">\n     <use style=\"fill:#fde725;stroke:#fde725;\" x=\"521.448491\" xlink:href=\"#C0_0_fe5942b0f6\" y=\"190.559378\"/>\n    </g>\n    <g clip-path=\"url(#pd3a58f4a6f)\">\n     <use style=\"fill:#440154;stroke:#440154;\" x=\"358.377802\" xlink:href=\"#C0_0_fe5942b0f6\" y=\"250.693368\"/>\n    </g>\n    <g clip-path=\"url(#pd3a58f4a6f)\">\n     <use style=\"fill:#440154;stroke:#440154;\" x=\"369.922629\" xlink:href=\"#C0_0_fe5942b0f6\" y=\"205.346425\"/>\n    </g>\n    <g clip-path=\"url(#pd3a58f4a6f)\">\n     <use style=\"fill:#21918c;stroke:#21918c;\" x=\"596.489871\" xlink:href=\"#C0_0_fe5942b0f6\" y=\"159.999482\"/>\n    </g>\n    <g clip-path=\"url(#pd3a58f4a6f)\">\n     <use style=\"fill:#21918c;stroke:#21918c;\" x=\"543.095043\" xlink:href=\"#C0_0_fe5942b0f6\" y=\"202.389016\"/>\n    </g>\n    <g clip-path=\"url(#pd3a58f4a6f)\">\n     <use style=\"fill:#fde725;stroke:#fde725;\" x=\"470.939871\" xlink:href=\"#C0_0_fe5942b0f6\" y=\"166.900104\"/>\n    </g>\n    <g clip-path=\"url(#pd3a58f4a6f)\">\n     <use style=\"fill:#440154;stroke:#440154;\" x=\"322.300216\" xlink:href=\"#C0_0_fe5942b0f6\" y=\"196.474197\"/>\n    </g>\n    <g clip-path=\"url(#pd3a58f4a6f)\">\n     <use style=\"fill:#440154;stroke:#440154;\" x=\"279.007112\" xlink:href=\"#C0_0_fe5942b0f6\" y=\"233.934715\"/>\n    </g>\n    <g clip-path=\"url(#pd3a58f4a6f)\">\n     <use style=\"fill:#fde725;stroke:#fde725;\" x=\"476.712284\" xlink:href=\"#C0_0_fe5942b0f6\" y=\"254.63658\"/>\n    </g>\n    <g clip-path=\"url(#pd3a58f4a6f)\">\n     <use style=\"fill:#440154;stroke:#440154;\" x=\"304.982974\" xlink:href=\"#C0_0_fe5942b0f6\" y=\"203.374819\"/>\n    </g>\n    <g clip-path=\"url(#pd3a58f4a6f)\">\n     <use style=\"fill:#440154;stroke:#440154;\" x=\"375.695043\" xlink:href=\"#C0_0_fe5942b0f6\" y=\"230.977306\"/>\n    </g>\n    <g clip-path=\"url(#pd3a58f4a6f)\">\n     <use style=\"fill:#fde725;stroke:#fde725;\" x=\"429.089871\" xlink:href=\"#C0_0_fe5942b0f6\" y=\"186.616166\"/>\n    </g>\n    <g clip-path=\"url(#pd3a58f4a6f)\">\n     <use style=\"fill:#440154;stroke:#440154;\" x=\"328.072629\" xlink:href=\"#C0_0_fe5942b0f6\" y=\"226.04829\"/>\n    </g>\n    <g clip-path=\"url(#pd3a58f4a6f)\">\n     <use style=\"fill:#fde725;stroke:#fde725;\" x=\"431.976078\" xlink:href=\"#C0_0_fe5942b0f6\" y=\"206.332228\"/>\n    </g>\n    <g clip-path=\"url(#pd3a58f4a6f)\">\n     <use style=\"fill:#440154;stroke:#440154;\" x=\"339.617457\" xlink:href=\"#C0_0_fe5942b0f6\" y=\"175.772332\"/>\n    </g>\n    <g clip-path=\"url(#pd3a58f4a6f)\">\n     <use style=\"fill:#fde725;stroke:#fde725;\" x=\"479.598491\" xlink:href=\"#C0_0_fe5942b0f6\" y=\"194.502591\"/>\n    </g>\n    <g clip-path=\"url(#pd3a58f4a6f)\">\n     <use style=\"fill:#440154;stroke:#440154;\" x=\"304.982974\" xlink:href=\"#C0_0_fe5942b0f6\" y=\"168.87171\"/>\n    </g>\n    <g clip-path=\"url(#pd3a58f4a6f)\">\n     <use style=\"fill:#fde725;stroke:#fde725;\" x=\"424.76056\" xlink:href=\"#C0_0_fe5942b0f6\" y=\"202.389016\"/>\n    </g>\n    <g clip-path=\"url(#pd3a58f4a6f)\">\n     <use style=\"fill:#440154;stroke:#440154;\" x=\"351.162284\" xlink:href=\"#C0_0_fe5942b0f6\" y=\"195.488394\"/>\n    </g>\n    <g clip-path=\"url(#pd3a58f4a6f)\">\n     <use style=\"fill:#440154;stroke:#440154;\" x=\"277.564009\" xlink:href=\"#C0_0_fe5942b0f6\" y=\"164.928497\"/>\n    </g>\n    <g clip-path=\"url(#pd3a58f4a6f)\">\n     <use style=\"fill:#440154;stroke:#440154;\" x=\"276.120905\" xlink:href=\"#C0_0_fe5942b0f6\" y=\"180.701347\"/>\n    </g>\n    <g clip-path=\"url(#pd3a58f4a6f)\">\n     <use style=\"fill:#440154;stroke:#440154;\" x=\"339.617457\" xlink:href=\"#C0_0_fe5942b0f6\" y=\"196.474197\"/>\n    </g>\n    <g clip-path=\"url(#pd3a58f4a6f)\">\n     <use style=\"fill:#440154;stroke:#440154;\" x=\"339.617457\" xlink:href=\"#C0_0_fe5942b0f6\" y=\"194.502591\"/>\n    </g>\n    <g clip-path=\"url(#pd3a58f4a6f)\">\n     <use style=\"fill:#440154;stroke:#440154;\" x=\"328.072629\" xlink:href=\"#C0_0_fe5942b0f6\" y=\"184.64456\"/>\n    </g>\n    <g clip-path=\"url(#pd3a58f4a6f)\">\n     <use style=\"fill:#fde725;stroke:#fde725;\" x=\"427.646767\" xlink:href=\"#C0_0_fe5942b0f6\" y=\"200.417409\"/>\n    </g>\n    <g clip-path=\"url(#pd3a58f4a6f)\">\n     <use style=\"fill:#440154;stroke:#440154;\" x=\"369.922629\" xlink:href=\"#C0_0_fe5942b0f6\" y=\"204.360622\"/>\n    </g>\n    <g clip-path=\"url(#pd3a58f4a6f)\">\n     <use style=\"fill:#440154;stroke:#440154;\" x=\"273.234698\" xlink:href=\"#C0_0_fe5942b0f6\" y=\"198.445803\"/>\n    </g>\n    <g clip-path=\"url(#pd3a58f4a6f)\">\n     <use style=\"fill:#440154;stroke:#440154;\" x=\"395.898491\" xlink:href=\"#C0_0_fe5942b0f6\" y=\"206.332228\"/>\n    </g>\n    <g clip-path=\"url(#pd3a58f4a6f)\">\n     <use style=\"fill:#440154;stroke:#440154;\" x=\"300.653664\" xlink:href=\"#C0_0_fe5942b0f6\" y=\"153.09886\"/>\n    </g>\n    <g clip-path=\"url(#pd3a58f4a6f)\">\n     <use style=\"fill:#440154;stroke:#440154;\" x=\"369.922629\" xlink:href=\"#C0_0_fe5942b0f6\" y=\"228.019896\"/>\n    </g>\n    <g clip-path=\"url(#pd3a58f4a6f)\">\n     <use style=\"fill:#440154;stroke:#440154;\" x=\"381.467457\" xlink:href=\"#C0_0_fe5942b0f6\" y=\"216.190259\"/>\n    </g>\n    <g clip-path=\"url(#pd3a58f4a6f)\">\n     <use style=\"fill:#440154;stroke:#440154;\" x=\"369.922629\" xlink:href=\"#C0_0_fe5942b0f6\" y=\"205.346425\"/>\n    </g>\n    <g clip-path=\"url(#pd3a58f4a6f)\">\n     <use style=\"fill:#440154;stroke:#440154;\" x=\"339.617457\" xlink:href=\"#C0_0_fe5942b0f6\" y=\"255.622383\"/>\n    </g>\n    <g clip-path=\"url(#pd3a58f4a6f)\">\n     <use style=\"fill:#fde725;stroke:#fde725;\" x=\"414.658836\" xlink:href=\"#C0_0_fe5942b0f6\" y=\"235.906321\"/>\n    </g>\n    <g clip-path=\"url(#pd3a58f4a6f)\">\n     <use style=\"fill:#440154;stroke:#440154;\" x=\"377.138147\" xlink:href=\"#C0_0_fe5942b0f6\" y=\"180.701347\"/>\n    </g>\n    <g clip-path=\"url(#pd3a58f4a6f)\">\n     <use style=\"fill:#440154;stroke:#440154;\" x=\"302.096767\" xlink:href=\"#C0_0_fe5942b0f6\" y=\"237.877927\"/>\n    </g>\n    <g clip-path=\"url(#pd3a58f4a6f)\">\n     <use style=\"fill:#440154;stroke:#440154;\" x=\"401.670905\" xlink:href=\"#C0_0_fe5942b0f6\" y=\"228.019896\"/>\n    </g>\n    <g clip-path=\"url(#pd3a58f4a6f)\">\n     <use style=\"fill:#440154;stroke:#440154;\" x=\"388.682974\" xlink:href=\"#C0_0_fe5942b0f6\" y=\"199.431606\"/>\n    </g>\n    <g clip-path=\"url(#pd3a58f4a6f)\">\n     <use style=\"fill:#440154;stroke:#440154;\" x=\"364.150216\" xlink:href=\"#C0_0_fe5942b0f6\" y=\"214.218653\"/>\n    </g>\n    <g clip-path=\"url(#pd3a58f4a6f)\">\n     <use style=\"fill:#fde725;stroke:#fde725;\" x=\"431.976078\" xlink:href=\"#C0_0_fe5942b0f6\" y=\"198.445803\"/>\n    </g>\n    <g clip-path=\"url(#pd3a58f4a6f)\">\n     <use style=\"fill:#440154;stroke:#440154;\" x=\"359.820905\" xlink:href=\"#C0_0_fe5942b0f6\" y=\"231.963109\"/>\n    </g>\n    <g clip-path=\"url(#pd3a58f4a6f)\">\n     <use style=\"fill:#440154;stroke:#440154;\" x=\"271.791595\" xlink:href=\"#C0_0_fe5942b0f6\" y=\"157.042073\"/>\n    </g>\n    <g clip-path=\"url(#pd3a58f4a6f)\">\n     <use style=\"fill:#440154;stroke:#440154;\" x=\"250.145043\" xlink:href=\"#C0_0_fe5942b0f6\" y=\"243.792746\"/>\n    </g>\n    <g clip-path=\"url(#pd3a58f4a6f)\">\n     <use style=\"fill:#440154;stroke:#440154;\" x=\"403.114009\" xlink:href=\"#C0_0_fe5942b0f6\" y=\"209.289637\"/>\n    </g>\n    <g clip-path=\"url(#pd3a58f4a6f)\">\n     <use style=\"fill:#440154;stroke:#440154;\" x=\"293.438147\" xlink:href=\"#C0_0_fe5942b0f6\" y=\"135.354404\"/>\n    </g>\n    <g clip-path=\"url(#pd3a58f4a6f)\">\n     <use style=\"fill:#440154;stroke:#440154;\" x=\"242.929526\" xlink:href=\"#C0_0_fe5942b0f6\" y=\"176.758135\"/>\n    </g>\n    <g clip-path=\"url(#pd3a58f4a6f)\">\n     <use style=\"fill:#440154;stroke:#440154;\" x=\"339.617457\" xlink:href=\"#C0_0_fe5942b0f6\" y=\"176.758135\"/>\n    </g>\n    <g clip-path=\"url(#pd3a58f4a6f)\">\n     <use style=\"fill:#440154;stroke:#440154;\" x=\"188.091595\" xlink:href=\"#C0_0_fe5942b0f6\" y=\"206.332228\"/>\n    </g>\n    <g clip-path=\"url(#pd3a58f4a6f)\">\n     <use style=\"fill:#440154;stroke:#440154;\" x=\"302.096767\" xlink:href=\"#C0_0_fe5942b0f6\" y=\"227.034093\"/>\n    </g>\n    <g clip-path=\"url(#pd3a58f4a6f)\">\n     <use style=\"fill:#440154;stroke:#440154;\" x=\"388.682974\" xlink:href=\"#C0_0_fe5942b0f6\" y=\"207.318031\"/>\n    </g>\n    <g clip-path=\"url(#pd3a58f4a6f)\">\n     <use style=\"fill:#fde725;stroke:#fde725;\" x=\"439.191595\" xlink:href=\"#C0_0_fe5942b0f6\" y=\"228.019896\"/>\n    </g>\n    <g clip-path=\"url(#pd3a58f4a6f)\">\n     <use style=\"fill:#440154;stroke:#440154;\" x=\"328.072629\" xlink:href=\"#C0_0_fe5942b0f6\" y=\"226.04829\"/>\n    </g>\n    <g clip-path=\"url(#pd3a58f4a6f)\">\n     <use style=\"fill:#440154;stroke:#440154;\" x=\"248.70194\" xlink:href=\"#C0_0_fe5942b0f6\" y=\"184.64456\"/>\n    </g>\n    <g clip-path=\"url(#pd3a58f4a6f)\">\n     <use style=\"fill:#440154;stroke:#440154;\" x=\"264.576078\" xlink:href=\"#C0_0_fe5942b0f6\" y=\"104.794508\"/>\n    </g>\n    <g clip-path=\"url(#pd3a58f4a6f)\">\n     <use style=\"fill:#440154;stroke:#440154;\" x=\"388.682974\" xlink:href=\"#C0_0_fe5942b0f6\" y=\"154.084663\"/>\n    </g>\n    <g clip-path=\"url(#pd3a58f4a6f)\">\n     <use style=\"fill:#fde725;stroke:#fde725;\" x=\"479.598491\" xlink:href=\"#C0_0_fe5942b0f6\" y=\"213.23285\"/>\n    </g>\n    <g clip-path=\"url(#pd3a58f4a6f)\">\n     <use style=\"fill:#440154;stroke:#440154;\" x=\"309.312284\" xlink:href=\"#C0_0_fe5942b0f6\" y=\"187.601969\"/>\n    </g>\n    <g clip-path=\"url(#pd3a58f4a6f)\">\n     <use style=\"fill:#440154;stroke:#440154;\" x=\"338.174353\" xlink:href=\"#C0_0_fe5942b0f6\" y=\"209.289637\"/>\n    </g>\n    <g clip-path=\"url(#pd3a58f4a6f)\">\n     <use style=\"fill:#440154;stroke:#440154;\" x=\"390.126078\" xlink:href=\"#C0_0_fe5942b0f6\" y=\"197.46\"/>\n    </g>\n    <g clip-path=\"url(#pd3a58f4a6f)\">\n     <use style=\"fill:#440154;stroke:#440154;\" x=\"297.767457\" xlink:href=\"#C0_0_fe5942b0f6\" y=\"149.155648\"/>\n    </g>\n    <g clip-path=\"url(#pd3a58f4a6f)\">\n     <use style=\"fill:#440154;stroke:#440154;\" x=\"381.467457\" xlink:href=\"#C0_0_fe5942b0f6\" y=\"196.474197\"/>\n    </g>\n    <g clip-path=\"url(#pd3a58f4a6f)\">\n     <use style=\"fill:#440154;stroke:#440154;\" x=\"333.845043\" xlink:href=\"#C0_0_fe5942b0f6\" y=\"188.587772\"/>\n    </g>\n    <g clip-path=\"url(#pd3a58f4a6f)\">\n     <use style=\"fill:#fde725;stroke:#fde725;\" x=\"452.179526\" xlink:href=\"#C0_0_fe5942b0f6\" y=\"194.502591\"/>\n    </g>\n    <g clip-path=\"url(#pd3a58f4a6f)\">\n     <use style=\"fill:#fde725;stroke:#fde725;\" x=\"455.065733\" xlink:href=\"#C0_0_fe5942b0f6\" y=\"186.616166\"/>\n    </g>\n    <g clip-path=\"url(#pd3a58f4a6f)\">\n     <use style=\"fill:#fde725;stroke:#fde725;\" x=\"444.964009\" xlink:href=\"#C0_0_fe5942b0f6\" y=\"186.616166\"/>\n    </g>\n    <g clip-path=\"url(#pd3a58f4a6f)\">\n     <use style=\"fill:#fde725;stroke:#fde725;\" x=\"429.089871\" xlink:href=\"#C0_0_fe5942b0f6\" y=\"190.559378\"/>\n    </g>\n    <g clip-path=\"url(#pd3a58f4a6f)\">\n     <use style=\"fill:#440154;stroke:#440154;\" x=\"401.670905\" xlink:href=\"#C0_0_fe5942b0f6\" y=\"201.403212\"/>\n    </g>\n    <g clip-path=\"url(#pd3a58f4a6f)\">\n     <use style=\"fill:#fde725;stroke:#fde725;\" x=\"414.658836\" xlink:href=\"#C0_0_fe5942b0f6\" y=\"206.332228\"/>\n    </g>\n    <g clip-path=\"url(#pd3a58f4a6f)\">\n     <use style=\"fill:#440154;stroke:#440154;\" x=\"364.150216\" xlink:href=\"#C0_0_fe5942b0f6\" y=\"172.814922\"/>\n    </g>\n    <g clip-path=\"url(#pd3a58f4a6f)\">\n     <use style=\"fill:#fde725;stroke:#fde725;\" x=\"404.557112\" xlink:href=\"#C0_0_fe5942b0f6\" y=\"162.956891\"/>\n    </g>\n    <g clip-path=\"url(#pd3a58f4a6f)\">\n     <use style=\"fill:#21918c;stroke:#21918c;\" x=\"543.095043\" xlink:href=\"#C0_0_fe5942b0f6\" y=\"207.318031\"/>\n    </g>\n    <g clip-path=\"url(#pd3a58f4a6f)\">\n     <use style=\"fill:#fde725;stroke:#fde725;\" x=\"449.293319\" xlink:href=\"#C0_0_fe5942b0f6\" y=\"165.914301\"/>\n    </g>\n    <g clip-path=\"url(#pd3a58f4a6f)\">\n     <use style=\"fill:#fde725;stroke:#fde725;\" x=\"462.28125\" xlink:href=\"#C0_0_fe5942b0f6\" y=\"157.042073\"/>\n    </g>\n    <g clip-path=\"url(#pd3a58f4a6f)\">\n     <use style=\"fill:#fde725;stroke:#fde725;\" x=\"524.334698\" xlink:href=\"#C0_0_fe5942b0f6\" y=\"191.545181\"/>\n    </g>\n    <g clip-path=\"url(#pd3a58f4a6f)\">\n     <use style=\"fill:#21918c;stroke:#21918c;\" x=\"547.424353\" xlink:href=\"#C0_0_fe5942b0f6\" y=\"155.070466\"/>\n    </g>\n    <g clip-path=\"url(#pd3a58f4a6f)\">\n     <use style=\"fill:#21918c;stroke:#21918c;\" x=\"561.855388\" xlink:href=\"#C0_0_fe5942b0f6\" y=\"191.545181\"/>\n    </g>\n    <g clip-path=\"url(#pd3a58f4a6f)\">\n     <use style=\"fill:#440154;stroke:#440154;\" x=\"364.150216\" xlink:href=\"#C0_0_fe5942b0f6\" y=\"206.332228\"/>\n    </g>\n    <g clip-path=\"url(#pd3a58f4a6f)\">\n     <use style=\"fill:#fde725;stroke:#fde725;\" x=\"495.472629\" xlink:href=\"#C0_0_fe5942b0f6\" y=\"211.261244\"/>\n    </g>\n    <g clip-path=\"url(#pd3a58f4a6f)\">\n     <use style=\"fill:#21918c;stroke:#21918c;\" x=\"599.376078\" xlink:href=\"#C0_0_fe5942b0f6\" y=\"203.374819\"/>\n    </g>\n    <g clip-path=\"url(#pd3a58f4a6f)\">\n     <use style=\"fill:#fde725;stroke:#fde725;\" x=\"453.622629\" xlink:href=\"#C0_0_fe5942b0f6\" y=\"178.729741\"/>\n    </g>\n    <g clip-path=\"url(#pd3a58f4a6f)\">\n     <use style=\"fill:#fde725;stroke:#fde725;\" x=\"518.562284\" xlink:href=\"#C0_0_fe5942b0f6\" y=\"188.587772\"/>\n    </g>\n    <g clip-path=\"url(#pd3a58f4a6f)\">\n     <use style=\"fill:#fde725;stroke:#fde725;\" x=\"483.927802\" xlink:href=\"#C0_0_fe5942b0f6\" y=\"190.559378\"/>\n    </g>\n    <g clip-path=\"url(#pd3a58f4a6f)\">\n     <use style=\"fill:#21918c;stroke:#21918c;\" x=\"544.538147\" xlink:href=\"#C0_0_fe5942b0f6\" y=\"164.928497\"/>\n    </g>\n    <g clip-path=\"url(#pd3a58f4a6f)\">\n     <use style=\"fill:#fde725;stroke:#fde725;\" x=\"442.077802\" xlink:href=\"#C0_0_fe5942b0f6\" y=\"178.729741\"/>\n    </g>\n    <g clip-path=\"url(#pd3a58f4a6f)\">\n     <use style=\"fill:#fde725;stroke:#fde725;\" x=\"488.257112\" xlink:href=\"#C0_0_fe5942b0f6\" y=\"152.113057\"/>\n    </g>\n    <g clip-path=\"url(#pd3a58f4a6f)\">\n     <use style=\"fill:#fde725;stroke:#fde725;\" x=\"505.574353\" xlink:href=\"#C0_0_fe5942b0f6\" y=\"198.445803\"/>\n    </g>\n    <g clip-path=\"url(#pd3a58f4a6f)\">\n     <use style=\"fill:#fde725;stroke:#fde725;\" x=\"411.772629\" xlink:href=\"#C0_0_fe5942b0f6\" y=\"216.190259\"/>\n    </g>\n    <g clip-path=\"url(#pd3a58f4a6f)\">\n     <use style=\"fill:#fde725;stroke:#fde725;\" x=\"496.915733\" xlink:href=\"#C0_0_fe5942b0f6\" y=\"194.502591\"/>\n    </g>\n    <g clip-path=\"url(#pd3a58f4a6f)\">\n     <use style=\"fill:#21918c;stroke:#21918c;\" x=\"593.603664\" xlink:href=\"#C0_0_fe5942b0f6\" y=\"188.587772\"/>\n    </g>\n    <g clip-path=\"url(#pd3a58f4a6f)\">\n     <use style=\"fill:#440154;stroke:#440154;\" x=\"393.012284\" xlink:href=\"#C0_0_fe5942b0f6\" y=\"162.956891\"/>\n    </g>\n    <g clip-path=\"url(#pd3a58f4a6f)\">\n     <use style=\"fill:#21918c;stroke:#21918c;\" x=\"665.758836\" xlink:href=\"#C0_0_fe5942b0f6\" y=\"157.042073\"/>\n    </g>\n    <g clip-path=\"url(#pd3a58f4a6f)\">\n     <use style=\"fill:#21918c;stroke:#21918c;\" x=\"541.65194\" xlink:href=\"#C0_0_fe5942b0f6\" y=\"162.956891\"/>\n    </g>\n    <g clip-path=\"url(#pd3a58f4a6f)\">\n     <use style=\"fill:#440154;stroke:#440154;\" x=\"380.024353\" xlink:href=\"#C0_0_fe5942b0f6\" y=\"188.587772\"/>\n    </g>\n    <g clip-path=\"url(#pd3a58f4a6f)\">\n     <use style=\"fill:#21918c;stroke:#21918c;\" x=\"571.957112\" xlink:href=\"#C0_0_fe5942b0f6\" y=\"172.814922\"/>\n    </g>\n    <g clip-path=\"url(#pd3a58f4a6f)\">\n     <use style=\"fill:#fde725;stroke:#fde725;\" x=\"450.736422\" xlink:href=\"#C0_0_fe5942b0f6\" y=\"168.87171\"/>\n    </g>\n    <g clip-path=\"url(#pd3a58f4a6f)\">\n     <use style=\"fill:#fde725;stroke:#fde725;\" x=\"466.61056\" xlink:href=\"#C0_0_fe5942b0f6\" y=\"191.545181\"/>\n    </g>\n    <g clip-path=\"url(#pd3a58f4a6f)\">\n     <use style=\"fill:#21918c;stroke:#21918c;\" x=\"584.945043\" xlink:href=\"#C0_0_fe5942b0f6\" y=\"196.474197\"/>\n    </g>\n    <g clip-path=\"url(#pd3a58f4a6f)\">\n     <use style=\"fill:#21918c;stroke:#21918c;\" x=\"577.729526\" xlink:href=\"#C0_0_fe5942b0f6\" y=\"200.417409\"/>\n    </g>\n    <g clip-path=\"url(#pd3a58f4a6f)\">\n     <use style=\"fill:#21918c;stroke:#21918c;\" x=\"537.322629\" xlink:href=\"#C0_0_fe5942b0f6\" y=\"166.900104\"/>\n    </g>\n    <g clip-path=\"url(#pd3a58f4a6f)\">\n     <use style=\"fill:#fde725;stroke:#fde725;\" x=\"446.407112\" xlink:href=\"#C0_0_fe5942b0f6\" y=\"196.474197\"/>\n    </g>\n    <g clip-path=\"url(#pd3a58f4a6f)\">\n     <use style=\"fill:#21918c;stroke:#21918c;\" x=\"556.082974\" xlink:href=\"#C0_0_fe5942b0f6\" y=\"158.027876\"/>\n    </g>\n    <g clip-path=\"url(#pd3a58f4a6f)\">\n     <use style=\"fill:#21918c;stroke:#21918c;\" x=\"530.107112\" xlink:href=\"#C0_0_fe5942b0f6\" y=\"141.269223\"/>\n    </g>\n    <g clip-path=\"url(#pd3a58f4a6f)\">\n     <use style=\"fill:#440154;stroke:#440154;\" x=\"356.934698\" xlink:href=\"#C0_0_fe5942b0f6\" y=\"194.502591\"/>\n    </g>\n    <g clip-path=\"url(#pd3a58f4a6f)\">\n     <use style=\"fill:#fde725;stroke:#fde725;\" x=\"439.191595\" xlink:href=\"#C0_0_fe5942b0f6\" y=\"198.445803\"/>\n    </g>\n    <g clip-path=\"url(#pd3a58f4a6f)\">\n     <use style=\"fill:#21918c;stroke:#21918c;\" x=\"639.782974\" xlink:href=\"#C0_0_fe5942b0f6\" y=\"178.729741\"/>\n    </g>\n    <g clip-path=\"url(#pd3a58f4a6f)\">\n     <use style=\"fill:#21918c;stroke:#21918c;\" x=\"574.843319\" xlink:href=\"#C0_0_fe5942b0f6\" y=\"181.68715\"/>\n    </g>\n    <g clip-path=\"url(#pd3a58f4a6f)\">\n     <use style=\"fill:#fde725;stroke:#fde725;\" x=\"530.107112\" xlink:href=\"#C0_0_fe5942b0f6\" y=\"178.729741\"/>\n    </g>\n    <g clip-path=\"url(#pd3a58f4a6f)\">\n     <use style=\"fill:#fde725;stroke:#fde725;\" x=\"511.346767\" xlink:href=\"#C0_0_fe5942b0f6\" y=\"200.417409\"/>\n    </g>\n    <g clip-path=\"url(#pd3a58f4a6f)\">\n     <use style=\"fill:#fde725;stroke:#fde725;\" x=\"496.915733\" xlink:href=\"#C0_0_fe5942b0f6\" y=\"189.573575\"/>\n    </g>\n    <g clip-path=\"url(#pd3a58f4a6f)\">\n     <use style=\"fill:#21918c;stroke:#21918c;\" x=\"635.453664\" xlink:href=\"#C0_0_fe5942b0f6\" y=\"153.09886\"/>\n    </g>\n   </g>\n   <g id=\"PathCollection_2\">\n    <defs>\n     <path d=\"M 0 8.660254 \nC 2.296726 8.660254 4.499694 7.747755 6.123724 6.123724 \nC 7.747755 4.499694 8.660254 2.296726 8.660254 0 \nC 8.660254 -2.296726 7.747755 -4.499694 6.123724 -6.123724 \nC 4.499694 -7.747755 2.296726 -8.660254 0 -8.660254 \nC -2.296726 -8.660254 -4.499694 -7.747755 -6.123724 -6.123724 \nC -7.747755 -4.499694 -8.660254 -2.296726 -8.660254 0 \nC -8.660254 2.296726 -7.747755 4.499694 -6.123724 6.123724 \nC -4.499694 7.747755 -2.296726 8.660254 0 8.660254 \nz\n\" id=\"mc740eba5b4\" style=\"stroke:#ff0000;stroke-opacity:0.5;\"/>\n    </defs>\n    <g clip-path=\"url(#pd3a58f4a6f)\">\n     <use style=\"fill:#ff0000;fill-opacity:0.5;stroke:#ff0000;stroke-opacity:0.5;\" x=\"339.400991\" xlink:href=\"#mc740eba5b4\" y=\"198.478663\"/>\n     <use style=\"fill:#ff0000;fill-opacity:0.5;stroke:#ff0000;stroke-opacity:0.5;\" x=\"599.971644\" xlink:href=\"#mc740eba5b4\" y=\"180.810881\"/>\n     <use style=\"fill:#ff0000;fill-opacity:0.5;stroke:#ff0000;stroke-opacity:0.5;\" x=\"471.595827\" xlink:href=\"#mc740eba5b4\" y=\"191.007471\"/>\n    </g>\n   </g>\n   <g id=\"matplotlib.axis_1\">\n    <g id=\"xtick_1\">\n     <g id=\"line2d_1\">\n      <defs>\n       <path d=\"M 0 0 \nL 0 3.5 \n\" id=\"m04b9b1dd56\" style=\"stroke:#000000;stroke-width:0.8;\"/>\n      </defs>\n      <g>\n       <use style=\"stroke:#000000;stroke-width:0.8;\" x=\"183.762284\" xlink:href=\"#m04b9b1dd56\" y=\"387.72\"/>\n      </g>\n     </g>\n     <g id=\"text_1\">\n      <!-- 11 -->\n      <g transform=\"translate(177.399784 402.318437)scale(0.1 -0.1)\">\n       <defs>\n        <path d=\"M 12.40625 8.296875 \nL 28.515625 8.296875 \nL 28.515625 63.921875 \nL 10.984375 60.40625 \nL 10.984375 69.390625 \nL 28.421875 72.90625 \nL 38.28125 72.90625 \nL 38.28125 8.296875 \nL 54.390625 8.296875 \nL 54.390625 0 \nL 12.40625 0 \nz\n\" id=\"DejaVuSans-49\"/>\n       </defs>\n       <use xlink:href=\"#DejaVuSans-49\"/>\n       <use x=\"63.623047\" xlink:href=\"#DejaVuSans-49\"/>\n      </g>\n     </g>\n    </g>\n    <g id=\"xtick_2\">\n     <g id=\"line2d_2\">\n      <g>\n       <use style=\"stroke:#000000;stroke-width:0.8;\" x=\"328.072629\" xlink:href=\"#m04b9b1dd56\" y=\"387.72\"/>\n      </g>\n     </g>\n     <g id=\"text_2\">\n      <!-- 12 -->\n      <g transform=\"translate(321.710129 402.318437)scale(0.1 -0.1)\">\n       <defs>\n        <path d=\"M 19.1875 8.296875 \nL 53.609375 8.296875 \nL 53.609375 0 \nL 7.328125 0 \nL 7.328125 8.296875 \nQ 12.9375 14.109375 22.625 23.890625 \nQ 32.328125 33.6875 34.8125 36.53125 \nQ 39.546875 41.84375 41.421875 45.53125 \nQ 43.3125 49.21875 43.3125 52.78125 \nQ 43.3125 58.59375 39.234375 62.25 \nQ 35.15625 65.921875 28.609375 65.921875 \nQ 23.96875 65.921875 18.8125 64.3125 \nQ 13.671875 62.703125 7.8125 59.421875 \nL 7.8125 69.390625 \nQ 13.765625 71.78125 18.9375 73 \nQ 24.125 74.21875 28.421875 74.21875 \nQ 39.75 74.21875 46.484375 68.546875 \nQ 53.21875 62.890625 53.21875 53.421875 \nQ 53.21875 48.921875 51.53125 44.890625 \nQ 49.859375 40.875 45.40625 35.40625 \nQ 44.1875 33.984375 37.640625 27.21875 \nQ 31.109375 20.453125 19.1875 8.296875 \nz\n\" id=\"DejaVuSans-50\"/>\n       </defs>\n       <use xlink:href=\"#DejaVuSans-49\"/>\n       <use x=\"63.623047\" xlink:href=\"#DejaVuSans-50\"/>\n      </g>\n     </g>\n    </g>\n    <g id=\"xtick_3\">\n     <g id=\"line2d_3\">\n      <g>\n       <use style=\"stroke:#000000;stroke-width:0.8;\" x=\"472.382974\" xlink:href=\"#m04b9b1dd56\" y=\"387.72\"/>\n      </g>\n     </g>\n     <g id=\"text_3\">\n      <!-- 13 -->\n      <g transform=\"translate(466.020474 402.318437)scale(0.1 -0.1)\">\n       <defs>\n        <path d=\"M 40.578125 39.3125 \nQ 47.65625 37.796875 51.625 33 \nQ 55.609375 28.21875 55.609375 21.1875 \nQ 55.609375 10.40625 48.1875 4.484375 \nQ 40.765625 -1.421875 27.09375 -1.421875 \nQ 22.515625 -1.421875 17.65625 -0.515625 \nQ 12.796875 0.390625 7.625 2.203125 \nL 7.625 11.71875 \nQ 11.71875 9.328125 16.59375 8.109375 \nQ 21.484375 6.890625 26.8125 6.890625 \nQ 36.078125 6.890625 40.9375 10.546875 \nQ 45.796875 14.203125 45.796875 21.1875 \nQ 45.796875 27.640625 41.28125 31.265625 \nQ 36.765625 34.90625 28.71875 34.90625 \nL 20.21875 34.90625 \nL 20.21875 43.015625 \nL 29.109375 43.015625 \nQ 36.375 43.015625 40.234375 45.921875 \nQ 44.09375 48.828125 44.09375 54.296875 \nQ 44.09375 59.90625 40.109375 62.90625 \nQ 36.140625 65.921875 28.71875 65.921875 \nQ 24.65625 65.921875 20.015625 65.03125 \nQ 15.375 64.15625 9.8125 62.3125 \nL 9.8125 71.09375 \nQ 15.4375 72.65625 20.34375 73.4375 \nQ 25.25 74.21875 29.59375 74.21875 \nQ 40.828125 74.21875 47.359375 69.109375 \nQ 53.90625 64.015625 53.90625 55.328125 \nQ 53.90625 49.265625 50.4375 45.09375 \nQ 46.96875 40.921875 40.578125 39.3125 \nz\n\" id=\"DejaVuSans-51\"/>\n       </defs>\n       <use xlink:href=\"#DejaVuSans-49\"/>\n       <use x=\"63.623047\" xlink:href=\"#DejaVuSans-51\"/>\n      </g>\n     </g>\n    </g>\n    <g id=\"xtick_4\">\n     <g id=\"line2d_4\">\n      <g>\n       <use style=\"stroke:#000000;stroke-width:0.8;\" x=\"616.693319\" xlink:href=\"#m04b9b1dd56\" y=\"387.72\"/>\n      </g>\n     </g>\n     <g id=\"text_4\">\n      <!-- 14 -->\n      <g transform=\"translate(610.330819 402.318437)scale(0.1 -0.1)\">\n       <defs>\n        <path d=\"M 37.796875 64.3125 \nL 12.890625 25.390625 \nL 37.796875 25.390625 \nz\nM 35.203125 72.90625 \nL 47.609375 72.90625 \nL 47.609375 25.390625 \nL 58.015625 25.390625 \nL 58.015625 17.1875 \nL 47.609375 17.1875 \nL 47.609375 0 \nL 37.796875 0 \nL 37.796875 17.1875 \nL 4.890625 17.1875 \nL 4.890625 26.703125 \nz\n\" id=\"DejaVuSans-52\"/>\n       </defs>\n       <use xlink:href=\"#DejaVuSans-49\"/>\n       <use x=\"63.623047\" xlink:href=\"#DejaVuSans-52\"/>\n      </g>\n     </g>\n    </g>\n    <g id=\"xtick_5\">\n     <g id=\"line2d_5\">\n      <g>\n       <use style=\"stroke:#000000;stroke-width:0.8;\" x=\"761.003664\" xlink:href=\"#m04b9b1dd56\" y=\"387.72\"/>\n      </g>\n     </g>\n     <g id=\"text_5\">\n      <!-- 15 -->\n      <g transform=\"translate(754.641164 402.318437)scale(0.1 -0.1)\">\n       <defs>\n        <path d=\"M 10.796875 72.90625 \nL 49.515625 72.90625 \nL 49.515625 64.59375 \nL 19.828125 64.59375 \nL 19.828125 46.734375 \nQ 21.96875 47.46875 24.109375 47.828125 \nQ 26.265625 48.1875 28.421875 48.1875 \nQ 40.625 48.1875 47.75 41.5 \nQ 54.890625 34.8125 54.890625 23.390625 \nQ 54.890625 11.625 47.5625 5.09375 \nQ 40.234375 -1.421875 26.90625 -1.421875 \nQ 22.3125 -1.421875 17.546875 -0.640625 \nQ 12.796875 0.140625 7.71875 1.703125 \nL 7.71875 11.625 \nQ 12.109375 9.234375 16.796875 8.0625 \nQ 21.484375 6.890625 26.703125 6.890625 \nQ 35.15625 6.890625 40.078125 11.328125 \nQ 45.015625 15.765625 45.015625 23.390625 \nQ 45.015625 31 40.078125 35.4375 \nQ 35.15625 39.890625 26.703125 39.890625 \nQ 22.75 39.890625 18.8125 39.015625 \nQ 14.890625 38.140625 10.796875 36.28125 \nz\n\" id=\"DejaVuSans-53\"/>\n       </defs>\n       <use xlink:href=\"#DejaVuSans-49\"/>\n       <use x=\"63.623047\" xlink:href=\"#DejaVuSans-53\"/>\n      </g>\n     </g>\n    </g>\n    <g id=\"text_6\">\n     <!-- Alcohol -->\n     <g transform=\"translate(444.046094 415.996562)scale(0.1 -0.1)\">\n      <defs>\n       <path d=\"M 34.1875 63.1875 \nL 20.796875 26.90625 \nL 47.609375 26.90625 \nz\nM 28.609375 72.90625 \nL 39.796875 72.90625 \nL 67.578125 0 \nL 57.328125 0 \nL 50.6875 18.703125 \nL 17.828125 18.703125 \nL 11.1875 0 \nL 0.78125 0 \nz\n\" id=\"DejaVuSans-65\"/>\n       <path d=\"M 9.421875 75.984375 \nL 18.40625 75.984375 \nL 18.40625 0 \nL 9.421875 0 \nz\n\" id=\"DejaVuSans-108\"/>\n       <path d=\"M 48.78125 52.59375 \nL 48.78125 44.1875 \nQ 44.96875 46.296875 41.140625 47.34375 \nQ 37.3125 48.390625 33.40625 48.390625 \nQ 24.65625 48.390625 19.8125 42.84375 \nQ 14.984375 37.3125 14.984375 27.296875 \nQ 14.984375 17.28125 19.8125 11.734375 \nQ 24.65625 6.203125 33.40625 6.203125 \nQ 37.3125 6.203125 41.140625 7.25 \nQ 44.96875 8.296875 48.78125 10.40625 \nL 48.78125 2.09375 \nQ 45.015625 0.34375 40.984375 -0.53125 \nQ 36.96875 -1.421875 32.421875 -1.421875 \nQ 20.0625 -1.421875 12.78125 6.34375 \nQ 5.515625 14.109375 5.515625 27.296875 \nQ 5.515625 40.671875 12.859375 48.328125 \nQ 20.21875 56 33.015625 56 \nQ 37.15625 56 41.109375 55.140625 \nQ 45.0625 54.296875 48.78125 52.59375 \nz\n\" id=\"DejaVuSans-99\"/>\n       <path d=\"M 30.609375 48.390625 \nQ 23.390625 48.390625 19.1875 42.75 \nQ 14.984375 37.109375 14.984375 27.296875 \nQ 14.984375 17.484375 19.15625 11.84375 \nQ 23.34375 6.203125 30.609375 6.203125 \nQ 37.796875 6.203125 41.984375 11.859375 \nQ 46.1875 17.53125 46.1875 27.296875 \nQ 46.1875 37.015625 41.984375 42.703125 \nQ 37.796875 48.390625 30.609375 48.390625 \nz\nM 30.609375 56 \nQ 42.328125 56 49.015625 48.375 \nQ 55.71875 40.765625 55.71875 27.296875 \nQ 55.71875 13.875 49.015625 6.21875 \nQ 42.328125 -1.421875 30.609375 -1.421875 \nQ 18.84375 -1.421875 12.171875 6.21875 \nQ 5.515625 13.875 5.515625 27.296875 \nQ 5.515625 40.765625 12.171875 48.375 \nQ 18.84375 56 30.609375 56 \nz\n\" id=\"DejaVuSans-111\"/>\n       <path d=\"M 54.890625 33.015625 \nL 54.890625 0 \nL 45.90625 0 \nL 45.90625 32.71875 \nQ 45.90625 40.484375 42.875 44.328125 \nQ 39.84375 48.1875 33.796875 48.1875 \nQ 26.515625 48.1875 22.3125 43.546875 \nQ 18.109375 38.921875 18.109375 30.90625 \nL 18.109375 0 \nL 9.078125 0 \nL 9.078125 75.984375 \nL 18.109375 75.984375 \nL 18.109375 46.1875 \nQ 21.34375 51.125 25.703125 53.5625 \nQ 30.078125 56 35.796875 56 \nQ 45.21875 56 50.046875 50.171875 \nQ 54.890625 44.34375 54.890625 33.015625 \nz\n\" id=\"DejaVuSans-104\"/>\n      </defs>\n      <use xlink:href=\"#DejaVuSans-65\"/>\n      <use x=\"68.408203\" xlink:href=\"#DejaVuSans-108\"/>\n      <use x=\"96.191406\" xlink:href=\"#DejaVuSans-99\"/>\n      <use x=\"151.171875\" xlink:href=\"#DejaVuSans-111\"/>\n      <use x=\"212.353516\" xlink:href=\"#DejaVuSans-104\"/>\n      <use x=\"275.732422\" xlink:href=\"#DejaVuSans-111\"/>\n      <use x=\"336.914062\" xlink:href=\"#DejaVuSans-108\"/>\n     </g>\n    </g>\n   </g>\n   <g id=\"matplotlib.axis_2\">\n    <g id=\"ytick_1\">\n     <g id=\"line2d_6\">\n      <defs>\n       <path d=\"M 0 0 \nL -3.5 0 \n\" id=\"ma776db8bf7\" style=\"stroke:#000000;stroke-width:0.8;\"/>\n      </defs>\n      <g>\n       <use style=\"stroke:#000000;stroke-width:0.8;\" x=\"43.78125\" xlink:href=\"#ma776db8bf7\" y=\"373.918756\"/>\n      </g>\n     </g>\n     <g id=\"text_7\">\n      <!-- 0.5 -->\n      <g transform=\"translate(20.878125 377.717975)scale(0.1 -0.1)\">\n       <defs>\n        <path d=\"M 31.78125 66.40625 \nQ 24.171875 66.40625 20.328125 58.90625 \nQ 16.5 51.421875 16.5 36.375 \nQ 16.5 21.390625 20.328125 13.890625 \nQ 24.171875 6.390625 31.78125 6.390625 \nQ 39.453125 6.390625 43.28125 13.890625 \nQ 47.125 21.390625 47.125 36.375 \nQ 47.125 51.421875 43.28125 58.90625 \nQ 39.453125 66.40625 31.78125 66.40625 \nz\nM 31.78125 74.21875 \nQ 44.046875 74.21875 50.515625 64.515625 \nQ 56.984375 54.828125 56.984375 36.375 \nQ 56.984375 17.96875 50.515625 8.265625 \nQ 44.046875 -1.421875 31.78125 -1.421875 \nQ 19.53125 -1.421875 13.0625 8.265625 \nQ 6.59375 17.96875 6.59375 36.375 \nQ 6.59375 54.828125 13.0625 64.515625 \nQ 19.53125 74.21875 31.78125 74.21875 \nz\n\" id=\"DejaVuSans-48\"/>\n        <path d=\"M 10.6875 12.40625 \nL 21 12.40625 \nL 21 0 \nL 10.6875 0 \nz\n\" id=\"DejaVuSans-46\"/>\n       </defs>\n       <use xlink:href=\"#DejaVuSans-48\"/>\n       <use x=\"63.623047\" xlink:href=\"#DejaVuSans-46\"/>\n       <use x=\"95.410156\" xlink:href=\"#DejaVuSans-53\"/>\n      </g>\n     </g>\n    </g>\n    <g id=\"ytick_2\">\n     <g id=\"line2d_7\">\n      <g>\n       <use style=\"stroke:#000000;stroke-width:0.8;\" x=\"43.78125\" xlink:href=\"#ma776db8bf7\" y=\"324.628601\"/>\n      </g>\n     </g>\n     <g id=\"text_8\">\n      <!-- 1.0 -->\n      <g transform=\"translate(20.878125 328.42782)scale(0.1 -0.1)\">\n       <use xlink:href=\"#DejaVuSans-49\"/>\n       <use x=\"63.623047\" xlink:href=\"#DejaVuSans-46\"/>\n       <use x=\"95.410156\" xlink:href=\"#DejaVuSans-48\"/>\n      </g>\n     </g>\n    </g>\n    <g id=\"ytick_3\">\n     <g id=\"line2d_8\">\n      <g>\n       <use style=\"stroke:#000000;stroke-width:0.8;\" x=\"43.78125\" xlink:href=\"#ma776db8bf7\" y=\"275.338446\"/>\n      </g>\n     </g>\n     <g id=\"text_9\">\n      <!-- 1.5 -->\n      <g transform=\"translate(20.878125 279.137664)scale(0.1 -0.1)\">\n       <use xlink:href=\"#DejaVuSans-49\"/>\n       <use x=\"63.623047\" xlink:href=\"#DejaVuSans-46\"/>\n       <use x=\"95.410156\" xlink:href=\"#DejaVuSans-53\"/>\n      </g>\n     </g>\n    </g>\n    <g id=\"ytick_4\">\n     <g id=\"line2d_9\">\n      <g>\n       <use style=\"stroke:#000000;stroke-width:0.8;\" x=\"43.78125\" xlink:href=\"#ma776db8bf7\" y=\"226.04829\"/>\n      </g>\n     </g>\n     <g id=\"text_10\">\n      <!-- 2.0 -->\n      <g transform=\"translate(20.878125 229.847509)scale(0.1 -0.1)\">\n       <use xlink:href=\"#DejaVuSans-50\"/>\n       <use x=\"63.623047\" xlink:href=\"#DejaVuSans-46\"/>\n       <use x=\"95.410156\" xlink:href=\"#DejaVuSans-48\"/>\n      </g>\n     </g>\n    </g>\n    <g id=\"ytick_5\">\n     <g id=\"line2d_10\">\n      <g>\n       <use style=\"stroke:#000000;stroke-width:0.8;\" x=\"43.78125\" xlink:href=\"#ma776db8bf7\" y=\"176.758135\"/>\n      </g>\n     </g>\n     <g id=\"text_11\">\n      <!-- 2.5 -->\n      <g transform=\"translate(20.878125 180.557353)scale(0.1 -0.1)\">\n       <use xlink:href=\"#DejaVuSans-50\"/>\n       <use x=\"63.623047\" xlink:href=\"#DejaVuSans-46\"/>\n       <use x=\"95.410156\" xlink:href=\"#DejaVuSans-53\"/>\n      </g>\n     </g>\n    </g>\n    <g id=\"ytick_6\">\n     <g id=\"line2d_11\">\n      <g>\n       <use style=\"stroke:#000000;stroke-width:0.8;\" x=\"43.78125\" xlink:href=\"#ma776db8bf7\" y=\"127.467979\"/>\n      </g>\n     </g>\n     <g id=\"text_12\">\n      <!-- 3.0 -->\n      <g transform=\"translate(20.878125 131.267198)scale(0.1 -0.1)\">\n       <use xlink:href=\"#DejaVuSans-51\"/>\n       <use x=\"63.623047\" xlink:href=\"#DejaVuSans-46\"/>\n       <use x=\"95.410156\" xlink:href=\"#DejaVuSans-48\"/>\n      </g>\n     </g>\n    </g>\n    <g id=\"ytick_7\">\n     <g id=\"line2d_12\">\n      <g>\n       <use style=\"stroke:#000000;stroke-width:0.8;\" x=\"43.78125\" xlink:href=\"#ma776db8bf7\" y=\"78.177824\"/>\n      </g>\n     </g>\n     <g id=\"text_13\">\n      <!-- 3.5 -->\n      <g transform=\"translate(20.878125 81.977043)scale(0.1 -0.1)\">\n       <use xlink:href=\"#DejaVuSans-51\"/>\n       <use x=\"63.623047\" xlink:href=\"#DejaVuSans-46\"/>\n       <use x=\"95.410156\" xlink:href=\"#DejaVuSans-53\"/>\n      </g>\n     </g>\n    </g>\n    <g id=\"ytick_8\">\n     <g id=\"line2d_13\">\n      <g>\n       <use style=\"stroke:#000000;stroke-width:0.8;\" x=\"43.78125\" xlink:href=\"#ma776db8bf7\" y=\"28.887668\"/>\n      </g>\n     </g>\n     <g id=\"text_14\">\n      <!-- 4.0 -->\n      <g transform=\"translate(20.878125 32.686887)scale(0.1 -0.1)\">\n       <use xlink:href=\"#DejaVuSans-52\"/>\n       <use x=\"63.623047\" xlink:href=\"#DejaVuSans-46\"/>\n       <use x=\"95.410156\" xlink:href=\"#DejaVuSans-48\"/>\n      </g>\n     </g>\n    </g>\n    <g id=\"text_15\">\n     <!-- Ash -->\n     <g transform=\"translate(14.798438 206.65375)rotate(-90)scale(0.1 -0.1)\">\n      <defs>\n       <path d=\"M 44.28125 53.078125 \nL 44.28125 44.578125 \nQ 40.484375 46.53125 36.375 47.5 \nQ 32.28125 48.484375 27.875 48.484375 \nQ 21.1875 48.484375 17.84375 46.4375 \nQ 14.5 44.390625 14.5 40.28125 \nQ 14.5 37.15625 16.890625 35.375 \nQ 19.28125 33.59375 26.515625 31.984375 \nL 29.59375 31.296875 \nQ 39.15625 29.25 43.1875 25.515625 \nQ 47.21875 21.78125 47.21875 15.09375 \nQ 47.21875 7.46875 41.1875 3.015625 \nQ 35.15625 -1.421875 24.609375 -1.421875 \nQ 20.21875 -1.421875 15.453125 -0.5625 \nQ 10.6875 0.296875 5.421875 2 \nL 5.421875 11.28125 \nQ 10.40625 8.6875 15.234375 7.390625 \nQ 20.0625 6.109375 24.8125 6.109375 \nQ 31.15625 6.109375 34.5625 8.28125 \nQ 37.984375 10.453125 37.984375 14.40625 \nQ 37.984375 18.0625 35.515625 20.015625 \nQ 33.0625 21.96875 24.703125 23.78125 \nL 21.578125 24.515625 \nQ 13.234375 26.265625 9.515625 29.90625 \nQ 5.8125 33.546875 5.8125 39.890625 \nQ 5.8125 47.609375 11.28125 51.796875 \nQ 16.75 56 26.8125 56 \nQ 31.78125 56 36.171875 55.265625 \nQ 40.578125 54.546875 44.28125 53.078125 \nz\n\" id=\"DejaVuSans-115\"/>\n      </defs>\n      <use xlink:href=\"#DejaVuSans-65\"/>\n      <use x=\"68.408203\" xlink:href=\"#DejaVuSans-115\"/>\n      <use x=\"120.507812\" xlink:href=\"#DejaVuSans-104\"/>\n     </g>\n    </g>\n   </g>\n   <g id=\"patch_3\">\n    <path d=\"M 43.78125 387.72 \nL 43.78125 7.2 \n\" style=\"fill:none;stroke:#000000;stroke-linecap:square;stroke-linejoin:miter;stroke-width:0.8;\"/>\n   </g>\n   <g id=\"patch_4\">\n    <path d=\"M 880.78125 387.72 \nL 880.78125 7.2 \n\" style=\"fill:none;stroke:#000000;stroke-linecap:square;stroke-linejoin:miter;stroke-width:0.8;\"/>\n   </g>\n   <g id=\"patch_5\">\n    <path d=\"M 43.78125 387.72 \nL 880.78125 387.72 \n\" style=\"fill:none;stroke:#000000;stroke-linecap:square;stroke-linejoin:miter;stroke-width:0.8;\"/>\n   </g>\n   <g id=\"patch_6\">\n    <path d=\"M 43.78125 7.2 \nL 880.78125 7.2 \n\" style=\"fill:none;stroke:#000000;stroke-linecap:square;stroke-linejoin:miter;stroke-width:0.8;\"/>\n   </g>\n  </g>\n </g>\n <defs>\n  <clipPath id=\"pd3a58f4a6f\">\n   <rect height=\"380.52\" width=\"837\" x=\"43.78125\" y=\"7.2\"/>\n  </clipPath>\n </defs>\n</svg>\n",
      "image/png": "[encoded data removed]"
     },
     "metadata": {
      "needs_background": "light"
     }
    }
   ],
   "source": [
    "plt.figure(1 , figsize = (15 , 7) )\n",
    "plt.clf()\n",
    "Z = Z.reshape(xx.shape)\n",
    "plt.imshow(Z , interpolation='nearest', \n",
    "           extent=(xx.min(), xx.max(), yy.min(), yy.max()),\n",
    "           cmap = plt.cm.Pastel2, aspect = 'auto', origin='lower')\n",
    "\n",
    "plt.scatter( x = 'Alcohol', y = 'Ash', data = df, c = labels1, s = 100)\n",
    "plt.scatter(x = centroids1[: , 0] , y =  centroids1[: , 1] , s = 300 , c = 'red' , alpha = 0.5)\n",
    "plt.ylabel('Ash') , plt.xlabel('Alcohol')\n",
    "plt.show()"
   ]
  },
  {
   "cell_type": "code",
   "execution_count": 64,
   "metadata": {},
   "outputs": [],
   "source": [
    "X3 = df[['Alcohol' , 'Ash' ,'Magnesium']].iloc[: , :].values\n",
    "inertia = []\n",
    "for n in range(1 , 11):\n",
    "    algorithm = (KMeans(n_clusters = n, init='k-means++', n_init = 10, max_iter=300, \n",
    "                        tol=0.0001, random_state= 111, algorithm='elkan'))\n",
    "    algorithm.fit(X3)\n",
    "    inertia.append(algorithm.inertia_)"
   ]
  },
  {
   "cell_type": "code",
   "execution_count": 65,
   "metadata": {},
   "outputs": [
    {
     "output_type": "display_data",
     "data": {
      "text/plain": "<Figure size 1080x432 with 1 Axes>",
      "image/svg+xml": "<?xml version=\"1.0\" encoding=\"utf-8\" standalone=\"no\"?>\n<!DOCTYPE svg PUBLIC \"-//W3C//DTD SVG 1.1//EN\"\n  \"http://www.w3.org/Graphics/SVG/1.1/DTD/svg11.dtd\">\n<!-- Created with matplotlib (https://matplotlib.org/) -->\n<svg height=\"370.91625pt\" version=\"1.1\" viewBox=\"0 0 903.890625 370.91625\" width=\"903.890625pt\" xmlns=\"http://www.w3.org/2000/svg\" xmlns:xlink=\"http://www.w3.org/1999/xlink\">\n <metadata>\n  <rdf:RDF xmlns:cc=\"http://creativecommons.org/ns#\" xmlns:dc=\"http://purl.org/dc/elements/1.1/\" xmlns:rdf=\"http://www.w3.org/1999/02/22-rdf-syntax-ns#\">\n   <cc:Work>\n    <dc:type rdf:resource=\"http://purl.org/dc/dcmitype/StillImage\"/>\n    <dc:date>2021-05-09T08:58:01.907318</dc:date>\n    <dc:format>image/svg+xml</dc:format>\n    <dc:creator>\n     <cc:Agent>\n      <dc:title>Matplotlib v3.3.4, https://matplotlib.org/</dc:title>\n     </cc:Agent>\n    </dc:creator>\n   </cc:Work>\n  </rdf:RDF>\n </metadata>\n <defs>\n  <style type=\"text/css\">*{stroke-linecap:butt;stroke-linejoin:round;}</style>\n </defs>\n <g id=\"figure_1\">\n  <g id=\"patch_1\">\n   <path d=\"M 0 370.91625 \nL 903.890625 370.91625 \nL 903.890625 0 \nL 0 0 \nz\n\" style=\"fill:none;\"/>\n  </g>\n  <g id=\"axes_1\">\n   <g id=\"patch_2\">\n    <path d=\"M 59.690625 333.36 \nL 896.690625 333.36 \nL 896.690625 7.2 \nL 59.690625 7.2 \nz\n\" style=\"fill:#ffffff;\"/>\n   </g>\n   <g id=\"matplotlib.axis_1\">\n    <g id=\"xtick_1\">\n     <g id=\"line2d_1\">\n      <defs>\n       <path d=\"M 0 0 \nL 0 3.5 \n\" id=\"m3e1d43790c\" style=\"stroke:#000000;stroke-width:0.8;\"/>\n      </defs>\n      <g>\n       <use style=\"stroke:#000000;stroke-width:0.8;\" x=\"182.281534\" xlink:href=\"#m3e1d43790c\" y=\"333.36\"/>\n      </g>\n     </g>\n     <g id=\"text_1\">\n      <!-- 2 -->\n      <g transform=\"translate(179.100284 347.958438)scale(0.1 -0.1)\">\n       <defs>\n        <path d=\"M 19.1875 8.296875 \nL 53.609375 8.296875 \nL 53.609375 0 \nL 7.328125 0 \nL 7.328125 8.296875 \nQ 12.9375 14.109375 22.625 23.890625 \nQ 32.328125 33.6875 34.8125 36.53125 \nQ 39.546875 41.84375 41.421875 45.53125 \nQ 43.3125 49.21875 43.3125 52.78125 \nQ 43.3125 58.59375 39.234375 62.25 \nQ 35.15625 65.921875 28.609375 65.921875 \nQ 23.96875 65.921875 18.8125 64.3125 \nQ 13.671875 62.703125 7.8125 59.421875 \nL 7.8125 69.390625 \nQ 13.765625 71.78125 18.9375 73 \nQ 24.125 74.21875 28.421875 74.21875 \nQ 39.75 74.21875 46.484375 68.546875 \nQ 53.21875 62.890625 53.21875 53.421875 \nQ 53.21875 48.921875 51.53125 44.890625 \nQ 49.859375 40.875 45.40625 35.40625 \nQ 44.1875 33.984375 37.640625 27.21875 \nQ 31.109375 20.453125 19.1875 8.296875 \nz\n\" id=\"DejaVuSans-50\"/>\n       </defs>\n       <use xlink:href=\"#DejaVuSans-50\"/>\n      </g>\n     </g>\n    </g>\n    <g id=\"xtick_2\">\n     <g id=\"line2d_2\">\n      <g>\n       <use style=\"stroke:#000000;stroke-width:0.8;\" x=\"351.372443\" xlink:href=\"#m3e1d43790c\" y=\"333.36\"/>\n      </g>\n     </g>\n     <g id=\"text_2\">\n      <!-- 4 -->\n      <g transform=\"translate(348.191193 347.958438)scale(0.1 -0.1)\">\n       <defs>\n        <path d=\"M 37.796875 64.3125 \nL 12.890625 25.390625 \nL 37.796875 25.390625 \nz\nM 35.203125 72.90625 \nL 47.609375 72.90625 \nL 47.609375 25.390625 \nL 58.015625 25.390625 \nL 58.015625 17.1875 \nL 47.609375 17.1875 \nL 47.609375 0 \nL 37.796875 0 \nL 37.796875 17.1875 \nL 4.890625 17.1875 \nL 4.890625 26.703125 \nz\n\" id=\"DejaVuSans-52\"/>\n       </defs>\n       <use xlink:href=\"#DejaVuSans-52\"/>\n      </g>\n     </g>\n    </g>\n    <g id=\"xtick_3\">\n     <g id=\"line2d_3\">\n      <g>\n       <use style=\"stroke:#000000;stroke-width:0.8;\" x=\"520.463352\" xlink:href=\"#m3e1d43790c\" y=\"333.36\"/>\n      </g>\n     </g>\n     <g id=\"text_3\">\n      <!-- 6 -->\n      <g transform=\"translate(517.282102 347.958438)scale(0.1 -0.1)\">\n       <defs>\n        <path d=\"M 33.015625 40.375 \nQ 26.375 40.375 22.484375 35.828125 \nQ 18.609375 31.296875 18.609375 23.390625 \nQ 18.609375 15.53125 22.484375 10.953125 \nQ 26.375 6.390625 33.015625 6.390625 \nQ 39.65625 6.390625 43.53125 10.953125 \nQ 47.40625 15.53125 47.40625 23.390625 \nQ 47.40625 31.296875 43.53125 35.828125 \nQ 39.65625 40.375 33.015625 40.375 \nz\nM 52.59375 71.296875 \nL 52.59375 62.3125 \nQ 48.875 64.0625 45.09375 64.984375 \nQ 41.3125 65.921875 37.59375 65.921875 \nQ 27.828125 65.921875 22.671875 59.328125 \nQ 17.53125 52.734375 16.796875 39.40625 \nQ 19.671875 43.65625 24.015625 45.921875 \nQ 28.375 48.1875 33.59375 48.1875 \nQ 44.578125 48.1875 50.953125 41.515625 \nQ 57.328125 34.859375 57.328125 23.390625 \nQ 57.328125 12.15625 50.6875 5.359375 \nQ 44.046875 -1.421875 33.015625 -1.421875 \nQ 20.359375 -1.421875 13.671875 8.265625 \nQ 6.984375 17.96875 6.984375 36.375 \nQ 6.984375 53.65625 15.1875 63.9375 \nQ 23.390625 74.21875 37.203125 74.21875 \nQ 40.921875 74.21875 44.703125 73.484375 \nQ 48.484375 72.75 52.59375 71.296875 \nz\n\" id=\"DejaVuSans-54\"/>\n       </defs>\n       <use xlink:href=\"#DejaVuSans-54\"/>\n      </g>\n     </g>\n    </g>\n    <g id=\"xtick_4\">\n     <g id=\"line2d_4\">\n      <g>\n       <use style=\"stroke:#000000;stroke-width:0.8;\" x=\"689.554261\" xlink:href=\"#m3e1d43790c\" y=\"333.36\"/>\n      </g>\n     </g>\n     <g id=\"text_4\">\n      <!-- 8 -->\n      <g transform=\"translate(686.373011 347.958438)scale(0.1 -0.1)\">\n       <defs>\n        <path d=\"M 31.78125 34.625 \nQ 24.75 34.625 20.71875 30.859375 \nQ 16.703125 27.09375 16.703125 20.515625 \nQ 16.703125 13.921875 20.71875 10.15625 \nQ 24.75 6.390625 31.78125 6.390625 \nQ 38.8125 6.390625 42.859375 10.171875 \nQ 46.921875 13.96875 46.921875 20.515625 \nQ 46.921875 27.09375 42.890625 30.859375 \nQ 38.875 34.625 31.78125 34.625 \nz\nM 21.921875 38.8125 \nQ 15.578125 40.375 12.03125 44.71875 \nQ 8.5 49.078125 8.5 55.328125 \nQ 8.5 64.0625 14.71875 69.140625 \nQ 20.953125 74.21875 31.78125 74.21875 \nQ 42.671875 74.21875 48.875 69.140625 \nQ 55.078125 64.0625 55.078125 55.328125 \nQ 55.078125 49.078125 51.53125 44.71875 \nQ 48 40.375 41.703125 38.8125 \nQ 48.828125 37.15625 52.796875 32.3125 \nQ 56.78125 27.484375 56.78125 20.515625 \nQ 56.78125 9.90625 50.3125 4.234375 \nQ 43.84375 -1.421875 31.78125 -1.421875 \nQ 19.734375 -1.421875 13.25 4.234375 \nQ 6.78125 9.90625 6.78125 20.515625 \nQ 6.78125 27.484375 10.78125 32.3125 \nQ 14.796875 37.15625 21.921875 38.8125 \nz\nM 18.3125 54.390625 \nQ 18.3125 48.734375 21.84375 45.5625 \nQ 25.390625 42.390625 31.78125 42.390625 \nQ 38.140625 42.390625 41.71875 45.5625 \nQ 45.3125 48.734375 45.3125 54.390625 \nQ 45.3125 60.0625 41.71875 63.234375 \nQ 38.140625 66.40625 31.78125 66.40625 \nQ 25.390625 66.40625 21.84375 63.234375 \nQ 18.3125 60.0625 18.3125 54.390625 \nz\n\" id=\"DejaVuSans-56\"/>\n       </defs>\n       <use xlink:href=\"#DejaVuSans-56\"/>\n      </g>\n     </g>\n    </g>\n    <g id=\"xtick_5\">\n     <g id=\"line2d_5\">\n      <g>\n       <use style=\"stroke:#000000;stroke-width:0.8;\" x=\"858.64517\" xlink:href=\"#m3e1d43790c\" y=\"333.36\"/>\n      </g>\n     </g>\n     <g id=\"text_5\">\n      <!-- 10 -->\n      <g transform=\"translate(852.28267 347.958438)scale(0.1 -0.1)\">\n       <defs>\n        <path d=\"M 12.40625 8.296875 \nL 28.515625 8.296875 \nL 28.515625 63.921875 \nL 10.984375 60.40625 \nL 10.984375 69.390625 \nL 28.421875 72.90625 \nL 38.28125 72.90625 \nL 38.28125 8.296875 \nL 54.390625 8.296875 \nL 54.390625 0 \nL 12.40625 0 \nz\n\" id=\"DejaVuSans-49\"/>\n        <path d=\"M 31.78125 66.40625 \nQ 24.171875 66.40625 20.328125 58.90625 \nQ 16.5 51.421875 16.5 36.375 \nQ 16.5 21.390625 20.328125 13.890625 \nQ 24.171875 6.390625 31.78125 6.390625 \nQ 39.453125 6.390625 43.28125 13.890625 \nQ 47.125 21.390625 47.125 36.375 \nQ 47.125 51.421875 43.28125 58.90625 \nQ 39.453125 66.40625 31.78125 66.40625 \nz\nM 31.78125 74.21875 \nQ 44.046875 74.21875 50.515625 64.515625 \nQ 56.984375 54.828125 56.984375 36.375 \nQ 56.984375 17.96875 50.515625 8.265625 \nQ 44.046875 -1.421875 31.78125 -1.421875 \nQ 19.53125 -1.421875 13.0625 8.265625 \nQ 6.59375 17.96875 6.59375 36.375 \nQ 6.59375 54.828125 13.0625 64.515625 \nQ 19.53125 74.21875 31.78125 74.21875 \nz\n\" id=\"DejaVuSans-48\"/>\n       </defs>\n       <use xlink:href=\"#DejaVuSans-49\"/>\n       <use x=\"63.623047\" xlink:href=\"#DejaVuSans-48\"/>\n      </g>\n     </g>\n    </g>\n    <g id=\"text_6\">\n     <!-- Number of Clusters -->\n     <g transform=\"translate(429.75625 361.636563)scale(0.1 -0.1)\">\n      <defs>\n       <path d=\"M 9.8125 72.90625 \nL 23.09375 72.90625 \nL 55.421875 11.921875 \nL 55.421875 72.90625 \nL 64.984375 72.90625 \nL 64.984375 0 \nL 51.703125 0 \nL 19.390625 60.984375 \nL 19.390625 0 \nL 9.8125 0 \nz\n\" id=\"DejaVuSans-78\"/>\n       <path d=\"M 8.5 21.578125 \nL 8.5 54.6875 \nL 17.484375 54.6875 \nL 17.484375 21.921875 \nQ 17.484375 14.15625 20.5 10.265625 \nQ 23.53125 6.390625 29.59375 6.390625 \nQ 36.859375 6.390625 41.078125 11.03125 \nQ 45.3125 15.671875 45.3125 23.6875 \nL 45.3125 54.6875 \nL 54.296875 54.6875 \nL 54.296875 0 \nL 45.3125 0 \nL 45.3125 8.40625 \nQ 42.046875 3.421875 37.71875 1 \nQ 33.40625 -1.421875 27.6875 -1.421875 \nQ 18.265625 -1.421875 13.375 4.4375 \nQ 8.5 10.296875 8.5 21.578125 \nz\nM 31.109375 56 \nz\n\" id=\"DejaVuSans-117\"/>\n       <path d=\"M 52 44.1875 \nQ 55.375 50.25 60.0625 53.125 \nQ 64.75 56 71.09375 56 \nQ 79.640625 56 84.28125 50.015625 \nQ 88.921875 44.046875 88.921875 33.015625 \nL 88.921875 0 \nL 79.890625 0 \nL 79.890625 32.71875 \nQ 79.890625 40.578125 77.09375 44.375 \nQ 74.3125 48.1875 68.609375 48.1875 \nQ 61.625 48.1875 57.5625 43.546875 \nQ 53.515625 38.921875 53.515625 30.90625 \nL 53.515625 0 \nL 44.484375 0 \nL 44.484375 32.71875 \nQ 44.484375 40.625 41.703125 44.40625 \nQ 38.921875 48.1875 33.109375 48.1875 \nQ 26.21875 48.1875 22.15625 43.53125 \nQ 18.109375 38.875 18.109375 30.90625 \nL 18.109375 0 \nL 9.078125 0 \nL 9.078125 54.6875 \nL 18.109375 54.6875 \nL 18.109375 46.1875 \nQ 21.1875 51.21875 25.484375 53.609375 \nQ 29.78125 56 35.6875 56 \nQ 41.65625 56 45.828125 52.96875 \nQ 50 49.953125 52 44.1875 \nz\n\" id=\"DejaVuSans-109\"/>\n       <path d=\"M 48.6875 27.296875 \nQ 48.6875 37.203125 44.609375 42.84375 \nQ 40.53125 48.484375 33.40625 48.484375 \nQ 26.265625 48.484375 22.1875 42.84375 \nQ 18.109375 37.203125 18.109375 27.296875 \nQ 18.109375 17.390625 22.1875 11.75 \nQ 26.265625 6.109375 33.40625 6.109375 \nQ 40.53125 6.109375 44.609375 11.75 \nQ 48.6875 17.390625 48.6875 27.296875 \nz\nM 18.109375 46.390625 \nQ 20.953125 51.265625 25.265625 53.625 \nQ 29.59375 56 35.59375 56 \nQ 45.5625 56 51.78125 48.09375 \nQ 58.015625 40.1875 58.015625 27.296875 \nQ 58.015625 14.40625 51.78125 6.484375 \nQ 45.5625 -1.421875 35.59375 -1.421875 \nQ 29.59375 -1.421875 25.265625 0.953125 \nQ 20.953125 3.328125 18.109375 8.203125 \nL 18.109375 0 \nL 9.078125 0 \nL 9.078125 75.984375 \nL 18.109375 75.984375 \nz\n\" id=\"DejaVuSans-98\"/>\n       <path d=\"M 56.203125 29.59375 \nL 56.203125 25.203125 \nL 14.890625 25.203125 \nQ 15.484375 15.921875 20.484375 11.0625 \nQ 25.484375 6.203125 34.421875 6.203125 \nQ 39.59375 6.203125 44.453125 7.46875 \nQ 49.3125 8.734375 54.109375 11.28125 \nL 54.109375 2.78125 \nQ 49.265625 0.734375 44.1875 -0.34375 \nQ 39.109375 -1.421875 33.890625 -1.421875 \nQ 20.796875 -1.421875 13.15625 6.1875 \nQ 5.515625 13.8125 5.515625 26.8125 \nQ 5.515625 40.234375 12.765625 48.109375 \nQ 20.015625 56 32.328125 56 \nQ 43.359375 56 49.78125 48.890625 \nQ 56.203125 41.796875 56.203125 29.59375 \nz\nM 47.21875 32.234375 \nQ 47.125 39.59375 43.09375 43.984375 \nQ 39.0625 48.390625 32.421875 48.390625 \nQ 24.90625 48.390625 20.390625 44.140625 \nQ 15.875 39.890625 15.1875 32.171875 \nz\n\" id=\"DejaVuSans-101\"/>\n       <path d=\"M 41.109375 46.296875 \nQ 39.59375 47.171875 37.8125 47.578125 \nQ 36.03125 48 33.890625 48 \nQ 26.265625 48 22.1875 43.046875 \nQ 18.109375 38.09375 18.109375 28.8125 \nL 18.109375 0 \nL 9.078125 0 \nL 9.078125 54.6875 \nL 18.109375 54.6875 \nL 18.109375 46.1875 \nQ 20.953125 51.171875 25.484375 53.578125 \nQ 30.03125 56 36.53125 56 \nQ 37.453125 56 38.578125 55.875 \nQ 39.703125 55.765625 41.0625 55.515625 \nz\n\" id=\"DejaVuSans-114\"/>\n       <path id=\"DejaVuSans-32\"/>\n       <path d=\"M 30.609375 48.390625 \nQ 23.390625 48.390625 19.1875 42.75 \nQ 14.984375 37.109375 14.984375 27.296875 \nQ 14.984375 17.484375 19.15625 11.84375 \nQ 23.34375 6.203125 30.609375 6.203125 \nQ 37.796875 6.203125 41.984375 11.859375 \nQ 46.1875 17.53125 46.1875 27.296875 \nQ 46.1875 37.015625 41.984375 42.703125 \nQ 37.796875 48.390625 30.609375 48.390625 \nz\nM 30.609375 56 \nQ 42.328125 56 49.015625 48.375 \nQ 55.71875 40.765625 55.71875 27.296875 \nQ 55.71875 13.875 49.015625 6.21875 \nQ 42.328125 -1.421875 30.609375 -1.421875 \nQ 18.84375 -1.421875 12.171875 6.21875 \nQ 5.515625 13.875 5.515625 27.296875 \nQ 5.515625 40.765625 12.171875 48.375 \nQ 18.84375 56 30.609375 56 \nz\n\" id=\"DejaVuSans-111\"/>\n       <path d=\"M 37.109375 75.984375 \nL 37.109375 68.5 \nL 28.515625 68.5 \nQ 23.6875 68.5 21.796875 66.546875 \nQ 19.921875 64.59375 19.921875 59.515625 \nL 19.921875 54.6875 \nL 34.71875 54.6875 \nL 34.71875 47.703125 \nL 19.921875 47.703125 \nL 19.921875 0 \nL 10.890625 0 \nL 10.890625 47.703125 \nL 2.296875 47.703125 \nL 2.296875 54.6875 \nL 10.890625 54.6875 \nL 10.890625 58.5 \nQ 10.890625 67.625 15.140625 71.796875 \nQ 19.390625 75.984375 28.609375 75.984375 \nz\n\" id=\"DejaVuSans-102\"/>\n       <path d=\"M 64.40625 67.28125 \nL 64.40625 56.890625 \nQ 59.421875 61.53125 53.78125 63.8125 \nQ 48.140625 66.109375 41.796875 66.109375 \nQ 29.296875 66.109375 22.65625 58.46875 \nQ 16.015625 50.828125 16.015625 36.375 \nQ 16.015625 21.96875 22.65625 14.328125 \nQ 29.296875 6.6875 41.796875 6.6875 \nQ 48.140625 6.6875 53.78125 8.984375 \nQ 59.421875 11.28125 64.40625 15.921875 \nL 64.40625 5.609375 \nQ 59.234375 2.09375 53.4375 0.328125 \nQ 47.65625 -1.421875 41.21875 -1.421875 \nQ 24.65625 -1.421875 15.125 8.703125 \nQ 5.609375 18.84375 5.609375 36.375 \nQ 5.609375 53.953125 15.125 64.078125 \nQ 24.65625 74.21875 41.21875 74.21875 \nQ 47.75 74.21875 53.53125 72.484375 \nQ 59.328125 70.75 64.40625 67.28125 \nz\n\" id=\"DejaVuSans-67\"/>\n       <path d=\"M 9.421875 75.984375 \nL 18.40625 75.984375 \nL 18.40625 0 \nL 9.421875 0 \nz\n\" id=\"DejaVuSans-108\"/>\n       <path d=\"M 44.28125 53.078125 \nL 44.28125 44.578125 \nQ 40.484375 46.53125 36.375 47.5 \nQ 32.28125 48.484375 27.875 48.484375 \nQ 21.1875 48.484375 17.84375 46.4375 \nQ 14.5 44.390625 14.5 40.28125 \nQ 14.5 37.15625 16.890625 35.375 \nQ 19.28125 33.59375 26.515625 31.984375 \nL 29.59375 31.296875 \nQ 39.15625 29.25 43.1875 25.515625 \nQ 47.21875 21.78125 47.21875 15.09375 \nQ 47.21875 7.46875 41.1875 3.015625 \nQ 35.15625 -1.421875 24.609375 -1.421875 \nQ 20.21875 -1.421875 15.453125 -0.5625 \nQ 10.6875 0.296875 5.421875 2 \nL 5.421875 11.28125 \nQ 10.40625 8.6875 15.234375 7.390625 \nQ 20.0625 6.109375 24.8125 6.109375 \nQ 31.15625 6.109375 34.5625 8.28125 \nQ 37.984375 10.453125 37.984375 14.40625 \nQ 37.984375 18.0625 35.515625 20.015625 \nQ 33.0625 21.96875 24.703125 23.78125 \nL 21.578125 24.515625 \nQ 13.234375 26.265625 9.515625 29.90625 \nQ 5.8125 33.546875 5.8125 39.890625 \nQ 5.8125 47.609375 11.28125 51.796875 \nQ 16.75 56 26.8125 56 \nQ 31.78125 56 36.171875 55.265625 \nQ 40.578125 54.546875 44.28125 53.078125 \nz\n\" id=\"DejaVuSans-115\"/>\n       <path d=\"M 18.3125 70.21875 \nL 18.3125 54.6875 \nL 36.8125 54.6875 \nL 36.8125 47.703125 \nL 18.3125 47.703125 \nL 18.3125 18.015625 \nQ 18.3125 11.328125 20.140625 9.421875 \nQ 21.96875 7.515625 27.59375 7.515625 \nL 36.8125 7.515625 \nL 36.8125 0 \nL 27.59375 0 \nQ 17.1875 0 13.234375 3.875 \nQ 9.28125 7.765625 9.28125 18.015625 \nL 9.28125 47.703125 \nL 2.6875 47.703125 \nL 2.6875 54.6875 \nL 9.28125 54.6875 \nL 9.28125 70.21875 \nz\n\" id=\"DejaVuSans-116\"/>\n      </defs>\n      <use xlink:href=\"#DejaVuSans-78\"/>\n      <use x=\"74.804688\" xlink:href=\"#DejaVuSans-117\"/>\n      <use x=\"138.183594\" xlink:href=\"#DejaVuSans-109\"/>\n      <use x=\"235.595703\" xlink:href=\"#DejaVuSans-98\"/>\n      <use x=\"299.072266\" xlink:href=\"#DejaVuSans-101\"/>\n      <use x=\"360.595703\" xlink:href=\"#DejaVuSans-114\"/>\n      <use x=\"401.708984\" xlink:href=\"#DejaVuSans-32\"/>\n      <use x=\"433.496094\" xlink:href=\"#DejaVuSans-111\"/>\n      <use x=\"494.677734\" xlink:href=\"#DejaVuSans-102\"/>\n      <use x=\"529.882812\" xlink:href=\"#DejaVuSans-32\"/>\n      <use x=\"561.669922\" xlink:href=\"#DejaVuSans-67\"/>\n      <use x=\"631.494141\" xlink:href=\"#DejaVuSans-108\"/>\n      <use x=\"659.277344\" xlink:href=\"#DejaVuSans-117\"/>\n      <use x=\"722.65625\" xlink:href=\"#DejaVuSans-115\"/>\n      <use x=\"774.755859\" xlink:href=\"#DejaVuSans-116\"/>\n      <use x=\"813.964844\" xlink:href=\"#DejaVuSans-101\"/>\n      <use x=\"875.488281\" xlink:href=\"#DejaVuSans-114\"/>\n      <use x=\"916.601562\" xlink:href=\"#DejaVuSans-115\"/>\n     </g>\n    </g>\n   </g>\n   <g id=\"matplotlib.axis_2\">\n    <g id=\"ytick_1\">\n     <g id=\"line2d_6\">\n      <defs>\n       <path d=\"M 0 0 \nL -3.5 0 \n\" id=\"m31cb4b573f\" style=\"stroke:#000000;stroke-width:0.8;\"/>\n      </defs>\n      <g>\n       <use style=\"stroke:#000000;stroke-width:0.8;\" x=\"59.690625\" xlink:href=\"#m31cb4b573f\" y=\"324.841777\"/>\n      </g>\n     </g>\n     <g id=\"text_7\">\n      <!-- 0 -->\n      <g transform=\"translate(46.328125 328.640996)scale(0.1 -0.1)\">\n       <use xlink:href=\"#DejaVuSans-48\"/>\n      </g>\n     </g>\n    </g>\n    <g id=\"ytick_2\">\n     <g id=\"line2d_7\">\n      <g>\n       <use style=\"stroke:#000000;stroke-width:0.8;\" x=\"59.690625\" xlink:href=\"#m31cb4b573f\" y=\"283.057973\"/>\n      </g>\n     </g>\n     <g id=\"text_8\">\n      <!-- 5000 -->\n      <g transform=\"translate(27.240625 286.857192)scale(0.1 -0.1)\">\n       <defs>\n        <path d=\"M 10.796875 72.90625 \nL 49.515625 72.90625 \nL 49.515625 64.59375 \nL 19.828125 64.59375 \nL 19.828125 46.734375 \nQ 21.96875 47.46875 24.109375 47.828125 \nQ 26.265625 48.1875 28.421875 48.1875 \nQ 40.625 48.1875 47.75 41.5 \nQ 54.890625 34.8125 54.890625 23.390625 \nQ 54.890625 11.625 47.5625 5.09375 \nQ 40.234375 -1.421875 26.90625 -1.421875 \nQ 22.3125 -1.421875 17.546875 -0.640625 \nQ 12.796875 0.140625 7.71875 1.703125 \nL 7.71875 11.625 \nQ 12.109375 9.234375 16.796875 8.0625 \nQ 21.484375 6.890625 26.703125 6.890625 \nQ 35.15625 6.890625 40.078125 11.328125 \nQ 45.015625 15.765625 45.015625 23.390625 \nQ 45.015625 31 40.078125 35.4375 \nQ 35.15625 39.890625 26.703125 39.890625 \nQ 22.75 39.890625 18.8125 39.015625 \nQ 14.890625 38.140625 10.796875 36.28125 \nz\n\" id=\"DejaVuSans-53\"/>\n       </defs>\n       <use xlink:href=\"#DejaVuSans-53\"/>\n       <use x=\"63.623047\" xlink:href=\"#DejaVuSans-48\"/>\n       <use x=\"127.246094\" xlink:href=\"#DejaVuSans-48\"/>\n       <use x=\"190.869141\" xlink:href=\"#DejaVuSans-48\"/>\n      </g>\n     </g>\n    </g>\n    <g id=\"ytick_3\">\n     <g id=\"line2d_8\">\n      <g>\n       <use style=\"stroke:#000000;stroke-width:0.8;\" x=\"59.690625\" xlink:href=\"#m31cb4b573f\" y=\"241.274169\"/>\n      </g>\n     </g>\n     <g id=\"text_9\">\n      <!-- 10000 -->\n      <g transform=\"translate(20.878125 245.073388)scale(0.1 -0.1)\">\n       <use xlink:href=\"#DejaVuSans-49\"/>\n       <use x=\"63.623047\" xlink:href=\"#DejaVuSans-48\"/>\n       <use x=\"127.246094\" xlink:href=\"#DejaVuSans-48\"/>\n       <use x=\"190.869141\" xlink:href=\"#DejaVuSans-48\"/>\n       <use x=\"254.492188\" xlink:href=\"#DejaVuSans-48\"/>\n      </g>\n     </g>\n    </g>\n    <g id=\"ytick_4\">\n     <g id=\"line2d_9\">\n      <g>\n       <use style=\"stroke:#000000;stroke-width:0.8;\" x=\"59.690625\" xlink:href=\"#m31cb4b573f\" y=\"199.490365\"/>\n      </g>\n     </g>\n     <g id=\"text_10\">\n      <!-- 15000 -->\n      <g transform=\"translate(20.878125 203.289583)scale(0.1 -0.1)\">\n       <use xlink:href=\"#DejaVuSans-49\"/>\n       <use x=\"63.623047\" xlink:href=\"#DejaVuSans-53\"/>\n       <use x=\"127.246094\" xlink:href=\"#DejaVuSans-48\"/>\n       <use x=\"190.869141\" xlink:href=\"#DejaVuSans-48\"/>\n       <use x=\"254.492188\" xlink:href=\"#DejaVuSans-48\"/>\n      </g>\n     </g>\n    </g>\n    <g id=\"ytick_5\">\n     <g id=\"line2d_10\">\n      <g>\n       <use style=\"stroke:#000000;stroke-width:0.8;\" x=\"59.690625\" xlink:href=\"#m31cb4b573f\" y=\"157.706561\"/>\n      </g>\n     </g>\n     <g id=\"text_11\">\n      <!-- 20000 -->\n      <g transform=\"translate(20.878125 161.505779)scale(0.1 -0.1)\">\n       <use xlink:href=\"#DejaVuSans-50\"/>\n       <use x=\"63.623047\" xlink:href=\"#DejaVuSans-48\"/>\n       <use x=\"127.246094\" xlink:href=\"#DejaVuSans-48\"/>\n       <use x=\"190.869141\" xlink:href=\"#DejaVuSans-48\"/>\n       <use x=\"254.492188\" xlink:href=\"#DejaVuSans-48\"/>\n      </g>\n     </g>\n    </g>\n    <g id=\"ytick_6\">\n     <g id=\"line2d_11\">\n      <g>\n       <use style=\"stroke:#000000;stroke-width:0.8;\" x=\"59.690625\" xlink:href=\"#m31cb4b573f\" y=\"115.922756\"/>\n      </g>\n     </g>\n     <g id=\"text_12\">\n      <!-- 25000 -->\n      <g transform=\"translate(20.878125 119.721975)scale(0.1 -0.1)\">\n       <use xlink:href=\"#DejaVuSans-50\"/>\n       <use x=\"63.623047\" xlink:href=\"#DejaVuSans-53\"/>\n       <use x=\"127.246094\" xlink:href=\"#DejaVuSans-48\"/>\n       <use x=\"190.869141\" xlink:href=\"#DejaVuSans-48\"/>\n       <use x=\"254.492188\" xlink:href=\"#DejaVuSans-48\"/>\n      </g>\n     </g>\n    </g>\n    <g id=\"ytick_7\">\n     <g id=\"line2d_12\">\n      <g>\n       <use style=\"stroke:#000000;stroke-width:0.8;\" x=\"59.690625\" xlink:href=\"#m31cb4b573f\" y=\"74.138952\"/>\n      </g>\n     </g>\n     <g id=\"text_13\">\n      <!-- 30000 -->\n      <g transform=\"translate(20.878125 77.938171)scale(0.1 -0.1)\">\n       <defs>\n        <path d=\"M 40.578125 39.3125 \nQ 47.65625 37.796875 51.625 33 \nQ 55.609375 28.21875 55.609375 21.1875 \nQ 55.609375 10.40625 48.1875 4.484375 \nQ 40.765625 -1.421875 27.09375 -1.421875 \nQ 22.515625 -1.421875 17.65625 -0.515625 \nQ 12.796875 0.390625 7.625 2.203125 \nL 7.625 11.71875 \nQ 11.71875 9.328125 16.59375 8.109375 \nQ 21.484375 6.890625 26.8125 6.890625 \nQ 36.078125 6.890625 40.9375 10.546875 \nQ 45.796875 14.203125 45.796875 21.1875 \nQ 45.796875 27.640625 41.28125 31.265625 \nQ 36.765625 34.90625 28.71875 34.90625 \nL 20.21875 34.90625 \nL 20.21875 43.015625 \nL 29.109375 43.015625 \nQ 36.375 43.015625 40.234375 45.921875 \nQ 44.09375 48.828125 44.09375 54.296875 \nQ 44.09375 59.90625 40.109375 62.90625 \nQ 36.140625 65.921875 28.71875 65.921875 \nQ 24.65625 65.921875 20.015625 65.03125 \nQ 15.375 64.15625 9.8125 62.3125 \nL 9.8125 71.09375 \nQ 15.4375 72.65625 20.34375 73.4375 \nQ 25.25 74.21875 29.59375 74.21875 \nQ 40.828125 74.21875 47.359375 69.109375 \nQ 53.90625 64.015625 53.90625 55.328125 \nQ 53.90625 49.265625 50.4375 45.09375 \nQ 46.96875 40.921875 40.578125 39.3125 \nz\n\" id=\"DejaVuSans-51\"/>\n       </defs>\n       <use xlink:href=\"#DejaVuSans-51\"/>\n       <use x=\"63.623047\" xlink:href=\"#DejaVuSans-48\"/>\n       <use x=\"127.246094\" xlink:href=\"#DejaVuSans-48\"/>\n       <use x=\"190.869141\" xlink:href=\"#DejaVuSans-48\"/>\n       <use x=\"254.492188\" xlink:href=\"#DejaVuSans-48\"/>\n      </g>\n     </g>\n    </g>\n    <g id=\"ytick_8\">\n     <g id=\"line2d_13\">\n      <g>\n       <use style=\"stroke:#000000;stroke-width:0.8;\" x=\"59.690625\" xlink:href=\"#m31cb4b573f\" y=\"32.355148\"/>\n      </g>\n     </g>\n     <g id=\"text_14\">\n      <!-- 35000 -->\n      <g transform=\"translate(20.878125 36.154367)scale(0.1 -0.1)\">\n       <use xlink:href=\"#DejaVuSans-51\"/>\n       <use x=\"63.623047\" xlink:href=\"#DejaVuSans-53\"/>\n       <use x=\"127.246094\" xlink:href=\"#DejaVuSans-48\"/>\n       <use x=\"190.869141\" xlink:href=\"#DejaVuSans-48\"/>\n       <use x=\"254.492188\" xlink:href=\"#DejaVuSans-48\"/>\n      </g>\n     </g>\n    </g>\n    <g id=\"text_15\">\n     <!-- Inertia -->\n     <g transform=\"translate(14.798438 186.469063)rotate(-90)scale(0.1 -0.1)\">\n      <defs>\n       <path d=\"M 9.8125 72.90625 \nL 19.671875 72.90625 \nL 19.671875 0 \nL 9.8125 0 \nz\n\" id=\"DejaVuSans-73\"/>\n       <path d=\"M 54.890625 33.015625 \nL 54.890625 0 \nL 45.90625 0 \nL 45.90625 32.71875 \nQ 45.90625 40.484375 42.875 44.328125 \nQ 39.84375 48.1875 33.796875 48.1875 \nQ 26.515625 48.1875 22.3125 43.546875 \nQ 18.109375 38.921875 18.109375 30.90625 \nL 18.109375 0 \nL 9.078125 0 \nL 9.078125 54.6875 \nL 18.109375 54.6875 \nL 18.109375 46.1875 \nQ 21.34375 51.125 25.703125 53.5625 \nQ 30.078125 56 35.796875 56 \nQ 45.21875 56 50.046875 50.171875 \nQ 54.890625 44.34375 54.890625 33.015625 \nz\n\" id=\"DejaVuSans-110\"/>\n       <path d=\"M 9.421875 54.6875 \nL 18.40625 54.6875 \nL 18.40625 0 \nL 9.421875 0 \nz\nM 9.421875 75.984375 \nL 18.40625 75.984375 \nL 18.40625 64.59375 \nL 9.421875 64.59375 \nz\n\" id=\"DejaVuSans-105\"/>\n       <path d=\"M 34.28125 27.484375 \nQ 23.390625 27.484375 19.1875 25 \nQ 14.984375 22.515625 14.984375 16.5 \nQ 14.984375 11.71875 18.140625 8.90625 \nQ 21.296875 6.109375 26.703125 6.109375 \nQ 34.1875 6.109375 38.703125 11.40625 \nQ 43.21875 16.703125 43.21875 25.484375 \nL 43.21875 27.484375 \nz\nM 52.203125 31.203125 \nL 52.203125 0 \nL 43.21875 0 \nL 43.21875 8.296875 \nQ 40.140625 3.328125 35.546875 0.953125 \nQ 30.953125 -1.421875 24.3125 -1.421875 \nQ 15.921875 -1.421875 10.953125 3.296875 \nQ 6 8.015625 6 15.921875 \nQ 6 25.140625 12.171875 29.828125 \nQ 18.359375 34.515625 30.609375 34.515625 \nL 43.21875 34.515625 \nL 43.21875 35.40625 \nQ 43.21875 41.609375 39.140625 45 \nQ 35.0625 48.390625 27.6875 48.390625 \nQ 23 48.390625 18.546875 47.265625 \nQ 14.109375 46.140625 10.015625 43.890625 \nL 10.015625 52.203125 \nQ 14.9375 54.109375 19.578125 55.046875 \nQ 24.21875 56 28.609375 56 \nQ 40.484375 56 46.34375 49.84375 \nQ 52.203125 43.703125 52.203125 31.203125 \nz\n\" id=\"DejaVuSans-97\"/>\n      </defs>\n      <use xlink:href=\"#DejaVuSans-73\"/>\n      <use x=\"29.492188\" xlink:href=\"#DejaVuSans-110\"/>\n      <use x=\"92.871094\" xlink:href=\"#DejaVuSans-101\"/>\n      <use x=\"154.394531\" xlink:href=\"#DejaVuSans-114\"/>\n      <use x=\"195.507812\" xlink:href=\"#DejaVuSans-116\"/>\n      <use x=\"234.716797\" xlink:href=\"#DejaVuSans-105\"/>\n      <use x=\"262.5\" xlink:href=\"#DejaVuSans-97\"/>\n     </g>\n    </g>\n   </g>\n   <g id=\"line2d_14\">\n    <defs>\n     <path d=\"M 0 3 \nC 0.795609 3 1.55874 2.683901 2.12132 2.12132 \nC 2.683901 1.55874 3 0.795609 3 0 \nC 3 -0.795609 2.683901 -1.55874 2.12132 -2.12132 \nC 1.55874 -2.683901 0.795609 -3 0 -3 \nC -0.795609 -3 -1.55874 -2.683901 -2.12132 -2.12132 \nC -2.683901 -1.55874 -3 -0.795609 -3 0 \nC -3 0.795609 -2.683901 1.55874 -2.12132 2.12132 \nC -1.55874 2.683901 -0.795609 3 0 3 \nz\n\" id=\"m9e1d02896a\" style=\"stroke:#1f77b4;\"/>\n    </defs>\n    <g clip-path=\"url(#pa0f7e9b175)\">\n     <use style=\"fill:#1f77b4;stroke:#1f77b4;\" x=\"97.73608\" xlink:href=\"#m9e1d02896a\" y=\"22.025455\"/>\n     <use style=\"fill:#1f77b4;stroke:#1f77b4;\" x=\"182.281534\" xlink:href=\"#m9e1d02896a\" y=\"210.929539\"/>\n     <use style=\"fill:#1f77b4;stroke:#1f77b4;\" x=\"266.826989\" xlink:href=\"#m9e1d02896a\" y=\"264.562744\"/>\n     <use style=\"fill:#1f77b4;stroke:#1f77b4;\" x=\"351.372443\" xlink:href=\"#m9e1d02896a\" y=\"290.253392\"/>\n     <use style=\"fill:#1f77b4;stroke:#1f77b4;\" x=\"435.917898\" xlink:href=\"#m9e1d02896a\" y=\"300.054278\"/>\n     <use style=\"fill:#1f77b4;stroke:#1f77b4;\" x=\"520.463352\" xlink:href=\"#m9e1d02896a\" y=\"307.053189\"/>\n     <use style=\"fill:#1f77b4;stroke:#1f77b4;\" x=\"605.008807\" xlink:href=\"#m9e1d02896a\" y=\"311.880722\"/>\n     <use style=\"fill:#1f77b4;stroke:#1f77b4;\" x=\"689.554261\" xlink:href=\"#m9e1d02896a\" y=\"315.841252\"/>\n     <use style=\"fill:#1f77b4;stroke:#1f77b4;\" x=\"774.099716\" xlink:href=\"#m9e1d02896a\" y=\"317.195824\"/>\n     <use style=\"fill:#1f77b4;stroke:#1f77b4;\" x=\"858.64517\" xlink:href=\"#m9e1d02896a\" y=\"318.534545\"/>\n    </g>\n   </g>\n   <g id=\"line2d_15\">\n    <path clip-path=\"url(#pa0f7e9b175)\" d=\"M 97.73608 22.025455 \nL 182.281534 210.929539 \nL 266.826989 264.562744 \nL 351.372443 290.253392 \nL 435.917898 300.054278 \nL 520.463352 307.053189 \nL 605.008807 311.880722 \nL 689.554261 315.841252 \nL 774.099716 317.195824 \nL 858.64517 318.534545 \n\" style=\"fill:none;stroke:#ff7f0e;stroke-linecap:square;stroke-opacity:0.5;stroke-width:1.5;\"/>\n   </g>\n   <g id=\"patch_3\">\n    <path d=\"M 59.690625 333.36 \nL 59.690625 7.2 \n\" style=\"fill:none;stroke:#000000;stroke-linecap:square;stroke-linejoin:miter;stroke-width:0.8;\"/>\n   </g>\n   <g id=\"patch_4\">\n    <path d=\"M 896.690625 333.36 \nL 896.690625 7.2 \n\" style=\"fill:none;stroke:#000000;stroke-linecap:square;stroke-linejoin:miter;stroke-width:0.8;\"/>\n   </g>\n   <g id=\"patch_5\">\n    <path d=\"M 59.690625 333.36 \nL 896.690625 333.36 \n\" style=\"fill:none;stroke:#000000;stroke-linecap:square;stroke-linejoin:miter;stroke-width:0.8;\"/>\n   </g>\n   <g id=\"patch_6\">\n    <path d=\"M 59.690625 7.2 \nL 896.690625 7.2 \n\" style=\"fill:none;stroke:#000000;stroke-linecap:square;stroke-linejoin:miter;stroke-width:0.8;\"/>\n   </g>\n  </g>\n </g>\n <defs>\n  <clipPath id=\"pa0f7e9b175\">\n   <rect height=\"326.16\" width=\"837\" x=\"59.690625\" y=\"7.2\"/>\n  </clipPath>\n </defs>\n</svg>\n",
      "image/png": "[encoded data removed]"
     },
     "metadata": {
      "needs_background": "light"
     }
    }
   ],
   "source": [
    "plt.figure(1 , figsize = (15 ,6))\n",
    "plt.plot(np.arange(1 , 11) , inertia , 'o')\n",
    "plt.plot(np.arange(1 , 11) , inertia , '-' , alpha = 0.5)\n",
    "plt.xlabel('Number of Clusters') , plt.ylabel('Inertia')\n",
    "plt.show()"
   ]
  },
  {
   "cell_type": "code",
   "execution_count": 72,
   "metadata": {},
   "outputs": [
    {
     "output_type": "execute_result",
     "data": {
      "text/plain": [
       "   Alcohol  Malic_Acid   Ash  Ash_Alcanity  Magnesium  Total_Phenols  \\\n",
       "0    14.23        1.71  2.43          15.6        127           2.80   \n",
       "1    13.20        1.78  2.14          11.2        100           2.65   \n",
       "2    13.16        2.36  2.67          18.6        101           2.80   \n",
       "3    14.37        1.95  2.50          16.8        113           3.85   \n",
       "4    13.24        2.59  2.87          21.0        118           2.80   \n",
       "\n",
       "   Flavanoids  Nonflavanoid_Phenols  Proanthocyanins  Color_Intensity   Hue  \\\n",
       "0        3.06                  0.28             2.29             5.64  1.04   \n",
       "1        2.76                  0.26             1.28             4.38  1.05   \n",
       "2        3.24                  0.30             2.81             5.68  1.03   \n",
       "3        3.49                  0.24             2.18             7.80  0.86   \n",
       "4        2.69                  0.39             1.82             4.32  1.04   \n",
       "\n",
       "   OD280  Proline  Customer_Segment  cluster  \n",
       "0   3.92     1065                 1        1  \n",
       "1   3.40     1050                 1        2  \n",
       "2   3.17     1185                 1        2  \n",
       "3   3.45     1480                 1        2  \n",
       "4   2.93      735                 1        1  "
      ],
      "text/html": "<div>\n<style scoped>\n    .dataframe tbody tr th:only-of-type {\n        vertical-align: middle;\n    }\n\n    .dataframe tbody tr th {\n        vertical-align: top;\n    }\n\n    .dataframe thead th {\n        text-align: right;\n    }\n</style>\n<table border=\"1\" class=\"dataframe\">\n  <thead>\n    <tr style=\"text-align: right;\">\n      <th></th>\n      <th>Alcohol</th>\n      <th>Malic_Acid</th>\n      <th>Ash</th>\n      <th>Ash_Alcanity</th>\n      <th>Magnesium</th>\n      <th>Total_Phenols</th>\n      <th>Flavanoids</th>\n      <th>Nonflavanoid_Phenols</th>\n      <th>Proanthocyanins</th>\n      <th>Color_Intensity</th>\n      <th>Hue</th>\n      <th>OD280</th>\n      <th>Proline</th>\n      <th>Customer_Segment</th>\n      <th>cluster</th>\n    </tr>\n  </thead>\n  <tbody>\n    <tr>\n      <th>0</th>\n      <td>14.23</td>\n      <td>1.71</td>\n      <td>2.43</td>\n      <td>15.6</td>\n      <td>127</td>\n      <td>2.80</td>\n      <td>3.06</td>\n      <td>0.28</td>\n      <td>2.29</td>\n      <td>5.64</td>\n      <td>1.04</td>\n      <td>3.92</td>\n      <td>1065</td>\n      <td>1</td>\n      <td>1</td>\n    </tr>\n    <tr>\n      <th>1</th>\n      <td>13.20</td>\n      <td>1.78</td>\n      <td>2.14</td>\n      <td>11.2</td>\n      <td>100</td>\n      <td>2.65</td>\n      <td>2.76</td>\n      <td>0.26</td>\n      <td>1.28</td>\n      <td>4.38</td>\n      <td>1.05</td>\n      <td>3.40</td>\n      <td>1050</td>\n      <td>1</td>\n      <td>2</td>\n    </tr>\n    <tr>\n      <th>2</th>\n      <td>13.16</td>\n      <td>2.36</td>\n      <td>2.67</td>\n      <td>18.6</td>\n      <td>101</td>\n      <td>2.80</td>\n      <td>3.24</td>\n      <td>0.30</td>\n      <td>2.81</td>\n      <td>5.68</td>\n      <td>1.03</td>\n      <td>3.17</td>\n      <td>1185</td>\n      <td>1</td>\n      <td>2</td>\n    </tr>\n    <tr>\n      <th>3</th>\n      <td>14.37</td>\n      <td>1.95</td>\n      <td>2.50</td>\n      <td>16.8</td>\n      <td>113</td>\n      <td>3.85</td>\n      <td>3.49</td>\n      <td>0.24</td>\n      <td>2.18</td>\n      <td>7.80</td>\n      <td>0.86</td>\n      <td>3.45</td>\n      <td>1480</td>\n      <td>1</td>\n      <td>2</td>\n    </tr>\n    <tr>\n      <th>4</th>\n      <td>13.24</td>\n      <td>2.59</td>\n      <td>2.87</td>\n      <td>21.0</td>\n      <td>118</td>\n      <td>2.80</td>\n      <td>2.69</td>\n      <td>0.39</td>\n      <td>1.82</td>\n      <td>4.32</td>\n      <td>1.04</td>\n      <td>2.93</td>\n      <td>735</td>\n      <td>1</td>\n      <td>1</td>\n    </tr>\n  </tbody>\n</table>\n</div>"
     },
     "metadata": {},
     "execution_count": 72
    }
   ],
   "source": [
    "algorithm = (KMeans(n_clusters = 3 ,init='k-means++', n_init = 10 ,max_iter=300, \n",
    "                        tol=0.0001,  random_state= 111  , algorithm='elkan') )\n",
    "algorithm.fit(X3)\n",
    "labels3 = algorithm.labels_\n",
    "centroids3 = algorithm.cluster_centers_\n",
    "\n",
    "y_kmeans = algorithm.fit_predict(X3)\n",
    "df['cluster'] = pd.DataFrame(y_kmeans)\n",
    "df.head()"
   ]
  },
  {
   "cell_type": "code",
   "execution_count": 73,
   "metadata": {},
   "outputs": [
    {
     "output_type": "display_data",
     "data": {
      "application/vnd.plotly.v1+json": {
       "config": {
        "linkText": "Export to plot.ly",
        "plotlyServerURL": "https://plot.ly",
        "showLink": false
       },
       "data": [
        {
         "marker": {
          "color": [
           1,
           2,
           2,
           2,
           1,
           2,
           2,
           1,
           2,
           2,
           2,
           0,
           0,
           0,
           2,
           2,
           1,
           1,
           2,
           1,
           1,
           2,
           2,
           0,
           2,
           1,
           0,
           0,
           2,
           2,
           2,
           2,
           2,
           1,
           2,
           2,
           2,
           2,
           2,
           1,
           1,
           0,
           2,
           2,
           2,
           2,
           2,
           2,
           2,
           2,
           0,
           0,
           2,
           1,
           1,
           1,
           1,
           2,
           2,
           0,
           2,
           2,
           0,
           0,
           2,
           2,
           0,
           0,
           2,
           1,
           2,
           0,
           0,
           1,
           2,
           2,
           0,
           2,
           1,
           2,
           0,
           0,
           0,
           0,
           0,
           2,
           0,
           0,
           0,
           0,
           0,
           0,
           0,
           0,
           2,
           1,
           1,
           0,
           0,
           0,
           2,
           0,
           2,
           0,
           0,
           0,
           0,
           0,
           0,
           0,
           2,
           0,
           2,
           0,
           0,
           0,
           0,
           2,
           0,
           0,
           2,
           1,
           2,
           0,
           0,
           0,
           0,
           0,
           0,
           0,
           1,
           2,
           2,
           2,
           0,
           0,
           0,
           2,
           0,
           2,
           2,
           0,
           2,
           0,
           2,
           2,
           0,
           0,
           0,
           2,
           1,
           2,
           1,
           2,
           2,
           0,
           0,
           2,
           2,
           0,
           0,
           2,
           2,
           2,
           0,
           0,
           2,
           0,
           2,
           2,
           2,
           0,
           0,
           0,
           2,
           1,
           1,
           2
          ],
          "line": {
           "color": [
            1,
            2,
            2,
            2,
            1,
            2,
            2,
            1,
            2,
            2,
            2,
            0,
            0,
            0,
            2,
            2,
            1,
            1,
            2,
            1,
            1,
            2,
            2,
            0,
            2,
            1,
            0,
            0,
            2,
            2,
            2,
            2,
            2,
            1,
            2,
            2,
            2,
            2,
            2,
            1,
            1,
            0,
            2,
            2,
            2,
            2,
            2,
            2,
            2,
            2,
            0,
            0,
            2,
            1,
            1,
            1,
            1,
            2,
            2,
            0,
            2,
            2,
            0,
            0,
            2,
            2,
            0,
            0,
            2,
            1,
            2,
            0,
            0,
            1,
            2,
            2,
            0,
            2,
            1,
            2,
            0,
            0,
            0,
            0,
            0,
            2,
            0,
            0,
            0,
            0,
            0,
            0,
            0,
            0,
            2,
            1,
            1,
            0,
            0,
            0,
            2,
            0,
            2,
            0,
            0,
            0,
            0,
            0,
            0,
            0,
            2,
            0,
            2,
            0,
            0,
            0,
            0,
            2,
            0,
            0,
            2,
            1,
            2,
            0,
            0,
            0,
            0,
            0,
            0,
            0,
            1,
            2,
            2,
            2,
            0,
            0,
            0,
            2,
            0,
            2,
            2,
            0,
            2,
            0,
            2,
            2,
            0,
            0,
            0,
            2,
            1,
            2,
            1,
            2,
            2,
            0,
            0,
            2,
            2,
            0,
            0,
            2,
            2,
            2,
            0,
            0,
            2,
            0,
            2,
            2,
            2,
            0,
            0,
            0,
            2,
            1,
            1,
            2
           ],
           "width": 10
          },
          "opacity": 0.8,
          "size": 8
         },
         "mode": "markers",
         "type": "scatter3d",
         "x": [
          14.23,
          13.2,
          13.16,
          14.37,
          13.24,
          14.2,
          14.39,
          14.06,
          14.83,
          13.86,
          14.1,
          14.12,
          13.75,
          14.75,
          14.38,
          13.63,
          14.3,
          13.83,
          14.19,
          13.64,
          14.06,
          12.93,
          13.71,
          12.85,
          13.5,
          13.05,
          13.39,
          13.3,
          13.87,
          14.02,
          13.73,
          13.58,
          13.68,
          13.76,
          13.51,
          13.48,
          13.28,
          13.05,
          13.07,
          14.22,
          13.56,
          13.41,
          13.88,
          13.24,
          13.05,
          14.21,
          14.38,
          13.9,
          14.1,
          13.94,
          13.05,
          13.83,
          13.82,
          13.77,
          13.74,
          13.56,
          14.22,
          13.29,
          13.72,
          12.37,
          12.33,
          12.64,
          13.67,
          12.37,
          12.17,
          12.37,
          13.11,
          12.37,
          13.34,
          12.21,
          12.29,
          13.86,
          13.49,
          12.99,
          11.96,
          11.66,
          13.03,
          11.84,
          12.33,
          12.7,
          12,
          12.72,
          12.08,
          13.05,
          11.84,
          12.67,
          12.16,
          11.65,
          11.64,
          12.08,
          12.08,
          12,
          12.69,
          12.29,
          11.62,
          12.47,
          11.81,
          12.29,
          12.37,
          12.29,
          12.08,
          12.6,
          12.34,
          11.82,
          12.51,
          12.42,
          12.25,
          12.72,
          12.22,
          11.61,
          11.46,
          12.52,
          11.76,
          11.41,
          12.08,
          11.03,
          11.82,
          12.42,
          12.77,
          12,
          11.45,
          11.56,
          12.42,
          13.05,
          11.87,
          12.07,
          12.43,
          11.79,
          12.37,
          12.04,
          12.86,
          12.88,
          12.81,
          12.7,
          12.51,
          12.6,
          12.25,
          12.53,
          13.49,
          12.84,
          12.93,
          13.36,
          13.52,
          13.62,
          12.25,
          13.16,
          13.88,
          12.87,
          13.32,
          13.08,
          13.5,
          12.79,
          13.11,
          13.23,
          12.58,
          13.17,
          13.84,
          12.45,
          14.34,
          13.48,
          12.36,
          13.69,
          12.85,
          12.96,
          13.78,
          13.73,
          13.45,
          12.82,
          13.58,
          13.4,
          12.2,
          12.77,
          14.16,
          13.71,
          13.4,
          13.27,
          13.17,
          14.13
         ],
         "y": [
          127,
          100,
          101,
          113,
          118,
          112,
          96,
          121,
          97,
          98,
          105,
          95,
          89,
          91,
          102,
          112,
          120,
          115,
          108,
          116,
          126,
          102,
          101,
          95,
          96,
          124,
          93,
          94,
          107,
          96,
          101,
          106,
          104,
          132,
          110,
          100,
          110,
          98,
          98,
          128,
          117,
          90,
          101,
          103,
          107,
          111,
          102,
          101,
          103,
          108,
          92,
          94,
          111,
          115,
          118,
          116,
          118,
          102,
          108,
          88,
          101,
          100,
          94,
          87,
          104,
          98,
          78,
          78,
          110,
          151,
          103,
          86,
          87,
          139,
          101,
          97,
          86,
          112,
          136,
          101,
          86,
          86,
          78,
          85,
          94,
          99,
          90,
          88,
          84,
          70,
          81,
          86,
          80,
          88,
          98,
          162,
          134,
          85,
          88,
          88,
          97,
          88,
          98,
          86,
          85,
          90,
          80,
          84,
          92,
          94,
          107,
          88,
          103,
          88,
          84,
          85,
          86,
          108,
          80,
          87,
          96,
          119,
          102,
          86,
          82,
          85,
          86,
          92,
          88,
          80,
          122,
          104,
          98,
          106,
          85,
          94,
          89,
          96,
          88,
          101,
          96,
          89,
          97,
          92,
          112,
          102,
          80,
          86,
          92,
          113,
          123,
          112,
          116,
          98,
          103,
          93,
          89,
          97,
          98,
          89,
          88,
          107,
          106,
          106,
          90,
          88,
          111,
          88,
          105,
          112,
          96,
          86,
          91,
          95,
          102,
          120,
          120,
          96
         ],
         "z": [
          2.43,
          2.14,
          2.67,
          2.5,
          2.87,
          2.45,
          2.45,
          2.61,
          2.17,
          2.27,
          2.3,
          2.32,
          2.41,
          2.39,
          2.38,
          2.7,
          2.72,
          2.62,
          2.48,
          2.56,
          2.28,
          2.65,
          2.36,
          2.52,
          2.61,
          3.22,
          2.62,
          2.14,
          2.8,
          2.21,
          2.7,
          2.36,
          2.36,
          2.7,
          2.65,
          2.41,
          2.84,
          2.55,
          2.1,
          2.51,
          2.31,
          2.12,
          2.59,
          2.29,
          2.1,
          2.44,
          2.28,
          2.12,
          2.4,
          2.27,
          2.04,
          2.6,
          2.42,
          2.68,
          2.25,
          2.46,
          2.3,
          2.68,
          2.5,
          1.36,
          2.28,
          2.02,
          1.92,
          2.16,
          2.53,
          2.56,
          1.7,
          1.92,
          2.36,
          1.75,
          2.21,
          2.67,
          2.24,
          2.6,
          2.3,
          1.92,
          1.71,
          2.23,
          1.95,
          2.4,
          2,
          2.2,
          2.51,
          2.32,
          2.58,
          2.24,
          2.31,
          2.62,
          2.46,
          2.3,
          2.32,
          2.42,
          2.26,
          2.22,
          2.28,
          2.2,
          2.74,
          1.98,
          2.1,
          2.21,
          1.7,
          1.9,
          2.46,
          1.88,
          1.98,
          2.27,
          2.12,
          2.28,
          1.94,
          2.7,
          1.82,
          2.17,
          2.92,
          2.5,
          2.5,
          2.2,
          1.99,
          2.19,
          1.98,
          2,
          2.42,
          3.23,
          2.73,
          2.13,
          2.39,
          2.17,
          2.29,
          2.78,
          2.3,
          2.38,
          2.32,
          2.4,
          2.4,
          2.36,
          2.25,
          2.2,
          2.54,
          2.64,
          2.19,
          2.61,
          2.7,
          2.35,
          2.72,
          2.35,
          2.2,
          2.15,
          2.23,
          2.48,
          2.38,
          2.36,
          2.62,
          2.48,
          2.75,
          2.28,
          2.1,
          2.32,
          2.38,
          2.64,
          2.7,
          2.64,
          2.38,
          2.54,
          2.58,
          2.35,
          2.3,
          2.26,
          2.6,
          2.3,
          2.69,
          2.86,
          2.32,
          2.28,
          2.48,
          2.45,
          2.48,
          2.26,
          2.37,
          2.74
         ]
        }
       ],
       "layout": {
        "scene": {
         "xaxis": {
          "title": {
           "text": "Alcohol"
          }
         },
         "yaxis": {
          "title": {
           "text": "Magnesium"
          }
         },
         "zaxis": {
          "title": {
           "text": "Ash"
          }
         }
        },
        "template": {
         "data": {
          "bar": [
           {
            "error_x": {
             "color": "#2a3f5f"
            },
            "error_y": {
             "color": "#2a3f5f"
            },
            "marker": {
             "line": {
              "color": "#E5ECF6",
              "width": 0.5
             }
            },
            "type": "bar"
           }
          ],
          "barpolar": [
           {
            "marker": {
             "line": {
              "color": "#E5ECF6",
              "width": 0.5
             }
            },
            "type": "barpolar"
           }
          ],
          "carpet": [
           {
            "aaxis": {
             "endlinecolor": "#2a3f5f",
             "gridcolor": "white",
             "linecolor": "white",
             "minorgridcolor": "white",
             "startlinecolor": "#2a3f5f"
            },
            "baxis": {
             "endlinecolor": "#2a3f5f",
             "gridcolor": "white",
             "linecolor": "white",
             "minorgridcolor": "white",
             "startlinecolor": "#2a3f5f"
            },
            "type": "carpet"
           }
          ],
          "choropleth": [
           {
            "colorbar": {
             "outlinewidth": 0,
             "ticks": ""
            },
            "type": "choropleth"
           }
          ],
          "contour": [
           {
            "colorbar": {
             "outlinewidth": 0,
             "ticks": ""
            },
            "colorscale": [
             [
              0,
              "#0d0887"
             ],
             [
              0.1111111111111111,
              "#46039f"
             ],
             [
              0.2222222222222222,
              "#7201a8"
             ],
             [
              0.3333333333333333,
              "#9c179e"
             ],
             [
              0.4444444444444444,
              "#bd3786"
             ],
             [
              0.5555555555555556,
              "#d8576b"
             ],
             [
              0.6666666666666666,
              "#ed7953"
             ],
             [
              0.7777777777777778,
              "#fb9f3a"
             ],
             [
              0.8888888888888888,
              "#fdca26"
             ],
             [
              1,
              "#f0f921"
             ]
            ],
            "type": "contour"
           }
          ],
          "contourcarpet": [
           {
            "colorbar": {
             "outlinewidth": 0,
             "ticks": ""
            },
            "type": "contourcarpet"
           }
          ],
          "heatmap": [
           {
            "colorbar": {
             "outlinewidth": 0,
             "ticks": ""
            },
            "colorscale": [
             [
              0,
              "#0d0887"
             ],
             [
              0.1111111111111111,
              "#46039f"
             ],
             [
              0.2222222222222222,
              "#7201a8"
             ],
             [
              0.3333333333333333,
              "#9c179e"
             ],
             [
              0.4444444444444444,
              "#bd3786"
             ],
             [
              0.5555555555555556,
              "#d8576b"
             ],
             [
              0.6666666666666666,
              "#ed7953"
             ],
             [
              0.7777777777777778,
              "#fb9f3a"
             ],
             [
              0.8888888888888888,
              "#fdca26"
             ],
             [
              1,
              "#f0f921"
             ]
            ],
            "type": "heatmap"
           }
          ],
          "heatmapgl": [
           {
            "colorbar": {
             "outlinewidth": 0,
             "ticks": ""
            },
            "colorscale": [
             [
              0,
              "#0d0887"
             ],
             [
              0.1111111111111111,
              "#46039f"
             ],
             [
              0.2222222222222222,
              "#7201a8"
             ],
             [
              0.3333333333333333,
              "#9c179e"
             ],
             [
              0.4444444444444444,
              "#bd3786"
             ],
             [
              0.5555555555555556,
              "#d8576b"
             ],
             [
              0.6666666666666666,
              "#ed7953"
             ],
             [
              0.7777777777777778,
              "#fb9f3a"
             ],
             [
              0.8888888888888888,
              "#fdca26"
             ],
             [
              1,
              "#f0f921"
             ]
            ],
            "type": "heatmapgl"
           }
          ],
          "histogram": [
           {
            "marker": {
             "colorbar": {
              "outlinewidth": 0,
              "ticks": ""
             }
            },
            "type": "histogram"
           }
          ],
          "histogram2d": [
           {
            "colorbar": {
             "outlinewidth": 0,
             "ticks": ""
            },
            "colorscale": [
             [
              0,
              "#0d0887"
             ],
             [
              0.1111111111111111,
              "#46039f"
             ],
             [
              0.2222222222222222,
              "#7201a8"
             ],
             [
              0.3333333333333333,
              "#9c179e"
             ],
             [
              0.4444444444444444,
              "#bd3786"
             ],
             [
              0.5555555555555556,
              "#d8576b"
             ],
             [
              0.6666666666666666,
              "#ed7953"
             ],
             [
              0.7777777777777778,
              "#fb9f3a"
             ],
             [
              0.8888888888888888,
              "#fdca26"
             ],
             [
              1,
              "#f0f921"
             ]
            ],
            "type": "histogram2d"
           }
          ],
          "histogram2dcontour": [
           {
            "colorbar": {
             "outlinewidth": 0,
             "ticks": ""
            },
            "colorscale": [
             [
              0,
              "#0d0887"
             ],
             [
              0.1111111111111111,
              "#46039f"
             ],
             [
              0.2222222222222222,
              "#7201a8"
             ],
             [
              0.3333333333333333,
              "#9c179e"
             ],
             [
              0.4444444444444444,
              "#bd3786"
             ],
             [
              0.5555555555555556,
              "#d8576b"
             ],
             [
              0.6666666666666666,
              "#ed7953"
             ],
             [
              0.7777777777777778,
              "#fb9f3a"
             ],
             [
              0.8888888888888888,
              "#fdca26"
             ],
             [
              1,
              "#f0f921"
             ]
            ],
            "type": "histogram2dcontour"
           }
          ],
          "mesh3d": [
           {
            "colorbar": {
             "outlinewidth": 0,
             "ticks": ""
            },
            "type": "mesh3d"
           }
          ],
          "parcoords": [
           {
            "line": {
             "colorbar": {
              "outlinewidth": 0,
              "ticks": ""
             }
            },
            "type": "parcoords"
           }
          ],
          "pie": [
           {
            "automargin": true,
            "type": "pie"
           }
          ],
          "scatter": [
           {
            "marker": {
             "colorbar": {
              "outlinewidth": 0,
              "ticks": ""
             }
            },
            "type": "scatter"
           }
          ],
          "scatter3d": [
           {
            "line": {
             "colorbar": {
              "outlinewidth": 0,
              "ticks": ""
             }
            },
            "marker": {
             "colorbar": {
              "outlinewidth": 0,
              "ticks": ""
             }
            },
            "type": "scatter3d"
           }
          ],
          "scattercarpet": [
           {
            "marker": {
             "colorbar": {
              "outlinewidth": 0,
              "ticks": ""
             }
            },
            "type": "scattercarpet"
           }
          ],
          "scattergeo": [
           {
            "marker": {
             "colorbar": {
              "outlinewidth": 0,
              "ticks": ""
             }
            },
            "type": "scattergeo"
           }
          ],
          "scattergl": [
           {
            "marker": {
             "colorbar": {
              "outlinewidth": 0,
              "ticks": ""
             }
            },
            "type": "scattergl"
           }
          ],
          "scattermapbox": [
           {
            "marker": {
             "colorbar": {
              "outlinewidth": 0,
              "ticks": ""
             }
            },
            "type": "scattermapbox"
           }
          ],
          "scatterpolar": [
           {
            "marker": {
             "colorbar": {
              "outlinewidth": 0,
              "ticks": ""
             }
            },
            "type": "scatterpolar"
           }
          ],
          "scatterpolargl": [
           {
            "marker": {
             "colorbar": {
              "outlinewidth": 0,
              "ticks": ""
             }
            },
            "type": "scatterpolargl"
           }
          ],
          "scatterternary": [
           {
            "marker": {
             "colorbar": {
              "outlinewidth": 0,
              "ticks": ""
             }
            },
            "type": "scatterternary"
           }
          ],
          "surface": [
           {
            "colorbar": {
             "outlinewidth": 0,
             "ticks": ""
            },
            "colorscale": [
             [
              0,
              "#0d0887"
             ],
             [
              0.1111111111111111,
              "#46039f"
             ],
             [
              0.2222222222222222,
              "#7201a8"
             ],
             [
              0.3333333333333333,
              "#9c179e"
             ],
             [
              0.4444444444444444,
              "#bd3786"
             ],
             [
              0.5555555555555556,
              "#d8576b"
             ],
             [
              0.6666666666666666,
              "#ed7953"
             ],
             [
              0.7777777777777778,
              "#fb9f3a"
             ],
             [
              0.8888888888888888,
              "#fdca26"
             ],
             [
              1,
              "#f0f921"
             ]
            ],
            "type": "surface"
           }
          ],
          "table": [
           {
            "cells": {
             "fill": {
              "color": "#EBF0F8"
             },
             "line": {
              "color": "white"
             }
            },
            "header": {
             "fill": {
              "color": "#C8D4E3"
             },
             "line": {
              "color": "white"
             }
            },
            "type": "table"
           }
          ]
         },
         "layout": {
          "annotationdefaults": {
           "arrowcolor": "#2a3f5f",
           "arrowhead": 0,
           "arrowwidth": 1
          },
          "autotypenumbers": "strict",
          "coloraxis": {
           "colorbar": {
            "outlinewidth": 0,
            "ticks": ""
           }
          },
          "colorscale": {
           "diverging": [
            [
             0,
             "#8e0152"
            ],
            [
             0.1,
             "#c51b7d"
            ],
            [
             0.2,
             "#de77ae"
            ],
            [
             0.3,
             "#f1b6da"
            ],
            [
             0.4,
             "#fde0ef"
            ],
            [
             0.5,
             "#f7f7f7"
            ],
            [
             0.6,
             "#e6f5d0"
            ],
            [
             0.7,
             "#b8e186"
            ],
            [
             0.8,
             "#7fbc41"
            ],
            [
             0.9,
             "#4d9221"
            ],
            [
             1,
             "#276419"
            ]
           ],
           "sequential": [
            [
             0,
             "#0d0887"
            ],
            [
             0.1111111111111111,
             "#46039f"
            ],
            [
             0.2222222222222222,
             "#7201a8"
            ],
            [
             0.3333333333333333,
             "#9c179e"
            ],
            [
             0.4444444444444444,
             "#bd3786"
            ],
            [
             0.5555555555555556,
             "#d8576b"
            ],
            [
             0.6666666666666666,
             "#ed7953"
            ],
            [
             0.7777777777777778,
             "#fb9f3a"
            ],
            [
             0.8888888888888888,
             "#fdca26"
            ],
            [
             1,
             "#f0f921"
            ]
           ],
           "sequentialminus": [
            [
             0,
             "#0d0887"
            ],
            [
             0.1111111111111111,
             "#46039f"
            ],
            [
             0.2222222222222222,
             "#7201a8"
            ],
            [
             0.3333333333333333,
             "#9c179e"
            ],
            [
             0.4444444444444444,
             "#bd3786"
            ],
            [
             0.5555555555555556,
             "#d8576b"
            ],
            [
             0.6666666666666666,
             "#ed7953"
            ],
            [
             0.7777777777777778,
             "#fb9f3a"
            ],
            [
             0.8888888888888888,
             "#fdca26"
            ],
            [
             1,
             "#f0f921"
            ]
           ]
          },
          "colorway": [
           "#636efa",
           "#EF553B",
           "#00cc96",
           "#ab63fa",
           "#FFA15A",
           "#19d3f3",
           "#FF6692",
           "#B6E880",
           "#FF97FF",
           "#FECB52"
          ],
          "font": {
           "color": "#2a3f5f"
          },
          "geo": {
           "bgcolor": "white",
           "lakecolor": "white",
           "landcolor": "#E5ECF6",
           "showlakes": true,
           "showland": true,
           "subunitcolor": "white"
          },
          "hoverlabel": {
           "align": "left"
          },
          "hovermode": "closest",
          "mapbox": {
           "style": "light"
          },
          "paper_bgcolor": "white",
          "plot_bgcolor": "#E5ECF6",
          "polar": {
           "angularaxis": {
            "gridcolor": "white",
            "linecolor": "white",
            "ticks": ""
           },
           "bgcolor": "#E5ECF6",
           "radialaxis": {
            "gridcolor": "white",
            "linecolor": "white",
            "ticks": ""
           }
          },
          "scene": {
           "xaxis": {
            "backgroundcolor": "#E5ECF6",
            "gridcolor": "white",
            "gridwidth": 2,
            "linecolor": "white",
            "showbackground": true,
            "ticks": "",
            "zerolinecolor": "white"
           },
           "yaxis": {
            "backgroundcolor": "#E5ECF6",
            "gridcolor": "white",
            "gridwidth": 2,
            "linecolor": "white",
            "showbackground": true,
            "ticks": "",
            "zerolinecolor": "white"
           },
           "zaxis": {
            "backgroundcolor": "#E5ECF6",
            "gridcolor": "white",
            "gridwidth": 2,
            "linecolor": "white",
            "showbackground": true,
            "ticks": "",
            "zerolinecolor": "white"
           }
          },
          "shapedefaults": {
           "line": {
            "color": "#2a3f5f"
           }
          },
          "ternary": {
           "aaxis": {
            "gridcolor": "white",
            "linecolor": "white",
            "ticks": ""
           },
           "baxis": {
            "gridcolor": "white",
            "linecolor": "white",
            "ticks": ""
           },
           "bgcolor": "#E5ECF6",
           "caxis": {
            "gridcolor": "white",
            "linecolor": "white",
            "ticks": ""
           }
          },
          "title": {
           "x": 0.05
          },
          "xaxis": {
           "automargin": true,
           "gridcolor": "white",
           "linecolor": "white",
           "ticks": "",
           "title": {
            "standoff": 15
           },
           "zerolinecolor": "white",
           "zerolinewidth": 2
          },
          "yaxis": {
           "automargin": true,
           "gridcolor": "white",
           "linecolor": "white",
           "ticks": "",
           "title": {
            "standoff": 15
           },
           "zerolinecolor": "white",
           "zerolinewidth": 2
          }
         }
        },
        "title": {
         "text": "Alcohol, Ash and Magnesium"
        }
       }
      }
     },
     "metadata": {}
    }
   ],
   "source": [
    "import plotly as py\n",
    "import plotly.graph_objs as go\n",
    "\n",
    "trace1 = go.Scatter3d(\n",
    "    x= df['Alcohol'],\n",
    "    y= df['Magnesium'],\n",
    "    z= df['Ash'],\n",
    "    mode='markers',\n",
    "     marker=dict(\n",
    "        color = df['cluster'], \n",
    "        size= 8,\n",
    "        line=dict(\n",
    "            color= df['cluster'],\n",
    "            width= 10\n",
    "        ),\n",
    "        opacity=0.8\n",
    "     )\n",
    ")\n",
    "data = [trace1]\n",
    "layout = go.Layout(\n",
    "    title= 'Alcohol, Ash and Magnesium',\n",
    "    scene = dict(\n",
    "            xaxis = dict(title  = 'Alcohol'),\n",
    "            yaxis = dict(title  = 'Magnesium'),\n",
    "            zaxis = dict(title  = 'Ash')\n",
    "        )\n",
    ")\n",
    "fig = go.Figure(data=data, layout=layout)\n",
    "py.offline.iplot(fig)"
   ]
  }
 ],
 "metadata": {
  "kernelspec": {
   "name": "python391jvsc74a57bd0aee8b7b246df8f9039afb4144a1f6fd8d2ca17a180786b69acc140d282b71a49",
   "display_name": "Python 3.9.1 64-bit"
  },
  "language_info": {
   "codemirror_mode": {
    "name": "ipython",
    "version": 3
   },
   "file_extension": ".py",
   "mimetype": "text/x-python",
   "name": "python",
   "nbconvert_exporter": "python",
   "pygments_lexer": "ipython3",
   "version": "3.9.1"
  },
  "metadata": {
   "interpreter": {
    "hash": "aee8b7b246df8f9039afb4144a1f6fd8d2ca17a180786b69acc140d282b71a49"
   }
  }
 },
 "nbformat": 4,
 "nbformat_minor": 4
}