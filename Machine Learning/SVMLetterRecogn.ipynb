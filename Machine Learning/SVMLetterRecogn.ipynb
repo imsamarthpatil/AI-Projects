{
 "cells": [
  {
   "cell_type": "code",
   "execution_count": 1,
   "metadata": {},
   "outputs": [],
   "source": [
    "# SHRIRANG ALIAS SAMARTH PATIL\n",
    "# 19BAI10079\n",
    "# import libraries\n",
    "import numpy as np\n",
    "import pandas as pd\n",
    "from sklearn.svm import SVC\n",
    "from sklearn.linear_model import LogisticRegression\n",
    "from sklearn.metrics import accuracy_score "
   ]
  },
  {
   "cell_type": "code",
   "execution_count": 2,
   "metadata": {},
   "outputs": [
    {
     "output_type": "execute_result",
     "data": {
      "text/plain": [
       "  letter  xbox  ybox  width  height  onpix  xbar  ybar  x2bar  y2bar  xybar  \\\n",
       "0      T     2     8      3       5      1     8    13      0      6      6   \n",
       "1      I     5    12      3       7      2    10     5      5      4     13   \n",
       "2      D     4    11      6       8      6    10     6      2      6     10   \n",
       "3      N     7    11      6       6      3     5     9      4      6      4   \n",
       "4      G     2     1      3       1      1     8     6      6      6      6   \n",
       "\n",
       "   x2ybar  xy2bar  xedge  xedgey  yedge  yedgex  \n",
       "0      10       8      0       8      0       8  \n",
       "1       3       9      2       8      4      10  \n",
       "2       3       7      3       7      3       9  \n",
       "3       4      10      6      10      2       8  \n",
       "4       5       9      1       7      5      10  "
      ],
      "text/html": "<div>\n<style scoped>\n    .dataframe tbody tr th:only-of-type {\n        vertical-align: middle;\n    }\n\n    .dataframe tbody tr th {\n        vertical-align: top;\n    }\n\n    .dataframe thead th {\n        text-align: right;\n    }\n</style>\n<table border=\"1\" class=\"dataframe\">\n  <thead>\n    <tr style=\"text-align: right;\">\n      <th></th>\n      <th>letter</th>\n      <th>xbox</th>\n      <th>ybox</th>\n      <th>width</th>\n      <th>height</th>\n      <th>onpix</th>\n      <th>xbar</th>\n      <th>ybar</th>\n      <th>x2bar</th>\n      <th>y2bar</th>\n      <th>xybar</th>\n      <th>x2ybar</th>\n      <th>xy2bar</th>\n      <th>xedge</th>\n      <th>xedgey</th>\n      <th>yedge</th>\n      <th>yedgex</th>\n    </tr>\n  </thead>\n  <tbody>\n    <tr>\n      <th>0</th>\n      <td>T</td>\n      <td>2</td>\n      <td>8</td>\n      <td>3</td>\n      <td>5</td>\n      <td>1</td>\n      <td>8</td>\n      <td>13</td>\n      <td>0</td>\n      <td>6</td>\n      <td>6</td>\n      <td>10</td>\n      <td>8</td>\n      <td>0</td>\n      <td>8</td>\n      <td>0</td>\n      <td>8</td>\n    </tr>\n    <tr>\n      <th>1</th>\n      <td>I</td>\n      <td>5</td>\n      <td>12</td>\n      <td>3</td>\n      <td>7</td>\n      <td>2</td>\n      <td>10</td>\n      <td>5</td>\n      <td>5</td>\n      <td>4</td>\n      <td>13</td>\n      <td>3</td>\n      <td>9</td>\n      <td>2</td>\n      <td>8</td>\n      <td>4</td>\n      <td>10</td>\n    </tr>\n    <tr>\n      <th>2</th>\n      <td>D</td>\n      <td>4</td>\n      <td>11</td>\n      <td>6</td>\n      <td>8</td>\n      <td>6</td>\n      <td>10</td>\n      <td>6</td>\n      <td>2</td>\n      <td>6</td>\n      <td>10</td>\n      <td>3</td>\n      <td>7</td>\n      <td>3</td>\n      <td>7</td>\n      <td>3</td>\n      <td>9</td>\n    </tr>\n    <tr>\n      <th>3</th>\n      <td>N</td>\n      <td>7</td>\n      <td>11</td>\n      <td>6</td>\n      <td>6</td>\n      <td>3</td>\n      <td>5</td>\n      <td>9</td>\n      <td>4</td>\n      <td>6</td>\n      <td>4</td>\n      <td>4</td>\n      <td>10</td>\n      <td>6</td>\n      <td>10</td>\n      <td>2</td>\n      <td>8</td>\n    </tr>\n    <tr>\n      <th>4</th>\n      <td>G</td>\n      <td>2</td>\n      <td>1</td>\n      <td>3</td>\n      <td>1</td>\n      <td>1</td>\n      <td>8</td>\n      <td>6</td>\n      <td>6</td>\n      <td>6</td>\n      <td>6</td>\n      <td>5</td>\n      <td>9</td>\n      <td>1</td>\n      <td>7</td>\n      <td>5</td>\n      <td>10</td>\n    </tr>\n  </tbody>\n</table>\n</div>"
     },
     "metadata": {},
     "execution_count": 2
    }
   ],
   "source": [
    "# Reading the dataset\n",
    "dataset = pd.read_csv('letter-recognition.csv')\n",
    "dataset.head()"
   ]
  },
  {
   "cell_type": "code",
   "execution_count": 3,
   "metadata": {},
   "outputs": [
    {
     "output_type": "stream",
     "name": "stdout",
     "text": [
      "<class 'pandas.core.frame.DataFrame'>\nRangeIndex: 20000 entries, 0 to 19999\nData columns (total 17 columns):\n #   Column  Non-Null Count  Dtype \n---  ------  --------------  ----- \n 0   letter  20000 non-null  object\n 1   xbox    20000 non-null  int64 \n 2   ybox    20000 non-null  int64 \n 3   width   20000 non-null  int64 \n 4   height  20000 non-null  int64 \n 5   onpix   20000 non-null  int64 \n 6   xbar    20000 non-null  int64 \n 7   ybar    20000 non-null  int64 \n 8   x2bar   20000 non-null  int64 \n 9   y2bar   20000 non-null  int64 \n 10  xybar   20000 non-null  int64 \n 11  x2ybar  20000 non-null  int64 \n 12  xy2bar  20000 non-null  int64 \n 13  xedge   20000 non-null  int64 \n 14  xedgey  20000 non-null  int64 \n 15  yedge   20000 non-null  int64 \n 16  yedgex  20000 non-null  int64 \ndtypes: int64(16), object(1)\nmemory usage: 2.6+ MB\n"
     ]
    }
   ],
   "source": [
    "dataset.info()"
   ]
  },
  {
   "cell_type": "code",
   "execution_count": 4,
   "metadata": {},
   "outputs": [
    {
     "output_type": "execute_result",
     "data": {
      "text/plain": [
       "(20000, 17)"
      ]
     },
     "metadata": {},
     "execution_count": 4
    }
   ],
   "source": [
    "# dimension of dataset\n",
    "dataset.shape"
   ]
  },
  {
   "cell_type": "code",
   "execution_count": 5,
   "metadata": {},
   "outputs": [
    {
     "output_type": "stream",
     "name": "stdout",
     "text": [
      "Index(['letter', 'xbox', 'ybox', 'width', 'height', 'onpix', 'xbar', 'ybar',\n       'x2bar', 'y2bar', 'xybar', 'x2ybar', 'xy2bar', 'xedge', 'xedgey',\n       'yedge', 'yedgex'],\n      dtype='object')\n"
     ]
    }
   ],
   "source": [
    "# columns in dataset\n",
    "print(dataset.columns)"
   ]
  },
  {
   "cell_type": "code",
   "execution_count": 6,
   "metadata": {},
   "outputs": [
    {
     "output_type": "stream",
     "name": "stdout",
     "text": [
      "['A', 'B', 'C', 'D', 'E', 'F', 'G', 'H', 'I', 'J', 'K', 'L', 'M', 'N', 'O', 'P', 'Q', 'R', 'S', 'T', 'U', 'V', 'W', 'X', 'Y', 'Z']\n"
     ]
    }
   ],
   "source": [
    "# sequencing of letters\n",
    "sequence = list(np.sort(dataset['letter'].unique()))\n",
    "print(sequence)"
   ]
  },
  {
   "cell_type": "code",
   "execution_count": 7,
   "metadata": {},
   "outputs": [
    {
     "output_type": "execute_result",
     "data": {
      "text/plain": [
       "            xbox      ybox     width    height     onpix      xbar      ybar  \\\n",
       "letter                                                                         \n",
       "A       3.337136  6.975919  5.128010  5.178707  2.991128  8.851711  3.631179   \n",
       "B       3.985640  6.962141  5.088773  5.169713  4.596606  7.671018  7.062663   \n",
       "C       4.031250  7.063859  4.701087  5.296196  2.775815  5.437500  7.627717   \n",
       "D       4.023602  7.244720  5.170186  5.288199  4.026087  7.539130  6.806211   \n",
       "E       3.727865  6.944010  4.756510  5.201823  3.679688  5.966146  7.352865   \n",
       "\n",
       "           x2bar     y2bar     xybar    x2ybar     xy2bar     xedge    xedgey  \\\n",
       "letter                                                                          \n",
       "A       2.755387  2.043093  7.802281  2.338403   8.465146  2.771863  6.321926   \n",
       "B       5.366841  5.571802  7.954308  5.506527   6.652742  3.117493  7.919060   \n",
       "C       5.927989  7.177989  8.773098  7.494565  11.947011  1.991848  8.876359   \n",
       "D       5.921739  6.508075  8.166460  5.111801   5.750311  3.365217  7.813665   \n",
       "E       4.223958  7.585938  8.507812  6.242188  10.341146  2.127604  8.298177   \n",
       "\n",
       "           yedge    yedgex  \n",
       "letter                      \n",
       "A       2.875792  7.468948  \n",
       "B       6.612272  9.100522  \n",
       "C       4.080163  8.555707  \n",
       "D       3.971429  7.628571  \n",
       "E       6.022135  8.506510  "
      ],
      "text/html": "<div>\n<style scoped>\n    .dataframe tbody tr th:only-of-type {\n        vertical-align: middle;\n    }\n\n    .dataframe tbody tr th {\n        vertical-align: top;\n    }\n\n    .dataframe thead th {\n        text-align: right;\n    }\n</style>\n<table border=\"1\" class=\"dataframe\">\n  <thead>\n    <tr style=\"text-align: right;\">\n      <th></th>\n      <th>xbox</th>\n      <th>ybox</th>\n      <th>width</th>\n      <th>height</th>\n      <th>onpix</th>\n      <th>xbar</th>\n      <th>ybar</th>\n      <th>x2bar</th>\n      <th>y2bar</th>\n      <th>xybar</th>\n      <th>x2ybar</th>\n      <th>xy2bar</th>\n      <th>xedge</th>\n      <th>xedgey</th>\n      <th>yedge</th>\n      <th>yedgex</th>\n    </tr>\n    <tr>\n      <th>letter</th>\n      <th></th>\n      <th></th>\n      <th></th>\n      <th></th>\n      <th></th>\n      <th></th>\n      <th></th>\n      <th></th>\n      <th></th>\n      <th></th>\n      <th></th>\n      <th></th>\n      <th></th>\n      <th></th>\n      <th></th>\n      <th></th>\n    </tr>\n  </thead>\n  <tbody>\n    <tr>\n      <th>A</th>\n      <td>3.337136</td>\n      <td>6.975919</td>\n      <td>5.128010</td>\n      <td>5.178707</td>\n      <td>2.991128</td>\n      <td>8.851711</td>\n      <td>3.631179</td>\n      <td>2.755387</td>\n      <td>2.043093</td>\n      <td>7.802281</td>\n      <td>2.338403</td>\n      <td>8.465146</td>\n      <td>2.771863</td>\n      <td>6.321926</td>\n      <td>2.875792</td>\n      <td>7.468948</td>\n    </tr>\n    <tr>\n      <th>B</th>\n      <td>3.985640</td>\n      <td>6.962141</td>\n      <td>5.088773</td>\n      <td>5.169713</td>\n      <td>4.596606</td>\n      <td>7.671018</td>\n      <td>7.062663</td>\n      <td>5.366841</td>\n      <td>5.571802</td>\n      <td>7.954308</td>\n      <td>5.506527</td>\n      <td>6.652742</td>\n      <td>3.117493</td>\n      <td>7.919060</td>\n      <td>6.612272</td>\n      <td>9.100522</td>\n    </tr>\n    <tr>\n      <th>C</th>\n      <td>4.031250</td>\n      <td>7.063859</td>\n      <td>4.701087</td>\n      <td>5.296196</td>\n      <td>2.775815</td>\n      <td>5.437500</td>\n      <td>7.627717</td>\n      <td>5.927989</td>\n      <td>7.177989</td>\n      <td>8.773098</td>\n      <td>7.494565</td>\n      <td>11.947011</td>\n      <td>1.991848</td>\n      <td>8.876359</td>\n      <td>4.080163</td>\n      <td>8.555707</td>\n    </tr>\n    <tr>\n      <th>D</th>\n      <td>4.023602</td>\n      <td>7.244720</td>\n      <td>5.170186</td>\n      <td>5.288199</td>\n      <td>4.026087</td>\n      <td>7.539130</td>\n      <td>6.806211</td>\n      <td>5.921739</td>\n      <td>6.508075</td>\n      <td>8.166460</td>\n      <td>5.111801</td>\n      <td>5.750311</td>\n      <td>3.365217</td>\n      <td>7.813665</td>\n      <td>3.971429</td>\n      <td>7.628571</td>\n    </tr>\n    <tr>\n      <th>E</th>\n      <td>3.727865</td>\n      <td>6.944010</td>\n      <td>4.756510</td>\n      <td>5.201823</td>\n      <td>3.679688</td>\n      <td>5.966146</td>\n      <td>7.352865</td>\n      <td>4.223958</td>\n      <td>7.585938</td>\n      <td>8.507812</td>\n      <td>6.242188</td>\n      <td>10.341146</td>\n      <td>2.127604</td>\n      <td>8.298177</td>\n      <td>6.022135</td>\n      <td>8.506510</td>\n    </tr>\n  </tbody>\n</table>\n</div>"
     },
     "metadata": {},
     "execution_count": 7
    }
   ],
   "source": [
    "# mean of column of each alphabet\n",
    "dataset_mean = dataset.groupby('letter').mean()\n",
    "dataset_mean.head()"
   ]
  },
  {
   "cell_type": "code",
   "execution_count": 8,
   "metadata": {},
   "outputs": [],
   "source": [
    "# Data Preperation\n",
    "X = dataset.drop(['letter'],axis = 1)\n",
    "y = dataset['letter']\n",
    "from sklearn.preprocessing import scale\n",
    "X = scale(X)"
   ]
  },
  {
   "cell_type": "code",
   "execution_count": 9,
   "metadata": {},
   "outputs": [],
   "source": [
    "# spliting dataset into Training and Testing datasets\n",
    "from sklearn.model_selection import train_test_split\n",
    "\n",
    "#Using the train_test_split to create train and test sets.\n",
    "X_train, X_test, y_train, y_test = train_test_split(X, y, random_state = 0, test_size = 0.20)"
   ]
  },
  {
   "cell_type": "code",
   "execution_count": 10,
   "metadata": {},
   "outputs": [
    {
     "output_type": "stream",
     "name": "stdout",
     "text": [
      "Now SVM model is fit using training dataset.\n"
     ]
    }
   ],
   "source": [
    "# Building the model using Support Vector Machine\n",
    "# Support Vector Classifier\n",
    "from sklearn.svm import SVC \n",
    "svm_clf = SVC()\n",
    "svm_clf.fit(X_train,y_train)\n",
    "\n",
    "y_pred = svm_clf.predict(X_test)\n",
    "\n",
    "print (\"Now SVM model is fit using training dataset.\")"
   ]
  },
  {
   "cell_type": "code",
   "execution_count": 11,
   "metadata": {},
   "outputs": [
    {
     "output_type": "stream",
     "name": "stdout",
     "text": [
      "Now Logistic Regression model is fit using training dataset.\n",
      "/Library/Frameworks/Python.framework/Versions/3.9/lib/python3.9/site-packages/sklearn/linear_model/_logistic.py:763: ConvergenceWarning: lbfgs failed to converge (status=1):\n",
      "STOP: TOTAL NO. of ITERATIONS REACHED LIMIT.\n",
      "\n",
      "Increase the number of iterations (max_iter) or scale the data as shown in:\n",
      "    https://scikit-learn.org/stable/modules/preprocessing.html\n",
      "Please also refer to the documentation for alternative solver options:\n",
      "    https://scikit-learn.org/stable/modules/linear_model.html#logistic-regression\n",
      "  n_iter_i = _check_optimize_result(\n"
     ]
    }
   ],
   "source": [
    "# Building the logistic regression model\n",
    "from sklearn.linear_model import LogisticRegression\n",
    "log_clf = LogisticRegression()\n",
    "log_clf.fit(X_train,y_train)\n",
    "\n",
    "print (\"Now Logistic Regression model is fit using training dataset.\")"
   ]
  },
  {
   "cell_type": "code",
   "execution_count": 12,
   "metadata": {},
   "outputs": [],
   "source": [
    "# Predict the model by testing dataset\n",
    "y_pred_svm = svm_clf.predict(X_test)  \n",
    "\n",
    "y_pred_log = log_clf.predict(X_test)\n"
   ]
  },
  {
   "cell_type": "code",
   "execution_count": 13,
   "metadata": {},
   "outputs": [
    {
     "output_type": "stream",
     "name": "stdout",
     "text": [
      "Actual Values: 19134    Y\n4981     B\n16643    K\n19117    Y\n5306     Q\n        ..\n17088    L\n11121    Z\n9861     A\n14548    O\n8781     I\nName: letter, Length: 4000, dtype: object\nPredicted by SVM: ['Y' 'B' 'K' ... 'A' 'O' 'I']\nPredicted by Logistic Regression: ['Y' 'S' 'K' ... 'A' 'O' 'I']\n"
     ]
    }
   ],
   "source": [
    "print (\"Actual Values:\", y_test) # actual testing dataset\n",
    "print (\"Predicted by SVM:\", y_pred_svm) # predicted testing dataset for SVM\n",
    "print (\"Predicted by Logistic Regression:\", y_pred_log) # predicted testing dataset for Logistic regression"
   ]
  },
  {
   "cell_type": "code",
   "execution_count": 14,
   "metadata": {},
   "outputs": [
    {
     "output_type": "stream",
     "name": "stdout",
     "text": [
      "Predicted Gender of a person by Logistic Regression Model : ['C']\nPredicted Gender of a person by SVM Model :  ['M']\n"
     ]
    }
   ],
   "source": [
    "# Step: 5 predicting a new value from dataset or newly inputted value\n",
    "\n",
    "y_pred_svm_new = svm_clf.predict([[4, 7, 11, 6,\t6, 3, 5, 9,\t4, 6, 4, 4,\t10,\t6, 10, 2]]) \n",
    "\n",
    "y_pred_log_new = log_clf.predict([[4, 7, 11, 6,\t6, 3, 5, 9,\t4, 6, 4, 4,\t10,\t6, 10, 2]])\n",
    "\n",
    "# print the predicted letter\n",
    "print(\"Predicted Gender of a person by Logistic Regression Model :\", y_pred_log_new)\n",
    "print(\"Predicted Gender of a person by SVM Model : \", y_pred_svm_new)\n"
   ]
  },
  {
   "cell_type": "code",
   "execution_count": 15,
   "metadata": {},
   "outputs": [
    {
     "output_type": "stream",
     "name": "stdout",
     "text": [
      "Accuracy of Logistic Regression Model in %: 78.7\nAccuracy of Support Vector Machine Model in %: 94.925\n"
     ]
    }
   ],
   "source": [
    "# Model Evaluation\n",
    "# When we need to calculate the accuracy of the model under classification \n",
    "# we are measuring the performance of the model by accuracy score\n",
    "from sklearn.metrics import accuracy_score\n",
    "\n",
    "#accuracy scores\n",
    "log_acc = accuracy_score(y_pred_log, y_test) #(prediction value , actual value)\n",
    "svm_acc = accuracy_score(y_pred_svm, y_test)\n",
    "\n",
    "print (\"Accuracy of Logistic Regression Model in %:\",log_acc*100)\n",
    "print(\"Accuracy of Support Vector Machine Model in %:\",svm_acc*100)"
   ]
  },
  {
   "cell_type": "code",
   "execution_count": 16,
   "metadata": {},
   "outputs": [
    {
     "output_type": "stream",
     "name": "stdout",
     "text": [
      "              precision    recall  f1-score   support\n",
      "\n",
      "           A       0.83      0.90      0.87       147\n",
      "           B       0.74      0.65      0.69       158\n",
      "           C       0.79      0.78      0.78       156\n",
      "           D       0.79      0.84      0.81       171\n",
      "           E       0.71      0.81      0.76       145\n",
      "           F       0.83      0.75      0.79       167\n",
      "           G       0.66      0.57      0.61       182\n",
      "           H       0.62      0.56      0.59       123\n",
      "           I       0.87      0.83      0.85       127\n",
      "           J       0.91      0.84      0.87       159\n",
      "           K       0.71      0.73      0.72       143\n",
      "           L       0.86      0.83      0.85       159\n",
      "           M       0.90      0.90      0.90       173\n",
      "           N       0.82      0.88      0.85       134\n",
      "           O       0.73      0.72      0.73       142\n",
      "           P       0.89      0.80      0.84       165\n",
      "           Q       0.64      0.78      0.70       145\n",
      "           R       0.68      0.77      0.72       149\n",
      "           S       0.64      0.56      0.60       154\n",
      "           T       0.83      0.85      0.84       177\n",
      "           U       0.90      0.93      0.92       160\n",
      "           V       0.86      0.90      0.88       153\n",
      "           W       0.88      0.88      0.88       141\n",
      "           X       0.81      0.80      0.81       173\n",
      "           Y       0.81      0.83      0.82       154\n",
      "           Z       0.72      0.76      0.74       143\n",
      "\n",
      "    accuracy                           0.79      4000\n",
      "   macro avg       0.79      0.79      0.78      4000\n",
      "weighted avg       0.79      0.79      0.79      4000\n",
      "\n",
      "              precision    recall  f1-score   support\n",
      "\n",
      "           A       0.97      0.98      0.97       147\n",
      "           B       0.88      0.92      0.90       158\n",
      "           C       0.99      0.96      0.97       156\n",
      "           D       0.90      0.96      0.93       171\n",
      "           E       0.93      0.94      0.93       145\n",
      "           F       0.94      0.95      0.95       167\n",
      "           G       0.91      0.94      0.93       182\n",
      "           H       0.92      0.88      0.90       123\n",
      "           I       0.98      0.92      0.95       127\n",
      "           J       0.95      0.93      0.94       159\n",
      "           K       0.94      0.93      0.94       143\n",
      "           L       0.99      0.96      0.97       159\n",
      "           M       0.97      0.95      0.96       173\n",
      "           N       0.94      0.99      0.96       134\n",
      "           O       0.93      0.95      0.94       142\n",
      "           P       0.99      0.90      0.94       165\n",
      "           Q       0.96      0.98      0.97       145\n",
      "           R       0.84      0.94      0.89       149\n",
      "           S       0.94      0.99      0.97       154\n",
      "           T       0.98      0.94      0.96       177\n",
      "           U       0.96      0.97      0.97       160\n",
      "           V       0.99      0.95      0.97       153\n",
      "           W       0.96      0.96      0.96       141\n",
      "           X       0.96      0.95      0.96       173\n",
      "           Y       0.97      0.98      0.98       154\n",
      "           Z       0.99      0.97      0.98       143\n",
      "\n",
      "    accuracy                           0.95      4000\n",
      "   macro avg       0.95      0.95      0.95      4000\n",
      "weighted avg       0.95      0.95      0.95      4000\n",
      "\n"
     ]
    }
   ],
   "source": [
    "# You want to print the classification report of the classification models\n",
    "# use classification_report method from metrics library\n",
    "\n",
    "from sklearn import metrics\n",
    "from sklearn.metrics import f1_score\n",
    "\n",
    "print(metrics.classification_report(y_test, y_pred_log))\n",
    "print(metrics.classification_report(y_test, y_pred_svm))\n"
   ]
  },
  {
   "cell_type": "code",
   "execution_count": 17,
   "metadata": {},
   "outputs": [
    {
     "output_type": "stream",
     "name": "stdout",
     "text": [
      "SVC is the better classifier for this problem\n"
     ]
    }
   ],
   "source": [
    "classifiers = ['Logistic Regression' , 'SVC']\n",
    "accuracy = np.array([log_acc, svm_acc])\n",
    "\n",
    "# argmax is methos which returns the maximum value from the array's values\n",
    "max_acc = np.argmax(accuracy)\n",
    "\n",
    "print(classifiers[max_acc] + ' is the better classifier for this problem')"
   ]
  }
 ],
 "metadata": {
  "kernelspec": {
   "name": "python391jvsc74a57bd07812ea015bdcee6f23a998adcdd2ef97c151c0c241b7b7070987d9313e41299d",
   "display_name": "Python 3.9.1 64-bit"
  },
  "language_info": {
   "codemirror_mode": {
    "name": "ipython",
    "version": 3
   },
   "file_extension": ".py",
   "mimetype": "text/x-python",
   "name": "python",
   "nbconvert_exporter": "python",
   "pygments_lexer": "ipython3",
   "version": "3.9.1-final"
  },
  "metadata": {
   "interpreter": {
    "hash": "7812ea015bdcee6f23a998adcdd2ef97c151c0c241b7b7070987d9313e41299d"
   }
  }
 },
 "nbformat": 4,
 "nbformat_minor": 4
}